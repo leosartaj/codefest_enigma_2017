{
 "cells": [
  {
   "cell_type": "code",
   "execution_count": 549,
   "metadata": {},
   "outputs": [],
   "source": [
    "from functools import partial\n",
    "\n",
    "import numpy as np\n",
    "import pandas as pd\n",
    "\n",
    "from sklearn.preprocessing import MinMaxScaler\n",
    "from sklearn.pipeline import Pipeline\n",
    "from sklearn.decomposition import PCA\n",
    "from sklearn.naive_bayes import GaussianNB\n",
    "from sklearn.ensemble import RandomForestClassifier\n",
    "from sklearn.model_selection import GridSearchCV, train_test_split\n",
    "from sklearn.feature_selection import RFE\n",
    "from sklearn.metrics import confusion_matrix, f1_score, make_scorer\n",
    "from xgboost import XGBClassifier\n",
    "\n",
    "import matplotlib.pyplot as plt\n",
    "import seaborn as sns\n",
    "plt.style.use('seaborn')\n",
    "%matplotlib inline"
   ]
  },
  {
   "cell_type": "code",
   "execution_count": 550,
   "metadata": {},
   "outputs": [
    {
     "data": {
      "text/html": [
       "<div>\n",
       "<style>\n",
       "    .dataframe thead tr:only-child th {\n",
       "        text-align: right;\n",
       "    }\n",
       "\n",
       "    .dataframe thead th {\n",
       "        text-align: left;\n",
       "    }\n",
       "\n",
       "    .dataframe tbody tr th {\n",
       "        vertical-align: top;\n",
       "    }\n",
       "</style>\n",
       "<table border=\"1\" class=\"dataframe\">\n",
       "  <thead>\n",
       "    <tr style=\"text-align: right;\">\n",
       "      <th></th>\n",
       "      <th>user_id</th>\n",
       "      <th>problem_id</th>\n",
       "      <th>attempts_range</th>\n",
       "      <th>level_type</th>\n",
       "      <th>points</th>\n",
       "      <th>tags</th>\n",
       "      <th>submission_count</th>\n",
       "      <th>problem_solved</th>\n",
       "      <th>contribution</th>\n",
       "      <th>country</th>\n",
       "      <th>follower_count</th>\n",
       "      <th>last_online_time_seconds</th>\n",
       "      <th>max_rating</th>\n",
       "      <th>rating</th>\n",
       "      <th>rank</th>\n",
       "      <th>registration_time_seconds</th>\n",
       "    </tr>\n",
       "  </thead>\n",
       "  <tbody>\n",
       "    <tr>\n",
       "      <th>0</th>\n",
       "      <td>user_232</td>\n",
       "      <td>prob_6507</td>\n",
       "      <td>1</td>\n",
       "      <td>B</td>\n",
       "      <td>1000.0</td>\n",
       "      <td>strings</td>\n",
       "      <td>53</td>\n",
       "      <td>47</td>\n",
       "      <td>0</td>\n",
       "      <td>Bangladesh</td>\n",
       "      <td>1</td>\n",
       "      <td>1503633778</td>\n",
       "      <td>307.913</td>\n",
       "      <td>206.709</td>\n",
       "      <td>beginner</td>\n",
       "      <td>1432110935</td>\n",
       "    </tr>\n",
       "    <tr>\n",
       "      <th>1</th>\n",
       "      <td>user_3568</td>\n",
       "      <td>prob_2994</td>\n",
       "      <td>3</td>\n",
       "      <td>C</td>\n",
       "      <td>1500.0</td>\n",
       "      <td>brute force,dp</td>\n",
       "      <td>133</td>\n",
       "      <td>118</td>\n",
       "      <td>0</td>\n",
       "      <td>NaN</td>\n",
       "      <td>0</td>\n",
       "      <td>1502200122</td>\n",
       "      <td>324.255</td>\n",
       "      <td>235.378</td>\n",
       "      <td>beginner</td>\n",
       "      <td>1454664414</td>\n",
       "    </tr>\n",
       "    <tr>\n",
       "      <th>2</th>\n",
       "      <td>user_1600</td>\n",
       "      <td>prob_5071</td>\n",
       "      <td>1</td>\n",
       "      <td>A</td>\n",
       "      <td>500.0</td>\n",
       "      <td>implementation</td>\n",
       "      <td>50</td>\n",
       "      <td>44</td>\n",
       "      <td>0</td>\n",
       "      <td>NaN</td>\n",
       "      <td>7</td>\n",
       "      <td>1504719542</td>\n",
       "      <td>343.177</td>\n",
       "      <td>229.358</td>\n",
       "      <td>beginner</td>\n",
       "      <td>1473490873</td>\n",
       "    </tr>\n",
       "    <tr>\n",
       "      <th>3</th>\n",
       "      <td>user_2256</td>\n",
       "      <td>prob_703</td>\n",
       "      <td>1</td>\n",
       "      <td>A</td>\n",
       "      <td>500.0</td>\n",
       "      <td>brute force,implementation</td>\n",
       "      <td>271</td>\n",
       "      <td>233</td>\n",
       "      <td>23</td>\n",
       "      <td>Indonesia</td>\n",
       "      <td>40</td>\n",
       "      <td>1505175115</td>\n",
       "      <td>436.927</td>\n",
       "      <td>399.083</td>\n",
       "      <td>intermediate</td>\n",
       "      <td>1447736644</td>\n",
       "    </tr>\n",
       "    <tr>\n",
       "      <th>4</th>\n",
       "      <td>user_2321</td>\n",
       "      <td>prob_356</td>\n",
       "      <td>1</td>\n",
       "      <td>D</td>\n",
       "      <td>2000.0</td>\n",
       "      <td>dfs and similar,trees</td>\n",
       "      <td>155</td>\n",
       "      <td>135</td>\n",
       "      <td>0</td>\n",
       "      <td>India</td>\n",
       "      <td>80</td>\n",
       "      <td>1505421849</td>\n",
       "      <td>492.546</td>\n",
       "      <td>472.190</td>\n",
       "      <td>advanced</td>\n",
       "      <td>1437724657</td>\n",
       "    </tr>\n",
       "  </tbody>\n",
       "</table>\n",
       "</div>"
      ],
      "text/plain": [
       "     user_id problem_id  attempts_range level_type  points  \\\n",
       "0   user_232  prob_6507               1          B  1000.0   \n",
       "1  user_3568  prob_2994               3          C  1500.0   \n",
       "2  user_1600  prob_5071               1          A   500.0   \n",
       "3  user_2256   prob_703               1          A   500.0   \n",
       "4  user_2321   prob_356               1          D  2000.0   \n",
       "\n",
       "                         tags  submission_count  problem_solved  contribution  \\\n",
       "0                     strings                53              47             0   \n",
       "1              brute force,dp               133             118             0   \n",
       "2              implementation                50              44             0   \n",
       "3  brute force,implementation               271             233            23   \n",
       "4       dfs and similar,trees               155             135             0   \n",
       "\n",
       "      country  follower_count  last_online_time_seconds  max_rating   rating  \\\n",
       "0  Bangladesh               1                1503633778     307.913  206.709   \n",
       "1         NaN               0                1502200122     324.255  235.378   \n",
       "2         NaN               7                1504719542     343.177  229.358   \n",
       "3   Indonesia              40                1505175115     436.927  399.083   \n",
       "4       India              80                1505421849     492.546  472.190   \n",
       "\n",
       "           rank  registration_time_seconds  \n",
       "0      beginner                 1432110935  \n",
       "1      beginner                 1454664414  \n",
       "2      beginner                 1473490873  \n",
       "3  intermediate                 1447736644  \n",
       "4      advanced                 1437724657  "
      ]
     },
     "execution_count": 550,
     "metadata": {},
     "output_type": "execute_result"
    }
   ],
   "source": [
    "train_df = pd.read_csv('data/train.csv')\n",
    "train_df.head()"
   ]
  },
  {
   "cell_type": "code",
   "execution_count": 399,
   "metadata": {},
   "outputs": [
    {
     "name": "stdout",
     "output_type": "stream",
     "text": [
      "<class 'pandas.core.frame.DataFrame'>\n",
      "RangeIndex: 155295 entries, 0 to 155294\n",
      "Data columns (total 16 columns):\n",
      "user_id                      155295 non-null object\n",
      "problem_id                   155295 non-null object\n",
      "attempts_range               155295 non-null int64\n",
      "level_type                   154675 non-null object\n",
      "points                       126220 non-null float64\n",
      "tags                         139868 non-null object\n",
      "submission_count             155295 non-null int64\n",
      "problem_solved               155295 non-null int64\n",
      "contribution                 155295 non-null int64\n",
      "country                      117442 non-null object\n",
      "follower_count               155295 non-null int64\n",
      "last_online_time_seconds     155295 non-null int64\n",
      "max_rating                   155295 non-null float64\n",
      "rating                       155295 non-null float64\n",
      "rank                         155295 non-null object\n",
      "registration_time_seconds    155295 non-null int64\n",
      "dtypes: float64(3), int64(7), object(6)\n",
      "memory usage: 19.0+ MB\n"
     ]
    }
   ],
   "source": [
    "train_df.info()"
   ]
  },
  {
   "cell_type": "markdown",
   "metadata": {},
   "source": [
    "### level_type\n",
    "\n",
    "- Fillna with O category for now\n",
    "- Make dummies"
   ]
  },
  {
   "cell_type": "code",
   "execution_count": 400,
   "metadata": {},
   "outputs": [
    {
     "data": {
      "text/plain": [
       "array(['B', 'C', 'A', 'D', 'E', 'I', 'G', 'J', 'F', 'K', 'H', 'L', 'M',\n",
       "       nan, 'N'], dtype=object)"
      ]
     },
     "execution_count": 400,
     "metadata": {},
     "output_type": "execute_result"
    }
   ],
   "source": [
    "train_df.level_type.unique()"
   ]
  },
  {
   "cell_type": "code",
   "execution_count": 401,
   "metadata": {},
   "outputs": [
    {
     "data": {
      "text/plain": [
       "620"
      ]
     },
     "execution_count": 401,
     "metadata": {},
     "output_type": "execute_result"
    }
   ],
   "source": [
    "train_df.level_type.isnull().sum()"
   ]
  },
  {
   "cell_type": "code",
   "execution_count": 402,
   "metadata": {},
   "outputs": [
    {
     "data": {
      "text/plain": [
       "A    59718\n",
       "B    40419\n",
       "C    25876\n",
       "D    13925\n",
       "E     6197\n",
       "F     2318\n",
       "G     1544\n",
       "H     1184\n",
       "J     1015\n",
       "I      955\n",
       "K      759\n",
       "L      480\n",
       "M      227\n",
       "N       58\n",
       "Name: level_type, dtype: int64"
      ]
     },
     "execution_count": 402,
     "metadata": {},
     "output_type": "execute_result"
    }
   ],
   "source": [
    "train_df.level_type.value_counts()"
   ]
  },
  {
   "cell_type": "code",
   "execution_count": 403,
   "metadata": {},
   "outputs": [],
   "source": [
    "def process_level(df):\n",
    "    df.loc[:, 'level_type'] = df.level_type.fillna('O')\n",
    "    df = pd.get_dummies(df, columns=['level_type'], prefix='level')\n",
    "    return df"
   ]
  },
  {
   "cell_type": "code",
   "execution_count": 404,
   "metadata": {},
   "outputs": [],
   "source": [
    "#train_df = process_level(train_df)\n",
    "#train_df.head()"
   ]
  },
  {
   "cell_type": "markdown",
   "metadata": {},
   "source": [
    "### Points\n",
    "\n",
    "- replace negative points with nan\n",
    "- Fillna values with mode for now. The thinking goes since points is not truly continous."
   ]
  },
  {
   "cell_type": "code",
   "execution_count": 405,
   "metadata": {},
   "outputs": [
    {
     "data": {
      "text/plain": [
       "29075"
      ]
     },
     "execution_count": 405,
     "metadata": {},
     "output_type": "execute_result"
    }
   ],
   "source": [
    "train_df.points.isnull().sum()"
   ]
  },
  {
   "cell_type": "code",
   "execution_count": 406,
   "metadata": {},
   "outputs": [
    {
     "data": {
      "text/plain": [
       "count    126220.000000\n",
       "mean        993.302369\n",
       "std         568.115307\n",
       "min          -1.000000\n",
       "25%         500.000000\n",
       "50%        1000.000000\n",
       "75%        1500.000000\n",
       "max        5000.000000\n",
       "Name: points, dtype: float64"
      ]
     },
     "execution_count": 406,
     "metadata": {},
     "output_type": "execute_result"
    }
   ],
   "source": [
    "train_df.points.describe()"
   ]
  },
  {
   "cell_type": "code",
   "execution_count": 407,
   "metadata": {},
   "outputs": [
    {
     "data": {
      "text/html": [
       "<div>\n",
       "<style>\n",
       "    .dataframe thead tr:only-child th {\n",
       "        text-align: right;\n",
       "    }\n",
       "\n",
       "    .dataframe thead th {\n",
       "        text-align: left;\n",
       "    }\n",
       "\n",
       "    .dataframe tbody tr th {\n",
       "        vertical-align: top;\n",
       "    }\n",
       "</style>\n",
       "<table border=\"1\" class=\"dataframe\">\n",
       "  <thead>\n",
       "    <tr style=\"text-align: right;\">\n",
       "      <th></th>\n",
       "      <th>user_id</th>\n",
       "      <th>problem_id</th>\n",
       "      <th>attempts_range</th>\n",
       "      <th>level_type</th>\n",
       "      <th>points</th>\n",
       "      <th>tags</th>\n",
       "      <th>submission_count</th>\n",
       "      <th>problem_solved</th>\n",
       "      <th>contribution</th>\n",
       "      <th>country</th>\n",
       "      <th>follower_count</th>\n",
       "      <th>last_online_time_seconds</th>\n",
       "      <th>max_rating</th>\n",
       "      <th>rating</th>\n",
       "      <th>rank</th>\n",
       "      <th>registration_time_seconds</th>\n",
       "    </tr>\n",
       "  </thead>\n",
       "  <tbody>\n",
       "    <tr>\n",
       "      <th>63981</th>\n",
       "      <td>user_1038</td>\n",
       "      <td>prob_5031</td>\n",
       "      <td>3</td>\n",
       "      <td>B</td>\n",
       "      <td>-1.0</td>\n",
       "      <td>NaN</td>\n",
       "      <td>928</td>\n",
       "      <td>888</td>\n",
       "      <td>45</td>\n",
       "      <td>Romania</td>\n",
       "      <td>229</td>\n",
       "      <td>1505579842</td>\n",
       "      <td>654.243</td>\n",
       "      <td>610.952</td>\n",
       "      <td>expert</td>\n",
       "      <td>1371299266</td>\n",
       "    </tr>\n",
       "  </tbody>\n",
       "</table>\n",
       "</div>"
      ],
      "text/plain": [
       "         user_id problem_id  attempts_range level_type  points tags  \\\n",
       "63981  user_1038  prob_5031               3          B    -1.0  NaN   \n",
       "\n",
       "       submission_count  problem_solved  contribution  country  \\\n",
       "63981               928             888            45  Romania   \n",
       "\n",
       "       follower_count  last_online_time_seconds  max_rating   rating    rank  \\\n",
       "63981             229                1505579842     654.243  610.952  expert   \n",
       "\n",
       "       registration_time_seconds  \n",
       "63981                 1371299266  "
      ]
     },
     "execution_count": 407,
     "metadata": {},
     "output_type": "execute_result"
    }
   ],
   "source": [
    "train_df[train_df.points == -1]"
   ]
  },
  {
   "cell_type": "code",
   "execution_count": 408,
   "metadata": {},
   "outputs": [
    {
     "data": {
      "text/plain": [
       "count    126219.000000\n",
       "mean        993.310246\n",
       "std         568.110664\n",
       "min           3.000000\n",
       "25%         500.000000\n",
       "50%        1000.000000\n",
       "75%        1500.000000\n",
       "max        5000.000000\n",
       "Name: points, dtype: float64"
      ]
     },
     "execution_count": 408,
     "metadata": {},
     "output_type": "execute_result"
    }
   ],
   "source": [
    "train_df.points.replace(-1, np.nan).describe()"
   ]
  },
  {
   "cell_type": "code",
   "execution_count": 409,
   "metadata": {},
   "outputs": [
    {
     "data": {
      "text/plain": [
       "-1.0           1\n",
       " 3.0         142\n",
       " 4.0          39\n",
       " 5.0           4\n",
       " 6.0           1\n",
       " 8.0          13\n",
       " 10.0          1\n",
       " 12.0          2\n",
       " 20.0          1\n",
       " 30.0         17\n",
       " 40.0          2\n",
       " 50.0          8\n",
       " 60.0          4\n",
       " 70.0          9\n",
       " 250.0       791\n",
       " 500.0     52605\n",
       " 750.0      4456\n",
       " 1000.0    32062\n",
       " 1250.0     3008\n",
       " 1500.0    16783\n",
       " 1750.0     3147\n",
       " 2000.0     7950\n",
       " 2250.0     1099\n",
       " 2500.0     3030\n",
       " 2750.0      359\n",
       " 3000.0      594\n",
       " 3250.0       58\n",
       " 3500.0       33\n",
       " 5000.0        1\n",
       "Name: points, dtype: int64"
      ]
     },
     "execution_count": 409,
     "metadata": {},
     "output_type": "execute_result"
    }
   ],
   "source": [
    "train_df.points.value_counts().sort_index()"
   ]
  },
  {
   "cell_type": "code",
   "execution_count": 410,
   "metadata": {},
   "outputs": [
    {
     "data": {
      "text/plain": [
       "count    126220.000000\n",
       "mean        993.302369\n",
       "std         568.115307\n",
       "min          -1.000000\n",
       "25%         500.000000\n",
       "50%        1000.000000\n",
       "75%        1500.000000\n",
       "max        5000.000000\n",
       "Name: points, dtype: float64"
      ]
     },
     "execution_count": 410,
     "metadata": {},
     "output_type": "execute_result"
    }
   ],
   "source": [
    "train_df.points.fillna(train_df.points.mode()).describe()"
   ]
  },
  {
   "cell_type": "code",
   "execution_count": 411,
   "metadata": {},
   "outputs": [
    {
     "data": {
      "text/plain": [
       "count    155295.000000\n",
       "mean        993.302369\n",
       "std         512.178708\n",
       "min          -1.000000\n",
       "25%         500.000000\n",
       "50%         993.302369\n",
       "75%        1000.000000\n",
       "max        5000.000000\n",
       "Name: points, dtype: float64"
      ]
     },
     "execution_count": 411,
     "metadata": {},
     "output_type": "execute_result"
    }
   ],
   "source": [
    "train_df.points.fillna(train_df.points.mean()).describe()"
   ]
  },
  {
   "cell_type": "code",
   "execution_count": 412,
   "metadata": {
    "collapsed": true
   },
   "outputs": [],
   "source": [
    "def process_points(df):\n",
    "    df.loc[df.points == -1, 'points'] = np.nan\n",
    "    df.loc[:, 'points'] = df.points.fillna(df.points.mode()[0])\n",
    "    return df"
   ]
  },
  {
   "cell_type": "code",
   "execution_count": 413,
   "metadata": {},
   "outputs": [],
   "source": [
    "#train_df = process_points(train_df)\n",
    "#train_df.points.describe()"
   ]
  },
  {
   "cell_type": "markdown",
   "metadata": {},
   "source": [
    "### Tags\n",
    "\n",
    "- find all tags\n",
    "- replace na with empty strings\n",
    "- make indicator columns from tags"
   ]
  },
  {
   "cell_type": "code",
   "execution_count": 414,
   "metadata": {},
   "outputs": [],
   "source": [
    "def get_tags(df):\n",
    "    all_tags = set([])\n",
    "    for tags in df.tags.unique():\n",
    "        if not isinstance(tags, float):\n",
    "            for tag in tags.split(','):\n",
    "                all_tags.add(tag)\n",
    "    return all_tags"
   ]
  },
  {
   "cell_type": "code",
   "execution_count": 415,
   "metadata": {},
   "outputs": [
    {
     "data": {
      "text/plain": [
       "15427"
      ]
     },
     "execution_count": 415,
     "metadata": {},
     "output_type": "execute_result"
    }
   ],
   "source": [
    "train_df.tags.isnull().sum()"
   ]
  },
  {
   "cell_type": "code",
   "execution_count": 416,
   "metadata": {},
   "outputs": [
    {
     "data": {
      "text/plain": [
       "{'*special',\n",
       " '2-sat',\n",
       " 'binary search',\n",
       " 'bitmasks',\n",
       " 'brute force',\n",
       " 'chinese remainder theorem',\n",
       " 'combinatorics',\n",
       " 'constructive algorithms',\n",
       " 'data structures',\n",
       " 'dfs and similar',\n",
       " 'divide and conquer',\n",
       " 'dp',\n",
       " 'dsu',\n",
       " 'expression parsing',\n",
       " 'fft',\n",
       " 'flows',\n",
       " 'games',\n",
       " 'geometry',\n",
       " 'graph matchings',\n",
       " 'graphs',\n",
       " 'greedy',\n",
       " 'hashing',\n",
       " 'implementation',\n",
       " 'math',\n",
       " 'matrices',\n",
       " 'meet-in-the-middle',\n",
       " 'number theory',\n",
       " 'probabilities',\n",
       " 'schedules',\n",
       " 'shortest paths',\n",
       " 'sortings',\n",
       " 'string suffix structures',\n",
       " 'strings',\n",
       " 'ternary search',\n",
       " 'trees',\n",
       " 'two pointers'}"
      ]
     },
     "execution_count": 416,
     "metadata": {},
     "output_type": "execute_result"
    }
   ],
   "source": [
    "all_tags = get_tags(train_df)\n",
    "all_tags"
   ]
  },
  {
   "cell_type": "code",
   "execution_count": 417,
   "metadata": {
    "collapsed": true
   },
   "outputs": [],
   "source": [
    "def tag_indicator(tag, x):  \n",
    "    if tag in x:\n",
    "        return 1\n",
    "    else:\n",
    "        return 0"
   ]
  },
  {
   "cell_type": "code",
   "execution_count": 418,
   "metadata": {
    "collapsed": true
   },
   "outputs": [],
   "source": [
    "counts = {}\n",
    "for tag in all_tags:\n",
    "    counts[tag] = train_df.tags.fillna('').apply(partial(tag_indicator, tag)).sum()"
   ]
  },
  {
   "cell_type": "code",
   "execution_count": 419,
   "metadata": {},
   "outputs": [
    {
     "data": {
      "text/plain": [
       "{'*special': 875,\n",
       " '2-sat': 397,\n",
       " 'binary search': 12083,\n",
       " 'bitmasks': 2498,\n",
       " 'brute force': 26920,\n",
       " 'chinese remainder theorem': 65,\n",
       " 'combinatorics': 2880,\n",
       " 'constructive algorithms': 18051,\n",
       " 'data structures': 13404,\n",
       " 'dfs and similar': 10925,\n",
       " 'divide and conquer': 1360,\n",
       " 'dp': 16514,\n",
       " 'dsu': 3120,\n",
       " 'expression parsing': 484,\n",
       " 'fft': 132,\n",
       " 'flows': 344,\n",
       " 'games': 2598,\n",
       " 'geometry': 4064,\n",
       " 'graph matchings': 781,\n",
       " 'graphs': 6051,\n",
       " 'greedy': 27578,\n",
       " 'hashing': 1653,\n",
       " 'implementation': 61567,\n",
       " 'math': 32326,\n",
       " 'matrices': 489,\n",
       " 'meet-in-the-middle': 245,\n",
       " 'number theory': 7871,\n",
       " 'probabilities': 1422,\n",
       " 'schedules': 80,\n",
       " 'shortest paths': 1830,\n",
       " 'sortings': 14904,\n",
       " 'string suffix structures': 392,\n",
       " 'strings': 10430,\n",
       " 'ternary search': 443,\n",
       " 'trees': 5265,\n",
       " 'two pointers': 4432}"
      ]
     },
     "execution_count": 419,
     "metadata": {},
     "output_type": "execute_result"
    }
   ],
   "source": [
    "counts"
   ]
  },
  {
   "cell_type": "code",
   "execution_count": 420,
   "metadata": {},
   "outputs": [
    {
     "data": {
      "text/plain": [
       "[('implementation', 61567),\n",
       " ('math', 32326),\n",
       " ('greedy', 27578),\n",
       " ('brute force', 26920),\n",
       " ('constructive algorithms', 18051),\n",
       " ('dp', 16514),\n",
       " ('sortings', 14904),\n",
       " ('data structures', 13404),\n",
       " ('binary search', 12083),\n",
       " ('dfs and similar', 10925),\n",
       " ('strings', 10430),\n",
       " ('number theory', 7871),\n",
       " ('graphs', 6051),\n",
       " ('trees', 5265),\n",
       " ('two pointers', 4432),\n",
       " ('geometry', 4064),\n",
       " ('dsu', 3120),\n",
       " ('combinatorics', 2880),\n",
       " ('games', 2598),\n",
       " ('bitmasks', 2498),\n",
       " ('shortest paths', 1830),\n",
       " ('hashing', 1653),\n",
       " ('probabilities', 1422),\n",
       " ('divide and conquer', 1360),\n",
       " ('*special', 875),\n",
       " ('graph matchings', 781),\n",
       " ('matrices', 489),\n",
       " ('expression parsing', 484),\n",
       " ('ternary search', 443),\n",
       " ('2-sat', 397),\n",
       " ('string suffix structures', 392),\n",
       " ('flows', 344),\n",
       " ('meet-in-the-middle', 245),\n",
       " ('fft', 132),\n",
       " ('schedules', 80),\n",
       " ('chinese remainder theorem', 65)]"
      ]
     },
     "execution_count": 420,
     "metadata": {},
     "output_type": "execute_result"
    }
   ],
   "source": [
    "sorted(counts.items(), key=lambda x: x[1], reverse=True)"
   ]
  },
  {
   "cell_type": "code",
   "execution_count": 421,
   "metadata": {
    "collapsed": true
   },
   "outputs": [],
   "source": [
    "def make_tag_columns(df, all_tags):\n",
    "    columns = {}\n",
    "    for tag in all_tags:\n",
    "        name = tag.replace(' ', '-')\n",
    "        columns[name] = df.tags.apply(partial(tag_indicator, tag))\n",
    "    return pd.DataFrame(columns)"
   ]
  },
  {
   "cell_type": "code",
   "execution_count": 422,
   "metadata": {},
   "outputs": [],
   "source": [
    "def process_tags(df):\n",
    "    all_tags = get_tags(df)\n",
    "    df.loc[:, 'tags'] = df.tags.fillna('')\n",
    "    tag_columns = make_tag_columns(df, all_tags)\n",
    "    df = pd.concat([df, tag_columns], axis=1).drop(['tags'], axis=1)\n",
    "    return df"
   ]
  },
  {
   "cell_type": "code",
   "execution_count": 423,
   "metadata": {},
   "outputs": [],
   "source": [
    "#train_df = process_tags(train_df)\n",
    "#train_df.head()"
   ]
  },
  {
   "cell_type": "markdown",
   "metadata": {},
   "source": [
    "### submission_count"
   ]
  },
  {
   "cell_type": "code",
   "execution_count": 424,
   "metadata": {},
   "outputs": [
    {
     "data": {
      "text/plain": [
       "count    155295.000000\n",
       "mean        372.235680\n",
       "std         398.204943\n",
       "min           1.000000\n",
       "25%         118.000000\n",
       "50%         237.000000\n",
       "75%         480.000000\n",
       "max        4570.000000\n",
       "Name: submission_count, dtype: float64"
      ]
     },
     "execution_count": 424,
     "metadata": {},
     "output_type": "execute_result"
    }
   ],
   "source": [
    "train_df.submission_count.describe()"
   ]
  },
  {
   "cell_type": "code",
   "execution_count": 425,
   "metadata": {
    "collapsed": true
   },
   "outputs": [],
   "source": [
    "def process_submission_count(df):\n",
    "    return df"
   ]
  },
  {
   "cell_type": "code",
   "execution_count": 426,
   "metadata": {},
   "outputs": [],
   "source": [
    "#train_df = process_submission_count(train_df)\n",
    "#train_df.head()"
   ]
  },
  {
   "cell_type": "markdown",
   "metadata": {},
   "source": [
    "### problem_solved"
   ]
  },
  {
   "cell_type": "code",
   "execution_count": 427,
   "metadata": {},
   "outputs": [
    {
     "data": {
      "text/plain": [
       "dtype('int64')"
      ]
     },
     "execution_count": 427,
     "metadata": {},
     "output_type": "execute_result"
    }
   ],
   "source": [
    "train_df.problem_solved.dtype"
   ]
  },
  {
   "cell_type": "code",
   "execution_count": 428,
   "metadata": {},
   "outputs": [
    {
     "data": {
      "text/plain": [
       "count    155295.000000\n",
       "mean        336.078695\n",
       "std         377.378519\n",
       "min           1.000000\n",
       "25%          99.000000\n",
       "50%         209.000000\n",
       "75%         428.000000\n",
       "max        4476.000000\n",
       "Name: problem_solved, dtype: float64"
      ]
     },
     "execution_count": 428,
     "metadata": {},
     "output_type": "execute_result"
    }
   ],
   "source": [
    "train_df.problem_solved.describe()"
   ]
  },
  {
   "cell_type": "code",
   "execution_count": 429,
   "metadata": {
    "collapsed": true
   },
   "outputs": [],
   "source": [
    "def process_problem_solved(df):\n",
    "    return df"
   ]
  },
  {
   "cell_type": "code",
   "execution_count": 430,
   "metadata": {},
   "outputs": [],
   "source": [
    "#train_df = process_problem_solved(train_df)\n",
    "#train_df.head()"
   ]
  },
  {
   "cell_type": "markdown",
   "metadata": {},
   "source": [
    "### contribution\n",
    "\n",
    "-"
   ]
  },
  {
   "cell_type": "code",
   "execution_count": 431,
   "metadata": {},
   "outputs": [
    {
     "data": {
      "text/plain": [
       "count    155295.000000\n",
       "mean          5.493718\n",
       "std          19.076626\n",
       "min         -64.000000\n",
       "25%           0.000000\n",
       "50%           0.000000\n",
       "75%           1.000000\n",
       "max         171.000000\n",
       "Name: contribution, dtype: float64"
      ]
     },
     "execution_count": 431,
     "metadata": {},
     "output_type": "execute_result"
    }
   ],
   "source": [
    "train_df.contribution.describe()"
   ]
  },
  {
   "cell_type": "code",
   "execution_count": 432,
   "metadata": {
    "collapsed": true
   },
   "outputs": [],
   "source": [
    "def process_contribution(df):\n",
    "    return df"
   ]
  },
  {
   "cell_type": "code",
   "execution_count": 433,
   "metadata": {},
   "outputs": [],
   "source": [
    "#train_df = process_contribution(train_df)\n",
    "#train_df.head()"
   ]
  },
  {
   "cell_type": "markdown",
   "metadata": {},
   "source": [
    "### country\n",
    "\n",
    "- Has null values. How to fill? Does it make sense to do one hot encoding?\n",
    "- Dropping for now, looks bad for algorithm until I find someway to use this, maybe only some top countries?\n",
    "\n",
    "- Now adding countries to the set, will pick top few countries or use PCA on all?"
   ]
  },
  {
   "cell_type": "code",
   "execution_count": 434,
   "metadata": {},
   "outputs": [
    {
     "data": {
      "text/plain": [
       "count     117442\n",
       "unique        79\n",
       "top        India\n",
       "freq       30155\n",
       "Name: country, dtype: object"
      ]
     },
     "execution_count": 434,
     "metadata": {},
     "output_type": "execute_result"
    }
   ],
   "source": [
    "train_df.country.describe()"
   ]
  },
  {
   "cell_type": "code",
   "execution_count": 435,
   "metadata": {},
   "outputs": [
    {
     "data": {
      "text/plain": [
       "array(['Bangladesh', nan, 'Indonesia', 'India', 'Egypt', 'Brazil', 'China',\n",
       "       'Vietnam', 'Romania', 'Czechia', 'Spain', 'Japan', 'Russia',\n",
       "       'Ukraine', 'South Korea', 'Kazakhstan', 'Iran', 'Croatia',\n",
       "       'Moldova', 'Colombia', 'Thailand', 'Malaysia', 'United States',\n",
       "       'Syria', 'Taiwan', 'Macedonia', 'Belarus', 'Mexico', 'Mongolia',\n",
       "       'Tajikistan', 'Georgia', 'Turkmenistan', 'Hong Kong', 'Costa Rica',\n",
       "       'Peru', 'Lithuania', 'Argentina', 'Bulgaria', 'Venezuela', 'Poland',\n",
       "       'Uzbekistan', 'Germany', 'Tunisia', 'Morocco', 'Azerbaijan',\n",
       "       'Jordan', 'Armenia', 'Canada', 'Israel', 'Cuba', 'Chile',\n",
       "       'Kyrgyzstan', 'Finland', 'Bosnia and Herzegovina',\n",
       "       'Trinidad and Tobago', 'Hungary', 'Bolivia', 'Estonia', 'Serbia',\n",
       "       'Austria', 'North Korea', 'Singapore', 'United Kingdom', 'Belgium',\n",
       "       'Italy', 'Norway', 'Slovakia', 'Switzerland', 'Australia', 'Latvia',\n",
       "       'France', 'Philippines', 'Laos', 'Christmas Island', 'South Africa',\n",
       "       'Netherlands', 'Iceland', 'Haiti', 'Swaziland', 'Lebanon'], dtype=object)"
      ]
     },
     "execution_count": 435,
     "metadata": {},
     "output_type": "execute_result"
    }
   ],
   "source": [
    "train_df.country.unique()"
   ]
  },
  {
   "cell_type": "code",
   "execution_count": 436,
   "metadata": {},
   "outputs": [
    {
     "data": {
      "text/plain": [
       "37853"
      ]
     },
     "execution_count": 436,
     "metadata": {},
     "output_type": "execute_result"
    }
   ],
   "source": [
    "train_df.country.isnull().sum()"
   ]
  },
  {
   "cell_type": "code",
   "execution_count": 437,
   "metadata": {},
   "outputs": [
    {
     "data": {
      "text/plain": [
       "India                     30155\n",
       "Bangladesh                15869\n",
       "Russia                    13088\n",
       "China                      7766\n",
       "Egypt                      5193\n",
       "Kazakhstan                 3553\n",
       "Vietnam                    3079\n",
       "Brazil                     3048\n",
       "Iran                       3036\n",
       "Ukraine                    2813\n",
       "Belarus                    2459\n",
       "Japan                      2273\n",
       "Syria                      2017\n",
       "United States              2015\n",
       "Romania                    1899\n",
       "Poland                     1591\n",
       "Uzbekistan                 1327\n",
       "Taiwan                     1166\n",
       "South Korea                1146\n",
       "Croatia                    1006\n",
       "Indonesia                   910\n",
       "Mexico                      847\n",
       "Jordan                      698\n",
       "Moldova                     625\n",
       "Georgia                     586\n",
       "Peru                        547\n",
       "Argentina                   527\n",
       "Hong Kong                   374\n",
       "Bolivia                     363\n",
       "Germany                     347\n",
       "                          ...  \n",
       "Italy                       154\n",
       "Spain                       148\n",
       "Estonia                     147\n",
       "Venezuela                   142\n",
       "Tunisia                     122\n",
       "North Korea                 121\n",
       "Netherlands                 119\n",
       "Macedonia                   107\n",
       "Austria                     106\n",
       "Malaysia                    106\n",
       "Morocco                     104\n",
       "Switzerland                  96\n",
       "Philippines                  79\n",
       "Chile                        72\n",
       "South Africa                 70\n",
       "Trinidad and Tobago          68\n",
       "Bosnia and Herzegovina       65\n",
       "Lebanon                      58\n",
       "Costa Rica                   57\n",
       "Latvia                       55\n",
       "Israel                       54\n",
       "France                       46\n",
       "Australia                    45\n",
       "Laos                         42\n",
       "Iceland                      42\n",
       "Christmas Island             25\n",
       "Norway                       25\n",
       "Haiti                        12\n",
       "Swaziland                     9\n",
       "Belgium                       7\n",
       "Name: country, Length: 79, dtype: int64"
      ]
     },
     "execution_count": 437,
     "metadata": {},
     "output_type": "execute_result"
    }
   ],
   "source": [
    "train_df.country.value_counts()"
   ]
  },
  {
   "cell_type": "code",
   "execution_count": 438,
   "metadata": {
    "collapsed": true
   },
   "outputs": [],
   "source": [
    "def process_country(df):\n",
    "    imp_countries = list((df.country.value_counts()).nlargest(16).index)\n",
    "    countries = pd.get_dummies(df.country)[imp_countries]\n",
    "    df = pd.concat([df, countries], axis=1)\n",
    "    return df"
   ]
  },
  {
   "cell_type": "code",
   "execution_count": 439,
   "metadata": {},
   "outputs": [],
   "source": [
    "#train_df = process_country(train_df)\n",
    "#train_df.head()"
   ]
  },
  {
   "cell_type": "markdown",
   "metadata": {},
   "source": [
    "### Follower_count"
   ]
  },
  {
   "cell_type": "code",
   "execution_count": 440,
   "metadata": {},
   "outputs": [
    {
     "data": {
      "text/plain": [
       "dtype('int64')"
      ]
     },
     "execution_count": 440,
     "metadata": {},
     "output_type": "execute_result"
    }
   ],
   "source": [
    "train_df.follower_count.dtype"
   ]
  },
  {
   "cell_type": "code",
   "execution_count": 441,
   "metadata": {},
   "outputs": [
    {
     "data": {
      "text/plain": [
       "count    155295.000000\n",
       "mean         61.064406\n",
       "std         258.997551\n",
       "min           0.000000\n",
       "25%           7.000000\n",
       "50%          20.000000\n",
       "75%          52.000000\n",
       "max       10575.000000\n",
       "Name: follower_count, dtype: float64"
      ]
     },
     "execution_count": 441,
     "metadata": {},
     "output_type": "execute_result"
    }
   ],
   "source": [
    "train_df.follower_count.describe()"
   ]
  },
  {
   "cell_type": "code",
   "execution_count": 442,
   "metadata": {
    "collapsed": true
   },
   "outputs": [],
   "source": [
    "def process_follower_count(df):\n",
    "    return df"
   ]
  },
  {
   "cell_type": "code",
   "execution_count": 443,
   "metadata": {},
   "outputs": [],
   "source": [
    "#train_df = process_follower_count(train_df)\n",
    "#train_df.head()"
   ]
  },
  {
   "cell_type": "markdown",
   "metadata": {},
   "source": [
    "### last_online_time_seconds"
   ]
  },
  {
   "cell_type": "code",
   "execution_count": 444,
   "metadata": {},
   "outputs": [
    {
     "data": {
      "text/plain": [
       "dtype('int64')"
      ]
     },
     "execution_count": 444,
     "metadata": {},
     "output_type": "execute_result"
    }
   ],
   "source": [
    "train_df.last_online_time_seconds.dtype"
   ]
  },
  {
   "cell_type": "code",
   "execution_count": 445,
   "metadata": {},
   "outputs": [
    {
     "data": {
      "text/plain": [
       "count    1.552950e+05\n",
       "mean     1.503666e+09\n",
       "std      3.867762e+06\n",
       "min      1.484239e+09\n",
       "25%      1.504118e+09\n",
       "50%      1.505289e+09\n",
       "75%      1.505560e+09\n",
       "max      1.505595e+09\n",
       "Name: last_online_time_seconds, dtype: float64"
      ]
     },
     "execution_count": 445,
     "metadata": {},
     "output_type": "execute_result"
    }
   ],
   "source": [
    "train_df.last_online_time_seconds.describe()"
   ]
  },
  {
   "cell_type": "code",
   "execution_count": 446,
   "metadata": {},
   "outputs": [
    {
     "data": {
      "text/plain": [
       "1484238900"
      ]
     },
     "execution_count": 446,
     "metadata": {},
     "output_type": "execute_result"
    }
   ],
   "source": [
    "train_df.last_online_time_seconds.min()"
   ]
  },
  {
   "cell_type": "code",
   "execution_count": 447,
   "metadata": {},
   "outputs": [
    {
     "data": {
      "text/plain": [
       "0    1503633778\n",
       "1    1502200122\n",
       "2    1504719542\n",
       "3    1505175115\n",
       "4    1505421849\n",
       "Name: last_online_time_seconds, dtype: int64"
      ]
     },
     "execution_count": 447,
     "metadata": {},
     "output_type": "execute_result"
    }
   ],
   "source": [
    "train_df.last_online_time_seconds.head()"
   ]
  },
  {
   "cell_type": "code",
   "execution_count": 448,
   "metadata": {},
   "outputs": [
    {
     "data": {
      "text/plain": [
       "0.010567629778283742"
      ]
     },
     "execution_count": 448,
     "metadata": {},
     "output_type": "execute_result"
    }
   ],
   "source": [
    "train_df.last_online_time_seconds.corr(train_df.attempts_range)"
   ]
  },
  {
   "cell_type": "code",
   "execution_count": 449,
   "metadata": {
    "collapsed": true
   },
   "outputs": [],
   "source": [
    "def process_online(df):\n",
    "    return df"
   ]
  },
  {
   "cell_type": "code",
   "execution_count": 450,
   "metadata": {},
   "outputs": [],
   "source": [
    "#train_df = process_online(train_df)\n",
    "#train_df.head()"
   ]
  },
  {
   "cell_type": "markdown",
   "metadata": {},
   "source": [
    "### max_rating"
   ]
  },
  {
   "cell_type": "code",
   "execution_count": 451,
   "metadata": {},
   "outputs": [
    {
     "data": {
      "text/plain": [
       "dtype('float64')"
      ]
     },
     "execution_count": 451,
     "metadata": {},
     "output_type": "execute_result"
    }
   ],
   "source": [
    "train_df.max_rating.dtype"
   ]
  },
  {
   "cell_type": "code",
   "execution_count": 452,
   "metadata": {},
   "outputs": [
    {
     "data": {
      "text/plain": [
       "count    155295.000000\n",
       "mean        407.525560\n",
       "std          99.670629\n",
       "min         303.899000\n",
       "25%         323.394000\n",
       "50%         383.028000\n",
       "75%         468.463000\n",
       "max         983.085000\n",
       "Name: max_rating, dtype: float64"
      ]
     },
     "execution_count": 452,
     "metadata": {},
     "output_type": "execute_result"
    }
   ],
   "source": [
    "train_df.max_rating.describe()"
   ]
  },
  {
   "cell_type": "code",
   "execution_count": 453,
   "metadata": {
    "collapsed": true
   },
   "outputs": [],
   "source": [
    "def process_max_rating(df):\n",
    "    return df"
   ]
  },
  {
   "cell_type": "code",
   "execution_count": 454,
   "metadata": {},
   "outputs": [],
   "source": [
    "#train_df = process_max_rating(train_df)\n",
    "#train_df.head()"
   ]
  },
  {
   "cell_type": "markdown",
   "metadata": {},
   "source": [
    "### rating"
   ]
  },
  {
   "cell_type": "code",
   "execution_count": 455,
   "metadata": {},
   "outputs": [
    {
     "data": {
      "text/plain": [
       "count    155295.000000\n",
       "mean        368.623667\n",
       "std         112.046565\n",
       "min           0.000000\n",
       "25%         288.131000\n",
       "50%         356.078000\n",
       "75%         445.814000\n",
       "max         911.124000\n",
       "Name: rating, dtype: float64"
      ]
     },
     "execution_count": 455,
     "metadata": {},
     "output_type": "execute_result"
    }
   ],
   "source": [
    "train_df.rating.describe()"
   ]
  },
  {
   "cell_type": "code",
   "execution_count": 456,
   "metadata": {
    "collapsed": true
   },
   "outputs": [],
   "source": [
    "def process_rating(df):\n",
    "    return df"
   ]
  },
  {
   "cell_type": "code",
   "execution_count": 457,
   "metadata": {},
   "outputs": [],
   "source": [
    "#train_df = process_rating(train_df)\n",
    "#train_df.head()"
   ]
  },
  {
   "cell_type": "markdown",
   "metadata": {},
   "source": [
    "### rank"
   ]
  },
  {
   "cell_type": "code",
   "execution_count": 458,
   "metadata": {},
   "outputs": [
    {
     "data": {
      "text/plain": [
       "count           155295\n",
       "unique               4\n",
       "top       intermediate\n",
       "freq             66510\n",
       "Name: rank, dtype: object"
      ]
     },
     "execution_count": 458,
     "metadata": {},
     "output_type": "execute_result"
    }
   ],
   "source": [
    "train_df['rank'].describe()"
   ]
  },
  {
   "cell_type": "code",
   "execution_count": 459,
   "metadata": {},
   "outputs": [
    {
     "data": {
      "text/plain": [
       "array(['beginner', 'intermediate', 'advanced', 'expert'], dtype=object)"
      ]
     },
     "execution_count": 459,
     "metadata": {},
     "output_type": "execute_result"
    }
   ],
   "source": [
    "train_df['rank'].unique()"
   ]
  },
  {
   "cell_type": "code",
   "execution_count": 460,
   "metadata": {},
   "outputs": [],
   "source": [
    "def process_rank(df):    \n",
    "    df = pd.get_dummies(df, columns=['rank'], prefix='rank')\n",
    "    return df"
   ]
  },
  {
   "cell_type": "code",
   "execution_count": 461,
   "metadata": {},
   "outputs": [],
   "source": [
    "#train_df = process_rank(train_df)\n",
    "#train_df.head()"
   ]
  },
  {
   "cell_type": "markdown",
   "metadata": {},
   "source": [
    "### registration_time_seconds"
   ]
  },
  {
   "cell_type": "code",
   "execution_count": 462,
   "metadata": {},
   "outputs": [
    {
     "data": {
      "text/plain": [
       "count    1.552950e+05\n",
       "mean     1.427513e+09\n",
       "std      5.033908e+07\n",
       "min      1.264761e+09\n",
       "25%      1.408458e+09\n",
       "50%      1.442762e+09\n",
       "75%      1.464692e+09\n",
       "max      1.484236e+09\n",
       "Name: registration_time_seconds, dtype: float64"
      ]
     },
     "execution_count": 462,
     "metadata": {},
     "output_type": "execute_result"
    }
   ],
   "source": [
    "train_df.registration_time_seconds.describe()"
   ]
  },
  {
   "cell_type": "code",
   "execution_count": 463,
   "metadata": {
    "collapsed": true
   },
   "outputs": [],
   "source": [
    "def process_registration(df):\n",
    "    return df"
   ]
  },
  {
   "cell_type": "code",
   "execution_count": 464,
   "metadata": {},
   "outputs": [],
   "source": [
    "#train_df = process_registration(train_df)\n",
    "#train_df.head()"
   ]
  },
  {
   "cell_type": "markdown",
   "metadata": {},
   "source": [
    "### Process Complete Dataset"
   ]
  },
  {
   "cell_type": "code",
   "execution_count": 723,
   "metadata": {
    "collapsed": true
   },
   "outputs": [],
   "source": [
    "def process(df):\n",
    "    df = process_level(df)\n",
    "    df = process_points(df)\n",
    "    df = process_tags(df)\n",
    "    df = process_submission_count(df)\n",
    "    df = process_problem_solved(df)\n",
    "    df = process_contribution(df)\n",
    "    df = process_contribution(df)\n",
    "    df = process_country(df)\n",
    "    df = process_follower_count(df)\n",
    "    df = process_online(df)\n",
    "    df = process_max_rating(df)\n",
    "    df = process_rating(df)\n",
    "    df = process_rank(df)\n",
    "    df = process_registration(df)\n",
    "    df.loc[:, 'online'] = df['last_online_time_seconds'] - df['registration_time_seconds']\n",
    "    df.loc[:, 'accuracy'] = df['problem_solved'] - df['submission_count']\n",
    "    df.loc[:, 'level_1'] = df[['level_A', 'level_B']].sum(axis=1)\n",
    "    df.loc[:, 'level_2'] = df[['level_C', 'level_D', 'level_E', 'level_F']].sum(axis=1)\n",
    "    df.loc[:, 'level_3'] = df[['level_G', 'level_H', 'level_I', 'level_J', 'level_K', 'level_L', 'level_M', 'level_N', 'level_O']].sum(axis=1)\n",
    "    df.loc[:, 'rank_intermediate'] = df[['rank_intermediate', 'rank_advanced', 'rank_expert']]\n",
    "    df.loc[:, 'small_categories'] = df[['string-suffix-structures', '2-sat', 'meet-in-the-middle', 'fft', 'schedules', 'chinese-remainder-theorem']].sum(axis=1)\n",
    "    \n",
    "    df = df.drop(['user_id', 'problem_id', 'country',\n",
    "                  'last_online_time_seconds', 'registration_time_seconds',\n",
    "                'problem_solved', 'submission_count', 'rank_advanced', 'rank_expert'], axis=1)\n",
    "    levels_drop = ['level_{}'.format(alpha) for alpha in 'ABCDEFGHIJKLMNO']\n",
    "    df = df.drop(levels_drop, axis=1)\n",
    "    df.drop(['string-suffix-structures',\n",
    "             '2-sat',\n",
    "             'meet-in-the-middle',\n",
    "             'fft',\n",
    "             'schedules',\n",
    "             'chinese-remainder-theorem'], axis=1)\n",
    "\n",
    "    \n",
    "    return df"
   ]
  },
  {
   "cell_type": "code",
   "execution_count": 724,
   "metadata": {
    "collapsed": true
   },
   "outputs": [],
   "source": [
    "train_df = pd.read_csv('data/train.csv')"
   ]
  },
  {
   "cell_type": "code",
   "execution_count": 725,
   "metadata": {},
   "outputs": [
    {
     "data": {
      "text/html": [
       "<div>\n",
       "<style>\n",
       "    .dataframe thead tr:only-child th {\n",
       "        text-align: right;\n",
       "    }\n",
       "\n",
       "    .dataframe thead th {\n",
       "        text-align: left;\n",
       "    }\n",
       "\n",
       "    .dataframe tbody tr th {\n",
       "        vertical-align: top;\n",
       "    }\n",
       "</style>\n",
       "<table border=\"1\" class=\"dataframe\">\n",
       "  <thead>\n",
       "    <tr style=\"text-align: right;\">\n",
       "      <th></th>\n",
       "      <th>attempts_range</th>\n",
       "      <th>points</th>\n",
       "      <th>contribution</th>\n",
       "      <th>follower_count</th>\n",
       "      <th>max_rating</th>\n",
       "      <th>rating</th>\n",
       "      <th>*special</th>\n",
       "      <th>2-sat</th>\n",
       "      <th>binary-search</th>\n",
       "      <th>bitmasks</th>\n",
       "      <th>...</th>\n",
       "      <th>Romania</th>\n",
       "      <th>Poland</th>\n",
       "      <th>rank_beginner</th>\n",
       "      <th>rank_intermediate</th>\n",
       "      <th>online</th>\n",
       "      <th>accuracy</th>\n",
       "      <th>level_1</th>\n",
       "      <th>level_2</th>\n",
       "      <th>level_3</th>\n",
       "      <th>small_categories</th>\n",
       "    </tr>\n",
       "  </thead>\n",
       "  <tbody>\n",
       "    <tr>\n",
       "      <th>0</th>\n",
       "      <td>1</td>\n",
       "      <td>1000.0</td>\n",
       "      <td>0</td>\n",
       "      <td>1</td>\n",
       "      <td>307.913</td>\n",
       "      <td>206.709</td>\n",
       "      <td>0</td>\n",
       "      <td>0</td>\n",
       "      <td>0</td>\n",
       "      <td>0</td>\n",
       "      <td>...</td>\n",
       "      <td>0</td>\n",
       "      <td>0</td>\n",
       "      <td>1</td>\n",
       "      <td>0</td>\n",
       "      <td>71522843</td>\n",
       "      <td>-6</td>\n",
       "      <td>1</td>\n",
       "      <td>0</td>\n",
       "      <td>0</td>\n",
       "      <td>0</td>\n",
       "    </tr>\n",
       "    <tr>\n",
       "      <th>1</th>\n",
       "      <td>3</td>\n",
       "      <td>1500.0</td>\n",
       "      <td>0</td>\n",
       "      <td>0</td>\n",
       "      <td>324.255</td>\n",
       "      <td>235.378</td>\n",
       "      <td>0</td>\n",
       "      <td>0</td>\n",
       "      <td>0</td>\n",
       "      <td>0</td>\n",
       "      <td>...</td>\n",
       "      <td>0</td>\n",
       "      <td>0</td>\n",
       "      <td>1</td>\n",
       "      <td>0</td>\n",
       "      <td>47535708</td>\n",
       "      <td>-15</td>\n",
       "      <td>0</td>\n",
       "      <td>1</td>\n",
       "      <td>0</td>\n",
       "      <td>0</td>\n",
       "    </tr>\n",
       "    <tr>\n",
       "      <th>2</th>\n",
       "      <td>1</td>\n",
       "      <td>500.0</td>\n",
       "      <td>0</td>\n",
       "      <td>7</td>\n",
       "      <td>343.177</td>\n",
       "      <td>229.358</td>\n",
       "      <td>0</td>\n",
       "      <td>0</td>\n",
       "      <td>0</td>\n",
       "      <td>0</td>\n",
       "      <td>...</td>\n",
       "      <td>0</td>\n",
       "      <td>0</td>\n",
       "      <td>1</td>\n",
       "      <td>0</td>\n",
       "      <td>31228669</td>\n",
       "      <td>-6</td>\n",
       "      <td>1</td>\n",
       "      <td>0</td>\n",
       "      <td>0</td>\n",
       "      <td>0</td>\n",
       "    </tr>\n",
       "    <tr>\n",
       "      <th>3</th>\n",
       "      <td>1</td>\n",
       "      <td>500.0</td>\n",
       "      <td>23</td>\n",
       "      <td>40</td>\n",
       "      <td>436.927</td>\n",
       "      <td>399.083</td>\n",
       "      <td>0</td>\n",
       "      <td>0</td>\n",
       "      <td>0</td>\n",
       "      <td>0</td>\n",
       "      <td>...</td>\n",
       "      <td>0</td>\n",
       "      <td>0</td>\n",
       "      <td>0</td>\n",
       "      <td>1</td>\n",
       "      <td>57438471</td>\n",
       "      <td>-38</td>\n",
       "      <td>1</td>\n",
       "      <td>0</td>\n",
       "      <td>0</td>\n",
       "      <td>0</td>\n",
       "    </tr>\n",
       "    <tr>\n",
       "      <th>4</th>\n",
       "      <td>1</td>\n",
       "      <td>2000.0</td>\n",
       "      <td>0</td>\n",
       "      <td>80</td>\n",
       "      <td>492.546</td>\n",
       "      <td>472.190</td>\n",
       "      <td>0</td>\n",
       "      <td>0</td>\n",
       "      <td>0</td>\n",
       "      <td>0</td>\n",
       "      <td>...</td>\n",
       "      <td>0</td>\n",
       "      <td>0</td>\n",
       "      <td>0</td>\n",
       "      <td>0</td>\n",
       "      <td>67697192</td>\n",
       "      <td>-20</td>\n",
       "      <td>0</td>\n",
       "      <td>1</td>\n",
       "      <td>0</td>\n",
       "      <td>0</td>\n",
       "    </tr>\n",
       "  </tbody>\n",
       "</table>\n",
       "<p>5 rows × 66 columns</p>\n",
       "</div>"
      ],
      "text/plain": [
       "   attempts_range  points  contribution  follower_count  max_rating   rating  \\\n",
       "0               1  1000.0             0               1     307.913  206.709   \n",
       "1               3  1500.0             0               0     324.255  235.378   \n",
       "2               1   500.0             0               7     343.177  229.358   \n",
       "3               1   500.0            23              40     436.927  399.083   \n",
       "4               1  2000.0             0              80     492.546  472.190   \n",
       "\n",
       "   *special  2-sat  binary-search  bitmasks        ...         Romania  \\\n",
       "0         0      0              0         0        ...               0   \n",
       "1         0      0              0         0        ...               0   \n",
       "2         0      0              0         0        ...               0   \n",
       "3         0      0              0         0        ...               0   \n",
       "4         0      0              0         0        ...               0   \n",
       "\n",
       "   Poland  rank_beginner  rank_intermediate    online  accuracy  level_1  \\\n",
       "0       0              1                  0  71522843        -6        1   \n",
       "1       0              1                  0  47535708       -15        0   \n",
       "2       0              1                  0  31228669        -6        1   \n",
       "3       0              0                  1  57438471       -38        1   \n",
       "4       0              0                  0  67697192       -20        0   \n",
       "\n",
       "   level_2  level_3  small_categories  \n",
       "0        0        0                 0  \n",
       "1        1        0                 0  \n",
       "2        0        0                 0  \n",
       "3        0        0                 0  \n",
       "4        1        0                 0  \n",
       "\n",
       "[5 rows x 66 columns]"
      ]
     },
     "execution_count": 725,
     "metadata": {},
     "output_type": "execute_result"
    }
   ],
   "source": [
    "train_df = process(train_df)\n",
    "train_df.head()"
   ]
  },
  {
   "cell_type": "code",
   "execution_count": 726,
   "metadata": {},
   "outputs": [
    {
     "name": "stdout",
     "output_type": "stream",
     "text": [
      "<class 'pandas.core.frame.DataFrame'>\n",
      "RangeIndex: 155295 entries, 0 to 155294\n",
      "Data columns (total 66 columns):\n",
      "attempts_range               155295 non-null int64\n",
      "points                       155295 non-null float64\n",
      "contribution                 155295 non-null int64\n",
      "follower_count               155295 non-null int64\n",
      "max_rating                   155295 non-null float64\n",
      "rating                       155295 non-null float64\n",
      "*special                     155295 non-null int64\n",
      "2-sat                        155295 non-null int64\n",
      "binary-search                155295 non-null int64\n",
      "bitmasks                     155295 non-null int64\n",
      "brute-force                  155295 non-null int64\n",
      "chinese-remainder-theorem    155295 non-null int64\n",
      "combinatorics                155295 non-null int64\n",
      "constructive-algorithms      155295 non-null int64\n",
      "data-structures              155295 non-null int64\n",
      "dfs-and-similar              155295 non-null int64\n",
      "divide-and-conquer           155295 non-null int64\n",
      "dp                           155295 non-null int64\n",
      "dsu                          155295 non-null int64\n",
      "expression-parsing           155295 non-null int64\n",
      "fft                          155295 non-null int64\n",
      "flows                        155295 non-null int64\n",
      "games                        155295 non-null int64\n",
      "geometry                     155295 non-null int64\n",
      "graph-matchings              155295 non-null int64\n",
      "graphs                       155295 non-null int64\n",
      "greedy                       155295 non-null int64\n",
      "hashing                      155295 non-null int64\n",
      "implementation               155295 non-null int64\n",
      "math                         155295 non-null int64\n",
      "matrices                     155295 non-null int64\n",
      "meet-in-the-middle           155295 non-null int64\n",
      "number-theory                155295 non-null int64\n",
      "probabilities                155295 non-null int64\n",
      "schedules                    155295 non-null int64\n",
      "shortest-paths               155295 non-null int64\n",
      "sortings                     155295 non-null int64\n",
      "string-suffix-structures     155295 non-null int64\n",
      "strings                      155295 non-null int64\n",
      "ternary-search               155295 non-null int64\n",
      "trees                        155295 non-null int64\n",
      "two-pointers                 155295 non-null int64\n",
      "India                        155295 non-null uint8\n",
      "Bangladesh                   155295 non-null uint8\n",
      "Russia                       155295 non-null uint8\n",
      "China                        155295 non-null uint8\n",
      "Egypt                        155295 non-null uint8\n",
      "Kazakhstan                   155295 non-null uint8\n",
      "Vietnam                      155295 non-null uint8\n",
      "Brazil                       155295 non-null uint8\n",
      "Iran                         155295 non-null uint8\n",
      "Ukraine                      155295 non-null uint8\n",
      "Belarus                      155295 non-null uint8\n",
      "Japan                        155295 non-null uint8\n",
      "Syria                        155295 non-null uint8\n",
      "United States                155295 non-null uint8\n",
      "Romania                      155295 non-null uint8\n",
      "Poland                       155295 non-null uint8\n",
      "rank_beginner                155295 non-null uint8\n",
      "rank_intermediate            155295 non-null uint8\n",
      "online                       155295 non-null int64\n",
      "accuracy                     155295 non-null int64\n",
      "level_1                      155295 non-null int64\n",
      "level_2                      155295 non-null int64\n",
      "level_3                      155295 non-null int64\n",
      "small_categories             155295 non-null int64\n",
      "dtypes: float64(3), int64(45), uint8(18)\n",
      "memory usage: 59.5 MB\n"
     ]
    }
   ],
   "source": [
    "train_df.info()"
   ]
  },
  {
   "cell_type": "code",
   "execution_count": 727,
   "metadata": {},
   "outputs": [],
   "source": [
    "X, y = train_df.drop('attempts_range', axis=1).copy(), train_df.attempts_range.copy()"
   ]
  },
  {
   "cell_type": "code",
   "execution_count": 728,
   "metadata": {},
   "outputs": [
    {
     "data": {
      "text/plain": [
       "(155295, 65)"
      ]
     },
     "execution_count": 728,
     "metadata": {},
     "output_type": "execute_result"
    }
   ],
   "source": [
    "X.shape"
   ]
  },
  {
   "cell_type": "code",
   "execution_count": 729,
   "metadata": {},
   "outputs": [
    {
     "data": {
      "text/plain": [
       "(155295,)"
      ]
     },
     "execution_count": 729,
     "metadata": {},
     "output_type": "execute_result"
    }
   ],
   "source": [
    "y.shape"
   ]
  },
  {
   "cell_type": "markdown",
   "metadata": {},
   "source": [
    "### Training and testing data"
   ]
  },
  {
   "cell_type": "code",
   "execution_count": 730,
   "metadata": {},
   "outputs": [],
   "source": [
    "X_train, X_test, y_train, y_test = train_test_split(X, y, test_size=.25)"
   ]
  },
  {
   "cell_type": "markdown",
   "metadata": {},
   "source": [
    "### Generate test dataset"
   ]
  },
  {
   "cell_type": "code",
   "execution_count": 731,
   "metadata": {
    "collapsed": true
   },
   "outputs": [],
   "source": [
    "def make_submission(model, test_df, fname=None):\n",
    "    submission = test_df[['ID']].copy()\n",
    "    attempts = model.predict(test_df.drop('ID', axis=1))\n",
    "    submission.loc[:, 'attempts_range'] = attempts\n",
    "    if fname:\n",
    "        submission.to_csv('data/submissions/{}'.format(fname), index=False)\n",
    "    return submission"
   ]
  },
  {
   "cell_type": "code",
   "execution_count": 732,
   "metadata": {},
   "outputs": [
    {
     "data": {
      "text/html": [
       "<div>\n",
       "<style>\n",
       "    .dataframe thead tr:only-child th {\n",
       "        text-align: right;\n",
       "    }\n",
       "\n",
       "    .dataframe thead th {\n",
       "        text-align: left;\n",
       "    }\n",
       "\n",
       "    .dataframe tbody tr th {\n",
       "        vertical-align: top;\n",
       "    }\n",
       "</style>\n",
       "<table border=\"1\" class=\"dataframe\">\n",
       "  <thead>\n",
       "    <tr style=\"text-align: right;\">\n",
       "      <th></th>\n",
       "      <th>ID</th>\n",
       "      <th>points</th>\n",
       "      <th>contribution</th>\n",
       "      <th>follower_count</th>\n",
       "      <th>max_rating</th>\n",
       "      <th>rating</th>\n",
       "      <th>*special</th>\n",
       "      <th>2-sat</th>\n",
       "      <th>binary-search</th>\n",
       "      <th>bitmasks</th>\n",
       "      <th>...</th>\n",
       "      <th>Romania</th>\n",
       "      <th>Poland</th>\n",
       "      <th>rank_beginner</th>\n",
       "      <th>rank_intermediate</th>\n",
       "      <th>online</th>\n",
       "      <th>accuracy</th>\n",
       "      <th>level_1</th>\n",
       "      <th>level_2</th>\n",
       "      <th>level_3</th>\n",
       "      <th>small_categories</th>\n",
       "    </tr>\n",
       "  </thead>\n",
       "  <tbody>\n",
       "    <tr>\n",
       "      <th>0</th>\n",
       "      <td>user_856_prob_5822</td>\n",
       "      <td>500.0</td>\n",
       "      <td>0</td>\n",
       "      <td>35</td>\n",
       "      <td>393.062</td>\n",
       "      <td>362.959</td>\n",
       "      <td>0</td>\n",
       "      <td>0</td>\n",
       "      <td>0</td>\n",
       "      <td>0</td>\n",
       "      <td>...</td>\n",
       "      <td>0</td>\n",
       "      <td>0</td>\n",
       "      <td>0</td>\n",
       "      <td>1</td>\n",
       "      <td>81070769</td>\n",
       "      <td>-43</td>\n",
       "      <td>0</td>\n",
       "      <td>0</td>\n",
       "      <td>1</td>\n",
       "      <td>0</td>\n",
       "    </tr>\n",
       "    <tr>\n",
       "      <th>1</th>\n",
       "      <td>user_2642_prob_2334</td>\n",
       "      <td>500.0</td>\n",
       "      <td>0</td>\n",
       "      <td>8</td>\n",
       "      <td>307.053</td>\n",
       "      <td>146.502</td>\n",
       "      <td>0</td>\n",
       "      <td>0</td>\n",
       "      <td>0</td>\n",
       "      <td>0</td>\n",
       "      <td>...</td>\n",
       "      <td>0</td>\n",
       "      <td>0</td>\n",
       "      <td>1</td>\n",
       "      <td>0</td>\n",
       "      <td>65576834</td>\n",
       "      <td>-10</td>\n",
       "      <td>1</td>\n",
       "      <td>0</td>\n",
       "      <td>0</td>\n",
       "      <td>0</td>\n",
       "    </tr>\n",
       "    <tr>\n",
       "      <th>2</th>\n",
       "      <td>user_2557_prob_2920</td>\n",
       "      <td>500.0</td>\n",
       "      <td>0</td>\n",
       "      <td>76</td>\n",
       "      <td>321.674</td>\n",
       "      <td>241.399</td>\n",
       "      <td>0</td>\n",
       "      <td>0</td>\n",
       "      <td>0</td>\n",
       "      <td>0</td>\n",
       "      <td>...</td>\n",
       "      <td>0</td>\n",
       "      <td>0</td>\n",
       "      <td>1</td>\n",
       "      <td>0</td>\n",
       "      <td>109419135</td>\n",
       "      <td>-84</td>\n",
       "      <td>1</td>\n",
       "      <td>0</td>\n",
       "      <td>0</td>\n",
       "      <td>0</td>\n",
       "    </tr>\n",
       "    <tr>\n",
       "      <th>3</th>\n",
       "      <td>user_1572_prob_4598</td>\n",
       "      <td>1000.0</td>\n",
       "      <td>0</td>\n",
       "      <td>29</td>\n",
       "      <td>473.050</td>\n",
       "      <td>454.989</td>\n",
       "      <td>0</td>\n",
       "      <td>0</td>\n",
       "      <td>0</td>\n",
       "      <td>0</td>\n",
       "      <td>...</td>\n",
       "      <td>0</td>\n",
       "      <td>0</td>\n",
       "      <td>0</td>\n",
       "      <td>1</td>\n",
       "      <td>81386750</td>\n",
       "      <td>-22</td>\n",
       "      <td>1</td>\n",
       "      <td>0</td>\n",
       "      <td>0</td>\n",
       "      <td>0</td>\n",
       "    </tr>\n",
       "    <tr>\n",
       "      <th>4</th>\n",
       "      <td>user_295_prob_6139</td>\n",
       "      <td>500.0</td>\n",
       "      <td>0</td>\n",
       "      <td>3</td>\n",
       "      <td>455.275</td>\n",
       "      <td>448.108</td>\n",
       "      <td>0</td>\n",
       "      <td>0</td>\n",
       "      <td>1</td>\n",
       "      <td>0</td>\n",
       "      <td>...</td>\n",
       "      <td>0</td>\n",
       "      <td>0</td>\n",
       "      <td>0</td>\n",
       "      <td>1</td>\n",
       "      <td>40284363</td>\n",
       "      <td>-24</td>\n",
       "      <td>1</td>\n",
       "      <td>0</td>\n",
       "      <td>0</td>\n",
       "      <td>0</td>\n",
       "    </tr>\n",
       "  </tbody>\n",
       "</table>\n",
       "<p>5 rows × 66 columns</p>\n",
       "</div>"
      ],
      "text/plain": [
       "                    ID  points  contribution  follower_count  max_rating  \\\n",
       "0   user_856_prob_5822   500.0             0              35     393.062   \n",
       "1  user_2642_prob_2334   500.0             0               8     307.053   \n",
       "2  user_2557_prob_2920   500.0             0              76     321.674   \n",
       "3  user_1572_prob_4598  1000.0             0              29     473.050   \n",
       "4   user_295_prob_6139   500.0             0               3     455.275   \n",
       "\n",
       "    rating  *special  2-sat  binary-search  bitmasks        ...         \\\n",
       "0  362.959         0      0              0         0        ...          \n",
       "1  146.502         0      0              0         0        ...          \n",
       "2  241.399         0      0              0         0        ...          \n",
       "3  454.989         0      0              0         0        ...          \n",
       "4  448.108         0      0              1         0        ...          \n",
       "\n",
       "   Romania  Poland  rank_beginner  rank_intermediate     online  accuracy  \\\n",
       "0        0       0              0                  1   81070769       -43   \n",
       "1        0       0              1                  0   65576834       -10   \n",
       "2        0       0              1                  0  109419135       -84   \n",
       "3        0       0              0                  1   81386750       -22   \n",
       "4        0       0              0                  1   40284363       -24   \n",
       "\n",
       "   level_1  level_2  level_3  small_categories  \n",
       "0        0        0        1                 0  \n",
       "1        1        0        0                 0  \n",
       "2        1        0        0                 0  \n",
       "3        1        0        0                 0  \n",
       "4        1        0        0                 0  \n",
       "\n",
       "[5 rows x 66 columns]"
      ]
     },
     "execution_count": 732,
     "metadata": {},
     "output_type": "execute_result"
    }
   ],
   "source": [
    "test_df = process(pd.read_csv('data/test.csv'))\n",
    "test_df.head()"
   ]
  },
  {
   "cell_type": "markdown",
   "metadata": {},
   "source": [
    "### Evaluation Metric"
   ]
  },
  {
   "cell_type": "code",
   "execution_count": 733,
   "metadata": {
    "collapsed": true
   },
   "outputs": [],
   "source": [
    "scorer = partial(f1_score, average='weighted')\n",
    "grid_scorer = make_scorer(f1_score, average='weighted')"
   ]
  },
  {
   "cell_type": "markdown",
   "metadata": {},
   "source": [
    "### Base Classifier - GaussianNB\n",
    "\n",
    "#### Try 1\n",
    "- MinMaxScaling\n",
    "- Model - GaussianNB\n",
    "- .334"
   ]
  },
  {
   "cell_type": "code",
   "execution_count": 79,
   "metadata": {},
   "outputs": [
    {
     "data": {
      "text/plain": [
       "Pipeline(memory=None,\n",
       "     steps=[('scaler', MinMaxScaler(copy=True, feature_range=(0, 1))), ('clf', GaussianNB(priors=None))])"
      ]
     },
     "execution_count": 79,
     "metadata": {},
     "output_type": "execute_result"
    }
   ],
   "source": [
    "scaler = MinMaxScaler()\n",
    "clf = GaussianNB()\n",
    "steps = [('scaler', scaler), ('clf', clf)]\n",
    "pipe = Pipeline(steps)\n",
    "pipe"
   ]
  },
  {
   "cell_type": "code",
   "execution_count": 80,
   "metadata": {},
   "outputs": [
    {
     "data": {
      "text/plain": [
       "Pipeline(memory=None,\n",
       "     steps=[('scaler', MinMaxScaler(copy=True, feature_range=(0, 1))), ('clf', GaussianNB(priors=None))])"
      ]
     },
     "execution_count": 80,
     "metadata": {},
     "output_type": "execute_result"
    }
   ],
   "source": [
    "pipe.fit(X_train, y_train)"
   ]
  },
  {
   "cell_type": "code",
   "execution_count": 81,
   "metadata": {},
   "outputs": [
    {
     "data": {
      "text/plain": [
       "0.27790230348118566"
      ]
     },
     "execution_count": 81,
     "metadata": {},
     "output_type": "execute_result"
    }
   ],
   "source": [
    "y_pred = pipe.predict(X_test)\n",
    "scorer(y_test, y_pred)"
   ]
  },
  {
   "cell_type": "markdown",
   "metadata": {},
   "source": [
    "### RandomForest\n",
    "\n",
    "#### Try 1\n",
    "- MinMaxScaling\n",
    "- .45"
   ]
  },
  {
   "cell_type": "code",
   "execution_count": 82,
   "metadata": {},
   "outputs": [
    {
     "data": {
      "text/plain": [
       "Pipeline(memory=None,\n",
       "     steps=[('scaler', MinMaxScaler(copy=True, feature_range=(0, 1))), ('clf', RandomForestClassifier(bootstrap=True, class_weight=None, criterion='gini',\n",
       "            max_depth=None, max_features='auto', max_leaf_nodes=None,\n",
       "            min_impurity_decrease=0.0, min_impurity_split=None,\n",
       "            min_samples_leaf=1, min_samples_split=2,\n",
       "            min_weight_fraction_leaf=0.0, n_estimators=10, n_jobs=1,\n",
       "            oob_score=False, random_state=None, verbose=0,\n",
       "            warm_start=False))])"
      ]
     },
     "execution_count": 82,
     "metadata": {},
     "output_type": "execute_result"
    }
   ],
   "source": [
    "scaler = MinMaxScaler()\n",
    "clf = RandomForestClassifier()\n",
    "steps = [('scaler', scaler), ('clf', clf)]\n",
    "pipe = Pipeline(steps)\n",
    "pipe"
   ]
  },
  {
   "cell_type": "code",
   "execution_count": 83,
   "metadata": {},
   "outputs": [
    {
     "data": {
      "text/plain": [
       "Pipeline(memory=None,\n",
       "     steps=[('scaler', MinMaxScaler(copy=True, feature_range=(0, 1))), ('clf', RandomForestClassifier(bootstrap=True, class_weight=None, criterion='gini',\n",
       "            max_depth=None, max_features='auto', max_leaf_nodes=None,\n",
       "            min_impurity_decrease=0.0, min_impurity_split=None,\n",
       "            min_samples_leaf=1, min_samples_split=2,\n",
       "            min_weight_fraction_leaf=0.0, n_estimators=10, n_jobs=1,\n",
       "            oob_score=False, random_state=None, verbose=0,\n",
       "            warm_start=False))])"
      ]
     },
     "execution_count": 83,
     "metadata": {},
     "output_type": "execute_result"
    }
   ],
   "source": [
    "pipe.fit(X_train, y_train)"
   ]
  },
  {
   "cell_type": "code",
   "execution_count": 84,
   "metadata": {},
   "outputs": [
    {
     "data": {
      "text/plain": [
       "0.45238474087566161"
      ]
     },
     "execution_count": 84,
     "metadata": {},
     "output_type": "execute_result"
    }
   ],
   "source": [
    "y_pred = pipe.predict(X_test)\n",
    "scorer(y_test, y_pred) # Much better than base"
   ]
  },
  {
   "cell_type": "code",
   "execution_count": 85,
   "metadata": {},
   "outputs": [
    {
     "data": {
      "text/html": [
       "<div>\n",
       "<style>\n",
       "    .dataframe thead tr:only-child th {\n",
       "        text-align: right;\n",
       "    }\n",
       "\n",
       "    .dataframe thead th {\n",
       "        text-align: left;\n",
       "    }\n",
       "\n",
       "    .dataframe tbody tr th {\n",
       "        vertical-align: top;\n",
       "    }\n",
       "</style>\n",
       "<table border=\"1\" class=\"dataframe\">\n",
       "  <thead>\n",
       "    <tr style=\"text-align: right;\">\n",
       "      <th></th>\n",
       "      <th>ID</th>\n",
       "      <th>attempts_range</th>\n",
       "    </tr>\n",
       "  </thead>\n",
       "  <tbody>\n",
       "    <tr>\n",
       "      <th>0</th>\n",
       "      <td>user_856_prob_5822</td>\n",
       "      <td>1</td>\n",
       "    </tr>\n",
       "    <tr>\n",
       "      <th>1</th>\n",
       "      <td>user_2642_prob_2334</td>\n",
       "      <td>2</td>\n",
       "    </tr>\n",
       "    <tr>\n",
       "      <th>2</th>\n",
       "      <td>user_2557_prob_2920</td>\n",
       "      <td>1</td>\n",
       "    </tr>\n",
       "    <tr>\n",
       "      <th>3</th>\n",
       "      <td>user_1572_prob_4598</td>\n",
       "      <td>3</td>\n",
       "    </tr>\n",
       "    <tr>\n",
       "      <th>4</th>\n",
       "      <td>user_295_prob_6139</td>\n",
       "      <td>1</td>\n",
       "    </tr>\n",
       "  </tbody>\n",
       "</table>\n",
       "</div>"
      ],
      "text/plain": [
       "                    ID  attempts_range\n",
       "0   user_856_prob_5822               1\n",
       "1  user_2642_prob_2334               2\n",
       "2  user_2557_prob_2920               1\n",
       "3  user_1572_prob_4598               3\n",
       "4   user_295_prob_6139               1"
      ]
     },
     "execution_count": 85,
     "metadata": {},
     "output_type": "execute_result"
    }
   ],
   "source": [
    "pipe.fit(X, y)\n",
    "make_submission(pipe, test_df, 'random1.csv').head()"
   ]
  },
  {
   "cell_type": "code",
   "execution_count": 86,
   "metadata": {},
   "outputs": [
    {
     "name": "stdout",
     "output_type": "stream",
     "text": [
      "Fitting 3 folds for each of 3 candidates, totalling 9 fits\n",
      "[CV] clf__n_estimators=10 ............................................\n",
      "[CV] ... clf__n_estimators=10, score=0.4503995001483376, total=   2.8s\n",
      "[CV] clf__n_estimators=10 ............................................\n"
     ]
    },
    {
     "name": "stderr",
     "output_type": "stream",
     "text": [
      "[Parallel(n_jobs=1)]: Done   1 out of   1 | elapsed:    3.3s remaining:    0.0s\n"
     ]
    },
    {
     "name": "stdout",
     "output_type": "stream",
     "text": [
      "[CV] .. clf__n_estimators=10, score=0.45182297419340567, total=   2.6s\n",
      "[CV] clf__n_estimators=10 ............................................\n"
     ]
    },
    {
     "name": "stderr",
     "output_type": "stream",
     "text": [
      "[Parallel(n_jobs=1)]: Done   2 out of   2 | elapsed:    6.4s remaining:    0.0s\n"
     ]
    },
    {
     "name": "stdout",
     "output_type": "stream",
     "text": [
      "[CV] ... clf__n_estimators=10, score=0.4525825025019543, total=   2.7s\n",
      "[CV] clf__n_estimators=50 ............................................\n",
      "[CV] .. clf__n_estimators=50, score=0.45652864849098707, total=  11.8s\n",
      "[CV] clf__n_estimators=50 ............................................\n",
      "[CV] ... clf__n_estimators=50, score=0.4596705400735391, total=  11.4s\n",
      "[CV] clf__n_estimators=50 ............................................\n",
      "[CV] ... clf__n_estimators=50, score=0.4550442519371939, total=  11.4s\n",
      "[CV] clf__n_estimators=100 ...........................................\n",
      "[CV] .. clf__n_estimators=100, score=0.4571546986229951, total=  22.6s\n",
      "[CV] clf__n_estimators=100 ...........................................\n",
      "[CV] . clf__n_estimators=100, score=0.45851023700547655, total=  22.7s\n",
      "[CV] clf__n_estimators=100 ...........................................\n",
      "[CV] ... clf__n_estimators=100, score=0.456573117484832, total=  22.6s\n"
     ]
    },
    {
     "name": "stderr",
     "output_type": "stream",
     "text": [
      "[Parallel(n_jobs=1)]: Done   9 out of   9 | elapsed:  2.1min finished\n"
     ]
    },
    {
     "data": {
      "text/plain": [
       "GridSearchCV(cv=None, error_score='raise',\n",
       "       estimator=Pipeline(memory=None,\n",
       "     steps=[('scaler', MinMaxScaler(copy=True, feature_range=(0, 1))), ('clf', RandomForestClassifier(bootstrap=True, class_weight=None, criterion='gini',\n",
       "            max_depth=None, max_features='auto', max_leaf_nodes=None,\n",
       "            min_impurity_decrease=0.0, min_..._jobs=1,\n",
       "            oob_score=False, random_state=None, verbose=0,\n",
       "            warm_start=False))]),\n",
       "       fit_params=None, iid=True, n_jobs=1,\n",
       "       param_grid={'clf__n_estimators': [10, 50, 100]},\n",
       "       pre_dispatch='2*n_jobs', refit=True, return_train_score=True,\n",
       "       scoring=make_scorer(f1_score, average=weighted), verbose=3)"
      ]
     },
     "execution_count": 86,
     "metadata": {},
     "output_type": "execute_result"
    }
   ],
   "source": [
    "params = {'clf__n_estimators': [10, 50, 100]}\n",
    "pipe = Pipeline(steps)\n",
    "grid = GridSearchCV(pipe, param_grid=params, scoring=grid_scorer, verbose=3)\n",
    "grid.fit(X, y)"
   ]
  },
  {
   "cell_type": "markdown",
   "metadata": {},
   "source": [
    "### Feature Selections\n",
    "\n",
    "- Very badly correlated features, need something better."
   ]
  },
  {
   "cell_type": "code",
   "execution_count": 87,
   "metadata": {},
   "outputs": [
    {
     "data": {
      "text/plain": [
       "attempts_range               1.000000\n",
       "points                       0.162278\n",
       "submission_count            -0.005503\n",
       "problem_solved              -0.005296\n",
       "contribution                -0.024321\n",
       "follower_count              -0.015206\n",
       "last_online_time_seconds     0.010568\n",
       "max_rating                  -0.043080\n",
       "rating                      -0.039486\n",
       "registration_time_seconds    0.042430\n",
       "level_A                     -0.161922\n",
       "level_B                      0.004239\n",
       "level_C                      0.084698\n",
       "level_D                      0.077624\n",
       "level_E                      0.077242\n",
       "level_F                      0.043571\n",
       "level_G                      0.014699\n",
       "level_H                      0.005907\n",
       "level_I                      0.005419\n",
       "level_J                      0.003605\n",
       "level_K                      0.001878\n",
       "level_L                      0.002537\n",
       "level_M                     -0.005844\n",
       "level_N                     -0.002717\n",
       "level_O                      0.001409\n",
       "*special                     0.029464\n",
       "2-sat                        0.008898\n",
       "binary-search                0.059828\n",
       "bitmasks                     0.010486\n",
       "brute-force                  0.004395\n",
       "                               ...   \n",
       "divide-and-conquer           0.022569\n",
       "dp                           0.077040\n",
       "dsu                          0.016142\n",
       "expression-parsing          -0.000154\n",
       "fft                          0.018509\n",
       "flows                        0.012608\n",
       "games                       -0.012084\n",
       "geometry                    -0.007310\n",
       "graph-matchings              0.003826\n",
       "graphs                       0.028243\n",
       "greedy                       0.024668\n",
       "hashing                      0.046486\n",
       "implementation              -0.115935\n",
       "math                        -0.012531\n",
       "matrices                     0.023850\n",
       "meet-in-the-middle           0.018658\n",
       "number-theory                0.034276\n",
       "probabilities                0.070168\n",
       "schedules                   -0.005895\n",
       "shortest-paths               0.018165\n",
       "sortings                     0.004299\n",
       "string-suffix-structures     0.035702\n",
       "strings                     -0.025380\n",
       "ternary-search               0.019762\n",
       "trees                        0.077690\n",
       "two-pointers                 0.038432\n",
       "rank_advanced               -0.013459\n",
       "rank_beginner                0.028015\n",
       "rank_expert                 -0.031779\n",
       "rank_intermediate           -0.004487\n",
       "Name: attempts_range, Length: 65, dtype: float64"
      ]
     },
     "execution_count": 87,
     "metadata": {},
     "output_type": "execute_result"
    }
   ],
   "source": [
    "train_df.corr().loc[:, 'attempts_range']"
   ]
  },
  {
   "cell_type": "markdown",
   "metadata": {},
   "source": [
    "### PCA"
   ]
  },
  {
   "cell_type": "code",
   "execution_count": 478,
   "metadata": {},
   "outputs": [
    {
     "data": {
      "text/plain": [
       "Pipeline(memory=None,\n",
       "     steps=[('scaler', MinMaxScaler(copy=True, feature_range=(0, 1))), ('pca', PCA(copy=True, iterated_power='auto', n_components=0.9, random_state=None,\n",
       "  svd_solver='auto', tol=0.0, whiten=False))])"
      ]
     },
     "execution_count": 478,
     "metadata": {},
     "output_type": "execute_result"
    }
   ],
   "source": [
    "scaler = MinMaxScaler()\n",
    "pca = PCA(n_components=.9)\n",
    "steps = [('scaler', scaler), ('pca', pca)]\n",
    "pipe = Pipeline(steps)\n",
    "pipe"
   ]
  },
  {
   "cell_type": "code",
   "execution_count": 479,
   "metadata": {},
   "outputs": [
    {
     "data": {
      "text/plain": [
       "Pipeline(memory=None,\n",
       "     steps=[('scaler', MinMaxScaler(copy=True, feature_range=(0, 1))), ('pca', PCA(copy=True, iterated_power='auto', n_components=0.9, random_state=None,\n",
       "  svd_solver='auto', tol=0.0, whiten=False))])"
      ]
     },
     "execution_count": 479,
     "metadata": {},
     "output_type": "execute_result"
    }
   ],
   "source": [
    "pipe.fit(X_train, y_train)"
   ]
  },
  {
   "cell_type": "code",
   "execution_count": 480,
   "metadata": {},
   "outputs": [
    {
     "data": {
      "text/plain": [
       "(38824, 30)"
      ]
     },
     "execution_count": 480,
     "metadata": {},
     "output_type": "execute_result"
    }
   ],
   "source": [
    "pipe.transform(X_test).shape"
   ]
  },
  {
   "cell_type": "code",
   "execution_count": 481,
   "metadata": {
    "collapsed": true
   },
   "outputs": [],
   "source": [
    "def pca_shapes(pipe, X, y, n_values):\n",
    "    shapes = []\n",
    "    for n in n_values:\n",
    "        pipe.set_params(pca__n_components=n)\n",
    "        pipe.fit(X, y)\n",
    "        shapes.append(pipe.transform(X).shape[1])\n",
    "    return shapes"
   ]
  },
  {
   "cell_type": "code",
   "execution_count": 482,
   "metadata": {},
   "outputs": [
    {
     "data": {
      "text/plain": [
       "array([ 0.6   ,  0.6975,  0.795 ,  0.8925,  0.99  ])"
      ]
     },
     "execution_count": 482,
     "metadata": {},
     "output_type": "execute_result"
    }
   ],
   "source": [
    "n_values = np.linspace(.6, .99, 5)\n",
    "n_values"
   ]
  },
  {
   "cell_type": "code",
   "execution_count": 483,
   "metadata": {},
   "outputs": [
    {
     "data": {
      "text/plain": [
       "[14, 16, 23, 30, 41, 58]"
      ]
     },
     "execution_count": 483,
     "metadata": {},
     "output_type": "execute_result"
    }
   ],
   "source": [
    "shapes = pca_shapes(pipe, X, y, [.7, .75, .85, .9, .95, .99])\n",
    "shapes"
   ]
  },
  {
   "cell_type": "code",
   "execution_count": 484,
   "metadata": {},
   "outputs": [
    {
     "data": {
      "text/plain": [
       "[<matplotlib.lines.Line2D at 0x123804c18>]"
      ]
     },
     "execution_count": 484,
     "metadata": {},
     "output_type": "execute_result"
    },
    {
     "data": {
      "image/png": "[encoded data removed]",
      "text/plain": [
       "<matplotlib.figure.Figure at 0x114df75f8>"
      ]
     },
     "metadata": {},
     "output_type": "display_data"
    }
   ],
   "source": [
    "plt.plot([.7, .75, .85, .9, .95, .99], shapes)"
   ]
  },
  {
   "cell_type": "markdown",
   "metadata": {},
   "source": [
    "### PCA and RandomForest\n",
    "\n",
    "Slightly better at .46"
   ]
  },
  {
   "cell_type": "code",
   "execution_count": 302,
   "metadata": {},
   "outputs": [
    {
     "data": {
      "text/plain": [
       "Pipeline(memory=None,\n",
       "     steps=[('scaler', MinMaxScaler(copy=True, feature_range=(0, 1))), ('pca', PCA(copy=True, iterated_power='auto', n_components=0.99, random_state=None,\n",
       "  svd_solver='auto', tol=0.0, whiten=False)), ('clf', RandomForestClassifier(bootstrap=True, class_weight=None, criterion='gini',\n",
       "            max_dept...n_jobs=1,\n",
       "            oob_score=False, random_state=None, verbose=0,\n",
       "            warm_start=False))])"
      ]
     },
     "execution_count": 302,
     "metadata": {},
     "output_type": "execute_result"
    }
   ],
   "source": [
    "scaler = MinMaxScaler()\n",
    "pca = PCA(n_components=.99)\n",
    "clf = RandomForestClassifier()\n",
    "steps = [('scaler', scaler), ('pca', pca), ('clf', clf)]\n",
    "pipe = Pipeline(steps)\n",
    "pipe"
   ]
  },
  {
   "cell_type": "code",
   "execution_count": 303,
   "metadata": {},
   "outputs": [
    {
     "data": {
      "text/plain": [
       "Pipeline(memory=None,\n",
       "     steps=[('scaler', MinMaxScaler(copy=True, feature_range=(0, 1))), ('pca', PCA(copy=True, iterated_power='auto', n_components=0.99, random_state=None,\n",
       "  svd_solver='auto', tol=0.0, whiten=False)), ('clf', RandomForestClassifier(bootstrap=True, class_weight=None, criterion='gini',\n",
       "            max_dept...n_jobs=1,\n",
       "            oob_score=False, random_state=None, verbose=0,\n",
       "            warm_start=False))])"
      ]
     },
     "execution_count": 303,
     "metadata": {},
     "output_type": "execute_result"
    }
   ],
   "source": [
    "pipe.fit(X_train, y_train)"
   ]
  },
  {
   "cell_type": "code",
   "execution_count": 304,
   "metadata": {},
   "outputs": [
    {
     "data": {
      "text/plain": [
       "0.4565628498392853"
      ]
     },
     "execution_count": 304,
     "metadata": {},
     "output_type": "execute_result"
    }
   ],
   "source": [
    "y_pred = pipe.predict(X_test)\n",
    "scorer(y_test, y_pred) # Much better than base"
   ]
  },
  {
   "cell_type": "code",
   "execution_count": 98,
   "metadata": {},
   "outputs": [
    {
     "name": "stdout",
     "output_type": "stream",
     "text": [
      "Fitting 3 folds for each of 5 candidates, totalling 15 fits\n",
      "[CV] pca__n_components=0.7 ...........................................\n",
      "[CV] .. pca__n_components=0.7, score=0.4536182586786902, total=   5.0s\n",
      "[CV] pca__n_components=0.7 ...........................................\n"
     ]
    },
    {
     "name": "stderr",
     "output_type": "stream",
     "text": [
      "[Parallel(n_jobs=1)]: Done   1 out of   1 | elapsed:    5.5s remaining:    0.0s\n"
     ]
    },
    {
     "name": "stdout",
     "output_type": "stream",
     "text": [
      "[CV] .. pca__n_components=0.7, score=0.4561632559301627, total=   5.3s\n",
      "[CV] pca__n_components=0.7 ...........................................\n"
     ]
    },
    {
     "name": "stderr",
     "output_type": "stream",
     "text": [
      "[Parallel(n_jobs=1)]: Done   2 out of   2 | elapsed:   11.2s remaining:    0.0s\n"
     ]
    },
    {
     "name": "stdout",
     "output_type": "stream",
     "text": [
      "[CV] . pca__n_components=0.7, score=0.45327868417559386, total=   5.1s\n",
      "[CV] pca__n_components=0.7725 ........................................\n",
      "[CV]  pca__n_components=0.7725, score=0.4530939132968395, total=   5.3s\n",
      "[CV] pca__n_components=0.7725 ........................................\n",
      "[CV]  pca__n_components=0.7725, score=0.454119425100043, total=   5.1s\n",
      "[CV] pca__n_components=0.7725 ........................................\n",
      "[CV]  pca__n_components=0.7725, score=0.4542532621703818, total=   5.1s\n",
      "[CV] pca__n_components=0.845 .........................................\n",
      "[CV]  pca__n_components=0.845, score=0.4537359701001743, total=   6.5s\n",
      "[CV] pca__n_components=0.845 .........................................\n",
      "[CV]  pca__n_components=0.845, score=0.45226525360886677, total=   6.6s\n",
      "[CV] pca__n_components=0.845 .........................................\n",
      "[CV]  pca__n_components=0.845, score=0.4543870677683049, total=   6.7s\n",
      "[CV] pca__n_components=0.9175 ........................................\n",
      "[CV]  pca__n_components=0.9175, score=0.4543243836047897, total=   6.6s\n",
      "[CV] pca__n_components=0.9175 ........................................\n",
      "[CV]  pca__n_components=0.9175, score=0.45490396527848037, total=   6.6s\n",
      "[CV] pca__n_components=0.9175 ........................................\n",
      "[CV]  pca__n_components=0.9175, score=0.45341219917252645, total=   6.5s\n",
      "[CV] pca__n_components=0.99 ..........................................\n",
      "[CV] . pca__n_components=0.99, score=0.4551849607620388, total=   9.2s\n",
      "[CV] pca__n_components=0.99 ..........................................\n",
      "[CV]  pca__n_components=0.99, score=0.45814254824372574, total=   9.5s\n",
      "[CV] pca__n_components=0.99 ..........................................\n",
      "[CV] . pca__n_components=0.99, score=0.4566386038415477, total=   9.2s\n"
     ]
    },
    {
     "name": "stderr",
     "output_type": "stream",
     "text": [
      "[Parallel(n_jobs=1)]: Done  15 out of  15 | elapsed:  1.8min finished\n"
     ]
    },
    {
     "data": {
      "text/plain": [
       "GridSearchCV(cv=None, error_score='raise',\n",
       "       estimator=Pipeline(memory=None,\n",
       "     steps=[('scaler', MinMaxScaler(copy=True, feature_range=(0, 1))), ('pca', PCA(copy=True, iterated_power='auto', n_components=0.99, random_state=None,\n",
       "  svd_solver='auto', tol=0.0, whiten=False)), ('clf', RandomForestClassifier(bootstrap=True, class_weight=None, criterion='gini',\n",
       "            max_dept...n_jobs=1,\n",
       "            oob_score=False, random_state=None, verbose=0,\n",
       "            warm_start=False))]),\n",
       "       fit_params=None, iid=True, n_jobs=1,\n",
       "       param_grid={'pca__n_components': array([ 0.7   ,  0.7725,  0.845 ,  0.9175,  0.99  ])},\n",
       "       pre_dispatch='2*n_jobs', refit=True, return_train_score=True,\n",
       "       scoring=make_scorer(f1_score, average=weighted), verbose=3)"
      ]
     },
     "execution_count": 98,
     "metadata": {},
     "output_type": "execute_result"
    }
   ],
   "source": [
    "params = {'pca__n_components': n_values}\n",
    "grid = GridSearchCV(pipe, param_grid=params, scoring=grid_scorer, verbose=3)\n",
    "grid.fit(X, y)"
   ]
  },
  {
   "cell_type": "code",
   "execution_count": 99,
   "metadata": {},
   "outputs": [
    {
     "name": "stderr",
     "output_type": "stream",
     "text": [
      "/Users/sartajsingh/anaconda3/lib/python3.6/site-packages/sklearn/model_selection/_search.py:747: DeprecationWarning: The grid_scores_ attribute was deprecated in version 0.18 in favor of the more elaborate cv_results_ attribute. The grid_scores_ attribute will not be available from 0.20\n",
      "  DeprecationWarning)\n"
     ]
    },
    {
     "data": {
      "text/plain": [
       "[mean: 0.45435, std: 0.00129, params: {'pca__n_components': 0.69999999999999996},\n",
       " mean: 0.45382, std: 0.00052, params: {'pca__n_components': 0.77249999999999996},\n",
       " mean: 0.45346, std: 0.00089, params: {'pca__n_components': 0.84499999999999997},\n",
       " mean: 0.45421, std: 0.00061, params: {'pca__n_components': 0.91749999999999998},\n",
       " mean: 0.45666, std: 0.00121, params: {'pca__n_components': 0.98999999999999999}]"
      ]
     },
     "execution_count": 99,
     "metadata": {},
     "output_type": "execute_result"
    }
   ],
   "source": [
    "grid.grid_scores_"
   ]
  },
  {
   "cell_type": "code",
   "execution_count": 100,
   "metadata": {},
   "outputs": [
    {
     "data": {
      "text/plain": [
       "0.45665534254361417"
      ]
     },
     "execution_count": 100,
     "metadata": {},
     "output_type": "execute_result"
    }
   ],
   "source": [
    "grid.best_score_"
   ]
  },
  {
   "cell_type": "markdown",
   "metadata": {},
   "source": [
    "### Feature Importances\n",
    "\n",
    "- Without PCA\n",
    "- With PCA"
   ]
  },
  {
   "cell_type": "code",
   "execution_count": 305,
   "metadata": {},
   "outputs": [
    {
     "data": {
      "text/plain": [
       "Pipeline(memory=None,\n",
       "     steps=[('scaler', MinMaxScaler(copy=True, feature_range=(0, 1))), ('clf', RandomForestClassifier(bootstrap=True, class_weight=None, criterion='gini',\n",
       "            max_depth=None, max_features='auto', max_leaf_nodes=None,\n",
       "            min_impurity_decrease=0.0, min_impurity_split=None,\n",
       "            min_samples_leaf=1, min_samples_split=2,\n",
       "            min_weight_fraction_leaf=0.0, n_estimators=10, n_jobs=1,\n",
       "            oob_score=False, random_state=None, verbose=0,\n",
       "            warm_start=False))])"
      ]
     },
     "execution_count": 305,
     "metadata": {},
     "output_type": "execute_result"
    }
   ],
   "source": [
    "scaler = MinMaxScaler()\n",
    "clf = RandomForestClassifier()\n",
    "steps = [('scaler', scaler), ('clf', clf)]\n",
    "pipe = Pipeline(steps)\n",
    "pipe"
   ]
  },
  {
   "cell_type": "code",
   "execution_count": 306,
   "metadata": {},
   "outputs": [
    {
     "data": {
      "text/plain": [
       "Pipeline(memory=None,\n",
       "     steps=[('scaler', MinMaxScaler(copy=True, feature_range=(0, 1))), ('clf', RandomForestClassifier(bootstrap=True, class_weight=None, criterion='gini',\n",
       "            max_depth=None, max_features='auto', max_leaf_nodes=None,\n",
       "            min_impurity_decrease=0.0, min_impurity_split=None,\n",
       "            min_samples_leaf=1, min_samples_split=2,\n",
       "            min_weight_fraction_leaf=0.0, n_estimators=10, n_jobs=1,\n",
       "            oob_score=False, random_state=None, verbose=0,\n",
       "            warm_start=False))])"
      ]
     },
     "execution_count": 306,
     "metadata": {},
     "output_type": "execute_result"
    }
   ],
   "source": [
    "pipe.fit(X, y)"
   ]
  },
  {
   "cell_type": "code",
   "execution_count": 307,
   "metadata": {},
   "outputs": [
    {
     "data": {
      "text/plain": [
       "[('rating', 0.091115154464570164),\n",
       " ('online', 0.090709416920006086),\n",
       " ('max_rating', 0.09043626383667519),\n",
       " ('problem_solved', 0.087819767381378797),\n",
       " ('submission_count', 0.08698779779952015),\n",
       " ('follower_count', 0.08110480739672446),\n",
       " ('contribution', 0.042199125996538994),\n",
       " ('points', 0.038456668347511616),\n",
       " ('brute-force', 0.023241243154745288),\n",
       " ('math', 0.020182309010868642),\n",
       " ('greedy', 0.019751120927283768),\n",
       " ('implementation', 0.0196521574974017),\n",
       " ('sortings', 0.016294096296133632),\n",
       " ('constructive-algorithms', 0.015687356394535522),\n",
       " ('India', 0.013699081404101629),\n",
       " ('dp', 0.010534990698146148),\n",
       " ('strings', 0.010426449456828),\n",
       " ('binary-search', 0.0093739919392164476),\n",
       " ('data-structures', 0.0093037244116647745),\n",
       " ('number-theory', 0.0086714727328826048),\n",
       " ('level_A', 0.0084225024366372178),\n",
       " ('dfs-and-similar', 0.0079306590075230998),\n",
       " ('level_C', 0.0076030318193348132),\n",
       " ('Russia', 0.0074725514435924874),\n",
       " ('Bangladesh', 0.0073958136446195446),\n",
       " ('level_B', 0.0068837829874964342),\n",
       " ('China', 0.0067857592268242128),\n",
       " ('rank_intermediate', 0.0064370418206620133),\n",
       " ('graphs', 0.0058474413929854837),\n",
       " ('level_D', 0.0055269607127900137),\n",
       " ('geometry', 0.0054625539420808718),\n",
       " ('two-pointers', 0.0050810865386810766),\n",
       " ('trees', 0.0044042134256804793),\n",
       " ('rank_beginner', 0.0043711408882249631),\n",
       " ('level_E', 0.0042940542590043304),\n",
       " ('combinatorics', 0.0039211217755324729),\n",
       " ('Kazakhstan', 0.0037826763555897855),\n",
       " ('games', 0.0037047844628688314),\n",
       " ('Egypt', 0.0036897238664588884),\n",
       " ('Iran', 0.00367219666946906),\n",
       " ('Vietnam', 0.0036616435345510076),\n",
       " ('rank_advanced', 0.0035055885636082322),\n",
       " ('Ukraine', 0.0034721997422516001),\n",
       " ('Brazil', 0.0034309338502633638),\n",
       " ('Belarus', 0.003161208759569449),\n",
       " ('bitmasks', 0.0031506416630614842),\n",
       " ('dsu', 0.0030257876879609511),\n",
       " ('level_F', 0.0029789750720028763),\n",
       " ('level_G', 0.0027773915754891161),\n",
       " ('Japan', 0.002770753894308847),\n",
       " ('Romania', 0.002710178180373138),\n",
       " ('level_H', 0.0026531188442276352),\n",
       " ('United States', 0.002642504485567508),\n",
       " ('shortest-paths', 0.0025509522872794363),\n",
       " ('level_I', 0.0023609438127781927),\n",
       " ('Syria', 0.0023528028876628223),\n",
       " ('level_J', 0.0023400373368713491),\n",
       " ('hashing', 0.0021608378853893886),\n",
       " ('probabilities', 0.0021387280898832071),\n",
       " ('level_K', 0.0019487996073477658),\n",
       " ('*special', 0.0019169108752782645),\n",
       " ('Poland', 0.0018889733789845494),\n",
       " ('divide-and-conquer', 0.0018028038367268857),\n",
       " ('South Korea', 0.0017449560551210583),\n",
       " ('Uzbekistan', 0.0016785718489190113),\n",
       " ('Croatia', 0.0016485095328144642),\n",
       " ('level_L', 0.0015022207210668226),\n",
       " ('Taiwan', 0.0014062035909751733),\n",
       " ('Mexico', 0.0012405614615767027),\n",
       " ('Indonesia', 0.0012377727776347852),\n",
       " ('Moldova', 0.0012164561690698916),\n",
       " ('expression-parsing', 0.0012033070625301974),\n",
       " ('Georgia', 0.0011225619994678399),\n",
       " ('level_O', 0.0010457495343748832),\n",
       " ('Jordan', 0.0010456419051588688),\n",
       " ('rank_expert', 0.0010241070218767251),\n",
       " ('matrices', 0.0010217870279053652),\n",
       " ('Peru', 0.00091122218034852772),\n",
       " ('Argentina', 0.00087363483528334952),\n",
       " ('ternary-search', 0.00084878322828480771),\n",
       " ('graph-matchings', 0.0008161664392323933),\n",
       " ('flows', 0.00077908775567758185),\n",
       " ('level_M', 0.000774775506476503),\n",
       " ('string-suffix-structures', 0.00066982480769052304),\n",
       " ('Colombia', 0.00065264448017354694),\n",
       " ('Cuba', 0.00061128004377287461),\n",
       " ('Bolivia', 0.00059905030859453085),\n",
       " ('Hong Kong', 0.0005956650716731481),\n",
       " ('Kyrgyzstan', 0.00057369370661089817),\n",
       " ('Germany', 0.00053778973544550061),\n",
       " ('Tajikistan', 0.0005362906828944036),\n",
       " ('Thailand', 0.00051615728546058252),\n",
       " ('Lithuania', 0.00051073344666337749),\n",
       " ('Canada', 0.00050688556052150941),\n",
       " ('Azerbaijan', 0.0005063755257061868),\n",
       " ('Mongolia', 0.00049013213878379056),\n",
       " ('2-sat', 0.00048003013956322978),\n",
       " ('Singapore', 0.00044954351159968498),\n",
       " ('Czechia', 0.00044806211941381656),\n",
       " ('Hungary', 0.00041953369519807747),\n",
       " ('meet-in-the-middle', 0.00038183442896230741),\n",
       " ('Armenia', 0.00037282879359581977),\n",
       " ('Finland', 0.00036980698904032103),\n",
       " ('Italy', 0.00036662189145869346),\n",
       " ('Serbia', 0.00036540165976275843),\n",
       " ('Turkmenistan', 0.00036091258624995376),\n",
       " ('Bulgaria', 0.00035373121467734727),\n",
       " ('Tunisia', 0.00029682790620616013),\n",
       " ('fft', 0.00028592516874263073),\n",
       " ('Estonia', 0.00026803140776040954),\n",
       " ('Spain', 0.00026458765551848503),\n",
       " ('United Kingdom', 0.00025606261534432198),\n",
       " ('Macedonia', 0.00024519793415442027),\n",
       " ('Morocco', 0.00024208144316278625),\n",
       " ('Netherlands', 0.00023339036662061162),\n",
       " ('level_N', 0.00020949362776079842),\n",
       " ('North Korea', 0.0002070939840266722),\n",
       " ('schedules', 0.00020611776676966921),\n",
       " ('Slovakia', 0.00020102197504745728),\n",
       " ('Malaysia', 0.00019542444404549642),\n",
       " ('Austria', 0.0001909808464099621),\n",
       " ('Chile', 0.00018164160704193779),\n",
       " ('Switzerland', 0.00017803230034981572),\n",
       " ('Venezuela', 0.00017065373863879796),\n",
       " ('Australia', 0.00015498696880001081),\n",
       " ('South Africa', 0.00015072673490830289),\n",
       " ('Bosnia and Herzegovina', 0.0001372516507687308),\n",
       " ('chinese-remainder-theorem', 0.00012874870575539015),\n",
       " ('Lebanon', 0.00012656245906217582),\n",
       " ('France', 0.00011430722615043056),\n",
       " ('Costa Rica', 0.00011400704628830764),\n",
       " ('Latvia', 0.00011024665192623027),\n",
       " ('Christmas Island', 0.00010649213638948098),\n",
       " ('Israel', 8.4937090804561803e-05),\n",
       " ('Laos', 8.4634374254521244e-05),\n",
       " ('Trinidad and Tobago', 6.3604379165314864e-05),\n",
       " ('Philippines', 5.929235515796158e-05),\n",
       " ('Iceland', 4.9152302251950471e-05),\n",
       " ('Haiti', 4.0380012352433166e-05),\n",
       " ('Norway', 3.8438223649252459e-05),\n",
       " ('Swaziland', 3.3523129703470963e-05),\n",
       " ('Belgium', 1.4428693476413609e-05)]"
      ]
     },
     "execution_count": 307,
     "metadata": {},
     "output_type": "execute_result"
    }
   ],
   "source": [
    "fea_imp = sorted(list(zip(X.columns, pipe.named_steps['clf'].feature_importances_)), key=lambda x: x[1], reverse=True)\n",
    "fea_imp"
   ]
  },
  {
   "cell_type": "code",
   "execution_count": 308,
   "metadata": {},
   "outputs": [
    {
     "data": {
      "text/plain": [
       "Pipeline(memory=None,\n",
       "     steps=[('scaler', MinMaxScaler(copy=True, feature_range=(0, 1))), ('pca', PCA(copy=True, iterated_power='auto', n_components=0.99, random_state=None,\n",
       "  svd_solver='auto', tol=0.0, whiten=False)), ('clf', RandomForestClassifier(bootstrap=True, class_weight=None, criterion='gini',\n",
       "            max_dept...n_jobs=1,\n",
       "            oob_score=False, random_state=None, verbose=0,\n",
       "            warm_start=False))])"
      ]
     },
     "execution_count": 308,
     "metadata": {},
     "output_type": "execute_result"
    }
   ],
   "source": [
    "scaler = MinMaxScaler()\n",
    "clf = RandomForestClassifier()\n",
    "pca = PCA(.99)\n",
    "steps = [('scaler', scaler), ('pca', pca), ('clf', clf)]\n",
    "pipe = Pipeline(steps)\n",
    "pipe"
   ]
  },
  {
   "cell_type": "code",
   "execution_count": 309,
   "metadata": {},
   "outputs": [
    {
     "data": {
      "text/plain": [
       "Pipeline(memory=None,\n",
       "     steps=[('scaler', MinMaxScaler(copy=True, feature_range=(0, 1))), ('pca', PCA(copy=True, iterated_power='auto', n_components=0.99, random_state=None,\n",
       "  svd_solver='auto', tol=0.0, whiten=False)), ('clf', RandomForestClassifier(bootstrap=True, class_weight=None, criterion='gini',\n",
       "            max_dept...n_jobs=1,\n",
       "            oob_score=False, random_state=None, verbose=0,\n",
       "            warm_start=False))])"
      ]
     },
     "execution_count": 309,
     "metadata": {},
     "output_type": "execute_result"
    }
   ],
   "source": [
    "pipe.fit(X, y)"
   ]
  },
  {
   "cell_type": "code",
   "execution_count": 310,
   "metadata": {},
   "outputs": [
    {
     "data": {
      "text/plain": [
       "array([ 0.0134224 ,  0.0147486 ,  0.01300187,  0.01385312,  0.01342227,\n",
       "        0.01158121,  0.01213482,  0.01225912,  0.01182517,  0.01338089,\n",
       "        0.01354847,  0.01148386,  0.0111818 ,  0.01145252,  0.01134232,\n",
       "        0.01131114,  0.01248192,  0.01153413,  0.01213198,  0.01109819,\n",
       "        0.01059102,  0.01251066,  0.01146529,  0.01116549,  0.01078859,\n",
       "        0.01027558,  0.01064726,  0.01115381,  0.01027254,  0.01037776,\n",
       "        0.01034291,  0.00981038,  0.01050769,  0.0104385 ,  0.01063612,\n",
       "        0.01013425,  0.01125224,  0.01057367,  0.01073816,  0.01116187,\n",
       "        0.01038558,  0.0110101 ,  0.00979818,  0.01057966,  0.00995387,\n",
       "        0.01173934,  0.01175619,  0.00980539,  0.01028435,  0.01085295,\n",
       "        0.01010608,  0.01224345,  0.01068377,  0.01075973,  0.01056839,\n",
       "        0.01012201,  0.01036975,  0.01007774,  0.01072372,  0.00932735,\n",
       "        0.00970119,  0.01024917,  0.00984497,  0.01260736,  0.01024089,\n",
       "        0.01181001,  0.01095931,  0.01249056,  0.01151656,  0.01157743,\n",
       "        0.00993452,  0.01043013,  0.01173621,  0.01159631,  0.01162794,\n",
       "        0.01201646,  0.01203846,  0.01099096,  0.01110741,  0.01070349,\n",
       "        0.01176492,  0.01052543,  0.01194523,  0.0124853 ,  0.0119077 ,\n",
       "        0.01093866,  0.01216873,  0.01025788,  0.01163961])"
      ]
     },
     "execution_count": 310,
     "metadata": {},
     "output_type": "execute_result"
    }
   ],
   "source": [
    "pipe.named_steps['clf'].feature_importances_"
   ]
  },
  {
   "cell_type": "markdown",
   "metadata": {},
   "source": [
    "#### I have decided on the scaling and PCA given the improved results"
   ]
  },
  {
   "cell_type": "markdown",
   "metadata": {},
   "source": [
    "### Xgboost\n",
    "\n",
    "- Score is poorer than RandomForest at .41\n",
    "- Predicts labels only 1, 2, 4 on test dataset"
   ]
  },
  {
   "cell_type": "code",
   "execution_count": 107,
   "metadata": {},
   "outputs": [
    {
     "data": {
      "text/plain": [
       "Pipeline(memory=None,\n",
       "     steps=[('scaler', MinMaxScaler(copy=True, feature_range=(0, 1))), ('pca', PCA(copy=True, iterated_power='auto', n_components=0.99, random_state=None,\n",
       "  svd_solver='auto', tol=0.0, whiten=False)), ('clf', XGBClassifier(base_score=0.5, booster='gbtree', colsample_bylevel=1,\n",
       "       colsample_bytree=1, ...\n",
       "       reg_alpha=0, reg_lambda=1, scale_pos_weight=1, seed=None,\n",
       "       silent=True, subsample=1))])"
      ]
     },
     "execution_count": 107,
     "metadata": {},
     "output_type": "execute_result"
    }
   ],
   "source": [
    "scaler = MinMaxScaler()\n",
    "clf = XGBClassifier()\n",
    "pca = PCA(.99)\n",
    "steps = [('scaler', scaler), ('pca', pca), ('clf', clf)]\n",
    "pipe = Pipeline(steps)\n",
    "pipe"
   ]
  },
  {
   "cell_type": "code",
   "execution_count": 108,
   "metadata": {},
   "outputs": [
    {
     "data": {
      "text/plain": [
       "Pipeline(memory=None,\n",
       "     steps=[('scaler', MinMaxScaler(copy=True, feature_range=(0, 1))), ('pca', PCA(copy=True, iterated_power='auto', n_components=0.99, random_state=None,\n",
       "  svd_solver='auto', tol=0.0, whiten=False)), ('clf', XGBClassifier(base_score=0.5, booster='gbtree', colsample_bylevel=1,\n",
       "       colsample_bytree=1, ...\n",
       "       reg_alpha=0, reg_lambda=1, scale_pos_weight=1, seed=None,\n",
       "       silent=True, subsample=1))])"
      ]
     },
     "execution_count": 108,
     "metadata": {},
     "output_type": "execute_result"
    }
   ],
   "source": [
    "pipe.fit(X_train, y_train)"
   ]
  },
  {
   "cell_type": "code",
   "execution_count": 109,
   "metadata": {},
   "outputs": [
    {
     "name": "stderr",
     "output_type": "stream",
     "text": [
      "/Users/sartajsingh/anaconda3/lib/python3.6/site-packages/sklearn/metrics/classification.py:1135: UndefinedMetricWarning: F-score is ill-defined and being set to 0.0 in labels with no predicted samples.\n",
      "  'precision', 'predicted', average, warn_for)\n"
     ]
    },
    {
     "data": {
      "text/plain": [
       "0.41834762759058552"
      ]
     },
     "execution_count": 109,
     "metadata": {},
     "output_type": "execute_result"
    }
   ],
   "source": [
    "scorer(y_test, pipe.predict(X_test))"
   ]
  },
  {
   "cell_type": "markdown",
   "metadata": {},
   "source": [
    "### Optimizing scaler, pca, randomforest\n",
    "\n",
    ".4656 slight improvement"
   ]
  },
  {
   "cell_type": "code",
   "execution_count": 115,
   "metadata": {},
   "outputs": [
    {
     "data": {
      "text/plain": [
       "Pipeline(memory=None,\n",
       "     steps=[('scaler', MinMaxScaler(copy=True, feature_range=(0, 1))), ('pca', PCA(copy=True, iterated_power='auto', n_components=0.99, random_state=None,\n",
       "  svd_solver='auto', tol=0.0, whiten=False)), ('clf', RandomForestClassifier(bootstrap=True, class_weight=None, criterion='gini',\n",
       "            max_dept...n_jobs=1,\n",
       "            oob_score=False, random_state=None, verbose=0,\n",
       "            warm_start=False))])"
      ]
     },
     "execution_count": 115,
     "metadata": {},
     "output_type": "execute_result"
    }
   ],
   "source": [
    "scaler = MinMaxScaler()\n",
    "clf = RandomForestClassifier()\n",
    "pca = PCA(.99)\n",
    "steps = [('scaler', scaler), ('pca', pca), ('clf', clf)]\n",
    "pipe = Pipeline(steps)\n",
    "pipe"
   ]
  },
  {
   "cell_type": "code",
   "execution_count": 123,
   "metadata": {},
   "outputs": [
    {
     "data": {
      "text/plain": [
       "array([ 0.8   ,  0.8995,  0.999 ])"
      ]
     },
     "execution_count": 123,
     "metadata": {},
     "output_type": "execute_result"
    }
   ],
   "source": [
    "np.linspace(.8, .999, 3)"
   ]
  },
  {
   "cell_type": "code",
   "execution_count": 124,
   "metadata": {},
   "outputs": [
    {
     "name": "stdout",
     "output_type": "stream",
     "text": [
      "Fitting 3 folds for each of 12 candidates, totalling 36 fits\n",
      "[CV] clf__n_estimators=10, pca__n_components=0.8 .....................\n",
      "[CV]  clf__n_estimators=10, pca__n_components=0.8, score=0.454126009622764, total=   5.8s\n",
      "[CV] clf__n_estimators=10, pca__n_components=0.8 .....................\n"
     ]
    },
    {
     "name": "stderr",
     "output_type": "stream",
     "text": [
      "[Parallel(n_jobs=1)]: Done   1 out of   1 | elapsed:    6.2s remaining:    0.0s\n"
     ]
    },
    {
     "name": "stdout",
     "output_type": "stream",
     "text": [
      "[CV]  clf__n_estimators=10, pca__n_components=0.8, score=0.45755676206613904, total=   5.1s\n",
      "[CV] clf__n_estimators=10, pca__n_components=0.8 .....................\n"
     ]
    },
    {
     "name": "stderr",
     "output_type": "stream",
     "text": [
      "[Parallel(n_jobs=1)]: Done   2 out of   2 | elapsed:   11.8s remaining:    0.0s\n"
     ]
    },
    {
     "name": "stdout",
     "output_type": "stream",
     "text": [
      "[CV]  clf__n_estimators=10, pca__n_components=0.8, score=0.4541657244364834, total=   5.5s\n",
      "[CV] clf__n_estimators=10, pca__n_components=0.9 .....................\n",
      "[CV]  clf__n_estimators=10, pca__n_components=0.9, score=0.45400035113145226, total=   6.7s\n",
      "[CV] clf__n_estimators=10, pca__n_components=0.9 .....................\n",
      "[CV]  clf__n_estimators=10, pca__n_components=0.9, score=0.4546979157306966, total=   7.0s\n",
      "[CV] clf__n_estimators=10, pca__n_components=0.9 .....................\n",
      "[CV]  clf__n_estimators=10, pca__n_components=0.9, score=0.455517498221535, total=   7.2s\n",
      "[CV] clf__n_estimators=10, pca__n_components=0.999 ...................\n",
      "[CV]  clf__n_estimators=10, pca__n_components=0.999, score=0.45604942169045776, total=  12.3s\n",
      "[CV] clf__n_estimators=10, pca__n_components=0.999 ...................\n",
      "[CV]  clf__n_estimators=10, pca__n_components=0.999, score=0.4618442099546159, total=  12.1s\n",
      "[CV] clf__n_estimators=10, pca__n_components=0.999 ...................\n",
      "[CV]  clf__n_estimators=10, pca__n_components=0.999, score=0.45804629264493846, total=  13.1s\n",
      "[CV] clf__n_estimators=50, pca__n_components=0.8 .....................\n",
      "[CV]  clf__n_estimators=50, pca__n_components=0.8, score=0.45762488514549005, total=  27.3s\n",
      "[CV] clf__n_estimators=50, pca__n_components=0.8 .....................\n",
      "[CV]  clf__n_estimators=50, pca__n_components=0.8, score=0.4605312410147454, total=  26.1s\n",
      "[CV] clf__n_estimators=50, pca__n_components=0.8 .....................\n",
      "[CV]  clf__n_estimators=50, pca__n_components=0.8, score=0.45939157899191546, total=  25.7s\n",
      "[CV] clf__n_estimators=50, pca__n_components=0.9 .....................\n",
      "[CV]  clf__n_estimators=50, pca__n_components=0.9, score=0.45955752919878323, total=  37.3s\n",
      "[CV] clf__n_estimators=50, pca__n_components=0.9 .....................\n",
      "[CV]  clf__n_estimators=50, pca__n_components=0.9, score=0.460334752270638, total=  37.6s\n",
      "[CV] clf__n_estimators=50, pca__n_components=0.9 .....................\n",
      "[CV]  clf__n_estimators=50, pca__n_components=0.9, score=0.45833288474445216, total=  36.6s\n",
      "[CV] clf__n_estimators=50, pca__n_components=0.999 ...................\n",
      "[CV]  clf__n_estimators=50, pca__n_components=0.999, score=0.4616333488963515, total=  58.4s\n",
      "[CV] clf__n_estimators=50, pca__n_components=0.999 ...................\n",
      "[CV]  clf__n_estimators=50, pca__n_components=0.999, score=0.46278654734798563, total=  54.1s\n",
      "[CV] clf__n_estimators=50, pca__n_components=0.999 ...................\n",
      "[CV]  clf__n_estimators=50, pca__n_components=0.999, score=0.4661651365936995, total=  56.8s\n",
      "[CV] clf__n_estimators=100, pca__n_components=0.8 ....................\n",
      "[CV]  clf__n_estimators=100, pca__n_components=0.8, score=0.4576738738118576, total=  49.9s\n",
      "[CV] clf__n_estimators=100, pca__n_components=0.8 ....................\n",
      "[CV]  clf__n_estimators=100, pca__n_components=0.8, score=0.4613052928343114, total=  50.5s\n",
      "[CV] clf__n_estimators=100, pca__n_components=0.8 ....................\n",
      "[CV]  clf__n_estimators=100, pca__n_components=0.8, score=0.4594619190232006, total=  51.6s\n",
      "[CV] clf__n_estimators=100, pca__n_components=0.9 ....................\n",
      "[CV]  clf__n_estimators=100, pca__n_components=0.9, score=0.4575002458110248, total= 1.1min\n",
      "[CV] clf__n_estimators=100, pca__n_components=0.9 ....................\n",
      "[CV]  clf__n_estimators=100, pca__n_components=0.9, score=0.4606341230980603, total= 1.4min\n",
      "[CV] clf__n_estimators=100, pca__n_components=0.9 ....................\n",
      "[CV]  clf__n_estimators=100, pca__n_components=0.9, score=0.45973974965839504, total= 1.3min\n",
      "[CV] clf__n_estimators=100, pca__n_components=0.999 ..................\n",
      "[CV]  clf__n_estimators=100, pca__n_components=0.999, score=0.463083271993771, total= 2.2min\n",
      "[CV] clf__n_estimators=100, pca__n_components=0.999 ..................\n",
      "[CV]  clf__n_estimators=100, pca__n_components=0.999, score=0.46410742539186384, total= 1.9min\n",
      "[CV] clf__n_estimators=100, pca__n_components=0.999 ..................\n",
      "[CV]  clf__n_estimators=100, pca__n_components=0.999, score=0.4674891917990559, total= 1.9min\n",
      "[CV] clf__n_estimators=200, pca__n_components=0.8 ....................\n",
      "[CV]  clf__n_estimators=200, pca__n_components=0.8, score=0.4590725437618718, total= 1.7min\n",
      "[CV] clf__n_estimators=200, pca__n_components=0.8 ....................\n",
      "[CV]  clf__n_estimators=200, pca__n_components=0.8, score=0.46204784448254627, total= 1.8min\n",
      "[CV] clf__n_estimators=200, pca__n_components=0.8 ....................\n",
      "[CV]  clf__n_estimators=200, pca__n_components=0.8, score=0.46057939114012053, total= 1.8min\n",
      "[CV] clf__n_estimators=200, pca__n_components=0.9 ....................\n",
      "[CV]  clf__n_estimators=200, pca__n_components=0.9, score=0.4597853953483327, total= 2.4min\n",
      "[CV] clf__n_estimators=200, pca__n_components=0.9 ....................\n",
      "[CV]  clf__n_estimators=200, pca__n_components=0.9, score=0.4599676790772281, total= 2.3min\n",
      "[CV] clf__n_estimators=200, pca__n_components=0.9 ....................\n",
      "[CV]  clf__n_estimators=200, pca__n_components=0.9, score=0.46008836125568126, total= 2.2min\n",
      "[CV] clf__n_estimators=200, pca__n_components=0.999 ..................\n",
      "[CV]  clf__n_estimators=200, pca__n_components=0.999, score=0.46439602026278826, total= 3.6min\n",
      "[CV] clf__n_estimators=200, pca__n_components=0.999 ..................\n",
      "[CV]  clf__n_estimators=200, pca__n_components=0.999, score=0.4651820083826375, total= 3.8min\n",
      "[CV] clf__n_estimators=200, pca__n_components=0.999 ..................\n",
      "[CV]  clf__n_estimators=200, pca__n_components=0.999, score=0.467282661994264, total= 4.0min\n"
     ]
    },
    {
     "name": "stderr",
     "output_type": "stream",
     "text": [
      "[Parallel(n_jobs=1)]: Done  36 out of  36 | elapsed: 45.3min finished\n"
     ]
    },
    {
     "data": {
      "text/plain": [
       "GridSearchCV(cv=None, error_score='raise',\n",
       "       estimator=Pipeline(memory=None,\n",
       "     steps=[('scaler', MinMaxScaler(copy=True, feature_range=(0, 1))), ('pca', PCA(copy=True, iterated_power='auto', n_components=0.99, random_state=None,\n",
       "  svd_solver='auto', tol=0.0, whiten=False)), ('clf', RandomForestClassifier(bootstrap=True, class_weight=None, criterion='gini',\n",
       "            max_dept...n_jobs=1,\n",
       "            oob_score=False, random_state=None, verbose=0,\n",
       "            warm_start=False))]),\n",
       "       fit_params=None, iid=True, n_jobs=1,\n",
       "       param_grid={'pca__n_components': [0.8, 0.9, 0.999], 'clf__n_estimators': [10, 50, 100, 200]},\n",
       "       pre_dispatch='2*n_jobs', refit=True, return_train_score=True,\n",
       "       scoring=make_scorer(f1_score, average=weighted), verbose=3)"
      ]
     },
     "execution_count": 124,
     "metadata": {},
     "output_type": "execute_result"
    }
   ],
   "source": [
    "params = {\n",
    "    'pca__n_components': [.8, .9, .999],\n",
    "    'clf__n_estimators': [10, 50, 100, 200]\n",
    "}\n",
    "grid = GridSearchCV(pipe, param_grid=params, scoring=grid_scorer, verbose=3)\n",
    "grid.fit(X, y)"
   ]
  },
  {
   "cell_type": "code",
   "execution_count": 127,
   "metadata": {},
   "outputs": [
    {
     "data": {
      "text/plain": [
       "{'clf__n_estimators': 200, 'pca__n_components': 0.999}"
      ]
     },
     "execution_count": 127,
     "metadata": {},
     "output_type": "execute_result"
    }
   ],
   "source": [
    "grid.best_params_"
   ]
  },
  {
   "cell_type": "code",
   "execution_count": 128,
   "metadata": {},
   "outputs": [
    {
     "data": {
      "text/plain": [
       "0.46562020656385389"
      ]
     },
     "execution_count": 128,
     "metadata": {},
     "output_type": "execute_result"
    }
   ],
   "source": [
    "grid.best_score_"
   ]
  },
  {
   "cell_type": "code",
   "execution_count": 129,
   "metadata": {},
   "outputs": [
    {
     "data": {
      "text/html": [
       "<div>\n",
       "<style>\n",
       "    .dataframe thead tr:only-child th {\n",
       "        text-align: right;\n",
       "    }\n",
       "\n",
       "    .dataframe thead th {\n",
       "        text-align: left;\n",
       "    }\n",
       "\n",
       "    .dataframe tbody tr th {\n",
       "        vertical-align: top;\n",
       "    }\n",
       "</style>\n",
       "<table border=\"1\" class=\"dataframe\">\n",
       "  <thead>\n",
       "    <tr style=\"text-align: right;\">\n",
       "      <th></th>\n",
       "      <th>ID</th>\n",
       "      <th>attempts_range</th>\n",
       "    </tr>\n",
       "  </thead>\n",
       "  <tbody>\n",
       "    <tr>\n",
       "      <th>0</th>\n",
       "      <td>user_856_prob_5822</td>\n",
       "      <td>1</td>\n",
       "    </tr>\n",
       "    <tr>\n",
       "      <th>1</th>\n",
       "      <td>user_2642_prob_2334</td>\n",
       "      <td>2</td>\n",
       "    </tr>\n",
       "    <tr>\n",
       "      <th>2</th>\n",
       "      <td>user_2557_prob_2920</td>\n",
       "      <td>1</td>\n",
       "    </tr>\n",
       "    <tr>\n",
       "      <th>3</th>\n",
       "      <td>user_1572_prob_4598</td>\n",
       "      <td>1</td>\n",
       "    </tr>\n",
       "    <tr>\n",
       "      <th>4</th>\n",
       "      <td>user_295_prob_6139</td>\n",
       "      <td>1</td>\n",
       "    </tr>\n",
       "  </tbody>\n",
       "</table>\n",
       "</div>"
      ],
      "text/plain": [
       "                    ID  attempts_range\n",
       "0   user_856_prob_5822               1\n",
       "1  user_2642_prob_2334               2\n",
       "2  user_2557_prob_2920               1\n",
       "3  user_1572_prob_4598               1\n",
       "4   user_295_prob_6139               1"
      ]
     },
     "execution_count": 129,
     "metadata": {},
     "output_type": "execute_result"
    }
   ],
   "source": [
    "make_submission(grid.best_estimator_, test_df, 'random2.csv').head()"
   ]
  },
  {
   "cell_type": "markdown",
   "metadata": {},
   "source": [
    "### Some More Tuning on rf"
   ]
  },
  {
   "cell_type": "code",
   "execution_count": 136,
   "metadata": {},
   "outputs": [
    {
     "data": {
      "text/plain": [
       "Pipeline(memory=None,\n",
       "     steps=[('scaler', MinMaxScaler(copy=True, feature_range=(0, 1))), ('pca', PCA(copy=True, iterated_power='auto', n_components=0.99, random_state=None,\n",
       "  svd_solver='auto', tol=0.0, whiten=False)), ('clf', RandomForestClassifier(bootstrap=True, class_weight=None, criterion='gini',\n",
       "            max_dept...n_jobs=1,\n",
       "            oob_score=False, random_state=None, verbose=0,\n",
       "            warm_start=False))])"
      ]
     },
     "execution_count": 136,
     "metadata": {},
     "output_type": "execute_result"
    }
   ],
   "source": [
    "scaler = MinMaxScaler()\n",
    "clf = RandomForestClassifier(n_estimators=10)\n",
    "pca = PCA(.99)\n",
    "steps = [('scaler', scaler), ('pca', pca), ('clf', clf)]\n",
    "pipe = Pipeline(steps)\n",
    "pipe"
   ]
  },
  {
   "cell_type": "code",
   "execution_count": 139,
   "metadata": {},
   "outputs": [
    {
     "data": {
      "text/plain": [
       "6.7082039324993694"
      ]
     },
     "execution_count": 139,
     "metadata": {},
     "output_type": "execute_result"
    }
   ],
   "source": [
    "np.sqrt(45)"
   ]
  },
  {
   "cell_type": "code",
   "execution_count": 146,
   "metadata": {},
   "outputs": [
    {
     "name": "stdout",
     "output_type": "stream",
     "text": [
      "Fitting 3 folds for each of 9 candidates, totalling 27 fits\n",
      "[CV] clf__max_features=7, clf__min_samples_leaf=10, clf__n_estimators=10 \n",
      "[CV] clf__max_features=7, clf__min_samples_leaf=10, clf__n_estimators=10 \n",
      "[CV] clf__max_features=7, clf__min_samples_leaf=10, clf__n_estimators=10 \n",
      "[CV] clf__max_features=7, clf__min_samples_leaf=25, clf__n_estimators=10 \n"
     ]
    },
    {
     "name": "stderr",
     "output_type": "stream",
     "text": [
      "/Users/sartajsingh/anaconda3/lib/python3.6/site-packages/sklearn/metrics/classification.py:1135: UndefinedMetricWarning: F-score is ill-defined and being set to 0.0 in labels with no predicted samples.\n",
      "  'precision', 'predicted', average, warn_for)\n"
     ]
    },
    {
     "name": "stdout",
     "output_type": "stream",
     "text": [
      "[CV]  clf__max_features=7, clf__min_samples_leaf=25, clf__n_estimators=10, score=0.4674087955759651, total=  17.8s\n",
      "[CV] clf__max_features=7, clf__min_samples_leaf=25, clf__n_estimators=10 \n",
      "[CV]  clf__max_features=7, clf__min_samples_leaf=10, clf__n_estimators=10, score=0.46946412394217124, total=  19.8s\n",
      "[CV] clf__max_features=7, clf__min_samples_leaf=25, clf__n_estimators=10 \n",
      "[CV]  clf__max_features=7, clf__min_samples_leaf=10, clf__n_estimators=10, score=0.4706244731895974, total=  19.9s\n",
      "[CV] clf__max_features=7, clf__min_samples_leaf=50, clf__n_estimators=10 \n",
      "[CV]  clf__max_features=7, clf__min_samples_leaf=10, clf__n_estimators=10, score=0.4710287009216436, total=  20.0s\n",
      "[CV] clf__max_features=7, clf__min_samples_leaf=50, clf__n_estimators=10 \n"
     ]
    },
    {
     "name": "stderr",
     "output_type": "stream",
     "text": [
      "/Users/sartajsingh/anaconda3/lib/python3.6/site-packages/sklearn/metrics/classification.py:1135: UndefinedMetricWarning: F-score is ill-defined and being set to 0.0 in labels with no predicted samples.\n",
      "  'precision', 'predicted', average, warn_for)\n",
      "/Users/sartajsingh/anaconda3/lib/python3.6/site-packages/sklearn/metrics/classification.py:1135: UndefinedMetricWarning: F-score is ill-defined and being set to 0.0 in labels with no predicted samples.\n",
      "  'precision', 'predicted', average, warn_for)\n",
      "/Users/sartajsingh/anaconda3/lib/python3.6/site-packages/sklearn/metrics/classification.py:1135: UndefinedMetricWarning: F-score is ill-defined and being set to 0.0 in labels with no predicted samples.\n",
      "  'precision', 'predicted', average, warn_for)\n"
     ]
    },
    {
     "name": "stdout",
     "output_type": "stream",
     "text": [
      "[CV]  clf__max_features=7, clf__min_samples_leaf=50, clf__n_estimators=10, score=0.459272950167496, total=  16.8s\n",
      "[CV]  clf__max_features=7, clf__min_samples_leaf=50, clf__n_estimators=10, score=0.4592031009755273, total=  16.7s\n",
      "[CV] clf__max_features=7, clf__min_samples_leaf=50, clf__n_estimators=10 \n",
      "[CV] clf__max_features=9, clf__min_samples_leaf=10, clf__n_estimators=10 \n",
      "[CV]  clf__max_features=7, clf__min_samples_leaf=25, clf__n_estimators=10, score=0.466113381339706, total=  19.1s\n",
      "[CV] clf__max_features=9, clf__min_samples_leaf=10, clf__n_estimators=10 \n"
     ]
    },
    {
     "name": "stderr",
     "output_type": "stream",
     "text": [
      "/Users/sartajsingh/anaconda3/lib/python3.6/site-packages/sklearn/metrics/classification.py:1135: UndefinedMetricWarning: F-score is ill-defined and being set to 0.0 in labels with no predicted samples.\n",
      "  'precision', 'predicted', average, warn_for)\n"
     ]
    },
    {
     "name": "stdout",
     "output_type": "stream",
     "text": [
      "[CV]  clf__max_features=7, clf__min_samples_leaf=25, clf__n_estimators=10, score=0.46777462652917656, total=  19.1s\n",
      "[CV] clf__max_features=9, clf__min_samples_leaf=10, clf__n_estimators=10 \n"
     ]
    },
    {
     "name": "stderr",
     "output_type": "stream",
     "text": [
      "/Users/sartajsingh/anaconda3/lib/python3.6/site-packages/sklearn/metrics/classification.py:1135: UndefinedMetricWarning: F-score is ill-defined and being set to 0.0 in labels with no predicted samples.\n",
      "  'precision', 'predicted', average, warn_for)\n"
     ]
    },
    {
     "name": "stdout",
     "output_type": "stream",
     "text": [
      "[CV]  clf__max_features=7, clf__min_samples_leaf=50, clf__n_estimators=10, score=0.4582644042791071, total=  17.0s\n",
      "[CV] clf__max_features=9, clf__min_samples_leaf=25, clf__n_estimators=10 \n",
      "[CV]  clf__max_features=9, clf__min_samples_leaf=10, clf__n_estimators=10, score=0.46855456883799457, total=  26.0s\n",
      "[CV] clf__max_features=9, clf__min_samples_leaf=25, clf__n_estimators=10 \n",
      "[CV]  clf__max_features=9, clf__min_samples_leaf=10, clf__n_estimators=10, score=0.46953280921391227, total=  27.5s\n",
      "[CV] clf__max_features=9, clf__min_samples_leaf=25, clf__n_estimators=10 \n",
      "[CV]  clf__max_features=9, clf__min_samples_leaf=10, clf__n_estimators=10, score=0.46820076659357257, total=  27.3s\n",
      "[CV] clf__max_features=9, clf__min_samples_leaf=50, clf__n_estimators=10 \n"
     ]
    },
    {
     "name": "stderr",
     "output_type": "stream",
     "text": [
      "/Users/sartajsingh/anaconda3/lib/python3.6/site-packages/sklearn/metrics/classification.py:1135: UndefinedMetricWarning: F-score is ill-defined and being set to 0.0 in labels with no predicted samples.\n",
      "  'precision', 'predicted', average, warn_for)\n"
     ]
    },
    {
     "name": "stdout",
     "output_type": "stream",
     "text": [
      "[CV]  clf__max_features=9, clf__min_samples_leaf=25, clf__n_estimators=10, score=0.46606668655947775, total=  23.6s\n",
      "[CV] clf__max_features=9, clf__min_samples_leaf=50, clf__n_estimators=10 \n"
     ]
    },
    {
     "name": "stderr",
     "output_type": "stream",
     "text": [
      "/Users/sartajsingh/anaconda3/lib/python3.6/site-packages/sklearn/metrics/classification.py:1135: UndefinedMetricWarning: F-score is ill-defined and being set to 0.0 in labels with no predicted samples.\n",
      "  'precision', 'predicted', average, warn_for)\n",
      "/Users/sartajsingh/anaconda3/lib/python3.6/site-packages/sklearn/metrics/classification.py:1135: UndefinedMetricWarning: F-score is ill-defined and being set to 0.0 in labels with no predicted samples.\n",
      "  'precision', 'predicted', average, warn_for)\n"
     ]
    },
    {
     "name": "stdout",
     "output_type": "stream",
     "text": [
      "[CV]  clf__max_features=9, clf__min_samples_leaf=25, clf__n_estimators=10, score=0.4657974305520919, total=  24.5s\n",
      "[CV] clf__max_features=9, clf__min_samples_leaf=50, clf__n_estimators=10 \n",
      "[CV]  clf__max_features=9, clf__min_samples_leaf=50, clf__n_estimators=10, score=0.45900855792527645, total=  21.9s\n",
      "[CV] clf__max_features=11, clf__min_samples_leaf=10, clf__n_estimators=10 \n"
     ]
    },
    {
     "name": "stderr",
     "output_type": "stream",
     "text": [
      "/Users/sartajsingh/anaconda3/lib/python3.6/site-packages/sklearn/metrics/classification.py:1135: UndefinedMetricWarning: F-score is ill-defined and being set to 0.0 in labels with no predicted samples.\n",
      "  'precision', 'predicted', average, warn_for)\n"
     ]
    },
    {
     "name": "stdout",
     "output_type": "stream",
     "text": [
      "[CV]  clf__max_features=9, clf__min_samples_leaf=25, clf__n_estimators=10, score=0.46903908364920394, total=  24.6s\n",
      "[CV] clf__max_features=11, clf__min_samples_leaf=10, clf__n_estimators=10 \n"
     ]
    },
    {
     "name": "stderr",
     "output_type": "stream",
     "text": [
      "/Users/sartajsingh/anaconda3/lib/python3.6/site-packages/sklearn/metrics/classification.py:1135: UndefinedMetricWarning: F-score is ill-defined and being set to 0.0 in labels with no predicted samples.\n",
      "  'precision', 'predicted', average, warn_for)\n"
     ]
    },
    {
     "name": "stdout",
     "output_type": "stream",
     "text": [
      "[CV]  clf__max_features=9, clf__min_samples_leaf=50, clf__n_estimators=10, score=0.4598713860026606, total=  22.3s\n",
      "[CV] clf__max_features=11, clf__min_samples_leaf=10, clf__n_estimators=10 \n"
     ]
    },
    {
     "name": "stderr",
     "output_type": "stream",
     "text": [
      "/Users/sartajsingh/anaconda3/lib/python3.6/site-packages/sklearn/metrics/classification.py:1135: UndefinedMetricWarning: F-score is ill-defined and being set to 0.0 in labels with no predicted samples.\n",
      "  'precision', 'predicted', average, warn_for)\n"
     ]
    },
    {
     "name": "stdout",
     "output_type": "stream",
     "text": [
      "[CV]  clf__max_features=9, clf__min_samples_leaf=50, clf__n_estimators=10, score=0.45816287569588304, total=  21.8s\n",
      "[CV] clf__max_features=11, clf__min_samples_leaf=25, clf__n_estimators=10 \n",
      "[CV]  clf__max_features=11, clf__min_samples_leaf=10, clf__n_estimators=10, score=0.4682091505149378, total=  32.3s\n",
      "[CV]  clf__max_features=11, clf__min_samples_leaf=10, clf__n_estimators=10, score=0.4693865612046909, total=  31.0s\n",
      "[CV] clf__max_features=11, clf__min_samples_leaf=25, clf__n_estimators=10 \n",
      "[CV] clf__max_features=11, clf__min_samples_leaf=25, clf__n_estimators=10 \n",
      "[CV]  clf__max_features=11, clf__min_samples_leaf=10, clf__n_estimators=10, score=0.4710875664254888, total=  32.3s\n",
      "[CV] clf__max_features=11, clf__min_samples_leaf=50, clf__n_estimators=10 \n"
     ]
    },
    {
     "name": "stderr",
     "output_type": "stream",
     "text": [
      "/Users/sartajsingh/anaconda3/lib/python3.6/site-packages/sklearn/metrics/classification.py:1135: UndefinedMetricWarning: F-score is ill-defined and being set to 0.0 in labels with no predicted samples.\n",
      "  'precision', 'predicted', average, warn_for)\n"
     ]
    },
    {
     "name": "stdout",
     "output_type": "stream",
     "text": [
      "[CV]  clf__max_features=11, clf__min_samples_leaf=25, clf__n_estimators=10, score=0.4652634194139722, total=  29.9s\n",
      "[CV] clf__max_features=11, clf__min_samples_leaf=50, clf__n_estimators=10 \n"
     ]
    },
    {
     "name": "stderr",
     "output_type": "stream",
     "text": [
      "/Users/sartajsingh/anaconda3/lib/python3.6/site-packages/sklearn/metrics/classification.py:1135: UndefinedMetricWarning: F-score is ill-defined and being set to 0.0 in labels with no predicted samples.\n",
      "  'precision', 'predicted', average, warn_for)\n"
     ]
    },
    {
     "name": "stdout",
     "output_type": "stream",
     "text": [
      "[CV]  clf__max_features=11, clf__min_samples_leaf=25, clf__n_estimators=10, score=0.4651635190004085, total=  32.0s\n",
      "[CV]  clf__max_features=11, clf__min_samples_leaf=25, clf__n_estimators=10, score=0.4675431044477685, total=  32.0s\n",
      "[CV] clf__max_features=11, clf__min_samples_leaf=50, clf__n_estimators=10 \n"
     ]
    },
    {
     "name": "stderr",
     "output_type": "stream",
     "text": [
      "/Users/sartajsingh/anaconda3/lib/python3.6/site-packages/sklearn/metrics/classification.py:1135: UndefinedMetricWarning: F-score is ill-defined and being set to 0.0 in labels with no predicted samples.\n",
      "  'precision', 'predicted', average, warn_for)\n"
     ]
    },
    {
     "name": "stdout",
     "output_type": "stream",
     "text": [
      "[CV]  clf__max_features=11, clf__min_samples_leaf=50, clf__n_estimators=10, score=0.46048808338840114, total=  27.6s\n"
     ]
    },
    {
     "name": "stderr",
     "output_type": "stream",
     "text": [
      "/Users/sartajsingh/anaconda3/lib/python3.6/site-packages/sklearn/metrics/classification.py:1135: UndefinedMetricWarning: F-score is ill-defined and being set to 0.0 in labels with no predicted samples.\n",
      "  'precision', 'predicted', average, warn_for)\n"
     ]
    },
    {
     "name": "stdout",
     "output_type": "stream",
     "text": [
      "[CV]  clf__max_features=11, clf__min_samples_leaf=50, clf__n_estimators=10, score=0.4610405328221471, total=  25.5s\n"
     ]
    },
    {
     "name": "stderr",
     "output_type": "stream",
     "text": [
      "/Users/sartajsingh/anaconda3/lib/python3.6/site-packages/sklearn/metrics/classification.py:1135: UndefinedMetricWarning: F-score is ill-defined and being set to 0.0 in labels with no predicted samples.\n",
      "  'precision', 'predicted', average, warn_for)\n"
     ]
    },
    {
     "name": "stdout",
     "output_type": "stream",
     "text": [
      "[CV]  clf__max_features=11, clf__min_samples_leaf=50, clf__n_estimators=10, score=0.4630464405800433, total=  17.1s\n"
     ]
    },
    {
     "name": "stderr",
     "output_type": "stream",
     "text": [
      "[Parallel(n_jobs=-1)]: Done  27 out of  27 | elapsed:  2.9min finished\n"
     ]
    },
    {
     "data": {
      "text/plain": [
       "GridSearchCV(cv=None, error_score='raise',\n",
       "       estimator=Pipeline(memory=None,\n",
       "     steps=[('scaler', MinMaxScaler(copy=True, feature_range=(0, 1))), ('pca', PCA(copy=True, iterated_power='auto', n_components=0.99, random_state=None,\n",
       "  svd_solver='auto', tol=0.0, whiten=False)), ('clf', RandomForestClassifier(bootstrap=True, class_weight=None, criterion='gini',\n",
       "            max_dept...n_jobs=1,\n",
       "            oob_score=False, random_state=None, verbose=0,\n",
       "            warm_start=False))]),\n",
       "       fit_params=None, iid=True, n_jobs=-1,\n",
       "       param_grid={'clf__n_estimators': [10], 'clf__min_samples_leaf': [10, 25, 50], 'clf__max_features': [7, 9, 11]},\n",
       "       pre_dispatch='2*n_jobs', refit=True, return_train_score=True,\n",
       "       scoring=make_scorer(f1_score, average=weighted), verbose=3)"
      ]
     },
     "execution_count": 146,
     "metadata": {},
     "output_type": "execute_result"
    }
   ],
   "source": [
    "params = {\n",
    "    'clf__n_estimators': [10],\n",
    "    'clf__min_samples_leaf': [10, 25, 50],\n",
    "    'clf__max_features': [7, 9, 11]\n",
    "}\n",
    "grid = GridSearchCV(pipe, param_grid=params, scoring=grid_scorer, verbose=3, n_jobs=-1)\n",
    "grid.fit(X, y)"
   ]
  },
  {
   "cell_type": "code",
   "execution_count": 147,
   "metadata": {},
   "outputs": [
    {
     "data": {
      "text/plain": [
       "{'clf__max_features': 7, 'clf__min_samples_leaf': 10, 'clf__n_estimators': 10}"
      ]
     },
     "execution_count": 147,
     "metadata": {},
     "output_type": "execute_result"
    }
   ],
   "source": [
    "grid.best_params_"
   ]
  },
  {
   "cell_type": "code",
   "execution_count": 148,
   "metadata": {},
   "outputs": [
    {
     "data": {
      "text/plain": [
       "0.47037241513769701"
      ]
     },
     "execution_count": 148,
     "metadata": {},
     "output_type": "execute_result"
    }
   ],
   "source": [
    "grid.best_score_"
   ]
  },
  {
   "cell_type": "code",
   "execution_count": 150,
   "metadata": {},
   "outputs": [
    {
     "name": "stderr",
     "output_type": "stream",
     "text": [
      "/Users/sartajsingh/anaconda3/lib/python3.6/site-packages/sklearn/model_selection/_search.py:747: DeprecationWarning: The grid_scores_ attribute was deprecated in version 0.18 in favor of the more elaborate cv_results_ attribute. The grid_scores_ attribute will not be available from 0.20\n",
      "  DeprecationWarning)\n"
     ]
    },
    {
     "data": {
      "text/plain": [
       "[mean: 0.47037, std: 0.00066, params: {'clf__max_features': 7, 'clf__min_samples_leaf': 10, 'clf__n_estimators': 10},\n",
       " mean: 0.46710, std: 0.00071, params: {'clf__max_features': 7, 'clf__min_samples_leaf': 25, 'clf__n_estimators': 10},\n",
       " mean: 0.45891, std: 0.00046, params: {'clf__max_features': 7, 'clf__min_samples_leaf': 50, 'clf__n_estimators': 10},\n",
       " mean: 0.46876, std: 0.00056, params: {'clf__max_features': 9, 'clf__min_samples_leaf': 10, 'clf__n_estimators': 10},\n",
       " mean: 0.46697, std: 0.00147, params: {'clf__max_features': 9, 'clf__min_samples_leaf': 25, 'clf__n_estimators': 10},\n",
       " mean: 0.45901, std: 0.00070, params: {'clf__max_features': 9, 'clf__min_samples_leaf': 50, 'clf__n_estimators': 10},\n",
       " mean: 0.46956, std: 0.00118, params: {'clf__max_features': 11, 'clf__min_samples_leaf': 10, 'clf__n_estimators': 10},\n",
       " mean: 0.46599, std: 0.00110, params: {'clf__max_features': 11, 'clf__min_samples_leaf': 25, 'clf__n_estimators': 10},\n",
       " mean: 0.46152, std: 0.00110, params: {'clf__max_features': 11, 'clf__min_samples_leaf': 50, 'clf__n_estimators': 10}]"
      ]
     },
     "execution_count": 150,
     "metadata": {},
     "output_type": "execute_result"
    }
   ],
   "source": [
    "grid.grid_scores_"
   ]
  },
  {
   "cell_type": "code",
   "execution_count": 149,
   "metadata": {},
   "outputs": [
    {
     "data": {
      "text/html": [
       "<div>\n",
       "<style>\n",
       "    .dataframe thead tr:only-child th {\n",
       "        text-align: right;\n",
       "    }\n",
       "\n",
       "    .dataframe thead th {\n",
       "        text-align: left;\n",
       "    }\n",
       "\n",
       "    .dataframe tbody tr th {\n",
       "        vertical-align: top;\n",
       "    }\n",
       "</style>\n",
       "<table border=\"1\" class=\"dataframe\">\n",
       "  <thead>\n",
       "    <tr style=\"text-align: right;\">\n",
       "      <th></th>\n",
       "      <th>ID</th>\n",
       "      <th>attempts_range</th>\n",
       "    </tr>\n",
       "  </thead>\n",
       "  <tbody>\n",
       "    <tr>\n",
       "      <th>0</th>\n",
       "      <td>user_856_prob_5822</td>\n",
       "      <td>1</td>\n",
       "    </tr>\n",
       "    <tr>\n",
       "      <th>1</th>\n",
       "      <td>user_2642_prob_2334</td>\n",
       "      <td>2</td>\n",
       "    </tr>\n",
       "    <tr>\n",
       "      <th>2</th>\n",
       "      <td>user_2557_prob_2920</td>\n",
       "      <td>1</td>\n",
       "    </tr>\n",
       "    <tr>\n",
       "      <th>3</th>\n",
       "      <td>user_1572_prob_4598</td>\n",
       "      <td>1</td>\n",
       "    </tr>\n",
       "    <tr>\n",
       "      <th>4</th>\n",
       "      <td>user_295_prob_6139</td>\n",
       "      <td>1</td>\n",
       "    </tr>\n",
       "  </tbody>\n",
       "</table>\n",
       "</div>"
      ],
      "text/plain": [
       "                    ID  attempts_range\n",
       "0   user_856_prob_5822               1\n",
       "1  user_2642_prob_2334               2\n",
       "2  user_2557_prob_2920               1\n",
       "3  user_1572_prob_4598               1\n",
       "4   user_295_prob_6139               1"
      ]
     },
     "execution_count": 149,
     "metadata": {},
     "output_type": "execute_result"
    }
   ],
   "source": [
    "make_submission(grid.best_estimator_, test_df, 'random3.csv').head()"
   ]
  },
  {
   "cell_type": "code",
   "execution_count": 152,
   "metadata": {},
   "outputs": [
    {
     "name": "stdout",
     "output_type": "stream",
     "text": [
      "Fitting 3 folds for each of 18 candidates, totalling 54 fits\n",
      "[CV] clf__max_features=5, clf__min_samples_leaf=5, clf__n_estimators=10 \n",
      "[CV] clf__max_features=5, clf__min_samples_leaf=5, clf__n_estimators=10 \n",
      "[CV] clf__max_features=5, clf__min_samples_leaf=5, clf__n_estimators=10 \n",
      "[CV] clf__max_features=5, clf__min_samples_leaf=5, clf__n_estimators=100 \n",
      "[CV]  clf__max_features=5, clf__min_samples_leaf=5, clf__n_estimators=10, score=0.46541902706032406, total=  20.4s\n",
      "[CV]  clf__max_features=5, clf__min_samples_leaf=5, clf__n_estimators=10, score=0.46915464905985405, total=  20.2s\n",
      "[CV] clf__max_features=5, clf__min_samples_leaf=5, clf__n_estimators=100 \n",
      "[CV] clf__max_features=5, clf__min_samples_leaf=5, clf__n_estimators=100 \n",
      "[CV]  clf__max_features=5, clf__min_samples_leaf=5, clf__n_estimators=10, score=0.47054267335568667, total=  20.4s\n",
      "[CV] clf__max_features=5, clf__min_samples_leaf=10, clf__n_estimators=10 \n",
      "[CV]  clf__max_features=5, clf__min_samples_leaf=10, clf__n_estimators=10, score=0.4670425877994677, total=  14.7s\n",
      "[CV] clf__max_features=5, clf__min_samples_leaf=10, clf__n_estimators=10 \n",
      "[CV]  clf__max_features=5, clf__min_samples_leaf=10, clf__n_estimators=10, score=0.469195311099964, total=  17.2s\n",
      "[CV] clf__max_features=5, clf__min_samples_leaf=10, clf__n_estimators=10 \n",
      "[CV]  clf__max_features=5, clf__min_samples_leaf=10, clf__n_estimators=10, score=0.4713026954592103, total=  17.4s\n",
      "[CV] clf__max_features=5, clf__min_samples_leaf=10, clf__n_estimators=100 \n",
      "[CV]  clf__max_features=5, clf__min_samples_leaf=5, clf__n_estimators=100, score=0.46887825473205397, total= 2.7min\n",
      "[CV] clf__max_features=5, clf__min_samples_leaf=10, clf__n_estimators=100 \n",
      "[CV]  clf__max_features=5, clf__min_samples_leaf=5, clf__n_estimators=100, score=0.47290973587053214, total= 2.6min\n",
      "[CV] clf__max_features=5, clf__min_samples_leaf=10, clf__n_estimators=100 \n",
      "[CV]  clf__max_features=5, clf__min_samples_leaf=5, clf__n_estimators=100, score=0.47071949445280875, total= 2.7min\n",
      "[CV] clf__max_features=5, clf__min_samples_leaf=15, clf__n_estimators=10 \n",
      "[CV]  clf__max_features=5, clf__min_samples_leaf=15, clf__n_estimators=10, score=0.46753687584500264, total=  14.4s\n",
      "[CV] clf__max_features=5, clf__min_samples_leaf=15, clf__n_estimators=10 \n",
      "[CV]  clf__max_features=5, clf__min_samples_leaf=15, clf__n_estimators=10, score=0.46704859129129045, total=  14.5s\n",
      "[CV] clf__max_features=5, clf__min_samples_leaf=15, clf__n_estimators=10 \n"
     ]
    },
    {
     "name": "stderr",
     "output_type": "stream",
     "text": [
      "/Users/sartajsingh/anaconda3/lib/python3.6/site-packages/sklearn/metrics/classification.py:1135: UndefinedMetricWarning: F-score is ill-defined and being set to 0.0 in labels with no predicted samples.\n",
      "  'precision', 'predicted', average, warn_for)\n"
     ]
    },
    {
     "name": "stdout",
     "output_type": "stream",
     "text": [
      "[CV]  clf__max_features=5, clf__min_samples_leaf=10, clf__n_estimators=100, score=0.4703331151377136, total= 2.4min\n",
      "[CV] clf__max_features=5, clf__min_samples_leaf=15, clf__n_estimators=100 \n",
      "[CV]  clf__max_features=5, clf__min_samples_leaf=15, clf__n_estimators=10, score=0.4691408445525778, total=  15.5s\n",
      "[CV] clf__max_features=5, clf__min_samples_leaf=15, clf__n_estimators=100 \n"
     ]
    },
    {
     "name": "stderr",
     "output_type": "stream",
     "text": [
      "/Users/sartajsingh/anaconda3/lib/python3.6/site-packages/sklearn/metrics/classification.py:1135: UndefinedMetricWarning: F-score is ill-defined and being set to 0.0 in labels with no predicted samples.\n",
      "  'precision', 'predicted', average, warn_for)\n"
     ]
    },
    {
     "name": "stdout",
     "output_type": "stream",
     "text": [
      "[CV]  clf__max_features=5, clf__min_samples_leaf=10, clf__n_estimators=100, score=0.4702313506143801, total= 2.4min\n",
      "[CV] clf__max_features=5, clf__min_samples_leaf=15, clf__n_estimators=100 \n",
      "[CV]  clf__max_features=5, clf__min_samples_leaf=10, clf__n_estimators=100, score=0.4715915812058684, total= 2.4min\n",
      "[CV] clf__max_features=7, clf__min_samples_leaf=5, clf__n_estimators=10 \n",
      "[CV]  clf__max_features=7, clf__min_samples_leaf=5, clf__n_estimators=10, score=0.4664538825570036, total=  22.8s\n",
      "[CV] clf__max_features=7, clf__min_samples_leaf=5, clf__n_estimators=10 \n"
     ]
    },
    {
     "name": "stderr",
     "output_type": "stream",
     "text": [
      "/Users/sartajsingh/anaconda3/lib/python3.6/site-packages/sklearn/metrics/classification.py:1135: UndefinedMetricWarning: F-score is ill-defined and being set to 0.0 in labels with no predicted samples.\n",
      "  'precision', 'predicted', average, warn_for)\n"
     ]
    },
    {
     "name": "stdout",
     "output_type": "stream",
     "text": [
      "[CV]  clf__max_features=5, clf__min_samples_leaf=15, clf__n_estimators=100, score=0.4666182482452433, total= 2.3min\n",
      "[CV] clf__max_features=7, clf__min_samples_leaf=5, clf__n_estimators=10 \n",
      "[CV]  clf__max_features=5, clf__min_samples_leaf=15, clf__n_estimators=100, score=0.4673729083423163, total= 2.3min\n",
      "[CV] clf__max_features=7, clf__min_samples_leaf=5, clf__n_estimators=100 \n",
      "[CV]  clf__max_features=7, clf__min_samples_leaf=5, clf__n_estimators=10, score=0.4667628548045029, total=  23.6s\n",
      "[CV] clf__max_features=7, clf__min_samples_leaf=5, clf__n_estimators=100 \n",
      "[CV]  clf__max_features=7, clf__min_samples_leaf=5, clf__n_estimators=10, score=0.4686280089985107, total=  22.9s\n",
      "[CV] clf__max_features=7, clf__min_samples_leaf=5, clf__n_estimators=100 \n"
     ]
    },
    {
     "name": "stderr",
     "output_type": "stream",
     "text": [
      "/Users/sartajsingh/anaconda3/lib/python3.6/site-packages/sklearn/metrics/classification.py:1135: UndefinedMetricWarning: F-score is ill-defined and being set to 0.0 in labels with no predicted samples.\n",
      "  'precision', 'predicted', average, warn_for)\n"
     ]
    },
    {
     "name": "stdout",
     "output_type": "stream",
     "text": [
      "[CV]  clf__max_features=5, clf__min_samples_leaf=15, clf__n_estimators=100, score=0.4693574039603986, total= 2.3min\n",
      "[CV] clf__max_features=7, clf__min_samples_leaf=10, clf__n_estimators=10 \n",
      "[CV]  clf__max_features=7, clf__min_samples_leaf=10, clf__n_estimators=10, score=0.4685966133765951, total=  25.7s\n",
      "[CV] clf__max_features=7, clf__min_samples_leaf=10, clf__n_estimators=10 \n"
     ]
    },
    {
     "name": "stderr",
     "output_type": "stream",
     "text": [
      "/Users/sartajsingh/anaconda3/lib/python3.6/site-packages/sklearn/metrics/classification.py:1135: UndefinedMetricWarning: F-score is ill-defined and being set to 0.0 in labels with no predicted samples.\n",
      "  'precision', 'predicted', average, warn_for)\n"
     ]
    },
    {
     "name": "stdout",
     "output_type": "stream",
     "text": [
      "[CV]  clf__max_features=7, clf__min_samples_leaf=10, clf__n_estimators=10, score=0.46938621996879293, total=  28.5s\n",
      "[CV] clf__max_features=7, clf__min_samples_leaf=10, clf__n_estimators=10 \n",
      "[CV]  clf__max_features=7, clf__min_samples_leaf=10, clf__n_estimators=10, score=0.47216568012594773, total=  25.8s\n",
      "[CV] clf__max_features=7, clf__min_samples_leaf=10, clf__n_estimators=100 \n"
     ]
    },
    {
     "name": "stderr",
     "output_type": "stream",
     "text": [
      "[Parallel(n_jobs=-1)]: Done  24 tasks      | elapsed:  9.1min\n"
     ]
    },
    {
     "name": "stdout",
     "output_type": "stream",
     "text": [
      "[CV]  clf__max_features=7, clf__min_samples_leaf=5, clf__n_estimators=100, score=0.4692037335787591, total= 4.2min\n",
      "[CV] clf__max_features=7, clf__min_samples_leaf=10, clf__n_estimators=100 \n",
      "[CV]  clf__max_features=7, clf__min_samples_leaf=5, clf__n_estimators=100, score=0.47173022534886644, total= 4.2min\n",
      "[CV] clf__max_features=7, clf__min_samples_leaf=10, clf__n_estimators=100 \n",
      "[CV]  clf__max_features=7, clf__min_samples_leaf=5, clf__n_estimators=100, score=0.47261391902105526, total= 4.2min\n",
      "[CV] clf__max_features=7, clf__min_samples_leaf=15, clf__n_estimators=10 \n"
     ]
    },
    {
     "name": "stderr",
     "output_type": "stream",
     "text": [
      "/Users/sartajsingh/anaconda3/lib/python3.6/site-packages/sklearn/metrics/classification.py:1135: UndefinedMetricWarning: F-score is ill-defined and being set to 0.0 in labels with no predicted samples.\n",
      "  'precision', 'predicted', average, warn_for)\n"
     ]
    },
    {
     "name": "stdout",
     "output_type": "stream",
     "text": [
      "[CV]  clf__max_features=7, clf__min_samples_leaf=15, clf__n_estimators=10, score=0.4691865985039035, total=  18.9s\n",
      "[CV] clf__max_features=7, clf__min_samples_leaf=15, clf__n_estimators=10 \n",
      "[CV]  clf__max_features=7, clf__min_samples_leaf=15, clf__n_estimators=10, score=0.470007737273785, total=  23.3s\n",
      "[CV] clf__max_features=7, clf__min_samples_leaf=15, clf__n_estimators=10 \n"
     ]
    },
    {
     "name": "stderr",
     "output_type": "stream",
     "text": [
      "/Users/sartajsingh/anaconda3/lib/python3.6/site-packages/sklearn/metrics/classification.py:1135: UndefinedMetricWarning: F-score is ill-defined and being set to 0.0 in labels with no predicted samples.\n",
      "  'precision', 'predicted', average, warn_for)\n"
     ]
    },
    {
     "name": "stdout",
     "output_type": "stream",
     "text": [
      "[CV]  clf__max_features=7, clf__min_samples_leaf=15, clf__n_estimators=10, score=0.47128711632211484, total=  25.1s\n",
      "[CV] clf__max_features=7, clf__min_samples_leaf=15, clf__n_estimators=100 \n",
      "[CV]  clf__max_features=7, clf__min_samples_leaf=10, clf__n_estimators=100, score=0.4709504525903988, total= 3.7min\n",
      "[CV] clf__max_features=7, clf__min_samples_leaf=15, clf__n_estimators=100 \n",
      "[CV]  clf__max_features=7, clf__min_samples_leaf=10, clf__n_estimators=100, score=0.47050915469972143, total= 3.4min\n",
      "[CV] clf__max_features=7, clf__min_samples_leaf=15, clf__n_estimators=100 \n",
      "[CV]  clf__max_features=7, clf__min_samples_leaf=10, clf__n_estimators=100, score=0.4724713216938304, total= 3.3min\n",
      "[CV] clf__max_features=9, clf__min_samples_leaf=5, clf__n_estimators=10 \n",
      "[CV]  clf__max_features=9, clf__min_samples_leaf=5, clf__n_estimators=10, score=0.46495131925007266, total=  26.7s\n",
      "[CV] clf__max_features=9, clf__min_samples_leaf=5, clf__n_estimators=10 \n"
     ]
    },
    {
     "name": "stderr",
     "output_type": "stream",
     "text": [
      "/Users/sartajsingh/anaconda3/lib/python3.6/site-packages/sklearn/metrics/classification.py:1135: UndefinedMetricWarning: F-score is ill-defined and being set to 0.0 in labels with no predicted samples.\n",
      "  'precision', 'predicted', average, warn_for)\n"
     ]
    },
    {
     "name": "stdout",
     "output_type": "stream",
     "text": [
      "[CV]  clf__max_features=7, clf__min_samples_leaf=15, clf__n_estimators=100, score=0.4677657522181149, total= 3.0min\n",
      "[CV] clf__max_features=9, clf__min_samples_leaf=5, clf__n_estimators=10 \n",
      "[CV]  clf__max_features=9, clf__min_samples_leaf=5, clf__n_estimators=10, score=0.4689629580133509, total=  29.6s\n",
      "[CV] clf__max_features=9, clf__min_samples_leaf=5, clf__n_estimators=100 \n",
      "[CV]  clf__max_features=9, clf__min_samples_leaf=5, clf__n_estimators=10, score=0.46918163503366744, total=  30.6s\n",
      "[CV] clf__max_features=9, clf__min_samples_leaf=5, clf__n_estimators=100 \n"
     ]
    },
    {
     "name": "stderr",
     "output_type": "stream",
     "text": [
      "/Users/sartajsingh/anaconda3/lib/python3.6/site-packages/sklearn/metrics/classification.py:1135: UndefinedMetricWarning: F-score is ill-defined and being set to 0.0 in labels with no predicted samples.\n",
      "  'precision', 'predicted', average, warn_for)\n"
     ]
    },
    {
     "name": "stdout",
     "output_type": "stream",
     "text": [
      "[CV]  clf__max_features=7, clf__min_samples_leaf=15, clf__n_estimators=100, score=0.469122214650437, total= 3.1min\n",
      "[CV] clf__max_features=9, clf__min_samples_leaf=5, clf__n_estimators=100 \n"
     ]
    },
    {
     "name": "stderr",
     "output_type": "stream",
     "text": [
      "/Users/sartajsingh/anaconda3/lib/python3.6/site-packages/sklearn/metrics/classification.py:1135: UndefinedMetricWarning: F-score is ill-defined and being set to 0.0 in labels with no predicted samples.\n",
      "  'precision', 'predicted', average, warn_for)\n"
     ]
    },
    {
     "name": "stdout",
     "output_type": "stream",
     "text": [
      "[CV]  clf__max_features=7, clf__min_samples_leaf=15, clf__n_estimators=100, score=0.46983386712198594, total= 3.3min\n",
      "[CV] clf__max_features=9, clf__min_samples_leaf=10, clf__n_estimators=10 \n",
      "[CV]  clf__max_features=9, clf__min_samples_leaf=10, clf__n_estimators=10, score=0.4688680772728945, total=  30.5s\n",
      "[CV] clf__max_features=9, clf__min_samples_leaf=10, clf__n_estimators=10 \n",
      "[CV]  clf__max_features=9, clf__min_samples_leaf=10, clf__n_estimators=10, score=0.4695032874741463, total=  27.3s\n",
      "[CV] clf__max_features=9, clf__min_samples_leaf=10, clf__n_estimators=10 \n",
      "[CV]  clf__max_features=9, clf__min_samples_leaf=10, clf__n_estimators=10, score=0.4733271778983801, total=  25.0s\n",
      "[CV] clf__max_features=9, clf__min_samples_leaf=10, clf__n_estimators=100 \n",
      "[CV]  clf__max_features=9, clf__min_samples_leaf=5, clf__n_estimators=100, score=0.469967751596558, total= 4.8min\n",
      "[CV] clf__max_features=9, clf__min_samples_leaf=10, clf__n_estimators=100 \n",
      "[CV]  clf__max_features=9, clf__min_samples_leaf=5, clf__n_estimators=100, score=0.47076707708342896, total= 4.8min\n",
      "[CV] clf__max_features=9, clf__min_samples_leaf=10, clf__n_estimators=100 \n",
      "[CV]  clf__max_features=9, clf__min_samples_leaf=5, clf__n_estimators=100, score=0.4734758685063974, total= 4.8min\n",
      "[CV] clf__max_features=9, clf__min_samples_leaf=15, clf__n_estimators=10 \n",
      "[CV]  clf__max_features=9, clf__min_samples_leaf=15, clf__n_estimators=10, score=0.46812271295706165, total=  25.5s\n",
      "[CV] clf__max_features=9, clf__min_samples_leaf=15, clf__n_estimators=10 \n"
     ]
    },
    {
     "name": "stderr",
     "output_type": "stream",
     "text": [
      "/Users/sartajsingh/anaconda3/lib/python3.6/site-packages/sklearn/metrics/classification.py:1135: UndefinedMetricWarning: F-score is ill-defined and being set to 0.0 in labels with no predicted samples.\n",
      "  'precision', 'predicted', average, warn_for)\n"
     ]
    },
    {
     "name": "stdout",
     "output_type": "stream",
     "text": [
      "[CV]  clf__max_features=9, clf__min_samples_leaf=15, clf__n_estimators=10, score=0.46935230078289214, total=  26.4s\n",
      "[CV] clf__max_features=9, clf__min_samples_leaf=15, clf__n_estimators=10 \n",
      "[CV]  clf__max_features=9, clf__min_samples_leaf=15, clf__n_estimators=10, score=0.47150173932387185, total=  26.0s\n",
      "[CV] clf__max_features=9, clf__min_samples_leaf=15, clf__n_estimators=100 \n",
      "[CV]  clf__max_features=9, clf__min_samples_leaf=10, clf__n_estimators=100, score=0.46991247284075616, total= 4.4min\n",
      "[CV] clf__max_features=9, clf__min_samples_leaf=15, clf__n_estimators=100 \n",
      "[CV]  clf__max_features=9, clf__min_samples_leaf=10, clf__n_estimators=100, score=0.4705100915307064, total= 4.4min\n",
      "[CV] clf__max_features=9, clf__min_samples_leaf=15, clf__n_estimators=100 \n",
      "[CV]  clf__max_features=9, clf__min_samples_leaf=10, clf__n_estimators=100, score=0.4724029913354754, total= 4.3min\n"
     ]
    },
    {
     "name": "stderr",
     "output_type": "stream",
     "text": [
      "/Users/sartajsingh/anaconda3/lib/python3.6/site-packages/sklearn/metrics/classification.py:1135: UndefinedMetricWarning: F-score is ill-defined and being set to 0.0 in labels with no predicted samples.\n",
      "  'precision', 'predicted', average, warn_for)\n"
     ]
    },
    {
     "name": "stdout",
     "output_type": "stream",
     "text": [
      "[CV]  clf__max_features=9, clf__min_samples_leaf=15, clf__n_estimators=100, score=0.46889521298935294, total= 3.5min\n"
     ]
    },
    {
     "name": "stderr",
     "output_type": "stream",
     "text": [
      "/Users/sartajsingh/anaconda3/lib/python3.6/site-packages/sklearn/metrics/classification.py:1135: UndefinedMetricWarning: F-score is ill-defined and being set to 0.0 in labels with no predicted samples.\n",
      "  'precision', 'predicted', average, warn_for)\n"
     ]
    },
    {
     "name": "stdout",
     "output_type": "stream",
     "text": [
      "[CV]  clf__max_features=9, clf__min_samples_leaf=15, clf__n_estimators=100, score=0.4692367401978111, total= 3.2min\n",
      "[CV]  clf__max_features=9, clf__min_samples_leaf=15, clf__n_estimators=100, score=0.4717388454496072, total= 2.5min\n"
     ]
    },
    {
     "name": "stderr",
     "output_type": "stream",
     "text": [
      "[Parallel(n_jobs=-1)]: Done  54 out of  54 | elapsed: 26.9min finished\n"
     ]
    },
    {
     "data": {
      "text/plain": [
       "GridSearchCV(cv=None, error_score='raise',\n",
       "       estimator=Pipeline(memory=None,\n",
       "     steps=[('scaler', MinMaxScaler(copy=True, feature_range=(0, 1))), ('pca', PCA(copy=True, iterated_power='auto', n_components=0.99, random_state=None,\n",
       "  svd_solver='auto', tol=0.0, whiten=False)), ('clf', RandomForestClassifier(bootstrap=True, class_weight=None, criterion='gini',\n",
       "            max_dept...n_jobs=1,\n",
       "            oob_score=False, random_state=None, verbose=0,\n",
       "            warm_start=False))]),\n",
       "       fit_params=None, iid=True, n_jobs=-1,\n",
       "       param_grid={'clf__n_estimators': [10, 100], 'clf__min_samples_leaf': [5, 10, 15], 'clf__max_features': [5, 7, 9]},\n",
       "       pre_dispatch='2*n_jobs', refit=True, return_train_score=True,\n",
       "       scoring=make_scorer(f1_score, average=weighted), verbose=3)"
      ]
     },
     "execution_count": 152,
     "metadata": {},
     "output_type": "execute_result"
    }
   ],
   "source": [
    "params = {\n",
    "    'clf__n_estimators': [10, 100],\n",
    "    'clf__min_samples_leaf': [5, 10, 15],\n",
    "    'clf__max_features': [5, 7, 9]\n",
    "}\n",
    "grid = GridSearchCV(pipe, param_grid=params, scoring=grid_scorer, verbose=3, n_jobs=-1)\n",
    "grid.fit(X, y)"
   ]
  },
  {
   "cell_type": "code",
   "execution_count": 154,
   "metadata": {},
   "outputs": [
    {
     "data": {
      "text/plain": [
       "{'clf__max_features': 9, 'clf__min_samples_leaf': 5, 'clf__n_estimators': 100}"
      ]
     },
     "execution_count": 154,
     "metadata": {},
     "output_type": "execute_result"
    }
   ],
   "source": [
    "grid.best_params_"
   ]
  },
  {
   "cell_type": "code",
   "execution_count": 155,
   "metadata": {},
   "outputs": [
    {
     "data": {
      "text/plain": [
       "0.47140353799163398"
      ]
     },
     "execution_count": 155,
     "metadata": {},
     "output_type": "execute_result"
    }
   ],
   "source": [
    "grid.best_score_"
   ]
  },
  {
   "cell_type": "code",
   "execution_count": 158,
   "metadata": {},
   "outputs": [
    {
     "name": "stderr",
     "output_type": "stream",
     "text": [
      "/Users/sartajsingh/anaconda3/lib/python3.6/site-packages/sklearn/model_selection/_search.py:747: DeprecationWarning: The grid_scores_ attribute was deprecated in version 0.18 in favor of the more elaborate cv_results_ attribute. The grid_scores_ attribute will not be available from 0.20\n",
      "  DeprecationWarning)\n"
     ]
    },
    {
     "data": {
      "text/plain": [
       "[mean: 0.46837, std: 0.00216, params: {'clf__max_features': 5, 'clf__min_samples_leaf': 5, 'clf__n_estimators': 10},\n",
       " mean: 0.47084, std: 0.00165, params: {'clf__max_features': 5, 'clf__min_samples_leaf': 5, 'clf__n_estimators': 100},\n",
       " mean: 0.46918, std: 0.00174, params: {'clf__max_features': 5, 'clf__min_samples_leaf': 10, 'clf__n_estimators': 10},\n",
       " mean: 0.47072, std: 0.00062, params: {'clf__max_features': 5, 'clf__min_samples_leaf': 10, 'clf__n_estimators': 100},\n",
       " mean: 0.46791, std: 0.00089, params: {'clf__max_features': 5, 'clf__min_samples_leaf': 15, 'clf__n_estimators': 10},\n",
       " mean: 0.46778, std: 0.00116, params: {'clf__max_features': 5, 'clf__min_samples_leaf': 15, 'clf__n_estimators': 100},\n",
       " mean: 0.46728, std: 0.00096, params: {'clf__max_features': 7, 'clf__min_samples_leaf': 5, 'clf__n_estimators': 10},\n",
       " mean: 0.47118, std: 0.00145, params: {'clf__max_features': 7, 'clf__min_samples_leaf': 5, 'clf__n_estimators': 100},\n",
       " mean: 0.47005, std: 0.00153, params: {'clf__max_features': 7, 'clf__min_samples_leaf': 10, 'clf__n_estimators': 10},\n",
       " mean: 0.47131, std: 0.00084, params: {'clf__max_features': 7, 'clf__min_samples_leaf': 10, 'clf__n_estimators': 100},\n",
       " mean: 0.47016, std: 0.00086, params: {'clf__max_features': 7, 'clf__min_samples_leaf': 15, 'clf__n_estimators': 10},\n",
       " mean: 0.46891, std: 0.00086, params: {'clf__max_features': 7, 'clf__min_samples_leaf': 15, 'clf__n_estimators': 100},\n",
       " mean: 0.46770, std: 0.00194, params: {'clf__max_features': 9, 'clf__min_samples_leaf': 5, 'clf__n_estimators': 10},\n",
       " mean: 0.47140, std: 0.00150, params: {'clf__max_features': 9, 'clf__min_samples_leaf': 5, 'clf__n_estimators': 100},\n",
       " mean: 0.47057, std: 0.00197, params: {'clf__max_features': 9, 'clf__min_samples_leaf': 10, 'clf__n_estimators': 10},\n",
       " mean: 0.47094, std: 0.00106, params: {'clf__max_features': 9, 'clf__min_samples_leaf': 10, 'clf__n_estimators': 100},\n",
       " mean: 0.46966, std: 0.00140, params: {'clf__max_features': 9, 'clf__min_samples_leaf': 15, 'clf__n_estimators': 10},\n",
       " mean: 0.46996, std: 0.00127, params: {'clf__max_features': 9, 'clf__min_samples_leaf': 15, 'clf__n_estimators': 100}]"
      ]
     },
     "execution_count": 158,
     "metadata": {},
     "output_type": "execute_result"
    }
   ],
   "source": [
    "grid.grid_scores_"
   ]
  },
  {
   "cell_type": "code",
   "execution_count": 159,
   "metadata": {},
   "outputs": [
    {
     "data": {
      "text/html": [
       "<div>\n",
       "<style>\n",
       "    .dataframe thead tr:only-child th {\n",
       "        text-align: right;\n",
       "    }\n",
       "\n",
       "    .dataframe thead th {\n",
       "        text-align: left;\n",
       "    }\n",
       "\n",
       "    .dataframe tbody tr th {\n",
       "        vertical-align: top;\n",
       "    }\n",
       "</style>\n",
       "<table border=\"1\" class=\"dataframe\">\n",
       "  <thead>\n",
       "    <tr style=\"text-align: right;\">\n",
       "      <th></th>\n",
       "      <th>ID</th>\n",
       "      <th>attempts_range</th>\n",
       "    </tr>\n",
       "  </thead>\n",
       "  <tbody>\n",
       "    <tr>\n",
       "      <th>0</th>\n",
       "      <td>user_856_prob_5822</td>\n",
       "      <td>1</td>\n",
       "    </tr>\n",
       "    <tr>\n",
       "      <th>1</th>\n",
       "      <td>user_2642_prob_2334</td>\n",
       "      <td>2</td>\n",
       "    </tr>\n",
       "    <tr>\n",
       "      <th>2</th>\n",
       "      <td>user_2557_prob_2920</td>\n",
       "      <td>1</td>\n",
       "    </tr>\n",
       "    <tr>\n",
       "      <th>3</th>\n",
       "      <td>user_1572_prob_4598</td>\n",
       "      <td>1</td>\n",
       "    </tr>\n",
       "    <tr>\n",
       "      <th>4</th>\n",
       "      <td>user_295_prob_6139</td>\n",
       "      <td>1</td>\n",
       "    </tr>\n",
       "  </tbody>\n",
       "</table>\n",
       "</div>"
      ],
      "text/plain": [
       "                    ID  attempts_range\n",
       "0   user_856_prob_5822               1\n",
       "1  user_2642_prob_2334               2\n",
       "2  user_2557_prob_2920               1\n",
       "3  user_1572_prob_4598               1\n",
       "4   user_295_prob_6139               1"
      ]
     },
     "execution_count": 159,
     "metadata": {},
     "output_type": "execute_result"
    }
   ],
   "source": [
    "make_submission(grid.best_estimator_, test_df, 'random4.csv').head()"
   ]
  },
  {
   "cell_type": "markdown",
   "metadata": {},
   "source": [
    "### XGB Time"
   ]
  },
  {
   "cell_type": "code",
   "execution_count": 164,
   "metadata": {},
   "outputs": [
    {
     "data": {
      "text/plain": [
       "Pipeline(memory=None,\n",
       "     steps=[('scaler', MinMaxScaler(copy=True, feature_range=(0, 1))), ('pca', PCA(copy=True, iterated_power='auto', n_components=0.99, random_state=None,\n",
       "  svd_solver='auto', tol=0.0, whiten=False)), ('clf', XGBClassifier(base_score=0.5, booster='gbtree', colsample_bylevel=1,\n",
       "       colsample_bytree=1, ...tate=0, reg_alpha=0, reg_lambda=1, scale_pos_weight=1,\n",
       "       seed=None, silent=True, subsample=1))])"
      ]
     },
     "execution_count": 164,
     "metadata": {},
     "output_type": "execute_result"
    }
   ],
   "source": [
    "scaler = MinMaxScaler()\n",
    "clf = XGBClassifier(objective='multi:softmax', num_class=6, eval_metric)\n",
    "pca = PCA(.99)\n",
    "steps = [('scaler', scaler), ('pca', pca), ('clf', clf)]\n",
    "pipe = Pipeline(steps)\n",
    "pipe"
   ]
  },
  {
   "cell_type": "code",
   "execution_count": 165,
   "metadata": {},
   "outputs": [
    {
     "data": {
      "text/plain": [
       "Pipeline(memory=None,\n",
       "     steps=[('scaler', MinMaxScaler(copy=True, feature_range=(0, 1))), ('pca', PCA(copy=True, iterated_power='auto', n_components=0.99, random_state=None,\n",
       "  svd_solver='auto', tol=0.0, whiten=False)), ('clf', XGBClassifier(base_score=0.5, booster='gbtree', colsample_bylevel=1,\n",
       "       colsample_bytree=1, ...tate=0, reg_alpha=0, reg_lambda=1, scale_pos_weight=1,\n",
       "       seed=None, silent=True, subsample=1))])"
      ]
     },
     "execution_count": 165,
     "metadata": {},
     "output_type": "execute_result"
    }
   ],
   "source": [
    "pipe.fit(X_train, y_train)"
   ]
  },
  {
   "cell_type": "code",
   "execution_count": 166,
   "metadata": {},
   "outputs": [
    {
     "name": "stderr",
     "output_type": "stream",
     "text": [
      "/Users/sartajsingh/anaconda3/lib/python3.6/site-packages/sklearn/metrics/classification.py:1135: UndefinedMetricWarning: F-score is ill-defined and being set to 0.0 in labels with no predicted samples.\n",
      "  'precision', 'predicted', average, warn_for)\n"
     ]
    },
    {
     "data": {
      "text/plain": [
       "0.41834762759058552"
      ]
     },
     "execution_count": 166,
     "metadata": {},
     "output_type": "execute_result"
    }
   ],
   "source": [
    "scorer(y_test, pipe.predict(X_test))"
   ]
  },
  {
   "cell_type": "markdown",
   "metadata": {},
   "source": [
    "### Merging online and registration time"
   ]
  },
  {
   "cell_type": "code",
   "execution_count": 174,
   "metadata": {},
   "outputs": [],
   "source": [
    "old_X = X.copy()"
   ]
  },
  {
   "cell_type": "code",
   "execution_count": 175,
   "metadata": {},
   "outputs": [],
   "source": [
    "X.loc[:, 'time_diff'] = X['last_online_time_seconds'] - X['registration_time_seconds']"
   ]
  },
  {
   "cell_type": "code",
   "execution_count": 178,
   "metadata": {
    "collapsed": true
   },
   "outputs": [],
   "source": [
    "X.drop(['last_online_time_seconds', 'registration_time_seconds'], axis=1, inplace=True)"
   ]
  },
  {
   "cell_type": "code",
   "execution_count": 179,
   "metadata": {},
   "outputs": [
    {
     "data": {
      "text/plain": [
       "Pipeline(memory=None,\n",
       "     steps=[('scaler', MinMaxScaler(copy=True, feature_range=(0, 1))), ('pca', PCA(copy=True, iterated_power='auto', n_components=0.99, random_state=None,\n",
       "  svd_solver='auto', tol=0.0, whiten=False)), ('clf', RandomForestClassifier(bootstrap=True, class_weight=None, criterion='gini',\n",
       "            max_dept...n_jobs=1,\n",
       "            oob_score=False, random_state=None, verbose=0,\n",
       "            warm_start=False))])"
      ]
     },
     "execution_count": 179,
     "metadata": {},
     "output_type": "execute_result"
    }
   ],
   "source": [
    "scaler = MinMaxScaler()\n",
    "clf = RandomForestClassifier()\n",
    "pca = PCA(.99)\n",
    "steps = [('scaler', scaler), ('pca', pca), ('clf', clf)]\n",
    "pipe = Pipeline(steps)\n",
    "pipe"
   ]
  },
  {
   "cell_type": "code",
   "execution_count": 180,
   "metadata": {},
   "outputs": [
    {
     "name": "stdout",
     "output_type": "stream",
     "text": [
      "Fitting 3 folds for each of 1 candidates, totalling 3 fits\n",
      "[CV] clf__n_estimators=10 ............................................\n",
      "[CV] clf__n_estimators=10 ............................................\n",
      "[CV] clf__n_estimators=10 ............................................\n",
      "[CV] .. clf__n_estimators=10, score=0.45579001311054496, total=  15.7s\n",
      "[CV] .. clf__n_estimators=10, score=0.45683964072581545, total=  15.7s\n",
      "[CV] ... clf__n_estimators=10, score=0.4568373909882803, total=  15.6s\n"
     ]
    },
    {
     "name": "stderr",
     "output_type": "stream",
     "text": [
      "[Parallel(n_jobs=-1)]: Done   3 out of   3 | elapsed:   16.9s finished\n"
     ]
    },
    {
     "data": {
      "text/plain": [
       "GridSearchCV(cv=None, error_score='raise',\n",
       "       estimator=Pipeline(memory=None,\n",
       "     steps=[('scaler', MinMaxScaler(copy=True, feature_range=(0, 1))), ('pca', PCA(copy=True, iterated_power='auto', n_components=0.99, random_state=None,\n",
       "  svd_solver='auto', tol=0.0, whiten=False)), ('clf', RandomForestClassifier(bootstrap=True, class_weight=None, criterion='gini',\n",
       "            max_dept...n_jobs=1,\n",
       "            oob_score=False, random_state=None, verbose=0,\n",
       "            warm_start=False))]),\n",
       "       fit_params=None, iid=True, n_jobs=-1,\n",
       "       param_grid={'clf__n_estimators': [10]}, pre_dispatch='2*n_jobs',\n",
       "       refit=True, return_train_score=True,\n",
       "       scoring=make_scorer(f1_score, average=weighted), verbose=3)"
      ]
     },
     "execution_count": 180,
     "metadata": {},
     "output_type": "execute_result"
    }
   ],
   "source": [
    "params = {\n",
    "    'clf__n_estimators': [10]\n",
    "}\n",
    "grid = GridSearchCV(pipe, param_grid=params, scoring=grid_scorer, verbose=3, n_jobs=-1)\n",
    "grid.fit(X, y)"
   ]
  },
  {
   "cell_type": "code",
   "execution_count": 181,
   "metadata": {},
   "outputs": [
    {
     "data": {
      "text/plain": [
       "0.45648900143817916"
      ]
     },
     "execution_count": 181,
     "metadata": {},
     "output_type": "execute_result"
    }
   ],
   "source": [
    "grid.best_score_"
   ]
  },
  {
   "cell_type": "markdown",
   "metadata": {},
   "source": [
    "### Countries"
   ]
  },
  {
   "cell_type": "code",
   "execution_count": 182,
   "metadata": {},
   "outputs": [
    {
     "data": {
      "text/plain": [
       "0          Bangladesh\n",
       "1                 NaN\n",
       "2                 NaN\n",
       "3           Indonesia\n",
       "4               India\n",
       "5                 NaN\n",
       "6               Egypt\n",
       "7              Brazil\n",
       "8               India\n",
       "9          Bangladesh\n",
       "10              China\n",
       "11            Vietnam\n",
       "12            Romania\n",
       "13            Czechia\n",
       "14         Bangladesh\n",
       "15                NaN\n",
       "16              Spain\n",
       "17              India\n",
       "18              Japan\n",
       "19                NaN\n",
       "20             Russia\n",
       "21                NaN\n",
       "22         Bangladesh\n",
       "23              India\n",
       "24              India\n",
       "25             Russia\n",
       "26            Ukraine\n",
       "27         Bangladesh\n",
       "28            Romania\n",
       "29                NaN\n",
       "             ...     \n",
       "155265          India\n",
       "155266          India\n",
       "155267          Egypt\n",
       "155268            NaN\n",
       "155269            NaN\n",
       "155270          India\n",
       "155271     Bangladesh\n",
       "155272          India\n",
       "155273         Russia\n",
       "155274        Germany\n",
       "155275            NaN\n",
       "155276     Bangladesh\n",
       "155277          India\n",
       "155278          India\n",
       "155279            NaN\n",
       "155280          India\n",
       "155281            NaN\n",
       "155282     Kazakhstan\n",
       "155283           Peru\n",
       "155284     Bangladesh\n",
       "155285    Philippines\n",
       "155286            NaN\n",
       "155287     Bangladesh\n",
       "155288          Egypt\n",
       "155289          India\n",
       "155290          India\n",
       "155291     Bangladesh\n",
       "155292          India\n",
       "155293            NaN\n",
       "155294     Kazakhstan\n",
       "Name: country, Length: 155295, dtype: object"
      ]
     },
     "execution_count": 182,
     "metadata": {},
     "output_type": "execute_result"
    }
   ],
   "source": [
    "countries = pd.read_csv('data/train.csv')['country']\n",
    "countries"
   ]
  },
  {
   "cell_type": "code",
   "execution_count": 334,
   "metadata": {},
   "outputs": [
    {
     "data": {
      "text/plain": [
       "India                     19.417882\n",
       "Bangladesh                10.218616\n",
       "Russia                     8.427831\n",
       "China                      5.000805\n",
       "Egypt                      3.343958\n",
       "Kazakhstan                 2.287904\n",
       "Vietnam                    1.982678\n",
       "Brazil                     1.962716\n",
       "Iran                       1.954989\n",
       "Ukraine                    1.811391\n",
       "Belarus                    1.583438\n",
       "Japan                      1.463666\n",
       "Syria                      1.298818\n",
       "United States              1.297531\n",
       "Romania                    1.222834\n",
       "Poland                     1.024502\n",
       "Uzbekistan                 0.854503\n",
       "Taiwan                     0.750829\n",
       "South Korea                0.737950\n",
       "Croatia                    0.647799\n",
       "Indonesia                  0.585982\n",
       "Mexico                     0.545414\n",
       "Jordan                     0.449467\n",
       "Moldova                    0.402460\n",
       "Georgia                    0.377346\n",
       "Peru                       0.352233\n",
       "Argentina                  0.339354\n",
       "Hong Kong                  0.240832\n",
       "Bolivia                    0.233749\n",
       "Germany                    0.223446\n",
       "                            ...    \n",
       "Italy                      0.099166\n",
       "Spain                      0.095302\n",
       "Estonia                    0.094659\n",
       "Venezuela                  0.091439\n",
       "Tunisia                    0.078560\n",
       "North Korea                0.077916\n",
       "Netherlands                0.076628\n",
       "Macedonia                  0.068901\n",
       "Austria                    0.068257\n",
       "Malaysia                   0.068257\n",
       "Morocco                    0.066969\n",
       "Switzerland                0.061818\n",
       "Philippines                0.050871\n",
       "Chile                      0.046363\n",
       "South Africa               0.045076\n",
       "Trinidad and Tobago        0.043788\n",
       "Bosnia and Herzegovina     0.041856\n",
       "Lebanon                    0.037348\n",
       "Costa Rica                 0.036704\n",
       "Latvia                     0.035416\n",
       "Israel                     0.034773\n",
       "France                     0.029621\n",
       "Australia                  0.028977\n",
       "Laos                       0.027045\n",
       "Iceland                    0.027045\n",
       "Christmas Island           0.016098\n",
       "Norway                     0.016098\n",
       "Haiti                      0.007727\n",
       "Swaziland                  0.005795\n",
       "Belgium                    0.004508\n",
       "Name: country, Length: 79, dtype: float64"
      ]
     },
     "execution_count": 334,
     "metadata": {},
     "output_type": "execute_result"
    }
   ],
   "source": [
    "((countries.value_counts() / X.shape[0]) * 100)"
   ]
  },
  {
   "cell_type": "code",
   "execution_count": 203,
   "metadata": {
    "collapsed": true
   },
   "outputs": [],
   "source": [
    "def inspect_country_attempt(y, countries, country):\n",
    "    d = y[countries == country].value_counts()\n",
    "    return (d / d.sum()) * 100"
   ]
  },
  {
   "cell_type": "code",
   "execution_count": 204,
   "metadata": {},
   "outputs": [
    {
     "data": {
      "text/plain": [
       "1    53.380866\n",
       "2    30.897032\n",
       "3     9.524125\n",
       "4     3.299619\n",
       "5     1.502238\n",
       "6     1.396120\n",
       "Name: attempts_range, dtype: float64"
      ]
     },
     "execution_count": 204,
     "metadata": {},
     "output_type": "execute_result"
    }
   ],
   "source": [
    "inspect_country_attempt(y, countries, 'India')"
   ]
  },
  {
   "cell_type": "code",
   "execution_count": 205,
   "metadata": {},
   "outputs": [
    {
     "data": {
      "text/plain": [
       "1    58.205990\n",
       "2    28.384780\n",
       "3     6.868888\n",
       "4     3.025672\n",
       "6     2.108802\n",
       "5     1.405868\n",
       "Name: attempts_range, dtype: float64"
      ]
     },
     "execution_count": 205,
     "metadata": {},
     "output_type": "execute_result"
    }
   ],
   "source": [
    "inspect_country_attempt(y, countries, 'Russia')"
   ]
  },
  {
   "cell_type": "code",
   "execution_count": 206,
   "metadata": {},
   "outputs": [
    {
     "data": {
      "text/plain": [
       "1    54.200013\n",
       "2    30.342177\n",
       "3     8.834835\n",
       "4     3.459575\n",
       "6     1.701430\n",
       "5     1.461970\n",
       "Name: attempts_range, dtype: float64"
      ]
     },
     "execution_count": 206,
     "metadata": {},
     "output_type": "execute_result"
    }
   ],
   "source": [
    "inspect_country_attempt(y, countries, 'Bangladesh')"
   ]
  },
  {
   "cell_type": "code",
   "execution_count": 207,
   "metadata": {},
   "outputs": [
    {
     "data": {
      "text/plain": [
       "1    51.197528\n",
       "2    31.071337\n",
       "3     9.747618\n",
       "4     3.566830\n",
       "6     2.446562\n",
       "5     1.970126\n",
       "Name: attempts_range, dtype: float64"
      ]
     },
     "execution_count": 207,
     "metadata": {},
     "output_type": "execute_result"
    }
   ],
   "source": [
    "inspect_country_attempt(y, countries, 'China')"
   ]
  },
  {
   "cell_type": "code",
   "execution_count": 200,
   "metadata": {},
   "outputs": [
    {
     "data": {
      "text/plain": [
       "1    867\n",
       "2    472\n",
       "3    137\n",
       "4     51\n",
       "6     42\n",
       "5     22\n",
       "Name: attempts_range, dtype: int64"
      ]
     },
     "execution_count": 200,
     "metadata": {},
     "output_type": "execute_result"
    }
   ],
   "source": [
    "y[countries == 'Poland'].value_counts()"
   ]
  },
  {
   "cell_type": "markdown",
   "metadata": {},
   "source": [
    "### Back to rf after adding country data"
   ]
  },
  {
   "cell_type": "code",
   "execution_count": 320,
   "metadata": {},
   "outputs": [
    {
     "data": {
      "text/plain": [
       "Pipeline(memory=None,\n",
       "     steps=[('scaler', MinMaxScaler(copy=True, feature_range=(0, 1))), ('pca', PCA(copy=True, iterated_power='auto', n_components=0.99, random_state=None,\n",
       "  svd_solver='auto', tol=0.0, whiten=False)), ('clf', RandomForestClassifier(bootstrap=True, class_weight=None, criterion='gini',\n",
       "            max_dept...n_jobs=1,\n",
       "            oob_score=False, random_state=None, verbose=0,\n",
       "            warm_start=False))])"
      ]
     },
     "execution_count": 320,
     "metadata": {},
     "output_type": "execute_result"
    }
   ],
   "source": [
    "scaler = MinMaxScaler()\n",
    "clf = RandomForestClassifier()\n",
    "pca = PCA(.99)\n",
    "steps = [('scaler', scaler), ('pca', pca), ('clf', clf)]\n",
    "pipe = Pipeline(steps)\n",
    "pipe"
   ]
  },
  {
   "cell_type": "code",
   "execution_count": 321,
   "metadata": {},
   "outputs": [
    {
     "name": "stdout",
     "output_type": "stream",
     "text": [
      "Fitting 3 folds for each of 4 candidates, totalling 12 fits\n",
      "[CV] pca__n_components=0.85 ..........................................\n",
      "[CV] pca__n_components=0.85 ..........................................\n",
      "[CV] pca__n_components=0.85 ..........................................\n",
      "[CV] pca__n_components=0.9 ...........................................\n",
      "[CV] . pca__n_components=0.85, score=0.4500191525126995, total=  23.3s\n",
      "[CV]  pca__n_components=0.85, score=0.45043305870242756, total=  23.5s\n",
      "[CV] pca__n_components=0.9 ...........................................\n",
      "[CV] pca__n_components=0.9 ...........................................\n",
      "[CV] . pca__n_components=0.85, score=0.4485221795899613, total=  24.0s\n",
      "[CV] pca__n_components=0.95 ..........................................\n",
      "[CV] . pca__n_components=0.9, score=0.44887782785275426, total=  27.9s\n",
      "[CV] pca__n_components=0.95 ..........................................\n",
      "[CV] . pca__n_components=0.9, score=0.44992308672642023, total=  25.6s\n",
      "[CV] pca__n_components=0.95 ..........................................\n",
      "[CV] ... pca__n_components=0.9, score=0.452162776768849, total=  26.1s\n",
      "[CV] pca__n_components=0.99 ..........................................\n",
      "[CV]  pca__n_components=0.95, score=0.44997612801646464, total=  28.7s\n",
      "[CV] pca__n_components=0.99 ..........................................\n",
      "[CV] . pca__n_components=0.95, score=0.4526989477683826, total=  27.8s\n",
      "[CV] pca__n_components=0.99 ..........................................\n",
      "[CV] . pca__n_components=0.95, score=0.4505348695245188, total=  27.3s\n",
      "[CV]  pca__n_components=0.99, score=0.45079472047068236, total=  32.6s\n"
     ]
    },
    {
     "name": "stderr",
     "output_type": "stream",
     "text": [
      "[Parallel(n_jobs=-1)]: Done  10 out of  12 | elapsed:  1.4min remaining:   17.3s\n"
     ]
    },
    {
     "name": "stdout",
     "output_type": "stream",
     "text": [
      "[CV]  pca__n_components=0.99, score=0.44991562956687664, total=  31.4s\n",
      "[CV] . pca__n_components=0.99, score=0.4473701383365177, total=  29.7s\n"
     ]
    },
    {
     "name": "stderr",
     "output_type": "stream",
     "text": [
      "[Parallel(n_jobs=-1)]: Done  12 out of  12 | elapsed:  1.5min finished\n"
     ]
    },
    {
     "data": {
      "text/plain": [
       "GridSearchCV(cv=None, error_score='raise',\n",
       "       estimator=Pipeline(memory=None,\n",
       "     steps=[('scaler', MinMaxScaler(copy=True, feature_range=(0, 1))), ('pca', PCA(copy=True, iterated_power='auto', n_components=0.99, random_state=None,\n",
       "  svd_solver='auto', tol=0.0, whiten=False)), ('clf', RandomForestClassifier(bootstrap=True, class_weight=None, criterion='gini',\n",
       "            max_dept...n_jobs=1,\n",
       "            oob_score=False, random_state=None, verbose=0,\n",
       "            warm_start=False))]),\n",
       "       fit_params=None, iid=True, n_jobs=-1,\n",
       "       param_grid={'pca__n_components': [0.85, 0.9, 0.95, 0.99]},\n",
       "       pre_dispatch='2*n_jobs', refit=True, return_train_score=True,\n",
       "       scoring=make_scorer(f1_score, average=weighted), verbose=3)"
      ]
     },
     "execution_count": 321,
     "metadata": {},
     "output_type": "execute_result"
    }
   ],
   "source": [
    "params = {\n",
    "    'pca__n_components': [.85, .9, .95, .99]\n",
    "}\n",
    "grid = GridSearchCV(pipe, param_grid=params, scoring=grid_scorer, verbose=3, n_jobs=-1)\n",
    "grid.fit(X, y)"
   ]
  },
  {
   "cell_type": "code",
   "execution_count": 322,
   "metadata": {},
   "outputs": [
    {
     "data": {
      "text/plain": [
       "0.45106996063864307"
      ]
     },
     "execution_count": 322,
     "metadata": {},
     "output_type": "execute_result"
    }
   ],
   "source": [
    "grid.best_score_"
   ]
  },
  {
   "cell_type": "code",
   "execution_count": 323,
   "metadata": {},
   "outputs": [
    {
     "data": {
      "text/plain": [
       "{'pca__n_components': 0.95}"
      ]
     },
     "execution_count": 323,
     "metadata": {},
     "output_type": "execute_result"
    }
   ],
   "source": [
    "grid.best_params_"
   ]
  },
  {
   "cell_type": "code",
   "execution_count": 325,
   "metadata": {},
   "outputs": [
    {
     "name": "stdout",
     "output_type": "stream",
     "text": [
      "Fitting 3 folds for each of 27 candidates, totalling 81 fits\n",
      "[CV] clf__max_features=5, clf__min_samples_leaf=10, clf__n_estimators=10, pca__n_components=0.9 \n",
      "[CV] clf__max_features=5, clf__min_samples_leaf=10, clf__n_estimators=10, pca__n_components=0.9 \n",
      "[CV] clf__max_features=5, clf__min_samples_leaf=10, clf__n_estimators=10, pca__n_components=0.9 \n",
      "[CV] clf__max_features=5, clf__min_samples_leaf=10, clf__n_estimators=10, pca__n_components=0.95 \n",
      "[CV]  clf__max_features=5, clf__min_samples_leaf=10, clf__n_estimators=10, pca__n_components=0.9, score=0.46251039986859266, total=  17.1s\n",
      "[CV] clf__max_features=5, clf__min_samples_leaf=10, clf__n_estimators=10, pca__n_components=0.95 \n",
      "[CV]  clf__max_features=5, clf__min_samples_leaf=10, clf__n_estimators=10, pca__n_components=0.9, score=0.462129763157214, total=  17.3s\n",
      "[CV]  clf__max_features=5, clf__min_samples_leaf=10, clf__n_estimators=10, pca__n_components=0.9, score=0.46175507466594345, total=  17.1s\n",
      "[CV] clf__max_features=5, clf__min_samples_leaf=10, clf__n_estimators=10, pca__n_components=0.95 \n",
      "[CV] clf__max_features=5, clf__min_samples_leaf=10, clf__n_estimators=10, pca__n_components=0.99 \n",
      "[CV]  clf__max_features=5, clf__min_samples_leaf=10, clf__n_estimators=10, pca__n_components=0.95, score=0.45917807923932236, total=  17.3s\n",
      "[CV] clf__max_features=5, clf__min_samples_leaf=10, clf__n_estimators=10, pca__n_components=0.99 \n"
     ]
    },
    {
     "name": "stderr",
     "output_type": "stream",
     "text": [
      "/Users/sartajsingh/anaconda3/lib/python3.6/site-packages/sklearn/metrics/classification.py:1135: UndefinedMetricWarning: F-score is ill-defined and being set to 0.0 in labels with no predicted samples.\n",
      "  'precision', 'predicted', average, warn_for)\n"
     ]
    },
    {
     "name": "stdout",
     "output_type": "stream",
     "text": [
      "[CV]  clf__max_features=5, clf__min_samples_leaf=10, clf__n_estimators=10, pca__n_components=0.95, score=0.46222391527438556, total=  19.2s\n",
      "[CV] clf__max_features=5, clf__min_samples_leaf=10, clf__n_estimators=10, pca__n_components=0.99 \n",
      "[CV]  clf__max_features=5, clf__min_samples_leaf=10, clf__n_estimators=10, pca__n_components=0.95, score=0.46414436581915414, total=  20.2s\n",
      "[CV] clf__max_features=5, clf__min_samples_leaf=20, clf__n_estimators=10, pca__n_components=0.9 \n",
      "[CV]  clf__max_features=5, clf__min_samples_leaf=10, clf__n_estimators=10, pca__n_components=0.99, score=0.45622523918169205, total=  19.7s\n",
      "[CV] clf__max_features=5, clf__min_samples_leaf=20, clf__n_estimators=10, pca__n_components=0.9 \n",
      "[CV]  clf__max_features=5, clf__min_samples_leaf=10, clf__n_estimators=10, pca__n_components=0.99, score=0.4566242806199507, total=  19.8s\n",
      "[CV] clf__max_features=5, clf__min_samples_leaf=20, clf__n_estimators=10, pca__n_components=0.9 \n"
     ]
    },
    {
     "name": "stderr",
     "output_type": "stream",
     "text": [
      "/Users/sartajsingh/anaconda3/lib/python3.6/site-packages/sklearn/metrics/classification.py:1135: UndefinedMetricWarning: F-score is ill-defined and being set to 0.0 in labels with no predicted samples.\n",
      "  'precision', 'predicted', average, warn_for)\n",
      "/Users/sartajsingh/anaconda3/lib/python3.6/site-packages/sklearn/metrics/classification.py:1135: UndefinedMetricWarning: F-score is ill-defined and being set to 0.0 in labels with no predicted samples.\n",
      "  'precision', 'predicted', average, warn_for)\n",
      "/Users/sartajsingh/anaconda3/lib/python3.6/site-packages/sklearn/metrics/classification.py:1135: UndefinedMetricWarning: F-score is ill-defined and being set to 0.0 in labels with no predicted samples.\n",
      "  'precision', 'predicted', average, warn_for)\n"
     ]
    },
    {
     "name": "stdout",
     "output_type": "stream",
     "text": [
      "[CV]  clf__max_features=5, clf__min_samples_leaf=20, clf__n_estimators=10, pca__n_components=0.9, score=0.45737998337043223, total=  15.7s\n",
      "[CV] clf__max_features=5, clf__min_samples_leaf=20, clf__n_estimators=10, pca__n_components=0.95 \n",
      "[CV]  clf__max_features=5, clf__min_samples_leaf=20, clf__n_estimators=10, pca__n_components=0.9, score=0.4581587095559266, total=  15.7s\n",
      "[CV] clf__max_features=5, clf__min_samples_leaf=20, clf__n_estimators=10, pca__n_components=0.95 \n",
      "[CV]  clf__max_features=5, clf__min_samples_leaf=20, clf__n_estimators=10, pca__n_components=0.9, score=0.4606036308944913, total=  15.5s\n",
      "[CV]  clf__max_features=5, clf__min_samples_leaf=10, clf__n_estimators=10, pca__n_components=0.99, score=0.45696609007303546, total=  16.6s\n",
      "[CV] clf__max_features=5, clf__min_samples_leaf=20, clf__n_estimators=10, pca__n_components=0.95 \n",
      "[CV] clf__max_features=5, clf__min_samples_leaf=20, clf__n_estimators=10, pca__n_components=0.99 \n"
     ]
    },
    {
     "name": "stderr",
     "output_type": "stream",
     "text": [
      "/Users/sartajsingh/anaconda3/lib/python3.6/site-packages/sklearn/metrics/classification.py:1135: UndefinedMetricWarning: F-score is ill-defined and being set to 0.0 in labels with no predicted samples.\n",
      "  'precision', 'predicted', average, warn_for)\n",
      "/Users/sartajsingh/anaconda3/lib/python3.6/site-packages/sklearn/metrics/classification.py:1135: UndefinedMetricWarning: F-score is ill-defined and being set to 0.0 in labels with no predicted samples.\n",
      "  'precision', 'predicted', average, warn_for)\n",
      "/Users/sartajsingh/anaconda3/lib/python3.6/site-packages/sklearn/metrics/classification.py:1135: UndefinedMetricWarning: F-score is ill-defined and being set to 0.0 in labels with no predicted samples.\n",
      "  'precision', 'predicted', average, warn_for)\n"
     ]
    },
    {
     "name": "stdout",
     "output_type": "stream",
     "text": [
      "[CV]  clf__max_features=5, clf__min_samples_leaf=20, clf__n_estimators=10, pca__n_components=0.95, score=0.45590418756172113, total=  15.2s\n",
      "[CV] clf__max_features=5, clf__min_samples_leaf=20, clf__n_estimators=10, pca__n_components=0.99 \n",
      "[CV]  clf__max_features=5, clf__min_samples_leaf=20, clf__n_estimators=10, pca__n_components=0.95, score=0.4587891087206208, total=  14.8s\n",
      "[CV]  clf__max_features=5, clf__min_samples_leaf=20, clf__n_estimators=10, pca__n_components=0.95, score=0.45752958896773144, total=  15.2s\n",
      "[CV] clf__max_features=5, clf__min_samples_leaf=20, clf__n_estimators=10, pca__n_components=0.99 \n",
      "[CV] clf__max_features=5, clf__min_samples_leaf=30, clf__n_estimators=10, pca__n_components=0.9 \n",
      "[CV]  clf__max_features=5, clf__min_samples_leaf=20, clf__n_estimators=10, pca__n_components=0.99, score=0.4467660647916996, total=  15.0s\n",
      "[CV] clf__max_features=5, clf__min_samples_leaf=30, clf__n_estimators=10, pca__n_components=0.9 \n"
     ]
    },
    {
     "name": "stderr",
     "output_type": "stream",
     "text": [
      "/Users/sartajsingh/anaconda3/lib/python3.6/site-packages/sklearn/metrics/classification.py:1135: UndefinedMetricWarning: F-score is ill-defined and being set to 0.0 in labels with no predicted samples.\n",
      "  'precision', 'predicted', average, warn_for)\n",
      "/Users/sartajsingh/anaconda3/lib/python3.6/site-packages/sklearn/metrics/classification.py:1135: UndefinedMetricWarning: F-score is ill-defined and being set to 0.0 in labels with no predicted samples.\n",
      "  'precision', 'predicted', average, warn_for)\n",
      "/Users/sartajsingh/anaconda3/lib/python3.6/site-packages/sklearn/metrics/classification.py:1135: UndefinedMetricWarning: F-score is ill-defined and being set to 0.0 in labels with no predicted samples.\n",
      "  'precision', 'predicted', average, warn_for)\n",
      "/Users/sartajsingh/anaconda3/lib/python3.6/site-packages/sklearn/metrics/classification.py:1135: UndefinedMetricWarning: F-score is ill-defined and being set to 0.0 in labels with no predicted samples.\n",
      "  'precision', 'predicted', average, warn_for)\n"
     ]
    },
    {
     "name": "stdout",
     "output_type": "stream",
     "text": [
      "[CV]  clf__max_features=5, clf__min_samples_leaf=30, clf__n_estimators=10, pca__n_components=0.9, score=0.4524940117376481, total=  14.9s\n",
      "[CV] clf__max_features=5, clf__min_samples_leaf=30, clf__n_estimators=10, pca__n_components=0.9 \n",
      "[CV]  clf__max_features=5, clf__min_samples_leaf=20, clf__n_estimators=10, pca__n_components=0.99, score=0.4522100836285217, total=  15.1s\n",
      "[CV] clf__max_features=5, clf__min_samples_leaf=30, clf__n_estimators=10, pca__n_components=0.95 \n",
      "[CV]  clf__max_features=5, clf__min_samples_leaf=30, clf__n_estimators=10, pca__n_components=0.9, score=0.4538982964012923, total=  15.0s\n",
      "[CV] clf__max_features=5, clf__min_samples_leaf=30, clf__n_estimators=10, pca__n_components=0.95 \n",
      "[CV]  clf__max_features=5, clf__min_samples_leaf=20, clf__n_estimators=10, pca__n_components=0.99, score=0.45111657024025215, total=  16.0s\n",
      "[CV] clf__max_features=5, clf__min_samples_leaf=30, clf__n_estimators=10, pca__n_components=0.95 \n"
     ]
    },
    {
     "name": "stderr",
     "output_type": "stream",
     "text": [
      "/Users/sartajsingh/anaconda3/lib/python3.6/site-packages/sklearn/metrics/classification.py:1135: UndefinedMetricWarning: F-score is ill-defined and being set to 0.0 in labels with no predicted samples.\n",
      "  'precision', 'predicted', average, warn_for)\n",
      "/Users/sartajsingh/anaconda3/lib/python3.6/site-packages/sklearn/metrics/classification.py:1135: UndefinedMetricWarning: F-score is ill-defined and being set to 0.0 in labels with no predicted samples.\n",
      "  'precision', 'predicted', average, warn_for)\n",
      "/Users/sartajsingh/anaconda3/lib/python3.6/site-packages/sklearn/metrics/classification.py:1135: UndefinedMetricWarning: F-score is ill-defined and being set to 0.0 in labels with no predicted samples.\n",
      "  'precision', 'predicted', average, warn_for)\n"
     ]
    },
    {
     "name": "stdout",
     "output_type": "stream",
     "text": [
      "[CV]  clf__max_features=5, clf__min_samples_leaf=30, clf__n_estimators=10, pca__n_components=0.9, score=0.4550522802074428, total=  14.7s\n",
      "[CV] clf__max_features=5, clf__min_samples_leaf=30, clf__n_estimators=10, pca__n_components=0.99 \n"
     ]
    },
    {
     "name": "stderr",
     "output_type": "stream",
     "text": [
      "/Users/sartajsingh/anaconda3/lib/python3.6/site-packages/sklearn/metrics/classification.py:1135: UndefinedMetricWarning: F-score is ill-defined and being set to 0.0 in labels with no predicted samples.\n",
      "  'precision', 'predicted', average, warn_for)\n"
     ]
    },
    {
     "name": "stdout",
     "output_type": "stream",
     "text": [
      "[CV]  clf__max_features=5, clf__min_samples_leaf=30, clf__n_estimators=10, pca__n_components=0.95, score=0.4514413238828505, total=  14.6s\n",
      "[CV] clf__max_features=5, clf__min_samples_leaf=30, clf__n_estimators=10, pca__n_components=0.99 \n",
      "[CV]  clf__max_features=5, clf__min_samples_leaf=30, clf__n_estimators=10, pca__n_components=0.95, score=0.45319541569851257, total=  15.0s\n",
      "[CV] clf__max_features=5, clf__min_samples_leaf=30, clf__n_estimators=10, pca__n_components=0.99 \n",
      "[CV]  clf__max_features=5, clf__min_samples_leaf=30, clf__n_estimators=10, pca__n_components=0.95, score=0.45223749122370116, total=  14.7s\n",
      "[CV] clf__max_features=7, clf__min_samples_leaf=10, clf__n_estimators=10, pca__n_components=0.9 \n"
     ]
    },
    {
     "name": "stderr",
     "output_type": "stream",
     "text": [
      "[Parallel(n_jobs=-1)]: Done  24 tasks      | elapsed:  1.8min\n",
      "/Users/sartajsingh/anaconda3/lib/python3.6/site-packages/sklearn/metrics/classification.py:1135: UndefinedMetricWarning: F-score is ill-defined and being set to 0.0 in labels with no predicted samples.\n",
      "  'precision', 'predicted', average, warn_for)\n",
      "/Users/sartajsingh/anaconda3/lib/python3.6/site-packages/sklearn/metrics/classification.py:1135: UndefinedMetricWarning: F-score is ill-defined and being set to 0.0 in labels with no predicted samples.\n",
      "  'precision', 'predicted', average, warn_for)\n",
      "/Users/sartajsingh/anaconda3/lib/python3.6/site-packages/sklearn/metrics/classification.py:1135: UndefinedMetricWarning: F-score is ill-defined and being set to 0.0 in labels with no predicted samples.\n",
      "  'precision', 'predicted', average, warn_for)\n"
     ]
    },
    {
     "name": "stdout",
     "output_type": "stream",
     "text": [
      "[CV]  clf__max_features=5, clf__min_samples_leaf=30, clf__n_estimators=10, pca__n_components=0.99, score=0.44303422711761725, total=  15.1s\n",
      "[CV] clf__max_features=7, clf__min_samples_leaf=10, clf__n_estimators=10, pca__n_components=0.9 \n",
      "[CV]  clf__max_features=5, clf__min_samples_leaf=30, clf__n_estimators=10, pca__n_components=0.99, score=0.4455848065369625, total=  15.0s\n",
      "[CV]  clf__max_features=5, clf__min_samples_leaf=30, clf__n_estimators=10, pca__n_components=0.99, score=0.44663752064985196, total=  14.9s\n",
      "[CV] clf__max_features=7, clf__min_samples_leaf=10, clf__n_estimators=10, pca__n_components=0.9 \n",
      "[CV] clf__max_features=7, clf__min_samples_leaf=10, clf__n_estimators=10, pca__n_components=0.95 \n",
      "[CV]  clf__max_features=7, clf__min_samples_leaf=10, clf__n_estimators=10, pca__n_components=0.9, score=0.4597942198483239, total=  22.0s\n",
      "[CV] clf__max_features=7, clf__min_samples_leaf=10, clf__n_estimators=10, pca__n_components=0.95 \n",
      "[CV]  clf__max_features=7, clf__min_samples_leaf=10, clf__n_estimators=10, pca__n_components=0.9, score=0.4599025204307698, total=  28.2s\n",
      "[CV] clf__max_features=7, clf__min_samples_leaf=10, clf__n_estimators=10, pca__n_components=0.95 \n",
      "[CV]  clf__max_features=7, clf__min_samples_leaf=10, clf__n_estimators=10, pca__n_components=0.9, score=0.46262631125420833, total=  28.2s\n",
      "[CV] clf__max_features=7, clf__min_samples_leaf=10, clf__n_estimators=10, pca__n_components=0.99 \n",
      "[CV]  clf__max_features=7, clf__min_samples_leaf=10, clf__n_estimators=10, pca__n_components=0.95, score=0.46184340954093006, total=  28.7s\n",
      "[CV] clf__max_features=7, clf__min_samples_leaf=10, clf__n_estimators=10, pca__n_components=0.99 \n",
      "[CV]  clf__max_features=7, clf__min_samples_leaf=10, clf__n_estimators=10, pca__n_components=0.95, score=0.4627753271197022, total=  30.8s\n",
      "[CV] clf__max_features=7, clf__min_samples_leaf=10, clf__n_estimators=10, pca__n_components=0.99 \n",
      "[CV]  clf__max_features=7, clf__min_samples_leaf=10, clf__n_estimators=10, pca__n_components=0.95, score=0.462770359247121, total=  26.0s\n",
      "[CV]  clf__max_features=7, clf__min_samples_leaf=10, clf__n_estimators=10, pca__n_components=0.99, score=0.45485467515454714, total=  25.7s\n",
      "[CV] clf__max_features=7, clf__min_samples_leaf=20, clf__n_estimators=10, pca__n_components=0.9 \n",
      "[CV] clf__max_features=7, clf__min_samples_leaf=20, clf__n_estimators=10, pca__n_components=0.9 \n",
      "[CV]  clf__max_features=7, clf__min_samples_leaf=10, clf__n_estimators=10, pca__n_components=0.99, score=0.45790256790148093, total=  26.2s\n",
      "[CV] clf__max_features=7, clf__min_samples_leaf=20, clf__n_estimators=10, pca__n_components=0.9 \n"
     ]
    },
    {
     "name": "stderr",
     "output_type": "stream",
     "text": [
      "/Users/sartajsingh/anaconda3/lib/python3.6/site-packages/sklearn/metrics/classification.py:1135: UndefinedMetricWarning: F-score is ill-defined and being set to 0.0 in labels with no predicted samples.\n",
      "  'precision', 'predicted', average, warn_for)\n"
     ]
    },
    {
     "name": "stdout",
     "output_type": "stream",
     "text": [
      "[CV]  clf__max_features=7, clf__min_samples_leaf=10, clf__n_estimators=10, pca__n_components=0.99, score=0.46017868151541, total=  24.3s\n",
      "[CV] clf__max_features=7, clf__min_samples_leaf=20, clf__n_estimators=10, pca__n_components=0.95 \n"
     ]
    },
    {
     "name": "stderr",
     "output_type": "stream",
     "text": [
      "/Users/sartajsingh/anaconda3/lib/python3.6/site-packages/sklearn/metrics/classification.py:1135: UndefinedMetricWarning: F-score is ill-defined and being set to 0.0 in labels with no predicted samples.\n",
      "  'precision', 'predicted', average, warn_for)\n",
      "/Users/sartajsingh/anaconda3/lib/python3.6/site-packages/sklearn/metrics/classification.py:1135: UndefinedMetricWarning: F-score is ill-defined and being set to 0.0 in labels with no predicted samples.\n",
      "  'precision', 'predicted', average, warn_for)\n",
      "/Users/sartajsingh/anaconda3/lib/python3.6/site-packages/sklearn/metrics/classification.py:1135: UndefinedMetricWarning: F-score is ill-defined and being set to 0.0 in labels with no predicted samples.\n",
      "  'precision', 'predicted', average, warn_for)\n"
     ]
    },
    {
     "name": "stdout",
     "output_type": "stream",
     "text": [
      "[CV]  clf__max_features=7, clf__min_samples_leaf=20, clf__n_estimators=10, pca__n_components=0.9, score=0.4604761678998119, total=  19.3s\n",
      "[CV] clf__max_features=7, clf__min_samples_leaf=20, clf__n_estimators=10, pca__n_components=0.95 \n",
      "[CV]  clf__max_features=7, clf__min_samples_leaf=20, clf__n_estimators=10, pca__n_components=0.9, score=0.4576757350099149, total=  20.0s\n",
      "[CV] clf__max_features=7, clf__min_samples_leaf=20, clf__n_estimators=10, pca__n_components=0.95 \n",
      "[CV]  clf__max_features=7, clf__min_samples_leaf=20, clf__n_estimators=10, pca__n_components=0.9, score=0.45856846702687504, total=  18.8s\n",
      "[CV] clf__max_features=7, clf__min_samples_leaf=20, clf__n_estimators=10, pca__n_components=0.99 \n",
      "[CV]  clf__max_features=7, clf__min_samples_leaf=20, clf__n_estimators=10, pca__n_components=0.95, score=0.4589583995729423, total=  19.2s\n",
      "[CV] clf__max_features=7, clf__min_samples_leaf=20, clf__n_estimators=10, pca__n_components=0.99 \n"
     ]
    },
    {
     "name": "stderr",
     "output_type": "stream",
     "text": [
      "/Users/sartajsingh/anaconda3/lib/python3.6/site-packages/sklearn/metrics/classification.py:1135: UndefinedMetricWarning: F-score is ill-defined and being set to 0.0 in labels with no predicted samples.\n",
      "  'precision', 'predicted', average, warn_for)\n",
      "/Users/sartajsingh/anaconda3/lib/python3.6/site-packages/sklearn/metrics/classification.py:1135: UndefinedMetricWarning: F-score is ill-defined and being set to 0.0 in labels with no predicted samples.\n",
      "  'precision', 'predicted', average, warn_for)\n",
      "/Users/sartajsingh/anaconda3/lib/python3.6/site-packages/sklearn/metrics/classification.py:1135: UndefinedMetricWarning: F-score is ill-defined and being set to 0.0 in labels with no predicted samples.\n",
      "  'precision', 'predicted', average, warn_for)\n"
     ]
    },
    {
     "name": "stdout",
     "output_type": "stream",
     "text": [
      "[CV]  clf__max_features=7, clf__min_samples_leaf=20, clf__n_estimators=10, pca__n_components=0.95, score=0.45761389285456544, total=  19.4s\n",
      "[CV] clf__max_features=7, clf__min_samples_leaf=20, clf__n_estimators=10, pca__n_components=0.99 \n",
      "[CV]  clf__max_features=7, clf__min_samples_leaf=20, clf__n_estimators=10, pca__n_components=0.99, score=0.4536195874480816, total=  19.0s\n",
      "[CV] clf__max_features=7, clf__min_samples_leaf=30, clf__n_estimators=10, pca__n_components=0.9 \n",
      "[CV]  clf__max_features=7, clf__min_samples_leaf=20, clf__n_estimators=10, pca__n_components=0.95, score=0.46145983658862544, total=  19.5s\n",
      "[CV] clf__max_features=7, clf__min_samples_leaf=30, clf__n_estimators=10, pca__n_components=0.9 \n"
     ]
    },
    {
     "name": "stderr",
     "output_type": "stream",
     "text": [
      "/Users/sartajsingh/anaconda3/lib/python3.6/site-packages/sklearn/metrics/classification.py:1135: UndefinedMetricWarning: F-score is ill-defined and being set to 0.0 in labels with no predicted samples.\n",
      "  'precision', 'predicted', average, warn_for)\n"
     ]
    },
    {
     "name": "stdout",
     "output_type": "stream",
     "text": [
      "[CV]  clf__max_features=7, clf__min_samples_leaf=20, clf__n_estimators=10, pca__n_components=0.99, score=0.45013801601739034, total=  19.1s\n",
      "[CV] clf__max_features=7, clf__min_samples_leaf=30, clf__n_estimators=10, pca__n_components=0.9 \n"
     ]
    },
    {
     "name": "stderr",
     "output_type": "stream",
     "text": [
      "/Users/sartajsingh/anaconda3/lib/python3.6/site-packages/sklearn/metrics/classification.py:1135: UndefinedMetricWarning: F-score is ill-defined and being set to 0.0 in labels with no predicted samples.\n",
      "  'precision', 'predicted', average, warn_for)\n",
      "/Users/sartajsingh/anaconda3/lib/python3.6/site-packages/sklearn/metrics/classification.py:1135: UndefinedMetricWarning: F-score is ill-defined and being set to 0.0 in labels with no predicted samples.\n",
      "  'precision', 'predicted', average, warn_for)\n",
      "/Users/sartajsingh/anaconda3/lib/python3.6/site-packages/sklearn/metrics/classification.py:1135: UndefinedMetricWarning: F-score is ill-defined and being set to 0.0 in labels with no predicted samples.\n",
      "  'precision', 'predicted', average, warn_for)\n"
     ]
    },
    {
     "name": "stdout",
     "output_type": "stream",
     "text": [
      "[CV]  clf__max_features=7, clf__min_samples_leaf=20, clf__n_estimators=10, pca__n_components=0.99, score=0.4531333355882765, total=  18.3s\n",
      "[CV]  clf__max_features=7, clf__min_samples_leaf=30, clf__n_estimators=10, pca__n_components=0.9, score=0.4524994379060747, total=  17.8s\n",
      "[CV] clf__max_features=7, clf__min_samples_leaf=30, clf__n_estimators=10, pca__n_components=0.95 \n",
      "[CV] clf__max_features=7, clf__min_samples_leaf=30, clf__n_estimators=10, pca__n_components=0.95 \n",
      "[CV]  clf__max_features=7, clf__min_samples_leaf=30, clf__n_estimators=10, pca__n_components=0.9, score=0.4547619398202581, total=  18.3s\n",
      "[CV] clf__max_features=7, clf__min_samples_leaf=30, clf__n_estimators=10, pca__n_components=0.95 \n"
     ]
    },
    {
     "name": "stderr",
     "output_type": "stream",
     "text": [
      "/Users/sartajsingh/anaconda3/lib/python3.6/site-packages/sklearn/metrics/classification.py:1135: UndefinedMetricWarning: F-score is ill-defined and being set to 0.0 in labels with no predicted samples.\n",
      "  'precision', 'predicted', average, warn_for)\n"
     ]
    },
    {
     "name": "stdout",
     "output_type": "stream",
     "text": [
      "[CV]  clf__max_features=7, clf__min_samples_leaf=30, clf__n_estimators=10, pca__n_components=0.9, score=0.45507855894997123, total=  18.1s\n",
      "[CV] clf__max_features=7, clf__min_samples_leaf=30, clf__n_estimators=10, pca__n_components=0.99 \n"
     ]
    },
    {
     "name": "stderr",
     "output_type": "stream",
     "text": [
      "/Users/sartajsingh/anaconda3/lib/python3.6/site-packages/sklearn/metrics/classification.py:1135: UndefinedMetricWarning: F-score is ill-defined and being set to 0.0 in labels with no predicted samples.\n",
      "  'precision', 'predicted', average, warn_for)\n",
      "/Users/sartajsingh/anaconda3/lib/python3.6/site-packages/sklearn/metrics/classification.py:1135: UndefinedMetricWarning: F-score is ill-defined and being set to 0.0 in labels with no predicted samples.\n",
      "  'precision', 'predicted', average, warn_for)\n",
      "/Users/sartajsingh/anaconda3/lib/python3.6/site-packages/sklearn/metrics/classification.py:1135: UndefinedMetricWarning: F-score is ill-defined and being set to 0.0 in labels with no predicted samples.\n",
      "  'precision', 'predicted', average, warn_for)\n"
     ]
    },
    {
     "name": "stdout",
     "output_type": "stream",
     "text": [
      "[CV]  clf__max_features=7, clf__min_samples_leaf=30, clf__n_estimators=10, pca__n_components=0.95, score=0.4530643360418999, total=  18.3s\n",
      "[CV] clf__max_features=7, clf__min_samples_leaf=30, clf__n_estimators=10, pca__n_components=0.99 \n",
      "[CV]  clf__max_features=7, clf__min_samples_leaf=30, clf__n_estimators=10, pca__n_components=0.95, score=0.4543305606875592, total=  18.6s\n",
      "[CV] clf__max_features=7, clf__min_samples_leaf=30, clf__n_estimators=10, pca__n_components=0.99 \n",
      "[CV]  clf__max_features=7, clf__min_samples_leaf=30, clf__n_estimators=10, pca__n_components=0.95, score=0.4534985167710672, total=  18.6s\n",
      "[CV] clf__max_features=9, clf__min_samples_leaf=10, clf__n_estimators=10, pca__n_components=0.9 \n"
     ]
    },
    {
     "name": "stderr",
     "output_type": "stream",
     "text": [
      "/Users/sartajsingh/anaconda3/lib/python3.6/site-packages/sklearn/metrics/classification.py:1135: UndefinedMetricWarning: F-score is ill-defined and being set to 0.0 in labels with no predicted samples.\n",
      "  'precision', 'predicted', average, warn_for)\n"
     ]
    },
    {
     "name": "stdout",
     "output_type": "stream",
     "text": [
      "[CV]  clf__max_features=7, clf__min_samples_leaf=30, clf__n_estimators=10, pca__n_components=0.99, score=0.4457823490878262, total=  18.4s\n",
      "[CV] clf__max_features=9, clf__min_samples_leaf=10, clf__n_estimators=10, pca__n_components=0.9 \n"
     ]
    },
    {
     "name": "stderr",
     "output_type": "stream",
     "text": [
      "/Users/sartajsingh/anaconda3/lib/python3.6/site-packages/sklearn/metrics/classification.py:1135: UndefinedMetricWarning: F-score is ill-defined and being set to 0.0 in labels with no predicted samples.\n",
      "  'precision', 'predicted', average, warn_for)\n",
      "/Users/sartajsingh/anaconda3/lib/python3.6/site-packages/sklearn/metrics/classification.py:1135: UndefinedMetricWarning: F-score is ill-defined and being set to 0.0 in labels with no predicted samples.\n",
      "  'precision', 'predicted', average, warn_for)\n"
     ]
    },
    {
     "name": "stdout",
     "output_type": "stream",
     "text": [
      "[CV]  clf__max_features=7, clf__min_samples_leaf=30, clf__n_estimators=10, pca__n_components=0.99, score=0.4480946849954826, total=  18.7s\n",
      "[CV]  clf__max_features=7, clf__min_samples_leaf=30, clf__n_estimators=10, pca__n_components=0.99, score=0.4477777920655442, total=  18.7s\n",
      "[CV] clf__max_features=9, clf__min_samples_leaf=10, clf__n_estimators=10, pca__n_components=0.9 \n",
      "[CV] clf__max_features=9, clf__min_samples_leaf=10, clf__n_estimators=10, pca__n_components=0.95 \n",
      "[CV]  clf__max_features=9, clf__min_samples_leaf=10, clf__n_estimators=10, pca__n_components=0.9, score=0.4599654749207051, total=  25.5s\n",
      "[CV] clf__max_features=9, clf__min_samples_leaf=10, clf__n_estimators=10, pca__n_components=0.95 \n",
      "[CV]  clf__max_features=9, clf__min_samples_leaf=10, clf__n_estimators=10, pca__n_components=0.9, score=0.46318448214295604, total=  25.9s\n",
      "[CV] clf__max_features=9, clf__min_samples_leaf=10, clf__n_estimators=10, pca__n_components=0.95 \n",
      "[CV]  clf__max_features=9, clf__min_samples_leaf=10, clf__n_estimators=10, pca__n_components=0.95, score=0.4625401335434154, total=  25.3s\n",
      "[CV]  clf__max_features=9, clf__min_samples_leaf=10, clf__n_estimators=10, pca__n_components=0.9, score=0.46265307566995567, total=  25.4s\n",
      "[CV] clf__max_features=9, clf__min_samples_leaf=10, clf__n_estimators=10, pca__n_components=0.99 \n",
      "[CV] clf__max_features=9, clf__min_samples_leaf=10, clf__n_estimators=10, pca__n_components=0.99 \n",
      "[CV]  clf__max_features=9, clf__min_samples_leaf=10, clf__n_estimators=10, pca__n_components=0.95, score=0.46398679885083793, total=  25.1s\n",
      "[CV] clf__max_features=9, clf__min_samples_leaf=10, clf__n_estimators=10, pca__n_components=0.99 \n",
      "[CV]  clf__max_features=9, clf__min_samples_leaf=10, clf__n_estimators=10, pca__n_components=0.95, score=0.4618903612659155, total=  25.6s\n",
      "[CV] clf__max_features=9, clf__min_samples_leaf=20, clf__n_estimators=10, pca__n_components=0.9 \n"
     ]
    },
    {
     "name": "stderr",
     "output_type": "stream",
     "text": [
      "/Users/sartajsingh/anaconda3/lib/python3.6/site-packages/sklearn/metrics/classification.py:1135: UndefinedMetricWarning: F-score is ill-defined and being set to 0.0 in labels with no predicted samples.\n",
      "  'precision', 'predicted', average, warn_for)\n"
     ]
    },
    {
     "name": "stdout",
     "output_type": "stream",
     "text": [
      "[CV]  clf__max_features=9, clf__min_samples_leaf=10, clf__n_estimators=10, pca__n_components=0.99, score=0.45589967884984794, total=  24.7s\n",
      "[CV] clf__max_features=9, clf__min_samples_leaf=20, clf__n_estimators=10, pca__n_components=0.9 \n",
      "[CV]  clf__max_features=9, clf__min_samples_leaf=10, clf__n_estimators=10, pca__n_components=0.99, score=0.46147113415954266, total=  24.8s\n",
      "[CV] clf__max_features=9, clf__min_samples_leaf=20, clf__n_estimators=10, pca__n_components=0.9 \n",
      "[CV]  clf__max_features=9, clf__min_samples_leaf=10, clf__n_estimators=10, pca__n_components=0.99, score=0.4600232425203338, total=  24.4s\n",
      "[CV] clf__max_features=9, clf__min_samples_leaf=20, clf__n_estimators=10, pca__n_components=0.95 \n",
      "[CV]  clf__max_features=9, clf__min_samples_leaf=20, clf__n_estimators=10, pca__n_components=0.9, score=0.45740255912884703, total=  24.0s\n",
      "[CV] clf__max_features=9, clf__min_samples_leaf=20, clf__n_estimators=10, pca__n_components=0.95 \n"
     ]
    },
    {
     "name": "stderr",
     "output_type": "stream",
     "text": [
      "/Users/sartajsingh/anaconda3/lib/python3.6/site-packages/sklearn/metrics/classification.py:1135: UndefinedMetricWarning: F-score is ill-defined and being set to 0.0 in labels with no predicted samples.\n",
      "  'precision', 'predicted', average, warn_for)\n"
     ]
    },
    {
     "name": "stdout",
     "output_type": "stream",
     "text": [
      "[CV]  clf__max_features=9, clf__min_samples_leaf=20, clf__n_estimators=10, pca__n_components=0.9, score=0.4605539722949595, total=  23.1s\n",
      "[CV] clf__max_features=9, clf__min_samples_leaf=20, clf__n_estimators=10, pca__n_components=0.95 \n"
     ]
    },
    {
     "name": "stderr",
     "output_type": "stream",
     "text": [
      "/Users/sartajsingh/anaconda3/lib/python3.6/site-packages/sklearn/metrics/classification.py:1135: UndefinedMetricWarning: F-score is ill-defined and being set to 0.0 in labels with no predicted samples.\n",
      "  'precision', 'predicted', average, warn_for)\n"
     ]
    },
    {
     "name": "stdout",
     "output_type": "stream",
     "text": [
      "[CV]  clf__max_features=9, clf__min_samples_leaf=20, clf__n_estimators=10, pca__n_components=0.9, score=0.4573961447313614, total=  24.7s\n",
      "[CV] clf__max_features=9, clf__min_samples_leaf=20, clf__n_estimators=10, pca__n_components=0.99 \n"
     ]
    },
    {
     "name": "stderr",
     "output_type": "stream",
     "text": [
      "/Users/sartajsingh/anaconda3/lib/python3.6/site-packages/sklearn/metrics/classification.py:1135: UndefinedMetricWarning: F-score is ill-defined and being set to 0.0 in labels with no predicted samples.\n",
      "  'precision', 'predicted', average, warn_for)\n"
     ]
    },
    {
     "name": "stdout",
     "output_type": "stream",
     "text": [
      "[CV]  clf__max_features=9, clf__min_samples_leaf=20, clf__n_estimators=10, pca__n_components=0.95, score=0.4572861917188619, total=  23.9s\n",
      "[CV] clf__max_features=9, clf__min_samples_leaf=20, clf__n_estimators=10, pca__n_components=0.99 \n"
     ]
    },
    {
     "name": "stderr",
     "output_type": "stream",
     "text": [
      "/Users/sartajsingh/anaconda3/lib/python3.6/site-packages/sklearn/metrics/classification.py:1135: UndefinedMetricWarning: F-score is ill-defined and being set to 0.0 in labels with no predicted samples.\n",
      "  'precision', 'predicted', average, warn_for)\n"
     ]
    },
    {
     "name": "stdout",
     "output_type": "stream",
     "text": [
      "[CV]  clf__max_features=9, clf__min_samples_leaf=20, clf__n_estimators=10, pca__n_components=0.95, score=0.45865944430594235, total=  23.2s\n",
      "[CV] clf__max_features=9, clf__min_samples_leaf=20, clf__n_estimators=10, pca__n_components=0.99 \n"
     ]
    },
    {
     "name": "stderr",
     "output_type": "stream",
     "text": [
      "/Users/sartajsingh/anaconda3/lib/python3.6/site-packages/sklearn/metrics/classification.py:1135: UndefinedMetricWarning: F-score is ill-defined and being set to 0.0 in labels with no predicted samples.\n",
      "  'precision', 'predicted', average, warn_for)\n"
     ]
    },
    {
     "name": "stdout",
     "output_type": "stream",
     "text": [
      "[CV]  clf__max_features=9, clf__min_samples_leaf=20, clf__n_estimators=10, pca__n_components=0.95, score=0.4576648358561938, total=  23.1s\n",
      "[CV] clf__max_features=9, clf__min_samples_leaf=30, clf__n_estimators=10, pca__n_components=0.9 \n"
     ]
    },
    {
     "name": "stderr",
     "output_type": "stream",
     "text": [
      "/Users/sartajsingh/anaconda3/lib/python3.6/site-packages/sklearn/metrics/classification.py:1135: UndefinedMetricWarning: F-score is ill-defined and being set to 0.0 in labels with no predicted samples.\n",
      "  'precision', 'predicted', average, warn_for)\n"
     ]
    },
    {
     "name": "stdout",
     "output_type": "stream",
     "text": [
      "[CV]  clf__max_features=9, clf__min_samples_leaf=20, clf__n_estimators=10, pca__n_components=0.99, score=0.45460019757686393, total=  23.9s\n",
      "[CV] clf__max_features=9, clf__min_samples_leaf=30, clf__n_estimators=10, pca__n_components=0.9 \n"
     ]
    },
    {
     "name": "stderr",
     "output_type": "stream",
     "text": [
      "/Users/sartajsingh/anaconda3/lib/python3.6/site-packages/sklearn/metrics/classification.py:1135: UndefinedMetricWarning: F-score is ill-defined and being set to 0.0 in labels with no predicted samples.\n",
      "  'precision', 'predicted', average, warn_for)\n"
     ]
    },
    {
     "name": "stdout",
     "output_type": "stream",
     "text": [
      "[CV]  clf__max_features=9, clf__min_samples_leaf=20, clf__n_estimators=10, pca__n_components=0.99, score=0.4551627848974068, total=  22.8s\n",
      "[CV] clf__max_features=9, clf__min_samples_leaf=30, clf__n_estimators=10, pca__n_components=0.9 \n"
     ]
    },
    {
     "name": "stderr",
     "output_type": "stream",
     "text": [
      "/Users/sartajsingh/anaconda3/lib/python3.6/site-packages/sklearn/metrics/classification.py:1135: UndefinedMetricWarning: F-score is ill-defined and being set to 0.0 in labels with no predicted samples.\n",
      "  'precision', 'predicted', average, warn_for)\n"
     ]
    },
    {
     "name": "stdout",
     "output_type": "stream",
     "text": [
      "[CV]  clf__max_features=9, clf__min_samples_leaf=20, clf__n_estimators=10, pca__n_components=0.99, score=0.45465053992717946, total= 3.1min\n",
      "[CV] clf__max_features=9, clf__min_samples_leaf=30, clf__n_estimators=10, pca__n_components=0.95 \n"
     ]
    },
    {
     "name": "stderr",
     "output_type": "stream",
     "text": [
      "/Users/sartajsingh/anaconda3/lib/python3.6/site-packages/sklearn/metrics/classification.py:1135: UndefinedMetricWarning: F-score is ill-defined and being set to 0.0 in labels with no predicted samples.\n",
      "  'precision', 'predicted', average, warn_for)\n"
     ]
    },
    {
     "name": "stdout",
     "output_type": "stream",
     "text": [
      "[CV]  clf__max_features=9, clf__min_samples_leaf=30, clf__n_estimators=10, pca__n_components=0.9, score=0.45640780812425275, total= 3.2min\n",
      "[CV] clf__max_features=9, clf__min_samples_leaf=30, clf__n_estimators=10, pca__n_components=0.95 \n"
     ]
    },
    {
     "name": "stderr",
     "output_type": "stream",
     "text": [
      "/Users/sartajsingh/anaconda3/lib/python3.6/site-packages/sklearn/metrics/classification.py:1135: UndefinedMetricWarning: F-score is ill-defined and being set to 0.0 in labels with no predicted samples.\n",
      "  'precision', 'predicted', average, warn_for)\n"
     ]
    },
    {
     "name": "stdout",
     "output_type": "stream",
     "text": [
      "[CV]  clf__max_features=9, clf__min_samples_leaf=30, clf__n_estimators=10, pca__n_components=0.9, score=0.45774781518190655, total= 3.2min\n",
      "[CV] clf__max_features=9, clf__min_samples_leaf=30, clf__n_estimators=10, pca__n_components=0.95 \n"
     ]
    },
    {
     "name": "stderr",
     "output_type": "stream",
     "text": [
      "/Users/sartajsingh/anaconda3/lib/python3.6/site-packages/sklearn/metrics/classification.py:1135: UndefinedMetricWarning: F-score is ill-defined and being set to 0.0 in labels with no predicted samples.\n",
      "  'precision', 'predicted', average, warn_for)\n"
     ]
    },
    {
     "name": "stdout",
     "output_type": "stream",
     "text": [
      "[CV]  clf__max_features=9, clf__min_samples_leaf=30, clf__n_estimators=10, pca__n_components=0.9, score=0.45802361436239675, total= 3.2min\n",
      "[CV] clf__max_features=9, clf__min_samples_leaf=30, clf__n_estimators=10, pca__n_components=0.99 \n"
     ]
    },
    {
     "name": "stderr",
     "output_type": "stream",
     "text": [
      "/Users/sartajsingh/anaconda3/lib/python3.6/site-packages/sklearn/metrics/classification.py:1135: UndefinedMetricWarning: F-score is ill-defined and being set to 0.0 in labels with no predicted samples.\n",
      "  'precision', 'predicted', average, warn_for)\n"
     ]
    },
    {
     "name": "stdout",
     "output_type": "stream",
     "text": [
      "[CV]  clf__max_features=9, clf__min_samples_leaf=30, clf__n_estimators=10, pca__n_components=0.95, score=0.45480728583729413, total=  31.6s\n",
      "[CV] clf__max_features=9, clf__min_samples_leaf=30, clf__n_estimators=10, pca__n_components=0.99 \n"
     ]
    },
    {
     "name": "stderr",
     "output_type": "stream",
     "text": [
      "/Users/sartajsingh/anaconda3/lib/python3.6/site-packages/sklearn/metrics/classification.py:1135: UndefinedMetricWarning: F-score is ill-defined and being set to 0.0 in labels with no predicted samples.\n",
      "  'precision', 'predicted', average, warn_for)\n"
     ]
    },
    {
     "name": "stdout",
     "output_type": "stream",
     "text": [
      "[CV]  clf__max_features=9, clf__min_samples_leaf=30, clf__n_estimators=10, pca__n_components=0.95, score=0.4570423505784837, total=  31.9s\n",
      "[CV] clf__max_features=9, clf__min_samples_leaf=30, clf__n_estimators=10, pca__n_components=0.99 \n"
     ]
    },
    {
     "name": "stderr",
     "output_type": "stream",
     "text": [
      "/Users/sartajsingh/anaconda3/lib/python3.6/site-packages/sklearn/metrics/classification.py:1135: UndefinedMetricWarning: F-score is ill-defined and being set to 0.0 in labels with no predicted samples.\n",
      "  'precision', 'predicted', average, warn_for)\n"
     ]
    },
    {
     "name": "stdout",
     "output_type": "stream",
     "text": [
      "[CV]  clf__max_features=9, clf__min_samples_leaf=30, clf__n_estimators=10, pca__n_components=0.95, score=0.45617967246225405, total=  29.9s\n"
     ]
    },
    {
     "name": "stderr",
     "output_type": "stream",
     "text": [
      "/Users/sartajsingh/anaconda3/lib/python3.6/site-packages/sklearn/metrics/classification.py:1135: UndefinedMetricWarning: F-score is ill-defined and being set to 0.0 in labels with no predicted samples.\n",
      "  'precision', 'predicted', average, warn_for)\n"
     ]
    },
    {
     "name": "stdout",
     "output_type": "stream",
     "text": [
      "[CV]  clf__max_features=9, clf__min_samples_leaf=30, clf__n_estimators=10, pca__n_components=0.99, score=0.4494152327504509, total=  30.4s\n"
     ]
    },
    {
     "name": "stderr",
     "output_type": "stream",
     "text": [
      "/Users/sartajsingh/anaconda3/lib/python3.6/site-packages/sklearn/metrics/classification.py:1135: UndefinedMetricWarning: F-score is ill-defined and being set to 0.0 in labels with no predicted samples.\n",
      "  'precision', 'predicted', average, warn_for)\n"
     ]
    },
    {
     "name": "stdout",
     "output_type": "stream",
     "text": [
      "[CV]  clf__max_features=9, clf__min_samples_leaf=30, clf__n_estimators=10, pca__n_components=0.99, score=0.4466174065112603, total=  27.5s\n"
     ]
    },
    {
     "name": "stderr",
     "output_type": "stream",
     "text": [
      "/Users/sartajsingh/anaconda3/lib/python3.6/site-packages/sklearn/metrics/classification.py:1135: UndefinedMetricWarning: F-score is ill-defined and being set to 0.0 in labels with no predicted samples.\n",
      "  'precision', 'predicted', average, warn_for)\n"
     ]
    },
    {
     "name": "stdout",
     "output_type": "stream",
     "text": [
      "[CV]  clf__max_features=9, clf__min_samples_leaf=30, clf__n_estimators=10, pca__n_components=0.99, score=0.4505560767515718, total=  17.1s\n"
     ]
    },
    {
     "name": "stderr",
     "output_type": "stream",
     "text": [
      "[Parallel(n_jobs=-1)]: Done  81 out of  81 | elapsed: 10.3min finished\n"
     ]
    },
    {
     "data": {
      "text/plain": [
       "GridSearchCV(cv=None, error_score='raise',\n",
       "       estimator=Pipeline(memory=None,\n",
       "     steps=[('scaler', MinMaxScaler(copy=True, feature_range=(0, 1))), ('pca', PCA(copy=True, iterated_power='auto', n_components=0.99, random_state=None,\n",
       "  svd_solver='auto', tol=0.0, whiten=False)), ('clf', RandomForestClassifier(bootstrap=True, class_weight=None, criterion='gini',\n",
       "            max_dept...n_jobs=1,\n",
       "            oob_score=False, random_state=None, verbose=0,\n",
       "            warm_start=False))]),\n",
       "       fit_params=None, iid=True, n_jobs=-1,\n",
       "       param_grid={'pca__n_components': [0.9, 0.95, 0.99], 'clf__n_estimators': [10], 'clf__min_samples_leaf': [10, 20, 30], 'clf__max_features': [5, 7, 9]},\n",
       "       pre_dispatch='2*n_jobs', refit=True, return_train_score=True,\n",
       "       scoring=make_scorer(f1_score, average=weighted), verbose=3)"
      ]
     },
     "execution_count": 325,
     "metadata": {},
     "output_type": "execute_result"
    }
   ],
   "source": [
    "params = {\n",
    "    'pca__n_components': [.9, .95, .99],\n",
    "    'clf__n_estimators': [10],\n",
    "    'clf__min_samples_leaf': [10, 20, 30],\n",
    "    'clf__max_features': [5, 7, 9]\n",
    "}\n",
    "grid = GridSearchCV(pipe, param_grid=params, scoring=grid_scorer, verbose=3, n_jobs=-1)\n",
    "grid.fit(X, y)"
   ]
  },
  {
   "cell_type": "code",
   "execution_count": 327,
   "metadata": {},
   "outputs": [
    {
     "data": {
      "text/plain": [
       "0.46280575942191055"
      ]
     },
     "execution_count": 327,
     "metadata": {},
     "output_type": "execute_result"
    }
   ],
   "source": [
    "grid.best_score_"
   ]
  },
  {
   "cell_type": "code",
   "execution_count": 328,
   "metadata": {},
   "outputs": [
    {
     "data": {
      "text/plain": [
       "Pipeline(memory=None,\n",
       "     steps=[('scaler', MinMaxScaler(copy=True, feature_range=(0, 1))), ('pca', PCA(copy=True, iterated_power='auto', n_components=0.95, random_state=None,\n",
       "  svd_solver='auto', tol=0.0, whiten=False)), ('clf', RandomForestClassifier(bootstrap=True, class_weight=None, criterion='gini',\n",
       "            max_dept...n_jobs=1,\n",
       "            oob_score=False, random_state=None, verbose=0,\n",
       "            warm_start=False))])"
      ]
     },
     "execution_count": 328,
     "metadata": {},
     "output_type": "execute_result"
    }
   ],
   "source": [
    "grid.best_estimator_"
   ]
  },
  {
   "cell_type": "code",
   "execution_count": 329,
   "metadata": {},
   "outputs": [
    {
     "data": {
      "text/plain": [
       "{'clf__max_features': 9,\n",
       " 'clf__min_samples_leaf': 10,\n",
       " 'clf__n_estimators': 10,\n",
       " 'pca__n_components': 0.95}"
      ]
     },
     "execution_count": 329,
     "metadata": {},
     "output_type": "execute_result"
    }
   ],
   "source": [
    "grid.best_params_"
   ]
  },
  {
   "cell_type": "code",
   "execution_count": 331,
   "metadata": {},
   "outputs": [
    {
     "data": {
      "text/html": [
       "<div>\n",
       "<style>\n",
       "    .dataframe thead tr:only-child th {\n",
       "        text-align: right;\n",
       "    }\n",
       "\n",
       "    .dataframe thead th {\n",
       "        text-align: left;\n",
       "    }\n",
       "\n",
       "    .dataframe tbody tr th {\n",
       "        vertical-align: top;\n",
       "    }\n",
       "</style>\n",
       "<table border=\"1\" class=\"dataframe\">\n",
       "  <thead>\n",
       "    <tr style=\"text-align: right;\">\n",
       "      <th></th>\n",
       "      <th>ID</th>\n",
       "      <th>attempts_range</th>\n",
       "    </tr>\n",
       "  </thead>\n",
       "  <tbody>\n",
       "    <tr>\n",
       "      <th>0</th>\n",
       "      <td>user_856_prob_5822</td>\n",
       "      <td>1</td>\n",
       "    </tr>\n",
       "    <tr>\n",
       "      <th>1</th>\n",
       "      <td>user_2642_prob_2334</td>\n",
       "      <td>2</td>\n",
       "    </tr>\n",
       "    <tr>\n",
       "      <th>2</th>\n",
       "      <td>user_2557_prob_2920</td>\n",
       "      <td>1</td>\n",
       "    </tr>\n",
       "    <tr>\n",
       "      <th>3</th>\n",
       "      <td>user_1572_prob_4598</td>\n",
       "      <td>1</td>\n",
       "    </tr>\n",
       "    <tr>\n",
       "      <th>4</th>\n",
       "      <td>user_295_prob_6139</td>\n",
       "      <td>1</td>\n",
       "    </tr>\n",
       "  </tbody>\n",
       "</table>\n",
       "</div>"
      ],
      "text/plain": [
       "                    ID  attempts_range\n",
       "0   user_856_prob_5822               1\n",
       "1  user_2642_prob_2334               2\n",
       "2  user_2557_prob_2920               1\n",
       "3  user_1572_prob_4598               1\n",
       "4   user_295_prob_6139               1"
      ]
     },
     "execution_count": 331,
     "metadata": {},
     "output_type": "execute_result"
    }
   ],
   "source": [
    "make_submission(grid.best_estimator_, test_df, 'random5.csv').head()"
   ]
  },
  {
   "cell_type": "markdown",
   "metadata": {},
   "source": [
    "### Feature Selection again"
   ]
  },
  {
   "cell_type": "code",
   "execution_count": 332,
   "metadata": {},
   "outputs": [
    {
     "data": {
      "text/html": [
       "<div>\n",
       "<style>\n",
       "    .dataframe thead tr:only-child th {\n",
       "        text-align: right;\n",
       "    }\n",
       "\n",
       "    .dataframe thead th {\n",
       "        text-align: left;\n",
       "    }\n",
       "\n",
       "    .dataframe tbody tr th {\n",
       "        vertical-align: top;\n",
       "    }\n",
       "</style>\n",
       "<table border=\"1\" class=\"dataframe\">\n",
       "  <thead>\n",
       "    <tr style=\"text-align: right;\">\n",
       "      <th></th>\n",
       "      <th>points</th>\n",
       "      <th>submission_count</th>\n",
       "      <th>problem_solved</th>\n",
       "      <th>contribution</th>\n",
       "      <th>follower_count</th>\n",
       "      <th>max_rating</th>\n",
       "      <th>rating</th>\n",
       "      <th>level_A</th>\n",
       "      <th>level_B</th>\n",
       "      <th>level_C</th>\n",
       "      <th>...</th>\n",
       "      <th>United Kingdom</th>\n",
       "      <th>United States</th>\n",
       "      <th>Uzbekistan</th>\n",
       "      <th>Venezuela</th>\n",
       "      <th>Vietnam</th>\n",
       "      <th>rank_advanced</th>\n",
       "      <th>rank_beginner</th>\n",
       "      <th>rank_expert</th>\n",
       "      <th>rank_intermediate</th>\n",
       "      <th>online</th>\n",
       "    </tr>\n",
       "  </thead>\n",
       "  <tbody>\n",
       "    <tr>\n",
       "      <th>0</th>\n",
       "      <td>1000.0</td>\n",
       "      <td>53</td>\n",
       "      <td>47</td>\n",
       "      <td>0</td>\n",
       "      <td>1</td>\n",
       "      <td>307.913</td>\n",
       "      <td>206.709</td>\n",
       "      <td>0</td>\n",
       "      <td>1</td>\n",
       "      <td>0</td>\n",
       "      <td>...</td>\n",
       "      <td>0</td>\n",
       "      <td>0</td>\n",
       "      <td>0</td>\n",
       "      <td>0</td>\n",
       "      <td>0</td>\n",
       "      <td>0</td>\n",
       "      <td>1</td>\n",
       "      <td>0</td>\n",
       "      <td>0</td>\n",
       "      <td>71522843</td>\n",
       "    </tr>\n",
       "    <tr>\n",
       "      <th>1</th>\n",
       "      <td>1500.0</td>\n",
       "      <td>133</td>\n",
       "      <td>118</td>\n",
       "      <td>0</td>\n",
       "      <td>0</td>\n",
       "      <td>324.255</td>\n",
       "      <td>235.378</td>\n",
       "      <td>0</td>\n",
       "      <td>0</td>\n",
       "      <td>1</td>\n",
       "      <td>...</td>\n",
       "      <td>0</td>\n",
       "      <td>0</td>\n",
       "      <td>0</td>\n",
       "      <td>0</td>\n",
       "      <td>0</td>\n",
       "      <td>0</td>\n",
       "      <td>1</td>\n",
       "      <td>0</td>\n",
       "      <td>0</td>\n",
       "      <td>47535708</td>\n",
       "    </tr>\n",
       "    <tr>\n",
       "      <th>2</th>\n",
       "      <td>500.0</td>\n",
       "      <td>50</td>\n",
       "      <td>44</td>\n",
       "      <td>0</td>\n",
       "      <td>7</td>\n",
       "      <td>343.177</td>\n",
       "      <td>229.358</td>\n",
       "      <td>1</td>\n",
       "      <td>0</td>\n",
       "      <td>0</td>\n",
       "      <td>...</td>\n",
       "      <td>0</td>\n",
       "      <td>0</td>\n",
       "      <td>0</td>\n",
       "      <td>0</td>\n",
       "      <td>0</td>\n",
       "      <td>0</td>\n",
       "      <td>1</td>\n",
       "      <td>0</td>\n",
       "      <td>0</td>\n",
       "      <td>31228669</td>\n",
       "    </tr>\n",
       "    <tr>\n",
       "      <th>3</th>\n",
       "      <td>500.0</td>\n",
       "      <td>271</td>\n",
       "      <td>233</td>\n",
       "      <td>23</td>\n",
       "      <td>40</td>\n",
       "      <td>436.927</td>\n",
       "      <td>399.083</td>\n",
       "      <td>1</td>\n",
       "      <td>0</td>\n",
       "      <td>0</td>\n",
       "      <td>...</td>\n",
       "      <td>0</td>\n",
       "      <td>0</td>\n",
       "      <td>0</td>\n",
       "      <td>0</td>\n",
       "      <td>0</td>\n",
       "      <td>0</td>\n",
       "      <td>0</td>\n",
       "      <td>0</td>\n",
       "      <td>1</td>\n",
       "      <td>57438471</td>\n",
       "    </tr>\n",
       "    <tr>\n",
       "      <th>4</th>\n",
       "      <td>2000.0</td>\n",
       "      <td>155</td>\n",
       "      <td>135</td>\n",
       "      <td>0</td>\n",
       "      <td>80</td>\n",
       "      <td>492.546</td>\n",
       "      <td>472.190</td>\n",
       "      <td>0</td>\n",
       "      <td>0</td>\n",
       "      <td>0</td>\n",
       "      <td>...</td>\n",
       "      <td>0</td>\n",
       "      <td>0</td>\n",
       "      <td>0</td>\n",
       "      <td>0</td>\n",
       "      <td>0</td>\n",
       "      <td>1</td>\n",
       "      <td>0</td>\n",
       "      <td>0</td>\n",
       "      <td>0</td>\n",
       "      <td>67697192</td>\n",
       "    </tr>\n",
       "  </tbody>\n",
       "</table>\n",
       "<p>5 rows × 142 columns</p>\n",
       "</div>"
      ],
      "text/plain": [
       "   points  submission_count  problem_solved  contribution  follower_count  \\\n",
       "0  1000.0                53              47             0               1   \n",
       "1  1500.0               133             118             0               0   \n",
       "2   500.0                50              44             0               7   \n",
       "3   500.0               271             233            23              40   \n",
       "4  2000.0               155             135             0              80   \n",
       "\n",
       "   max_rating   rating  level_A  level_B  level_C    ...     United Kingdom  \\\n",
       "0     307.913  206.709        0        1        0    ...                  0   \n",
       "1     324.255  235.378        0        0        1    ...                  0   \n",
       "2     343.177  229.358        1        0        0    ...                  0   \n",
       "3     436.927  399.083        1        0        0    ...                  0   \n",
       "4     492.546  472.190        0        0        0    ...                  0   \n",
       "\n",
       "   United States  Uzbekistan  Venezuela  Vietnam  rank_advanced  \\\n",
       "0              0           0          0        0              0   \n",
       "1              0           0          0        0              0   \n",
       "2              0           0          0        0              0   \n",
       "3              0           0          0        0              0   \n",
       "4              0           0          0        0              1   \n",
       "\n",
       "   rank_beginner  rank_expert  rank_intermediate    online  \n",
       "0              1            0                  0  71522843  \n",
       "1              1            0                  0  47535708  \n",
       "2              1            0                  0  31228669  \n",
       "3              0            0                  1  57438471  \n",
       "4              0            0                  0  67697192  \n",
       "\n",
       "[5 rows x 142 columns]"
      ]
     },
     "execution_count": 332,
     "metadata": {},
     "output_type": "execute_result"
    }
   ],
   "source": [
    "X.head()"
   ]
  },
  {
   "cell_type": "code",
   "execution_count": 360,
   "metadata": {},
   "outputs": [
    {
     "data": {
      "text/plain": [
       "['India',\n",
       " 'Bangladesh',\n",
       " 'Russia',\n",
       " 'China',\n",
       " 'Egypt',\n",
       " 'Kazakhstan',\n",
       " 'Vietnam',\n",
       " 'Brazil',\n",
       " 'Iran',\n",
       " 'Ukraine',\n",
       " 'Belarus',\n",
       " 'Japan',\n",
       " 'Syria',\n",
       " 'United States',\n",
       " 'Romania',\n",
       " 'Poland']"
      ]
     },
     "execution_count": 360,
     "metadata": {},
     "output_type": "execute_result"
    }
   ],
   "source": [
    "list(((countries.value_counts() / X.shape[0]) * 100).nlargest(16).index)"
   ]
  },
  {
   "cell_type": "markdown",
   "metadata": {},
   "source": [
    "### Let's start by computing feature importances"
   ]
  },
  {
   "cell_type": "code",
   "execution_count": 361,
   "metadata": {},
   "outputs": [
    {
     "data": {
      "text/plain": [
       "Pipeline(memory=None,\n",
       "     steps=[('scaler', MinMaxScaler(copy=True, feature_range=(0, 1))), ('clf', RandomForestClassifier(bootstrap=True, class_weight=None, criterion='gini',\n",
       "            max_depth=None, max_features='auto', max_leaf_nodes=None,\n",
       "            min_impurity_decrease=0.0, min_impurity_split=None,\n",
       "            min_samples_leaf=1, min_samples_split=2,\n",
       "            min_weight_fraction_leaf=0.0, n_estimators=10, n_jobs=1,\n",
       "            oob_score=False, random_state=None, verbose=0,\n",
       "            warm_start=False))])"
      ]
     },
     "execution_count": 361,
     "metadata": {},
     "output_type": "execute_result"
    }
   ],
   "source": [
    "scaler = MinMaxScaler()\n",
    "clf = RandomForestClassifier()\n",
    "steps = [('scaler', scaler), ('clf', clf)]\n",
    "pipe = Pipeline(steps)\n",
    "pipe"
   ]
  },
  {
   "cell_type": "code",
   "execution_count": 365,
   "metadata": {},
   "outputs": [
    {
     "data": {
      "text/plain": [
       "Pipeline(memory=None,\n",
       "     steps=[('scaler', MinMaxScaler(copy=True, feature_range=(0, 1))), ('clf', RandomForestClassifier(bootstrap=True, class_weight=None, criterion='gini',\n",
       "            max_depth=None, max_features='auto', max_leaf_nodes=None,\n",
       "            min_impurity_decrease=0.0, min_impurity_split=None,\n",
       "            min_samples_leaf=1, min_samples_split=2,\n",
       "            min_weight_fraction_leaf=0.0, n_estimators=10, n_jobs=1,\n",
       "            oob_score=False, random_state=None, verbose=0,\n",
       "            warm_start=False))])"
      ]
     },
     "execution_count": 365,
     "metadata": {},
     "output_type": "execute_result"
    }
   ],
   "source": [
    "pipe.fit(X, y)"
   ]
  },
  {
   "cell_type": "code",
   "execution_count": 368,
   "metadata": {},
   "outputs": [
    {
     "data": {
      "text/plain": [
       "[('online', 0.091428482614776832),\n",
       " ('rating', 0.091069965203144379),\n",
       " ('max_rating', 0.090338545579759982),\n",
       " ('submission_count', 0.087217981294290051),\n",
       " ('problem_solved', 0.086978769277144388),\n",
       " ('follower_count', 0.082070945390940259),\n",
       " ('contribution', 0.041471129064877821),\n",
       " ('points', 0.034982777712559053),\n",
       " ('brute-force', 0.025130922885063012),\n",
       " ('implementation', 0.023602879474024129),\n",
       " ('math', 0.021557223747094241),\n",
       " ('greedy', 0.021135356875393297),\n",
       " ('sortings', 0.016499400883552912),\n",
       " ('constructive-algorithms', 0.015593651357642171),\n",
       " ('India', 0.01291819765204077),\n",
       " ('strings', 0.011364091841411073),\n",
       " ('data-structures', 0.010889207331630216),\n",
       " ('dp', 0.010822618666587123),\n",
       " ('binary-search', 0.0101583435565168),\n",
       " ('number-theory', 0.0085779874519857462),\n",
       " ('level_A', 0.0085190129466662916),\n",
       " ('Bangladesh', 0.0077187319224886267),\n",
       " ('dfs-and-similar', 0.0072266796695201656),\n",
       " ('Russia', 0.0068501030869789984),\n",
       " ('level_C', 0.0060799919639886717),\n",
       " ('China', 0.006053615987317287),\n",
       " ('graphs', 0.0059591303671887915),\n",
       " ('rank_intermediate', 0.0054231560772711072),\n",
       " ('level_D', 0.0053332084752551814),\n",
       " ('two-pointers', 0.0051208549755713479),\n",
       " ('trees', 0.0049073093411708619),\n",
       " ('level_B', 0.0048249408095807338),\n",
       " ('geometry', 0.0047765232301044888),\n",
       " ('Egypt', 0.0040999272631528239),\n",
       " ('Kazakhstan', 0.0040825123021432843),\n",
       " ('rank_beginner', 0.0040584042784574045),\n",
       " ('combinatorics', 0.0039187977363880529),\n",
       " ('Vietnam', 0.0036094525865155666),\n",
       " ('games', 0.0035975448839241377),\n",
       " ('Iran', 0.0035254139621132092),\n",
       " ('rank_advanced', 0.003392966140938035),\n",
       " ('Brazil', 0.0033754540387752456),\n",
       " ('Ukraine', 0.003359328509790112),\n",
       " ('level_F', 0.0033592169150025706),\n",
       " ('level_E', 0.003282402751817503),\n",
       " ('Belarus', 0.003110256082031687),\n",
       " ('level_G', 0.0030994429289563029),\n",
       " ('dsu', 0.0029171278235655164),\n",
       " ('bitmasks', 0.0028487778167813993),\n",
       " ('United States', 0.0027004951479533035),\n",
       " ('Romania', 0.002698169815784017),\n",
       " ('Japan', 0.0026703525777552915),\n",
       " ('shortest-paths', 0.002460474794872187),\n",
       " ('level_H', 0.0024322746779192458),\n",
       " ('hashing', 0.0024269737224514427),\n",
       " ('Syria', 0.0023706868014857388),\n",
       " ('level_J', 0.0022433151904679262),\n",
       " ('level_I', 0.0022242612922495357),\n",
       " ('probabilities', 0.0019959030983192185),\n",
       " ('Poland', 0.0019644668732351155),\n",
       " ('level_K', 0.0019563269773503278),\n",
       " ('*special', 0.0018636888325277608),\n",
       " ('divide-and-conquer', 0.001759602606150512),\n",
       " ('South Korea', 0.0017492250031721386),\n",
       " ('Uzbekistan', 0.0016703976898490721),\n",
       " ('Croatia', 0.0015157201354182024),\n",
       " ('level_L', 0.0013808119088663557),\n",
       " ('Taiwan', 0.0013449258704876302),\n",
       " ('Indonesia', 0.0012785200040430153),\n",
       " ('Mexico', 0.001216806261772002),\n",
       " ('Moldova', 0.0012165018861910171),\n",
       " ('rank_expert', 0.0011200921715400131),\n",
       " ('Jordan', 0.0010980932943753362),\n",
       " ('level_O', 0.00104928881483458),\n",
       " ('matrices', 0.0010289059149322494),\n",
       " ('Georgia', 0.0010227140469975535),\n",
       " ('expression-parsing', 0.00099314153788468331),\n",
       " ('Peru', 0.00092526183596104131),\n",
       " ('Argentina', 0.00090971220000031982),\n",
       " ('ternary-search', 0.00083745329821318976),\n",
       " ('graph-matchings', 0.00080434064828966583),\n",
       " ('flows', 0.00077203278820122258),\n",
       " ('string-suffix-structures', 0.00071087965853675755),\n",
       " ('level_M', 0.00070113959105146475),\n",
       " ('Colombia', 0.00062249377818016354),\n",
       " ('Germany', 0.0006096328660649753),\n",
       " ('Azerbaijan', 0.00059890003912560518),\n",
       " ('Hong Kong', 0.00059713701454158015),\n",
       " ('Thailand', 0.00057047663671753275),\n",
       " ('Kyrgyzstan', 0.0005610065409967517),\n",
       " ('Cuba', 0.00055639655322223714),\n",
       " ('Bolivia', 0.00055176203511016631),\n",
       " ('Tajikistan', 0.00050450180088627622),\n",
       " ('Mongolia', 0.0004947829211273475),\n",
       " ('Canada', 0.00047130145930888198),\n",
       " ('2-sat', 0.00044493744415098347),\n",
       " ('Czechia', 0.00043746394808032857),\n",
       " ('Lithuania', 0.0004272165586452194),\n",
       " ('Singapore', 0.00042273176435486247),\n",
       " ('Hungary', 0.00041557149069542971),\n",
       " ('meet-in-the-middle', 0.00038973280275156504),\n",
       " ('Armenia', 0.00038874890965709668),\n",
       " ('Finland', 0.00037748537535833686),\n",
       " ('Bulgaria', 0.00037224216850578913),\n",
       " ('Italy', 0.00033651089482026025),\n",
       " ('fft', 0.00033203639061908207),\n",
       " ('Serbia', 0.00032313235317170614),\n",
       " ('Tunisia', 0.00032080135308672366),\n",
       " ('Estonia', 0.00030817202300366912),\n",
       " ('Turkmenistan', 0.00029593801374851837),\n",
       " ('Morocco', 0.00029233204744801521),\n",
       " ('Macedonia', 0.00027484731180963887),\n",
       " ('Netherlands', 0.00027442859883635383),\n",
       " ('United Kingdom', 0.00026331340844717066),\n",
       " ('Malaysia', 0.00026003798682909903),\n",
       " ('North Korea', 0.00025244079398361772),\n",
       " ('schedules', 0.00024997813146055879),\n",
       " ('Slovakia', 0.00022797089749095701),\n",
       " ('Austria', 0.00022358586413599775),\n",
       " ('level_N', 0.00022257973834727092),\n",
       " ('Spain', 0.00022062385940526183),\n",
       " ('Chile', 0.00020684859843607401),\n",
       " ('Switzerland', 0.00018314280294991594),\n",
       " ('Venezuela', 0.00017863425772703917),\n",
       " ('Bosnia and Herzegovina', 0.00016444940446553054),\n",
       " ('France', 0.00014584926042534124),\n",
       " ('Australia', 0.0001324915761512562),\n",
       " ('South Africa', 0.00012661603596924578),\n",
       " ('Latvia', 0.00011726683550647256),\n",
       " ('chinese-remainder-theorem', 0.00011082324176527442),\n",
       " ('Christmas Island', 0.00011068701561598425),\n",
       " ('Costa Rica', 9.8287305184474808e-05),\n",
       " ('Israel', 9.310198887894832e-05),\n",
       " ('Laos', 8.2532762429753177e-05),\n",
       " ('Trinidad and Tobago', 7.8483625999965827e-05),\n",
       " ('Lebanon', 7.6256248547851215e-05),\n",
       " ('Philippines', 6.2774335670541878e-05),\n",
       " ('Norway', 5.7166500490476185e-05),\n",
       " ('Iceland', 4.7422593679147476e-05),\n",
       " ('Swaziland', 4.4785667054825011e-05),\n",
       " ('Haiti', 2.4306614978894402e-05),\n",
       " ('Belgium', 1.3101850919218949e-05)]"
      ]
     },
     "execution_count": 368,
     "metadata": {},
     "output_type": "execute_result"
    }
   ],
   "source": [
    "fea_imp = sorted(zip(X.columns, pipe.named_steps['clf'].feature_importances_), key=lambda x: x[1], reverse=True)\n",
    "fea_imp"
   ]
  },
  {
   "cell_type": "code",
   "execution_count": 373,
   "metadata": {},
   "outputs": [
    {
     "data": {
      "text/html": [
       "<div>\n",
       "<style>\n",
       "    .dataframe thead tr:only-child th {\n",
       "        text-align: right;\n",
       "    }\n",
       "\n",
       "    .dataframe thead th {\n",
       "        text-align: left;\n",
       "    }\n",
       "\n",
       "    .dataframe tbody tr th {\n",
       "        vertical-align: top;\n",
       "    }\n",
       "</style>\n",
       "<table border=\"1\" class=\"dataframe\">\n",
       "  <thead>\n",
       "    <tr style=\"text-align: right;\">\n",
       "      <th></th>\n",
       "      <th>fea</th>\n",
       "      <th>imp</th>\n",
       "    </tr>\n",
       "  </thead>\n",
       "  <tbody>\n",
       "    <tr>\n",
       "      <th>0</th>\n",
       "      <td>online</td>\n",
       "      <td>0.091428</td>\n",
       "    </tr>\n",
       "    <tr>\n",
       "      <th>1</th>\n",
       "      <td>rating</td>\n",
       "      <td>0.091070</td>\n",
       "    </tr>\n",
       "    <tr>\n",
       "      <th>2</th>\n",
       "      <td>max_rating</td>\n",
       "      <td>0.090339</td>\n",
       "    </tr>\n",
       "    <tr>\n",
       "      <th>3</th>\n",
       "      <td>submission_count</td>\n",
       "      <td>0.087218</td>\n",
       "    </tr>\n",
       "    <tr>\n",
       "      <th>4</th>\n",
       "      <td>problem_solved</td>\n",
       "      <td>0.086979</td>\n",
       "    </tr>\n",
       "  </tbody>\n",
       "</table>\n",
       "</div>"
      ],
      "text/plain": [
       "                fea       imp\n",
       "0            online  0.091428\n",
       "1            rating  0.091070\n",
       "2        max_rating  0.090339\n",
       "3  submission_count  0.087218\n",
       "4    problem_solved  0.086979"
      ]
     },
     "execution_count": 373,
     "metadata": {},
     "output_type": "execute_result"
    }
   ],
   "source": [
    "fea_imp = pd.DataFrame(fea_imp, columns=['fea', 'imp'])\n",
    "fea_imp.head()"
   ]
  },
  {
   "cell_type": "code",
   "execution_count": 374,
   "metadata": {},
   "outputs": [
    {
     "data": {
      "text/html": [
       "<div>\n",
       "<style>\n",
       "    .dataframe thead tr:only-child th {\n",
       "        text-align: right;\n",
       "    }\n",
       "\n",
       "    .dataframe thead th {\n",
       "        text-align: left;\n",
       "    }\n",
       "\n",
       "    .dataframe tbody tr th {\n",
       "        vertical-align: top;\n",
       "    }\n",
       "</style>\n",
       "<table border=\"1\" class=\"dataframe\">\n",
       "  <thead>\n",
       "    <tr style=\"text-align: right;\">\n",
       "      <th></th>\n",
       "      <th>fea</th>\n",
       "      <th>imp</th>\n",
       "    </tr>\n",
       "  </thead>\n",
       "  <tbody>\n",
       "    <tr>\n",
       "      <th>0</th>\n",
       "      <td>online</td>\n",
       "      <td>0.091428</td>\n",
       "    </tr>\n",
       "    <tr>\n",
       "      <th>1</th>\n",
       "      <td>rating</td>\n",
       "      <td>0.091070</td>\n",
       "    </tr>\n",
       "    <tr>\n",
       "      <th>2</th>\n",
       "      <td>max_rating</td>\n",
       "      <td>0.090339</td>\n",
       "    </tr>\n",
       "    <tr>\n",
       "      <th>3</th>\n",
       "      <td>submission_count</td>\n",
       "      <td>0.087218</td>\n",
       "    </tr>\n",
       "    <tr>\n",
       "      <th>4</th>\n",
       "      <td>problem_solved</td>\n",
       "      <td>0.086979</td>\n",
       "    </tr>\n",
       "  </tbody>\n",
       "</table>\n",
       "</div>"
      ],
      "text/plain": [
       "                fea       imp\n",
       "0            online  0.091428\n",
       "1            rating  0.091070\n",
       "2        max_rating  0.090339\n",
       "3  submission_count  0.087218\n",
       "4    problem_solved  0.086979"
      ]
     },
     "execution_count": 374,
     "metadata": {},
     "output_type": "execute_result"
    }
   ],
   "source": [
    "fea_imp.head()"
   ]
  },
  {
   "cell_type": "code",
   "execution_count": 376,
   "metadata": {},
   "outputs": [
    {
     "data": {
      "text/plain": [
       "(142, 2)"
      ]
     },
     "execution_count": 376,
     "metadata": {},
     "output_type": "execute_result"
    }
   ],
   "source": [
    "fea_imp.shape"
   ]
  },
  {
   "cell_type": "code",
   "execution_count": 386,
   "metadata": {},
   "outputs": [
    {
     "data": {
      "text/plain": [
       "131"
      ]
     },
     "execution_count": 386,
     "metadata": {},
     "output_type": "execute_result"
    }
   ],
   "source": [
    "fea_0001 = list(fea_imp[(fea_imp.imp > .0001)].fea)\n",
    "len(fea_0001)"
   ]
  },
  {
   "cell_type": "code",
   "execution_count": 387,
   "metadata": {},
   "outputs": [
    {
     "data": {
      "text/plain": [
       "76"
      ]
     },
     "execution_count": 387,
     "metadata": {},
     "output_type": "execute_result"
    }
   ],
   "source": [
    "fea_001 = list(fea_imp[(fea_imp.imp > .001)].fea)\n",
    "len(fea_001)"
   ]
  },
  {
   "cell_type": "code",
   "execution_count": 390,
   "metadata": {},
   "outputs": [
    {
     "data": {
      "text/plain": [
       "Pipeline(memory=None,\n",
       "     steps=[('scaler', MinMaxScaler(copy=True, feature_range=(0, 1))), ('pca', PCA(copy=True, iterated_power='auto', n_components=None, random_state=None,\n",
       "  svd_solver='auto', tol=0.0, whiten=False)), ('clf', RandomForestClassifier(bootstrap=True, class_weight=None, criterion='gini',\n",
       "            max_dept...n_jobs=1,\n",
       "            oob_score=False, random_state=None, verbose=0,\n",
       "            warm_start=False))])"
      ]
     },
     "execution_count": 390,
     "metadata": {},
     "output_type": "execute_result"
    }
   ],
   "source": [
    "scaler = MinMaxScaler()\n",
    "clf = RandomForestClassifier()\n",
    "pca = PCA()\n",
    "steps = [('scaler', scaler), ('pca', pca), ('clf', clf)]\n",
    "pipe = Pipeline(steps)\n",
    "pipe"
   ]
  },
  {
   "cell_type": "code",
   "execution_count": 391,
   "metadata": {},
   "outputs": [
    {
     "data": {
      "text/plain": [
       "Pipeline(memory=None,\n",
       "     steps=[('scaler', MinMaxScaler(copy=True, feature_range=(0, 1))), ('pca', PCA(copy=True, iterated_power='auto', n_components=None, random_state=None,\n",
       "  svd_solver='auto', tol=0.0, whiten=False)), ('clf', RandomForestClassifier(bootstrap=True, class_weight=None, criterion='gini',\n",
       "            max_dept...n_jobs=1,\n",
       "            oob_score=False, random_state=None, verbose=0,\n",
       "            warm_start=False))])"
      ]
     },
     "execution_count": 391,
     "metadata": {},
     "output_type": "execute_result"
    }
   ],
   "source": [
    "pipe.fit(X_train[fea_001], y_train)"
   ]
  },
  {
   "cell_type": "code",
   "execution_count": 392,
   "metadata": {},
   "outputs": [
    {
     "data": {
      "text/plain": [
       "0.45649578533229496"
      ]
     },
     "execution_count": 392,
     "metadata": {},
     "output_type": "execute_result"
    }
   ],
   "source": [
    "scorer(y_test, pipe.predict(X_test[fea_001]))"
   ]
  },
  {
   "cell_type": "markdown",
   "metadata": {},
   "source": [
    "### Re tuning Rf"
   ]
  },
  {
   "cell_type": "code",
   "execution_count": 490,
   "metadata": {},
   "outputs": [
    {
     "data": {
      "text/plain": [
       "Pipeline(memory=None,\n",
       "     steps=[('scaler', MinMaxScaler(copy=True, feature_range=(0, 1))), ('pca', PCA(copy=True, iterated_power='auto', n_components=0.99, random_state=None,\n",
       "  svd_solver='auto', tol=0.0, whiten=False)), ('clf', RandomForestClassifier(bootstrap=True, class_weight=None, criterion='gini',\n",
       "            max_dept...n_jobs=1,\n",
       "            oob_score=False, random_state=None, verbose=0,\n",
       "            warm_start=False))])"
      ]
     },
     "execution_count": 490,
     "metadata": {},
     "output_type": "execute_result"
    }
   ],
   "source": [
    "scaler = MinMaxScaler()\n",
    "clf = RandomForestClassifier(n_estimators=10)\n",
    "pca = PCA(.99)\n",
    "steps = [('scaler', scaler), ('pca', pca), ('clf', clf)]\n",
    "pipe = Pipeline(steps)\n",
    "pipe"
   ]
  },
  {
   "cell_type": "code",
   "execution_count": 477,
   "metadata": {},
   "outputs": [
    {
     "name": "stdout",
     "output_type": "stream",
     "text": [
      "Fitting 3 folds for each of 9 candidates, totalling 27 fits\n",
      "[CV] clf__max_features=7, clf__min_samples_leaf=10, clf__n_estimators=10 \n",
      "[CV] clf__max_features=7, clf__min_samples_leaf=10, clf__n_estimators=10 \n",
      "[CV] clf__max_features=7, clf__min_samples_leaf=10, clf__n_estimators=10 \n",
      "[CV] clf__max_features=7, clf__min_samples_leaf=25, clf__n_estimators=10 \n"
     ]
    },
    {
     "name": "stderr",
     "output_type": "stream",
     "text": [
      "/Users/sartajsingh/anaconda3/lib/python3.6/site-packages/sklearn/metrics/classification.py:1135: UndefinedMetricWarning: F-score is ill-defined and being set to 0.0 in labels with no predicted samples.\n",
      "  'precision', 'predicted', average, warn_for)\n"
     ]
    },
    {
     "name": "stdout",
     "output_type": "stream",
     "text": [
      "[CV]  clf__max_features=7, clf__min_samples_leaf=25, clf__n_estimators=10, score=0.4558700969099271, total=  28.4s\n",
      "[CV] clf__max_features=7, clf__min_samples_leaf=25, clf__n_estimators=10 \n",
      "[CV]  clf__max_features=7, clf__min_samples_leaf=10, clf__n_estimators=10, score=0.46614855802255273, total=  31.8s\n",
      "[CV]  clf__max_features=7, clf__min_samples_leaf=10, clf__n_estimators=10, score=0.46183149390391576, total=  32.1s\n",
      "[CV] clf__max_features=7, clf__min_samples_leaf=25, clf__n_estimators=10 \n",
      "[CV] clf__max_features=7, clf__min_samples_leaf=50, clf__n_estimators=10 \n",
      "[CV]  clf__max_features=7, clf__min_samples_leaf=10, clf__n_estimators=10, score=0.46233637472615746, total=  32.7s\n",
      "[CV] clf__max_features=7, clf__min_samples_leaf=50, clf__n_estimators=10 \n"
     ]
    },
    {
     "name": "stderr",
     "output_type": "stream",
     "text": [
      "/Users/sartajsingh/anaconda3/lib/python3.6/site-packages/sklearn/metrics/classification.py:1135: UndefinedMetricWarning: F-score is ill-defined and being set to 0.0 in labels with no predicted samples.\n",
      "  'precision', 'predicted', average, warn_for)\n",
      "/Users/sartajsingh/anaconda3/lib/python3.6/site-packages/sklearn/metrics/classification.py:1135: UndefinedMetricWarning: F-score is ill-defined and being set to 0.0 in labels with no predicted samples.\n",
      "  'precision', 'predicted', average, warn_for)\n"
     ]
    },
    {
     "name": "stdout",
     "output_type": "stream",
     "text": [
      "[CV]  clf__max_features=7, clf__min_samples_leaf=25, clf__n_estimators=10, score=0.45605355718743046, total=  24.3s\n",
      "[CV] clf__max_features=7, clf__min_samples_leaf=50, clf__n_estimators=10 \n",
      "[CV]  clf__max_features=7, clf__min_samples_leaf=50, clf__n_estimators=10, score=0.4461461474231528, total=  21.4s\n",
      "[CV] clf__max_features=9, clf__min_samples_leaf=10, clf__n_estimators=10 \n"
     ]
    },
    {
     "name": "stderr",
     "output_type": "stream",
     "text": [
      "/Users/sartajsingh/anaconda3/lib/python3.6/site-packages/sklearn/metrics/classification.py:1135: UndefinedMetricWarning: F-score is ill-defined and being set to 0.0 in labels with no predicted samples.\n",
      "  'precision', 'predicted', average, warn_for)\n"
     ]
    },
    {
     "name": "stdout",
     "output_type": "stream",
     "text": [
      "[CV]  clf__max_features=7, clf__min_samples_leaf=50, clf__n_estimators=10, score=0.4490833236400309, total=  22.1s\n",
      "[CV] clf__max_features=9, clf__min_samples_leaf=10, clf__n_estimators=10 \n"
     ]
    },
    {
     "name": "stderr",
     "output_type": "stream",
     "text": [
      "/Users/sartajsingh/anaconda3/lib/python3.6/site-packages/sklearn/metrics/classification.py:1135: UndefinedMetricWarning: F-score is ill-defined and being set to 0.0 in labels with no predicted samples.\n",
      "  'precision', 'predicted', average, warn_for)\n"
     ]
    },
    {
     "name": "stdout",
     "output_type": "stream",
     "text": [
      "[CV]  clf__max_features=7, clf__min_samples_leaf=25, clf__n_estimators=10, score=0.45815426092844663, total=  24.2s\n",
      "[CV] clf__max_features=9, clf__min_samples_leaf=10, clf__n_estimators=10 \n"
     ]
    },
    {
     "name": "stderr",
     "output_type": "stream",
     "text": [
      "/Users/sartajsingh/anaconda3/lib/python3.6/site-packages/sklearn/metrics/classification.py:1135: UndefinedMetricWarning: F-score is ill-defined and being set to 0.0 in labels with no predicted samples.\n",
      "  'precision', 'predicted', average, warn_for)\n"
     ]
    },
    {
     "name": "stdout",
     "output_type": "stream",
     "text": [
      "[CV]  clf__max_features=7, clf__min_samples_leaf=50, clf__n_estimators=10, score=0.4489532840699341, total=  24.1s\n",
      "[CV] clf__max_features=9, clf__min_samples_leaf=25, clf__n_estimators=10 \n",
      "[CV]  clf__max_features=9, clf__min_samples_leaf=10, clf__n_estimators=10, score=0.46056699045750693, total=  35.1s\n",
      "[CV] clf__max_features=9, clf__min_samples_leaf=25, clf__n_estimators=10 \n",
      "[CV]  clf__max_features=9, clf__min_samples_leaf=10, clf__n_estimators=10, score=0.4638051575675123, total=  36.2s\n",
      "[CV] clf__max_features=9, clf__min_samples_leaf=25, clf__n_estimators=10 \n",
      "[CV]  clf__max_features=9, clf__min_samples_leaf=10, clf__n_estimators=10, score=0.4653311689355844, total=  35.1s\n",
      "[CV] clf__max_features=9, clf__min_samples_leaf=50, clf__n_estimators=10 \n"
     ]
    },
    {
     "name": "stderr",
     "output_type": "stream",
     "text": [
      "/Users/sartajsingh/anaconda3/lib/python3.6/site-packages/sklearn/metrics/classification.py:1135: UndefinedMetricWarning: F-score is ill-defined and being set to 0.0 in labels with no predicted samples.\n",
      "  'precision', 'predicted', average, warn_for)\n"
     ]
    },
    {
     "name": "stdout",
     "output_type": "stream",
     "text": [
      "[CV]  clf__max_features=9, clf__min_samples_leaf=25, clf__n_estimators=10, score=0.45554668067405224, total=  28.5s\n",
      "[CV] clf__max_features=9, clf__min_samples_leaf=50, clf__n_estimators=10 \n"
     ]
    },
    {
     "name": "stderr",
     "output_type": "stream",
     "text": [
      "/Users/sartajsingh/anaconda3/lib/python3.6/site-packages/sklearn/metrics/classification.py:1135: UndefinedMetricWarning: F-score is ill-defined and being set to 0.0 in labels with no predicted samples.\n",
      "  'precision', 'predicted', average, warn_for)\n"
     ]
    },
    {
     "name": "stdout",
     "output_type": "stream",
     "text": [
      "[CV]  clf__max_features=9, clf__min_samples_leaf=25, clf__n_estimators=10, score=0.4566376985335004, total=  24.4s\n",
      "[CV] clf__max_features=9, clf__min_samples_leaf=50, clf__n_estimators=10 \n"
     ]
    },
    {
     "name": "stderr",
     "output_type": "stream",
     "text": [
      "/Users/sartajsingh/anaconda3/lib/python3.6/site-packages/sklearn/metrics/classification.py:1135: UndefinedMetricWarning: F-score is ill-defined and being set to 0.0 in labels with no predicted samples.\n",
      "  'precision', 'predicted', average, warn_for)\n"
     ]
    },
    {
     "name": "stdout",
     "output_type": "stream",
     "text": [
      "[CV]  clf__max_features=9, clf__min_samples_leaf=50, clf__n_estimators=10, score=0.4488949411506483, total=  22.8s\n",
      "[CV] clf__max_features=11, clf__min_samples_leaf=10, clf__n_estimators=10 \n"
     ]
    },
    {
     "name": "stderr",
     "output_type": "stream",
     "text": [
      "/Users/sartajsingh/anaconda3/lib/python3.6/site-packages/sklearn/metrics/classification.py:1135: UndefinedMetricWarning: F-score is ill-defined and being set to 0.0 in labels with no predicted samples.\n",
      "  'precision', 'predicted', average, warn_for)\n"
     ]
    },
    {
     "name": "stdout",
     "output_type": "stream",
     "text": [
      "[CV]  clf__max_features=9, clf__min_samples_leaf=25, clf__n_estimators=10, score=0.455620589604663, total=  24.7s\n",
      "[CV] clf__max_features=11, clf__min_samples_leaf=10, clf__n_estimators=10 \n"
     ]
    },
    {
     "name": "stderr",
     "output_type": "stream",
     "text": [
      "/Users/sartajsingh/anaconda3/lib/python3.6/site-packages/sklearn/metrics/classification.py:1135: UndefinedMetricWarning: F-score is ill-defined and being set to 0.0 in labels with no predicted samples.\n",
      "  'precision', 'predicted', average, warn_for)\n"
     ]
    },
    {
     "name": "stdout",
     "output_type": "stream",
     "text": [
      "[CV]  clf__max_features=9, clf__min_samples_leaf=50, clf__n_estimators=10, score=0.4485729980625095, total=  23.5s\n",
      "[CV] clf__max_features=11, clf__min_samples_leaf=10, clf__n_estimators=10 \n"
     ]
    },
    {
     "name": "stderr",
     "output_type": "stream",
     "text": [
      "/Users/sartajsingh/anaconda3/lib/python3.6/site-packages/sklearn/metrics/classification.py:1135: UndefinedMetricWarning: F-score is ill-defined and being set to 0.0 in labels with no predicted samples.\n",
      "  'precision', 'predicted', average, warn_for)\n"
     ]
    },
    {
     "name": "stdout",
     "output_type": "stream",
     "text": [
      "[CV]  clf__max_features=9, clf__min_samples_leaf=50, clf__n_estimators=10, score=0.4523006429240313, total=  26.3s\n",
      "[CV] clf__max_features=11, clf__min_samples_leaf=25, clf__n_estimators=10 \n",
      "[CV]  clf__max_features=11, clf__min_samples_leaf=10, clf__n_estimators=10, score=0.4626712388968635, total=  37.5s\n",
      "[CV] clf__max_features=11, clf__min_samples_leaf=25, clf__n_estimators=10 \n",
      "[CV]  clf__max_features=11, clf__min_samples_leaf=10, clf__n_estimators=10, score=0.46435436201245234, total=  37.8s\n",
      "[CV] clf__max_features=11, clf__min_samples_leaf=25, clf__n_estimators=10 \n",
      "[CV]  clf__max_features=11, clf__min_samples_leaf=10, clf__n_estimators=10, score=0.4654977955810323, total=  38.9s\n",
      "[CV] clf__max_features=11, clf__min_samples_leaf=50, clf__n_estimators=10 \n"
     ]
    },
    {
     "name": "stderr",
     "output_type": "stream",
     "text": [
      "/Users/sartajsingh/anaconda3/lib/python3.6/site-packages/sklearn/metrics/classification.py:1135: UndefinedMetricWarning: F-score is ill-defined and being set to 0.0 in labels with no predicted samples.\n",
      "  'precision', 'predicted', average, warn_for)\n"
     ]
    },
    {
     "name": "stdout",
     "output_type": "stream",
     "text": [
      "[CV]  clf__max_features=11, clf__min_samples_leaf=25, clf__n_estimators=10, score=0.45853229449513094, total=  33.4s\n",
      "[CV] clf__max_features=11, clf__min_samples_leaf=50, clf__n_estimators=10 \n"
     ]
    },
    {
     "name": "stderr",
     "output_type": "stream",
     "text": [
      "/Users/sartajsingh/anaconda3/lib/python3.6/site-packages/sklearn/metrics/classification.py:1135: UndefinedMetricWarning: F-score is ill-defined and being set to 0.0 in labels with no predicted samples.\n",
      "  'precision', 'predicted', average, warn_for)\n"
     ]
    },
    {
     "name": "stdout",
     "output_type": "stream",
     "text": [
      "[CV]  clf__max_features=11, clf__min_samples_leaf=25, clf__n_estimators=10, score=0.45855336403487773, total=  33.0s\n",
      "[CV] clf__max_features=11, clf__min_samples_leaf=50, clf__n_estimators=10 \n"
     ]
    },
    {
     "name": "stderr",
     "output_type": "stream",
     "text": [
      "/Users/sartajsingh/anaconda3/lib/python3.6/site-packages/sklearn/metrics/classification.py:1135: UndefinedMetricWarning: F-score is ill-defined and being set to 0.0 in labels with no predicted samples.\n",
      "  'precision', 'predicted', average, warn_for)\n"
     ]
    },
    {
     "name": "stdout",
     "output_type": "stream",
     "text": [
      "[CV]  clf__max_features=11, clf__min_samples_leaf=25, clf__n_estimators=10, score=0.4598466602482864, total=  32.8s\n"
     ]
    },
    {
     "name": "stderr",
     "output_type": "stream",
     "text": [
      "/Users/sartajsingh/anaconda3/lib/python3.6/site-packages/sklearn/metrics/classification.py:1135: UndefinedMetricWarning: F-score is ill-defined and being set to 0.0 in labels with no predicted samples.\n",
      "  'precision', 'predicted', average, warn_for)\n"
     ]
    },
    {
     "name": "stdout",
     "output_type": "stream",
     "text": [
      "[CV]  clf__max_features=11, clf__min_samples_leaf=50, clf__n_estimators=10, score=0.44934628163168194, total=  24.8s\n"
     ]
    },
    {
     "name": "stderr",
     "output_type": "stream",
     "text": [
      "/Users/sartajsingh/anaconda3/lib/python3.6/site-packages/sklearn/metrics/classification.py:1135: UndefinedMetricWarning: F-score is ill-defined and being set to 0.0 in labels with no predicted samples.\n",
      "  'precision', 'predicted', average, warn_for)\n"
     ]
    },
    {
     "name": "stdout",
     "output_type": "stream",
     "text": [
      "[CV]  clf__max_features=11, clf__min_samples_leaf=50, clf__n_estimators=10, score=0.4488177667770976, total=  21.9s\n"
     ]
    },
    {
     "name": "stderr",
     "output_type": "stream",
     "text": [
      "/Users/sartajsingh/anaconda3/lib/python3.6/site-packages/sklearn/metrics/classification.py:1135: UndefinedMetricWarning: F-score is ill-defined and being set to 0.0 in labels with no predicted samples.\n",
      "  'precision', 'predicted', average, warn_for)\n"
     ]
    },
    {
     "name": "stdout",
     "output_type": "stream",
     "text": [
      "[CV]  clf__max_features=11, clf__min_samples_leaf=50, clf__n_estimators=10, score=0.4506318250670051, total=  15.8s\n"
     ]
    },
    {
     "name": "stderr",
     "output_type": "stream",
     "text": [
      "[Parallel(n_jobs=-1)]: Done  27 out of  27 | elapsed:  3.5min finished\n"
     ]
    },
    {
     "data": {
      "text/plain": [
       "GridSearchCV(cv=None, error_score='raise',\n",
       "       estimator=Pipeline(memory=None,\n",
       "     steps=[('scaler', MinMaxScaler(copy=True, feature_range=(0, 1))), ('pca', PCA(copy=True, iterated_power='auto', n_components=0.99, random_state=None,\n",
       "  svd_solver='auto', tol=0.0, whiten=False)), ('clf', RandomForestClassifier(bootstrap=True, class_weight=None, criterion='gini',\n",
       "            max_dept...n_jobs=1,\n",
       "            oob_score=False, random_state=None, verbose=0,\n",
       "            warm_start=False))]),\n",
       "       fit_params=None, iid=True, n_jobs=-1,\n",
       "       param_grid={'clf__n_estimators': [10], 'clf__min_samples_leaf': [10, 25, 50], 'clf__max_features': [7, 9, 11]},\n",
       "       pre_dispatch='2*n_jobs', refit=True, return_train_score=True,\n",
       "       scoring=make_scorer(f1_score, average=weighted), verbose=3)"
      ]
     },
     "execution_count": 477,
     "metadata": {},
     "output_type": "execute_result"
    }
   ],
   "source": [
    "params = {\n",
    "    'clf__n_estimators': [10],\n",
    "    'clf__min_samples_leaf': [10, 25, 50],\n",
    "    'clf__max_features': [7, 9, 11]\n",
    "}\n",
    "grid = GridSearchCV(pipe, param_grid=params, scoring=grid_scorer, verbose=3, n_jobs=-1)\n",
    "grid.fit(X, y)"
   ]
  },
  {
   "cell_type": "code",
   "execution_count": 485,
   "metadata": {},
   "outputs": [
    {
     "data": {
      "text/plain": [
       "0.46417443645734296"
      ]
     },
     "execution_count": 485,
     "metadata": {},
     "output_type": "execute_result"
    }
   ],
   "source": [
    "grid.best_score_"
   ]
  },
  {
   "cell_type": "code",
   "execution_count": 486,
   "metadata": {},
   "outputs": [
    {
     "data": {
      "text/plain": [
       "{'clf__max_features': 11, 'clf__min_samples_leaf': 10, 'clf__n_estimators': 10}"
      ]
     },
     "execution_count": 486,
     "metadata": {},
     "output_type": "execute_result"
    }
   ],
   "source": [
    "grid.best_params_"
   ]
  },
  {
   "cell_type": "code",
   "execution_count": 514,
   "metadata": {},
   "outputs": [
    {
     "data": {
      "text/html": [
       "<div>\n",
       "<style>\n",
       "    .dataframe thead tr:only-child th {\n",
       "        text-align: right;\n",
       "    }\n",
       "\n",
       "    .dataframe thead th {\n",
       "        text-align: left;\n",
       "    }\n",
       "\n",
       "    .dataframe tbody tr th {\n",
       "        vertical-align: top;\n",
       "    }\n",
       "</style>\n",
       "<table border=\"1\" class=\"dataframe\">\n",
       "  <thead>\n",
       "    <tr style=\"text-align: right;\">\n",
       "      <th></th>\n",
       "      <th>points</th>\n",
       "      <th>submission_count</th>\n",
       "      <th>problem_solved</th>\n",
       "      <th>contribution</th>\n",
       "      <th>follower_count</th>\n",
       "      <th>max_rating</th>\n",
       "      <th>rating</th>\n",
       "      <th>level_A</th>\n",
       "      <th>level_B</th>\n",
       "      <th>level_C</th>\n",
       "      <th>...</th>\n",
       "      <th>Japan</th>\n",
       "      <th>Syria</th>\n",
       "      <th>United States</th>\n",
       "      <th>Romania</th>\n",
       "      <th>Poland</th>\n",
       "      <th>rank_advanced</th>\n",
       "      <th>rank_beginner</th>\n",
       "      <th>rank_expert</th>\n",
       "      <th>rank_intermediate</th>\n",
       "      <th>online</th>\n",
       "    </tr>\n",
       "  </thead>\n",
       "  <tbody>\n",
       "    <tr>\n",
       "      <th>0</th>\n",
       "      <td>1000.0</td>\n",
       "      <td>53</td>\n",
       "      <td>47</td>\n",
       "      <td>0</td>\n",
       "      <td>1</td>\n",
       "      <td>307.913</td>\n",
       "      <td>206.709</td>\n",
       "      <td>0</td>\n",
       "      <td>1</td>\n",
       "      <td>0</td>\n",
       "      <td>...</td>\n",
       "      <td>0</td>\n",
       "      <td>0</td>\n",
       "      <td>0</td>\n",
       "      <td>0</td>\n",
       "      <td>0</td>\n",
       "      <td>0</td>\n",
       "      <td>1</td>\n",
       "      <td>0</td>\n",
       "      <td>0</td>\n",
       "      <td>71522843</td>\n",
       "    </tr>\n",
       "    <tr>\n",
       "      <th>1</th>\n",
       "      <td>1500.0</td>\n",
       "      <td>133</td>\n",
       "      <td>118</td>\n",
       "      <td>0</td>\n",
       "      <td>0</td>\n",
       "      <td>324.255</td>\n",
       "      <td>235.378</td>\n",
       "      <td>0</td>\n",
       "      <td>0</td>\n",
       "      <td>1</td>\n",
       "      <td>...</td>\n",
       "      <td>0</td>\n",
       "      <td>0</td>\n",
       "      <td>0</td>\n",
       "      <td>0</td>\n",
       "      <td>0</td>\n",
       "      <td>0</td>\n",
       "      <td>1</td>\n",
       "      <td>0</td>\n",
       "      <td>0</td>\n",
       "      <td>47535708</td>\n",
       "    </tr>\n",
       "    <tr>\n",
       "      <th>2</th>\n",
       "      <td>500.0</td>\n",
       "      <td>50</td>\n",
       "      <td>44</td>\n",
       "      <td>0</td>\n",
       "      <td>7</td>\n",
       "      <td>343.177</td>\n",
       "      <td>229.358</td>\n",
       "      <td>1</td>\n",
       "      <td>0</td>\n",
       "      <td>0</td>\n",
       "      <td>...</td>\n",
       "      <td>0</td>\n",
       "      <td>0</td>\n",
       "      <td>0</td>\n",
       "      <td>0</td>\n",
       "      <td>0</td>\n",
       "      <td>0</td>\n",
       "      <td>1</td>\n",
       "      <td>0</td>\n",
       "      <td>0</td>\n",
       "      <td>31228669</td>\n",
       "    </tr>\n",
       "    <tr>\n",
       "      <th>3</th>\n",
       "      <td>500.0</td>\n",
       "      <td>271</td>\n",
       "      <td>233</td>\n",
       "      <td>23</td>\n",
       "      <td>40</td>\n",
       "      <td>436.927</td>\n",
       "      <td>399.083</td>\n",
       "      <td>1</td>\n",
       "      <td>0</td>\n",
       "      <td>0</td>\n",
       "      <td>...</td>\n",
       "      <td>0</td>\n",
       "      <td>0</td>\n",
       "      <td>0</td>\n",
       "      <td>0</td>\n",
       "      <td>0</td>\n",
       "      <td>0</td>\n",
       "      <td>0</td>\n",
       "      <td>0</td>\n",
       "      <td>1</td>\n",
       "      <td>57438471</td>\n",
       "    </tr>\n",
       "    <tr>\n",
       "      <th>4</th>\n",
       "      <td>2000.0</td>\n",
       "      <td>155</td>\n",
       "      <td>135</td>\n",
       "      <td>0</td>\n",
       "      <td>80</td>\n",
       "      <td>492.546</td>\n",
       "      <td>472.190</td>\n",
       "      <td>0</td>\n",
       "      <td>0</td>\n",
       "      <td>0</td>\n",
       "      <td>...</td>\n",
       "      <td>0</td>\n",
       "      <td>0</td>\n",
       "      <td>0</td>\n",
       "      <td>0</td>\n",
       "      <td>0</td>\n",
       "      <td>1</td>\n",
       "      <td>0</td>\n",
       "      <td>0</td>\n",
       "      <td>0</td>\n",
       "      <td>67697192</td>\n",
       "    </tr>\n",
       "  </tbody>\n",
       "</table>\n",
       "<p>5 rows × 79 columns</p>\n",
       "</div>"
      ],
      "text/plain": [
       "   points  submission_count  problem_solved  contribution  follower_count  \\\n",
       "0  1000.0                53              47             0               1   \n",
       "1  1500.0               133             118             0               0   \n",
       "2   500.0                50              44             0               7   \n",
       "3   500.0               271             233            23              40   \n",
       "4  2000.0               155             135             0              80   \n",
       "\n",
       "   max_rating   rating  level_A  level_B  level_C    ...     Japan  Syria  \\\n",
       "0     307.913  206.709        0        1        0    ...         0      0   \n",
       "1     324.255  235.378        0        0        1    ...         0      0   \n",
       "2     343.177  229.358        1        0        0    ...         0      0   \n",
       "3     436.927  399.083        1        0        0    ...         0      0   \n",
       "4     492.546  472.190        0        0        0    ...         0      0   \n",
       "\n",
       "   United States  Romania  Poland  rank_advanced  rank_beginner  rank_expert  \\\n",
       "0              0        0       0              0              1            0   \n",
       "1              0        0       0              0              1            0   \n",
       "2              0        0       0              0              1            0   \n",
       "3              0        0       0              0              0            0   \n",
       "4              0        0       0              1              0            0   \n",
       "\n",
       "   rank_intermediate    online  \n",
       "0                  0  71522843  \n",
       "1                  0  47535708  \n",
       "2                  0  31228669  \n",
       "3                  1  57438471  \n",
       "4                  0  67697192  \n",
       "\n",
       "[5 rows x 79 columns]"
      ]
     },
     "execution_count": 514,
     "metadata": {},
     "output_type": "execute_result"
    }
   ],
   "source": [
    "X.head()"
   ]
  },
  {
   "cell_type": "markdown",
   "metadata": {},
   "source": [
    "### Again feature selection"
   ]
  },
  {
   "cell_type": "code",
   "execution_count": 494,
   "metadata": {},
   "outputs": [
    {
     "data": {
      "text/plain": [
       "Pipeline(memory=None,\n",
       "     steps=[('scaler', MinMaxScaler(copy=True, feature_range=(0, 1))), ('clf', RandomForestClassifier(bootstrap=True, class_weight=None, criterion='gini',\n",
       "            max_depth=None, max_features='auto', max_leaf_nodes=None,\n",
       "            min_impurity_decrease=0.0, min_impurity_split=None,\n",
       "            min_samples_leaf=1, min_samples_split=2,\n",
       "            min_weight_fraction_leaf=0.0, n_estimators=10, n_jobs=1,\n",
       "            oob_score=False, random_state=None, verbose=0,\n",
       "            warm_start=False))])"
      ]
     },
     "execution_count": 494,
     "metadata": {},
     "output_type": "execute_result"
    }
   ],
   "source": [
    "scaler = MinMaxScaler()\n",
    "clf = RandomForestClassifier()\n",
    "steps = [('scaler', scaler), ('clf', clf)]\n",
    "pipe = Pipeline(steps)\n",
    "pipe"
   ]
  },
  {
   "cell_type": "code",
   "execution_count": 495,
   "metadata": {},
   "outputs": [
    {
     "data": {
      "text/plain": [
       "Pipeline(memory=None,\n",
       "     steps=[('scaler', MinMaxScaler(copy=True, feature_range=(0, 1))), ('clf', RandomForestClassifier(bootstrap=True, class_weight=None, criterion='gini',\n",
       "            max_depth=None, max_features='auto', max_leaf_nodes=None,\n",
       "            min_impurity_decrease=0.0, min_impurity_split=None,\n",
       "            min_samples_leaf=1, min_samples_split=2,\n",
       "            min_weight_fraction_leaf=0.0, n_estimators=10, n_jobs=1,\n",
       "            oob_score=False, random_state=None, verbose=0,\n",
       "            warm_start=False))])"
      ]
     },
     "execution_count": 495,
     "metadata": {},
     "output_type": "execute_result"
    }
   ],
   "source": [
    "pipe.fit(X, y)"
   ]
  },
  {
   "cell_type": "code",
   "execution_count": 496,
   "metadata": {},
   "outputs": [
    {
     "data": {
      "text/plain": [
       "[('online', 0.095818358306348925),\n",
       " ('rating', 0.094262244861964509),\n",
       " ('max_rating', 0.094179886179421107),\n",
       " ('problem_solved', 0.091417660731626688),\n",
       " ('submission_count', 0.090446550849568402),\n",
       " ('follower_count', 0.084612006951894553),\n",
       " ('contribution', 0.043546478965886939),\n",
       " ('points', 0.036931673258731736),\n",
       " ('brute-force', 0.027045774437895843),\n",
       " ('math', 0.02049307313765206),\n",
       " ('greedy', 0.019867722176656739),\n",
       " ('sortings', 0.016183654330443619),\n",
       " ('constructive-algorithms', 0.015783307613504223),\n",
       " ('implementation', 0.015500856033773994),\n",
       " ('India', 0.013221982486372788),\n",
       " ('strings', 0.012213651776576137),\n",
       " ('binary-search', 0.010852425720041418),\n",
       " ('dp', 0.0099767050447891158),\n",
       " ('data-structures', 0.009663410575067935),\n",
       " ('number-theory', 0.0094842134501607073),\n",
       " ('level_A', 0.0088234945971799976),\n",
       " ('dfs-and-similar', 0.0078391053628985418),\n",
       " ('Bangladesh', 0.0075076867344902),\n",
       " ('level_C', 0.0074769928495857672),\n",
       " ('level_B', 0.0073821060449406183),\n",
       " ('Russia', 0.0073383894655743593),\n",
       " ('China', 0.006565949961217064),\n",
       " ('graphs', 0.0057947218197411205),\n",
       " ('two-pointers', 0.005713298085705973),\n",
       " ('level_D', 0.005637564084462433),\n",
       " ('rank_intermediate', 0.0053006368347832834),\n",
       " ('geometry', 0.0051224909686664304),\n",
       " ('trees', 0.0046047721922876841),\n",
       " ('combinatorics', 0.0044522233911162444),\n",
       " ('Egypt', 0.0041558716629423462),\n",
       " ('level_E', 0.0040970952754806628),\n",
       " ('Kazakhstan', 0.0040695518627031548),\n",
       " ('games', 0.003856307487367882),\n",
       " ('rank_beginner', 0.0037912882855423895),\n",
       " ('Vietnam', 0.0037731748438762495),\n",
       " ('Brazil', 0.0035590437869745814),\n",
       " ('rank_advanced', 0.0035190414869643756),\n",
       " ('Iran', 0.0034903486141190112),\n",
       " ('bitmasks', 0.0034586739599601472),\n",
       " ('Ukraine', 0.0033815559605546277),\n",
       " ('level_F', 0.0033720687977120251),\n",
       " ('dsu', 0.0032576595051194471),\n",
       " ('Belarus', 0.0031733072052740883),\n",
       " ('level_G', 0.0030539853049973754),\n",
       " ('level_H', 0.00281726420377047),\n",
       " ('shortest-paths', 0.0026969701036326245),\n",
       " ('Romania', 0.0026769359638380273),\n",
       " ('hashing', 0.0026562091471160286),\n",
       " ('Japan', 0.0026349892533470472),\n",
       " ('United States', 0.0025487990862481233),\n",
       " ('level_J', 0.0024640431439416749),\n",
       " ('Syria', 0.0024359952813456701),\n",
       " ('level_K', 0.0022315760640207179),\n",
       " ('level_I', 0.0021540714678212735),\n",
       " ('divide-and-conquer', 0.0020327788977785389),\n",
       " ('probabilities', 0.0020004987647428527),\n",
       " ('*special', 0.001946213229779591),\n",
       " ('Poland', 0.0018876058332022183),\n",
       " ('level_L', 0.0016109353378810985),\n",
       " ('expression-parsing', 0.0011881218690702293),\n",
       " ('level_O', 0.0010888157713684009),\n",
       " ('rank_expert', 0.0010060674650384843),\n",
       " ('matrices', 0.001004345659133176),\n",
       " ('ternary-search', 0.00091751619416507969),\n",
       " ('flows', 0.00082099201549376663),\n",
       " ('level_M', 0.00081222051031175965),\n",
       " ('graph-matchings', 0.00077438371798862029),\n",
       " ('string-suffix-structures', 0.00074000165180258251),\n",
       " ('meet-in-the-middle', 0.00046436826074559574),\n",
       " ('2-sat', 0.00045928679882325737),\n",
       " ('fft', 0.00028937295011507178),\n",
       " ('schedules', 0.00025693055246444154),\n",
       " ('level_N', 0.00018870066053858748),\n",
       " ('chinese-remainder-theorem', 0.0001239468238594078)]"
      ]
     },
     "execution_count": 496,
     "metadata": {},
     "output_type": "execute_result"
    }
   ],
   "source": [
    "fea_imp = sorted(zip(X.columns, pipe.named_steps['clf'].feature_importances_), key=lambda x: x[1], reverse=True)\n",
    "fea_imp"
   ]
  },
  {
   "cell_type": "code",
   "execution_count": 503,
   "metadata": {},
   "outputs": [
    {
     "data": {
      "text/html": [
       "<div>\n",
       "<style>\n",
       "    .dataframe thead tr:only-child th {\n",
       "        text-align: right;\n",
       "    }\n",
       "\n",
       "    .dataframe thead th {\n",
       "        text-align: left;\n",
       "    }\n",
       "\n",
       "    .dataframe tbody tr th {\n",
       "        vertical-align: top;\n",
       "    }\n",
       "</style>\n",
       "<table border=\"1\" class=\"dataframe\">\n",
       "  <thead>\n",
       "    <tr style=\"text-align: right;\">\n",
       "      <th></th>\n",
       "      <th>fea</th>\n",
       "      <th>imp</th>\n",
       "    </tr>\n",
       "  </thead>\n",
       "  <tbody>\n",
       "    <tr>\n",
       "      <th>0</th>\n",
       "      <td>online</td>\n",
       "      <td>0.095818</td>\n",
       "    </tr>\n",
       "    <tr>\n",
       "      <th>1</th>\n",
       "      <td>rating</td>\n",
       "      <td>0.094262</td>\n",
       "    </tr>\n",
       "    <tr>\n",
       "      <th>2</th>\n",
       "      <td>max_rating</td>\n",
       "      <td>0.094180</td>\n",
       "    </tr>\n",
       "    <tr>\n",
       "      <th>3</th>\n",
       "      <td>problem_solved</td>\n",
       "      <td>0.091418</td>\n",
       "    </tr>\n",
       "    <tr>\n",
       "      <th>4</th>\n",
       "      <td>submission_count</td>\n",
       "      <td>0.090447</td>\n",
       "    </tr>\n",
       "  </tbody>\n",
       "</table>\n",
       "</div>"
      ],
      "text/plain": [
       "                fea       imp\n",
       "0            online  0.095818\n",
       "1            rating  0.094262\n",
       "2        max_rating  0.094180\n",
       "3    problem_solved  0.091418\n",
       "4  submission_count  0.090447"
      ]
     },
     "execution_count": 503,
     "metadata": {},
     "output_type": "execute_result"
    }
   ],
   "source": [
    "fea_imp = pd.DataFrame(fea_imp, columns='fea imp'.split())\n",
    "fea_imp.head()"
   ]
  },
  {
   "cell_type": "markdown",
   "metadata": {},
   "source": [
    "### RFE\n",
    "\n",
    "- remove half features\n",
    "- optimize"
   ]
  },
  {
   "cell_type": "code",
   "execution_count": 508,
   "metadata": {
    "collapsed": true
   },
   "outputs": [],
   "source": [
    "clf = RandomForestClassifier()\n",
    "rfe = RFE(clf)"
   ]
  },
  {
   "cell_type": "code",
   "execution_count": 509,
   "metadata": {},
   "outputs": [],
   "source": [
    "X_rfe = rfe.fit_transform(X, y)"
   ]
  },
  {
   "cell_type": "code",
   "execution_count": 512,
   "metadata": {},
   "outputs": [
    {
     "data": {
      "text/plain": [
       "(155295, 39)"
      ]
     },
     "execution_count": 512,
     "metadata": {},
     "output_type": "execute_result"
    }
   ],
   "source": [
    "X_rfe.shape"
   ]
  },
  {
   "cell_type": "code",
   "execution_count": 513,
   "metadata": {},
   "outputs": [
    {
     "data": {
      "text/plain": [
       "Pipeline(memory=None,\n",
       "     steps=[('scaler', MinMaxScaler(copy=True, feature_range=(0, 1))), ('clf', RandomForestClassifier(bootstrap=True, class_weight=None, criterion='gini',\n",
       "            max_depth=None, max_features='auto', max_leaf_nodes=None,\n",
       "            min_impurity_decrease=0.0, min_impurity_split=None,\n",
       "            min_samples_leaf=1, min_samples_split=2,\n",
       "            min_weight_fraction_leaf=0.0, n_estimators=10, n_jobs=1,\n",
       "            oob_score=False, random_state=None, verbose=0,\n",
       "            warm_start=False))])"
      ]
     },
     "execution_count": 513,
     "metadata": {},
     "output_type": "execute_result"
    }
   ],
   "source": [
    "scaler = MinMaxScaler()\n",
    "clf = RandomForestClassifier()\n",
    "steps = [('scaler', scaler), ('clf', clf)]\n",
    "pipe = Pipeline(steps)\n",
    "pipe"
   ]
  },
  {
   "cell_type": "code",
   "execution_count": 515,
   "metadata": {},
   "outputs": [
    {
     "name": "stdout",
     "output_type": "stream",
     "text": [
      "Fitting 3 folds for each of 2 candidates, totalling 6 fits\n",
      "[CV] clf__max_features=7, clf__min_samples_leaf=10, clf__n_estimators=10 \n",
      "[CV] clf__max_features=7, clf__min_samples_leaf=10, clf__n_estimators=10 \n",
      "[CV] clf__max_features=7, clf__min_samples_leaf=10, clf__n_estimators=10 \n",
      "[CV] clf__max_features=9, clf__min_samples_leaf=10, clf__n_estimators=10 \n"
     ]
    },
    {
     "name": "stderr",
     "output_type": "stream",
     "text": [
      "/Users/sartajsingh/anaconda3/lib/python3.6/site-packages/sklearn/metrics/classification.py:1135: UndefinedMetricWarning: F-score is ill-defined and being set to 0.0 in labels with no predicted samples.\n",
      "  'precision', 'predicted', average, warn_for)\n",
      "/Users/sartajsingh/anaconda3/lib/python3.6/site-packages/sklearn/metrics/classification.py:1135: UndefinedMetricWarning: F-score is ill-defined and being set to 0.0 in labels with no predicted samples.\n",
      "  'precision', 'predicted', average, warn_for)\n",
      "/Users/sartajsingh/anaconda3/lib/python3.6/site-packages/sklearn/metrics/classification.py:1135: UndefinedMetricWarning: F-score is ill-defined and being set to 0.0 in labels with no predicted samples.\n",
      "  'precision', 'predicted', average, warn_for)\n"
     ]
    },
    {
     "name": "stdout",
     "output_type": "stream",
     "text": [
      "[CV]  clf__max_features=7, clf__min_samples_leaf=10, clf__n_estimators=10, score=0.43410182465359376, total=   5.2s\n",
      "[CV]  clf__max_features=7, clf__min_samples_leaf=10, clf__n_estimators=10, score=0.4354108062191033, total=   5.4s\n",
      "[CV] clf__max_features=9, clf__min_samples_leaf=10, clf__n_estimators=10 \n",
      "[CV] clf__max_features=9, clf__min_samples_leaf=10, clf__n_estimators=10 \n"
     ]
    },
    {
     "name": "stderr",
     "output_type": "stream",
     "text": [
      "/Users/sartajsingh/anaconda3/lib/python3.6/site-packages/sklearn/metrics/classification.py:1135: UndefinedMetricWarning: F-score is ill-defined and being set to 0.0 in labels with no predicted samples.\n",
      "  'precision', 'predicted', average, warn_for)\n"
     ]
    },
    {
     "name": "stdout",
     "output_type": "stream",
     "text": [
      "[CV]  clf__max_features=7, clf__min_samples_leaf=10, clf__n_estimators=10, score=0.43439711741421544, total=   5.2s\n"
     ]
    },
    {
     "name": "stderr",
     "output_type": "stream",
     "text": [
      "[Parallel(n_jobs=-1)]: Done   2 out of   6 | elapsed:    6.6s remaining:   13.2s\n"
     ]
    },
    {
     "name": "stdout",
     "output_type": "stream",
     "text": [
      "[CV]  clf__max_features=9, clf__min_samples_leaf=10, clf__n_estimators=10, score=0.44162380398034123, total=   5.9s\n"
     ]
    },
    {
     "name": "stderr",
     "output_type": "stream",
     "text": [
      "/Users/sartajsingh/anaconda3/lib/python3.6/site-packages/sklearn/metrics/classification.py:1135: UndefinedMetricWarning: F-score is ill-defined and being set to 0.0 in labels with no predicted samples.\n",
      "  'precision', 'predicted', average, warn_for)\n",
      "/Users/sartajsingh/anaconda3/lib/python3.6/site-packages/sklearn/metrics/classification.py:1135: UndefinedMetricWarning: F-score is ill-defined and being set to 0.0 in labels with no predicted samples.\n",
      "  'precision', 'predicted', average, warn_for)\n"
     ]
    },
    {
     "name": "stdout",
     "output_type": "stream",
     "text": [
      "[CV]  clf__max_features=9, clf__min_samples_leaf=10, clf__n_estimators=10, score=0.44269182283823144, total=   3.9s\n",
      "[CV]  clf__max_features=9, clf__min_samples_leaf=10, clf__n_estimators=10, score=0.4410317217458779, total=   4.0s\n"
     ]
    },
    {
     "name": "stderr",
     "output_type": "stream",
     "text": [
      "[Parallel(n_jobs=-1)]: Done   6 out of   6 | elapsed:   11.4s finished\n"
     ]
    },
    {
     "data": {
      "text/plain": [
       "GridSearchCV(cv=None, error_score='raise',\n",
       "       estimator=Pipeline(memory=None,\n",
       "     steps=[('scaler', MinMaxScaler(copy=True, feature_range=(0, 1))), ('clf', RandomForestClassifier(bootstrap=True, class_weight=None, criterion='gini',\n",
       "            max_depth=None, max_features='auto', max_leaf_nodes=None,\n",
       "            min_impurity_decrease=0.0, min_..._jobs=1,\n",
       "            oob_score=False, random_state=None, verbose=0,\n",
       "            warm_start=False))]),\n",
       "       fit_params=None, iid=True, n_jobs=-1,\n",
       "       param_grid={'clf__n_estimators': [10], 'clf__min_samples_leaf': [10], 'clf__max_features': [7, 9]},\n",
       "       pre_dispatch='2*n_jobs', refit=True, return_train_score=True,\n",
       "       scoring=make_scorer(f1_score, average=weighted), verbose=3)"
      ]
     },
     "execution_count": 515,
     "metadata": {},
     "output_type": "execute_result"
    }
   ],
   "source": [
    "params = {\n",
    "    'clf__n_estimators': [10],\n",
    "    'clf__min_samples_leaf': [10],\n",
    "    'clf__max_features': [7, 9]\n",
    "}\n",
    "grid = GridSearchCV(pipe, param_grid=params, scoring=grid_scorer, verbose=3, n_jobs=-1)\n",
    "grid.fit(X, y)"
   ]
  },
  {
   "cell_type": "code",
   "execution_count": 522,
   "metadata": {},
   "outputs": [
    {
     "data": {
      "text/plain": [
       "0.44178244645675752"
      ]
     },
     "execution_count": 522,
     "metadata": {},
     "output_type": "execute_result"
    }
   ],
   "source": [
    "grid.best_score_"
   ]
  },
  {
   "cell_type": "code",
   "execution_count": 533,
   "metadata": {},
   "outputs": [
    {
     "data": {
      "text/plain": [
       "0                      online\n",
       "1                      rating\n",
       "2                  max_rating\n",
       "3              problem_solved\n",
       "4            submission_count\n",
       "5              follower_count\n",
       "6                contribution\n",
       "7                      points\n",
       "8                 brute-force\n",
       "9                        math\n",
       "10                     greedy\n",
       "11                   sortings\n",
       "12    constructive-algorithms\n",
       "13             implementation\n",
       "14                      India\n",
       "15                    strings\n",
       "16              binary-search\n",
       "Name: fea, dtype: object"
      ]
     },
     "execution_count": 533,
     "metadata": {},
     "output_type": "execute_result"
    }
   ],
   "source": [
    "fea_imp[(fea_imp.imp > .01)].fea"
   ]
  },
  {
   "cell_type": "code",
   "execution_count": 537,
   "metadata": {},
   "outputs": [],
   "source": [
    "X_17 = X[fea_imp[(fea_imp.imp > .01)].fea]"
   ]
  },
  {
   "cell_type": "code",
   "execution_count": 539,
   "metadata": {},
   "outputs": [
    {
     "data": {
      "text/plain": [
       "((116471, 17), (38824, 17))"
      ]
     },
     "execution_count": 539,
     "metadata": {},
     "output_type": "execute_result"
    }
   ],
   "source": [
    "X_17_train, X_17_test, y_17_train, y_17_test = train_test_split(X_17, y)\n",
    "X_17_train.shape, X_17_test.shape"
   ]
  },
  {
   "cell_type": "code",
   "execution_count": 536,
   "metadata": {},
   "outputs": [
    {
     "data": {
      "text/plain": [
       "Pipeline(memory=None,\n",
       "     steps=[('scaler', MinMaxScaler(copy=True, feature_range=(0, 1))), ('clf', RandomForestClassifier(bootstrap=True, class_weight=None, criterion='gini',\n",
       "            max_depth=None, max_features='auto', max_leaf_nodes=None,\n",
       "            min_impurity_decrease=0.0, min_impurity_split=None,\n",
       "            min_samples_leaf=1, min_samples_split=2,\n",
       "            min_weight_fraction_leaf=0.0, n_estimators=10, n_jobs=1,\n",
       "            oob_score=False, random_state=None, verbose=0,\n",
       "            warm_start=False))])"
      ]
     },
     "execution_count": 536,
     "metadata": {},
     "output_type": "execute_result"
    }
   ],
   "source": [
    "scaler = MinMaxScaler()\n",
    "clf = RandomForestClassifier()\n",
    "steps = [('scaler', scaler), ('clf', clf)]\n",
    "pipe = Pipeline(steps)\n",
    "pipe"
   ]
  },
  {
   "cell_type": "code",
   "execution_count": 540,
   "metadata": {},
   "outputs": [
    {
     "data": {
      "text/plain": [
       "Pipeline(memory=None,\n",
       "     steps=[('scaler', MinMaxScaler(copy=True, feature_range=(0, 1))), ('clf', RandomForestClassifier(bootstrap=True, class_weight=None, criterion='gini',\n",
       "            max_depth=None, max_features='auto', max_leaf_nodes=None,\n",
       "            min_impurity_decrease=0.0, min_impurity_split=None,\n",
       "            min_samples_leaf=1, min_samples_split=2,\n",
       "            min_weight_fraction_leaf=0.0, n_estimators=10, n_jobs=1,\n",
       "            oob_score=False, random_state=None, verbose=0,\n",
       "            warm_start=False))])"
      ]
     },
     "execution_count": 540,
     "metadata": {},
     "output_type": "execute_result"
    }
   ],
   "source": [
    "pipe.fit(X_17_train, y_17_train)"
   ]
  },
  {
   "cell_type": "markdown",
   "metadata": {},
   "source": [
    "scorer(y_17_test, pipe.predict(X_17_test))"
   ]
  },
  {
   "cell_type": "code",
   "execution_count": 544,
   "metadata": {},
   "outputs": [
    {
     "data": {
      "text/html": [
       "<div>\n",
       "<style>\n",
       "    .dataframe thead tr:only-child th {\n",
       "        text-align: right;\n",
       "    }\n",
       "\n",
       "    .dataframe thead th {\n",
       "        text-align: left;\n",
       "    }\n",
       "\n",
       "    .dataframe tbody tr th {\n",
       "        vertical-align: top;\n",
       "    }\n",
       "</style>\n",
       "<table border=\"1\" class=\"dataframe\">\n",
       "  <thead>\n",
       "    <tr style=\"text-align: right;\">\n",
       "      <th></th>\n",
       "      <th>online</th>\n",
       "      <th>rating</th>\n",
       "      <th>max_rating</th>\n",
       "      <th>problem_solved</th>\n",
       "      <th>submission_count</th>\n",
       "      <th>follower_count</th>\n",
       "      <th>contribution</th>\n",
       "      <th>points</th>\n",
       "      <th>brute-force</th>\n",
       "      <th>math</th>\n",
       "      <th>greedy</th>\n",
       "      <th>sortings</th>\n",
       "      <th>constructive-algorithms</th>\n",
       "      <th>implementation</th>\n",
       "      <th>India</th>\n",
       "      <th>strings</th>\n",
       "      <th>binary-search</th>\n",
       "    </tr>\n",
       "  </thead>\n",
       "  <tbody>\n",
       "    <tr>\n",
       "      <th>0</th>\n",
       "      <td>71522843</td>\n",
       "      <td>206.709</td>\n",
       "      <td>307.913</td>\n",
       "      <td>47</td>\n",
       "      <td>53</td>\n",
       "      <td>1</td>\n",
       "      <td>0</td>\n",
       "      <td>1000.0</td>\n",
       "      <td>0</td>\n",
       "      <td>0</td>\n",
       "      <td>0</td>\n",
       "      <td>0</td>\n",
       "      <td>0</td>\n",
       "      <td>0</td>\n",
       "      <td>0</td>\n",
       "      <td>1</td>\n",
       "      <td>0</td>\n",
       "    </tr>\n",
       "    <tr>\n",
       "      <th>1</th>\n",
       "      <td>47535708</td>\n",
       "      <td>235.378</td>\n",
       "      <td>324.255</td>\n",
       "      <td>118</td>\n",
       "      <td>133</td>\n",
       "      <td>0</td>\n",
       "      <td>0</td>\n",
       "      <td>1500.0</td>\n",
       "      <td>1</td>\n",
       "      <td>0</td>\n",
       "      <td>0</td>\n",
       "      <td>0</td>\n",
       "      <td>0</td>\n",
       "      <td>0</td>\n",
       "      <td>0</td>\n",
       "      <td>0</td>\n",
       "      <td>0</td>\n",
       "    </tr>\n",
       "    <tr>\n",
       "      <th>2</th>\n",
       "      <td>31228669</td>\n",
       "      <td>229.358</td>\n",
       "      <td>343.177</td>\n",
       "      <td>44</td>\n",
       "      <td>50</td>\n",
       "      <td>7</td>\n",
       "      <td>0</td>\n",
       "      <td>500.0</td>\n",
       "      <td>0</td>\n",
       "      <td>0</td>\n",
       "      <td>0</td>\n",
       "      <td>0</td>\n",
       "      <td>0</td>\n",
       "      <td>1</td>\n",
       "      <td>0</td>\n",
       "      <td>0</td>\n",
       "      <td>0</td>\n",
       "    </tr>\n",
       "    <tr>\n",
       "      <th>3</th>\n",
       "      <td>57438471</td>\n",
       "      <td>399.083</td>\n",
       "      <td>436.927</td>\n",
       "      <td>233</td>\n",
       "      <td>271</td>\n",
       "      <td>40</td>\n",
       "      <td>23</td>\n",
       "      <td>500.0</td>\n",
       "      <td>1</td>\n",
       "      <td>0</td>\n",
       "      <td>0</td>\n",
       "      <td>0</td>\n",
       "      <td>0</td>\n",
       "      <td>1</td>\n",
       "      <td>0</td>\n",
       "      <td>0</td>\n",
       "      <td>0</td>\n",
       "    </tr>\n",
       "    <tr>\n",
       "      <th>4</th>\n",
       "      <td>67697192</td>\n",
       "      <td>472.190</td>\n",
       "      <td>492.546</td>\n",
       "      <td>135</td>\n",
       "      <td>155</td>\n",
       "      <td>80</td>\n",
       "      <td>0</td>\n",
       "      <td>2000.0</td>\n",
       "      <td>0</td>\n",
       "      <td>0</td>\n",
       "      <td>0</td>\n",
       "      <td>0</td>\n",
       "      <td>0</td>\n",
       "      <td>0</td>\n",
       "      <td>1</td>\n",
       "      <td>0</td>\n",
       "      <td>0</td>\n",
       "    </tr>\n",
       "  </tbody>\n",
       "</table>\n",
       "</div>"
      ],
      "text/plain": [
       "     online   rating  max_rating  problem_solved  submission_count  \\\n",
       "0  71522843  206.709     307.913              47                53   \n",
       "1  47535708  235.378     324.255             118               133   \n",
       "2  31228669  229.358     343.177              44                50   \n",
       "3  57438471  399.083     436.927             233               271   \n",
       "4  67697192  472.190     492.546             135               155   \n",
       "\n",
       "   follower_count  contribution  points  brute-force  math  greedy  sortings  \\\n",
       "0               1             0  1000.0            0     0       0         0   \n",
       "1               0             0  1500.0            1     0       0         0   \n",
       "2               7             0   500.0            0     0       0         0   \n",
       "3              40            23   500.0            1     0       0         0   \n",
       "4              80             0  2000.0            0     0       0         0   \n",
       "\n",
       "   constructive-algorithms  implementation  India  strings  binary-search  \n",
       "0                        0               0      0        1              0  \n",
       "1                        0               0      0        0              0  \n",
       "2                        0               1      0        0              0  \n",
       "3                        0               1      0        0              0  \n",
       "4                        0               0      1        0              0  "
      ]
     },
     "execution_count": 544,
     "metadata": {},
     "output_type": "execute_result"
    }
   ],
   "source": [
    "X_17.head()"
   ]
  },
  {
   "cell_type": "markdown",
   "metadata": {},
   "source": [
    "### Let's try an average of problem_solved and submission_count"
   ]
  },
  {
   "cell_type": "code",
   "execution_count": 546,
   "metadata": {},
   "outputs": [
    {
     "data": {
      "text/html": [
       "<div>\n",
       "<style>\n",
       "    .dataframe thead tr:only-child th {\n",
       "        text-align: right;\n",
       "    }\n",
       "\n",
       "    .dataframe thead th {\n",
       "        text-align: left;\n",
       "    }\n",
       "\n",
       "    .dataframe tbody tr th {\n",
       "        vertical-align: top;\n",
       "    }\n",
       "</style>\n",
       "<table border=\"1\" class=\"dataframe\">\n",
       "  <thead>\n",
       "    <tr style=\"text-align: right;\">\n",
       "      <th></th>\n",
       "      <th>points</th>\n",
       "      <th>submission_count</th>\n",
       "      <th>problem_solved</th>\n",
       "      <th>contribution</th>\n",
       "      <th>follower_count</th>\n",
       "      <th>max_rating</th>\n",
       "      <th>rating</th>\n",
       "      <th>level_A</th>\n",
       "      <th>level_B</th>\n",
       "      <th>level_C</th>\n",
       "      <th>...</th>\n",
       "      <th>Syria</th>\n",
       "      <th>United States</th>\n",
       "      <th>Romania</th>\n",
       "      <th>Poland</th>\n",
       "      <th>rank_advanced</th>\n",
       "      <th>rank_beginner</th>\n",
       "      <th>rank_expert</th>\n",
       "      <th>rank_intermediate</th>\n",
       "      <th>online</th>\n",
       "      <th>accuracy</th>\n",
       "    </tr>\n",
       "  </thead>\n",
       "  <tbody>\n",
       "    <tr>\n",
       "      <th>0</th>\n",
       "      <td>1000.0</td>\n",
       "      <td>53</td>\n",
       "      <td>47</td>\n",
       "      <td>0</td>\n",
       "      <td>1</td>\n",
       "      <td>307.913</td>\n",
       "      <td>206.709</td>\n",
       "      <td>0</td>\n",
       "      <td>1</td>\n",
       "      <td>0</td>\n",
       "      <td>...</td>\n",
       "      <td>0</td>\n",
       "      <td>0</td>\n",
       "      <td>0</td>\n",
       "      <td>0</td>\n",
       "      <td>0</td>\n",
       "      <td>1</td>\n",
       "      <td>0</td>\n",
       "      <td>0</td>\n",
       "      <td>71522843</td>\n",
       "      <td>0.886792</td>\n",
       "    </tr>\n",
       "    <tr>\n",
       "      <th>1</th>\n",
       "      <td>1500.0</td>\n",
       "      <td>133</td>\n",
       "      <td>118</td>\n",
       "      <td>0</td>\n",
       "      <td>0</td>\n",
       "      <td>324.255</td>\n",
       "      <td>235.378</td>\n",
       "      <td>0</td>\n",
       "      <td>0</td>\n",
       "      <td>1</td>\n",
       "      <td>...</td>\n",
       "      <td>0</td>\n",
       "      <td>0</td>\n",
       "      <td>0</td>\n",
       "      <td>0</td>\n",
       "      <td>0</td>\n",
       "      <td>1</td>\n",
       "      <td>0</td>\n",
       "      <td>0</td>\n",
       "      <td>47535708</td>\n",
       "      <td>0.887218</td>\n",
       "    </tr>\n",
       "    <tr>\n",
       "      <th>2</th>\n",
       "      <td>500.0</td>\n",
       "      <td>50</td>\n",
       "      <td>44</td>\n",
       "      <td>0</td>\n",
       "      <td>7</td>\n",
       "      <td>343.177</td>\n",
       "      <td>229.358</td>\n",
       "      <td>1</td>\n",
       "      <td>0</td>\n",
       "      <td>0</td>\n",
       "      <td>...</td>\n",
       "      <td>0</td>\n",
       "      <td>0</td>\n",
       "      <td>0</td>\n",
       "      <td>0</td>\n",
       "      <td>0</td>\n",
       "      <td>1</td>\n",
       "      <td>0</td>\n",
       "      <td>0</td>\n",
       "      <td>31228669</td>\n",
       "      <td>0.880000</td>\n",
       "    </tr>\n",
       "    <tr>\n",
       "      <th>3</th>\n",
       "      <td>500.0</td>\n",
       "      <td>271</td>\n",
       "      <td>233</td>\n",
       "      <td>23</td>\n",
       "      <td>40</td>\n",
       "      <td>436.927</td>\n",
       "      <td>399.083</td>\n",
       "      <td>1</td>\n",
       "      <td>0</td>\n",
       "      <td>0</td>\n",
       "      <td>...</td>\n",
       "      <td>0</td>\n",
       "      <td>0</td>\n",
       "      <td>0</td>\n",
       "      <td>0</td>\n",
       "      <td>0</td>\n",
       "      <td>0</td>\n",
       "      <td>0</td>\n",
       "      <td>1</td>\n",
       "      <td>57438471</td>\n",
       "      <td>0.859779</td>\n",
       "    </tr>\n",
       "    <tr>\n",
       "      <th>4</th>\n",
       "      <td>2000.0</td>\n",
       "      <td>155</td>\n",
       "      <td>135</td>\n",
       "      <td>0</td>\n",
       "      <td>80</td>\n",
       "      <td>492.546</td>\n",
       "      <td>472.190</td>\n",
       "      <td>0</td>\n",
       "      <td>0</td>\n",
       "      <td>0</td>\n",
       "      <td>...</td>\n",
       "      <td>0</td>\n",
       "      <td>0</td>\n",
       "      <td>0</td>\n",
       "      <td>0</td>\n",
       "      <td>1</td>\n",
       "      <td>0</td>\n",
       "      <td>0</td>\n",
       "      <td>0</td>\n",
       "      <td>67697192</td>\n",
       "      <td>0.870968</td>\n",
       "    </tr>\n",
       "  </tbody>\n",
       "</table>\n",
       "<p>5 rows × 80 columns</p>\n",
       "</div>"
      ],
      "text/plain": [
       "   points  submission_count  problem_solved  contribution  follower_count  \\\n",
       "0  1000.0                53              47             0               1   \n",
       "1  1500.0               133             118             0               0   \n",
       "2   500.0                50              44             0               7   \n",
       "3   500.0               271             233            23              40   \n",
       "4  2000.0               155             135             0              80   \n",
       "\n",
       "   max_rating   rating  level_A  level_B  level_C    ...     Syria  \\\n",
       "0     307.913  206.709        0        1        0    ...         0   \n",
       "1     324.255  235.378        0        0        1    ...         0   \n",
       "2     343.177  229.358        1        0        0    ...         0   \n",
       "3     436.927  399.083        1        0        0    ...         0   \n",
       "4     492.546  472.190        0        0        0    ...         0   \n",
       "\n",
       "   United States  Romania  Poland  rank_advanced  rank_beginner  rank_expert  \\\n",
       "0              0        0       0              0              1            0   \n",
       "1              0        0       0              0              1            0   \n",
       "2              0        0       0              0              1            0   \n",
       "3              0        0       0              0              0            0   \n",
       "4              0        0       0              1              0            0   \n",
       "\n",
       "   rank_intermediate    online  accuracy  \n",
       "0                  0  71522843  0.886792  \n",
       "1                  0  47535708  0.887218  \n",
       "2                  0  31228669  0.880000  \n",
       "3                  1  57438471  0.859779  \n",
       "4                  0  67697192  0.870968  \n",
       "\n",
       "[5 rows x 80 columns]"
      ]
     },
     "execution_count": 546,
     "metadata": {},
     "output_type": "execute_result"
    }
   ],
   "source": [
    "X.loc[:, 'accuracy'] = X.problem_solved / X.submission_count\n",
    "X.head()"
   ]
  },
  {
   "cell_type": "code",
   "execution_count": 547,
   "metadata": {},
   "outputs": [
    {
     "data": {
      "text/plain": [
       "count    155295.000000\n",
       "mean          0.868627\n",
       "std           0.084101\n",
       "min           0.116438\n",
       "25%           0.826507\n",
       "50%           0.885714\n",
       "75%           0.928315\n",
       "max           1.000000\n",
       "Name: accuracy, dtype: float64"
      ]
     },
     "execution_count": 547,
     "metadata": {},
     "output_type": "execute_result"
    }
   ],
   "source": [
    "X.accuracy.describe()"
   ]
  },
  {
   "cell_type": "markdown",
   "metadata": {},
   "source": [
    "### rf test on dataframe now with accuracy"
   ]
  },
  {
   "cell_type": "code",
   "execution_count": 561,
   "metadata": {},
   "outputs": [
    {
     "data": {
      "text/plain": [
       "Pipeline(memory=None,\n",
       "     steps=[('scaler', MinMaxScaler(copy=True, feature_range=(0, 1))), ('clf', RandomForestClassifier(bootstrap=True, class_weight=None, criterion='gini',\n",
       "            max_depth=None, max_features='auto', max_leaf_nodes=None,\n",
       "            min_impurity_decrease=0.0, min_impurity_split=None,\n",
       "            min_samples_leaf=1, min_samples_split=2,\n",
       "            min_weight_fraction_leaf=0.0, n_estimators=10, n_jobs=1,\n",
       "            oob_score=False, random_state=None, verbose=0,\n",
       "            warm_start=False))])"
      ]
     },
     "execution_count": 561,
     "metadata": {},
     "output_type": "execute_result"
    }
   ],
   "source": [
    "scaler = MinMaxScaler()\n",
    "clf = RandomForestClassifier()\n",
    "steps = [('scaler', scaler), ('clf', clf)]\n",
    "pipe = Pipeline(steps)\n",
    "pipe"
   ]
  },
  {
   "cell_type": "code",
   "execution_count": 563,
   "metadata": {},
   "outputs": [
    {
     "data": {
      "text/plain": [
       "Pipeline(memory=None,\n",
       "     steps=[('scaler', MinMaxScaler(copy=True, feature_range=(0, 1))), ('clf', RandomForestClassifier(bootstrap=True, class_weight=None, criterion='gini',\n",
       "            max_depth=None, max_features='auto', max_leaf_nodes=None,\n",
       "            min_impurity_decrease=0.0, min_impurity_split=None,\n",
       "            min_samples_leaf=1, min_samples_split=2,\n",
       "            min_weight_fraction_leaf=0.0, n_estimators=10, n_jobs=1,\n",
       "            oob_score=False, random_state=None, verbose=0,\n",
       "            warm_start=False))])"
      ]
     },
     "execution_count": 563,
     "metadata": {},
     "output_type": "execute_result"
    }
   ],
   "source": [
    "pipe.fit(X, y)"
   ]
  },
  {
   "cell_type": "code",
   "execution_count": 570,
   "metadata": {},
   "outputs": [],
   "source": [
    "fea_imp = sorted(list(zip(X.columns, pipe.named_steps['clf'].feature_importances_)), key=lambda x: x[1], reverse=True)"
   ]
  },
  {
   "cell_type": "code",
   "execution_count": 573,
   "metadata": {},
   "outputs": [],
   "source": [
    "fea_imp = pd.DataFrame(fea_imp, columns='fea imp'.split())"
   ]
  },
  {
   "cell_type": "code",
   "execution_count": 574,
   "metadata": {},
   "outputs": [
    {
     "data": {
      "text/html": [
       "<div>\n",
       "<style>\n",
       "    .dataframe thead tr:only-child th {\n",
       "        text-align: right;\n",
       "    }\n",
       "\n",
       "    .dataframe thead th {\n",
       "        text-align: left;\n",
       "    }\n",
       "\n",
       "    .dataframe tbody tr th {\n",
       "        vertical-align: top;\n",
       "    }\n",
       "</style>\n",
       "<table border=\"1\" class=\"dataframe\">\n",
       "  <thead>\n",
       "    <tr style=\"text-align: right;\">\n",
       "      <th></th>\n",
       "      <th>fea</th>\n",
       "      <th>imp</th>\n",
       "    </tr>\n",
       "  </thead>\n",
       "  <tbody>\n",
       "    <tr>\n",
       "      <th>0</th>\n",
       "      <td>online</td>\n",
       "      <td>0.116691</td>\n",
       "    </tr>\n",
       "    <tr>\n",
       "      <th>1</th>\n",
       "      <td>rating</td>\n",
       "      <td>0.115517</td>\n",
       "    </tr>\n",
       "    <tr>\n",
       "      <th>2</th>\n",
       "      <td>max_rating</td>\n",
       "      <td>0.113637</td>\n",
       "    </tr>\n",
       "    <tr>\n",
       "      <th>3</th>\n",
       "      <td>accuracy</td>\n",
       "      <td>0.106905</td>\n",
       "    </tr>\n",
       "    <tr>\n",
       "      <th>4</th>\n",
       "      <td>follower_count</td>\n",
       "      <td>0.103617</td>\n",
       "    </tr>\n",
       "  </tbody>\n",
       "</table>\n",
       "</div>"
      ],
      "text/plain": [
       "              fea       imp\n",
       "0          online  0.116691\n",
       "1          rating  0.115517\n",
       "2      max_rating  0.113637\n",
       "3        accuracy  0.106905\n",
       "4  follower_count  0.103617"
      ]
     },
     "execution_count": 574,
     "metadata": {},
     "output_type": "execute_result"
    }
   ],
   "source": [
    "fea_imp.head()"
   ]
  },
  {
   "cell_type": "code",
   "execution_count": 578,
   "metadata": {},
   "outputs": [
    {
     "data": {
      "text/plain": [
       "Pipeline(memory=None,\n",
       "     steps=[('scaler', MinMaxScaler(copy=True, feature_range=(0, 1))), ('pca', PCA(copy=True, iterated_power='auto', n_components=0.9, random_state=None,\n",
       "  svd_solver='auto', tol=0.0, whiten=False)), ('clf', RandomForestClassifier(bootstrap=True, class_weight=None, criterion='gini',\n",
       "            max_depth..._jobs=-1,\n",
       "            oob_score=False, random_state=None, verbose=0,\n",
       "            warm_start=False))])"
      ]
     },
     "execution_count": 578,
     "metadata": {},
     "output_type": "execute_result"
    }
   ],
   "source": [
    "scaler = MinMaxScaler()\n",
    "pca = PCA(n_components=.9)\n",
    "clf = RandomForestClassifier(n_jobs=-1)\n",
    "steps = [('scaler', scaler), ('pca', pca), ('clf', clf)]\n",
    "pipe = Pipeline(steps)\n",
    "pipe"
   ]
  },
  {
   "cell_type": "code",
   "execution_count": 586,
   "metadata": {},
   "outputs": [
    {
     "name": "stdout",
     "output_type": "stream",
     "text": [
      "Fitting 3 folds for each of 27 candidates, totalling 81 fits\n",
      "[CV] clf__max_features=7, clf__min_samples_leaf=10, clf__n_estimators=10, pca__n_components=0.9 \n",
      "[CV] clf__max_features=7, clf__min_samples_leaf=10, clf__n_estimators=10, pca__n_components=0.9 \n",
      "[CV] clf__max_features=7, clf__min_samples_leaf=10, clf__n_estimators=10, pca__n_components=0.9 \n",
      "[CV] clf__max_features=7, clf__min_samples_leaf=10, clf__n_estimators=10, pca__n_components=0.95 \n",
      "[CV]  clf__max_features=7, clf__min_samples_leaf=10, clf__n_estimators=10, pca__n_components=0.95, score=0.46066526784497447, total=  20.7s\n",
      "[CV] clf__max_features=7, clf__min_samples_leaf=10, clf__n_estimators=10, pca__n_components=0.95 \n",
      "[CV]  clf__max_features=7, clf__min_samples_leaf=10, clf__n_estimators=10, pca__n_components=0.9, score=0.46333616331223726, total=  21.6s\n",
      "[CV]  clf__max_features=7, clf__min_samples_leaf=10, clf__n_estimators=10, pca__n_components=0.9, score=0.460344306165467, total=  21.9s\n",
      "[CV] clf__max_features=7, clf__min_samples_leaf=10, clf__n_estimators=10, pca__n_components=0.95 \n",
      "[CV] clf__max_features=7, clf__min_samples_leaf=10, clf__n_estimators=10, pca__n_components=0.99 \n",
      "[CV]  clf__max_features=7, clf__min_samples_leaf=10, clf__n_estimators=10, pca__n_components=0.9, score=0.4630516241991222, total=  22.2s\n",
      "[CV] clf__max_features=7, clf__min_samples_leaf=10, clf__n_estimators=10, pca__n_components=0.99 \n",
      "[CV]  clf__max_features=7, clf__min_samples_leaf=10, clf__n_estimators=10, pca__n_components=0.95, score=0.46333636074917334, total=  18.6s\n",
      "[CV] clf__max_features=7, clf__min_samples_leaf=10, clf__n_estimators=10, pca__n_components=0.99 \n",
      "[CV]  clf__max_features=7, clf__min_samples_leaf=10, clf__n_estimators=10, pca__n_components=0.95, score=0.464012332700409, total=  18.4s\n",
      "[CV] clf__max_features=7, clf__min_samples_leaf=15, clf__n_estimators=10, pca__n_components=0.9 \n",
      "[CV]  clf__max_features=7, clf__min_samples_leaf=10, clf__n_estimators=10, pca__n_components=0.99, score=0.46095343120445254, total=  18.3s\n",
      "[CV] clf__max_features=7, clf__min_samples_leaf=15, clf__n_estimators=10, pca__n_components=0.9 \n",
      "[CV]  clf__max_features=7, clf__min_samples_leaf=10, clf__n_estimators=10, pca__n_components=0.99, score=0.46124700506195326, total=  18.3s\n",
      "[CV] clf__max_features=7, clf__min_samples_leaf=15, clf__n_estimators=10, pca__n_components=0.9 \n"
     ]
    },
    {
     "name": "stderr",
     "output_type": "stream",
     "text": [
      "/Users/sartajsingh/anaconda3/lib/python3.6/site-packages/sklearn/metrics/classification.py:1135: UndefinedMetricWarning: F-score is ill-defined and being set to 0.0 in labels with no predicted samples.\n",
      "  'precision', 'predicted', average, warn_for)\n"
     ]
    },
    {
     "name": "stdout",
     "output_type": "stream",
     "text": [
      "[CV]  clf__max_features=7, clf__min_samples_leaf=10, clf__n_estimators=10, pca__n_components=0.99, score=0.4644500277694802, total=  20.1s\n"
     ]
    },
    {
     "name": "stderr",
     "output_type": "stream",
     "text": [
      "/Users/sartajsingh/anaconda3/lib/python3.6/site-packages/sklearn/metrics/classification.py:1135: UndefinedMetricWarning: F-score is ill-defined and being set to 0.0 in labels with no predicted samples.\n",
      "  'precision', 'predicted', average, warn_for)\n"
     ]
    },
    {
     "name": "stdout",
     "output_type": "stream",
     "text": [
      "[CV] clf__max_features=7, clf__min_samples_leaf=15, clf__n_estimators=10, pca__n_components=0.95 \n"
     ]
    },
    {
     "name": "stderr",
     "output_type": "stream",
     "text": [
      "/Users/sartajsingh/anaconda3/lib/python3.6/site-packages/sklearn/metrics/classification.py:1135: UndefinedMetricWarning: F-score is ill-defined and being set to 0.0 in labels with no predicted samples.\n",
      "  'precision', 'predicted', average, warn_for)\n"
     ]
    },
    {
     "name": "stdout",
     "output_type": "stream",
     "text": [
      "[CV]  clf__max_features=7, clf__min_samples_leaf=15, clf__n_estimators=10, pca__n_components=0.9, score=0.4598711918425, total=  19.7s\n",
      "[CV] clf__max_features=7, clf__min_samples_leaf=15, clf__n_estimators=10, pca__n_components=0.95 \n",
      "[CV]  clf__max_features=7, clf__min_samples_leaf=15, clf__n_estimators=10, pca__n_components=0.9, score=0.4614053024627334, total=  19.7s\n",
      "[CV] clf__max_features=7, clf__min_samples_leaf=15, clf__n_estimators=10, pca__n_components=0.95 \n",
      "[CV]  clf__max_features=7, clf__min_samples_leaf=15, clf__n_estimators=10, pca__n_components=0.9, score=0.46240499601664464, total=  20.0s\n",
      "[CV] clf__max_features=7, clf__min_samples_leaf=15, clf__n_estimators=10, pca__n_components=0.99 \n",
      "[CV]  clf__max_features=7, clf__min_samples_leaf=15, clf__n_estimators=10, pca__n_components=0.95, score=0.4587837384847252, total=  18.8s\n",
      "[CV] clf__max_features=7, clf__min_samples_leaf=15, clf__n_estimators=10, pca__n_components=0.99 \n"
     ]
    },
    {
     "name": "stderr",
     "output_type": "stream",
     "text": [
      "/Users/sartajsingh/anaconda3/lib/python3.6/site-packages/sklearn/metrics/classification.py:1135: UndefinedMetricWarning: F-score is ill-defined and being set to 0.0 in labels with no predicted samples.\n",
      "  'precision', 'predicted', average, warn_for)\n",
      "/Users/sartajsingh/anaconda3/lib/python3.6/site-packages/sklearn/metrics/classification.py:1135: UndefinedMetricWarning: F-score is ill-defined and being set to 0.0 in labels with no predicted samples.\n",
      "  'precision', 'predicted', average, warn_for)\n"
     ]
    },
    {
     "name": "stdout",
     "output_type": "stream",
     "text": [
      "[CV]  clf__max_features=7, clf__min_samples_leaf=15, clf__n_estimators=10, pca__n_components=0.95, score=0.45991420219724655, total=  19.4s\n",
      "[CV]  clf__max_features=7, clf__min_samples_leaf=15, clf__n_estimators=10, pca__n_components=0.95, score=0.46177976415878985, total=  19.2s\n",
      "[CV] clf__max_features=7, clf__min_samples_leaf=15, clf__n_estimators=10, pca__n_components=0.99 \n",
      "[CV] clf__max_features=7, clf__min_samples_leaf=20, clf__n_estimators=10, pca__n_components=0.9 \n"
     ]
    },
    {
     "name": "stderr",
     "output_type": "stream",
     "text": [
      "/Users/sartajsingh/anaconda3/lib/python3.6/site-packages/sklearn/metrics/classification.py:1135: UndefinedMetricWarning: F-score is ill-defined and being set to 0.0 in labels with no predicted samples.\n",
      "  'precision', 'predicted', average, warn_for)\n"
     ]
    },
    {
     "name": "stdout",
     "output_type": "stream",
     "text": [
      "[CV]  clf__max_features=7, clf__min_samples_leaf=15, clf__n_estimators=10, pca__n_components=0.99, score=0.457866833646564, total=  20.0s\n",
      "[CV] clf__max_features=7, clf__min_samples_leaf=20, clf__n_estimators=10, pca__n_components=0.9 \n"
     ]
    },
    {
     "name": "stderr",
     "output_type": "stream",
     "text": [
      "/Users/sartajsingh/anaconda3/lib/python3.6/site-packages/sklearn/metrics/classification.py:1135: UndefinedMetricWarning: F-score is ill-defined and being set to 0.0 in labels with no predicted samples.\n",
      "  'precision', 'predicted', average, warn_for)\n",
      "/Users/sartajsingh/anaconda3/lib/python3.6/site-packages/sklearn/metrics/classification.py:1135: UndefinedMetricWarning: F-score is ill-defined and being set to 0.0 in labels with no predicted samples.\n",
      "  'precision', 'predicted', average, warn_for)\n"
     ]
    },
    {
     "name": "stdout",
     "output_type": "stream",
     "text": [
      "[CV]  clf__max_features=7, clf__min_samples_leaf=15, clf__n_estimators=10, pca__n_components=0.99, score=0.46238317039819, total=  18.2s\n"
     ]
    },
    {
     "name": "stderr",
     "output_type": "stream",
     "text": [
      "/Users/sartajsingh/anaconda3/lib/python3.6/site-packages/sklearn/metrics/classification.py:1135: UndefinedMetricWarning: F-score is ill-defined and being set to 0.0 in labels with no predicted samples.\n",
      "  'precision', 'predicted', average, warn_for)\n"
     ]
    },
    {
     "name": "stdout",
     "output_type": "stream",
     "text": [
      "[CV] clf__max_features=7, clf__min_samples_leaf=20, clf__n_estimators=10, pca__n_components=0.9 \n"
     ]
    },
    {
     "name": "stderr",
     "output_type": "stream",
     "text": [
      "/Users/sartajsingh/anaconda3/lib/python3.6/site-packages/sklearn/metrics/classification.py:1135: UndefinedMetricWarning: F-score is ill-defined and being set to 0.0 in labels with no predicted samples.\n",
      "  'precision', 'predicted', average, warn_for)\n"
     ]
    },
    {
     "name": "stdout",
     "output_type": "stream",
     "text": [
      "[CV]  clf__max_features=7, clf__min_samples_leaf=20, clf__n_estimators=10, pca__n_components=0.9, score=0.4577255672371174, total=  18.1s\n",
      "[CV]  clf__max_features=7, clf__min_samples_leaf=15, clf__n_estimators=10, pca__n_components=0.99, score=0.4623976252358685, total=  18.2s\n",
      "[CV] clf__max_features=7, clf__min_samples_leaf=20, clf__n_estimators=10, pca__n_components=0.95 \n",
      "[CV] clf__max_features=7, clf__min_samples_leaf=20, clf__n_estimators=10, pca__n_components=0.95 \n",
      "[CV]  clf__max_features=7, clf__min_samples_leaf=20, clf__n_estimators=10, pca__n_components=0.9, score=0.45961112680990324, total=  17.6s\n",
      "[CV] clf__max_features=7, clf__min_samples_leaf=20, clf__n_estimators=10, pca__n_components=0.95 \n"
     ]
    },
    {
     "name": "stderr",
     "output_type": "stream",
     "text": [
      "/Users/sartajsingh/anaconda3/lib/python3.6/site-packages/sklearn/metrics/classification.py:1135: UndefinedMetricWarning: F-score is ill-defined and being set to 0.0 in labels with no predicted samples.\n",
      "  'precision', 'predicted', average, warn_for)\n"
     ]
    },
    {
     "name": "stdout",
     "output_type": "stream",
     "text": [
      "[CV]  clf__max_features=7, clf__min_samples_leaf=20, clf__n_estimators=10, pca__n_components=0.9, score=0.4632021394761836, total=  18.9s\n",
      "[CV] clf__max_features=7, clf__min_samples_leaf=20, clf__n_estimators=10, pca__n_components=0.99 \n"
     ]
    },
    {
     "name": "stderr",
     "output_type": "stream",
     "text": [
      "/Users/sartajsingh/anaconda3/lib/python3.6/site-packages/sklearn/metrics/classification.py:1135: UndefinedMetricWarning: F-score is ill-defined and being set to 0.0 in labels with no predicted samples.\n",
      "  'precision', 'predicted', average, warn_for)\n",
      "/Users/sartajsingh/anaconda3/lib/python3.6/site-packages/sklearn/metrics/classification.py:1135: UndefinedMetricWarning: F-score is ill-defined and being set to 0.0 in labels with no predicted samples.\n",
      "  'precision', 'predicted', average, warn_for)\n",
      "/Users/sartajsingh/anaconda3/lib/python3.6/site-packages/sklearn/metrics/classification.py:1135: UndefinedMetricWarning: F-score is ill-defined and being set to 0.0 in labels with no predicted samples.\n",
      "  'precision', 'predicted', average, warn_for)\n"
     ]
    },
    {
     "name": "stdout",
     "output_type": "stream",
     "text": [
      "[CV]  clf__max_features=7, clf__min_samples_leaf=20, clf__n_estimators=10, pca__n_components=0.95, score=0.4609574684322491, total=  19.1s\n",
      "[CV]  clf__max_features=7, clf__min_samples_leaf=20, clf__n_estimators=10, pca__n_components=0.95, score=0.457735557896101, total=  19.7s\n",
      "[CV] clf__max_features=7, clf__min_samples_leaf=20, clf__n_estimators=10, pca__n_components=0.99 \n",
      "[CV] clf__max_features=7, clf__min_samples_leaf=20, clf__n_estimators=10, pca__n_components=0.99 \n",
      "[CV]  clf__max_features=7, clf__min_samples_leaf=20, clf__n_estimators=10, pca__n_components=0.95, score=0.45925639430671583, total=  20.0s\n",
      "[CV] clf__max_features=9, clf__min_samples_leaf=10, clf__n_estimators=10, pca__n_components=0.9 \n"
     ]
    },
    {
     "name": "stderr",
     "output_type": "stream",
     "text": [
      "[Parallel(n_jobs=-1)]: Done  24 tasks      | elapsed:  2.1min\n",
      "/Users/sartajsingh/anaconda3/lib/python3.6/site-packages/sklearn/metrics/classification.py:1135: UndefinedMetricWarning: F-score is ill-defined and being set to 0.0 in labels with no predicted samples.\n",
      "  'precision', 'predicted', average, warn_for)\n"
     ]
    },
    {
     "name": "stdout",
     "output_type": "stream",
     "text": [
      "[CV]  clf__max_features=7, clf__min_samples_leaf=20, clf__n_estimators=10, pca__n_components=0.99, score=0.45646424566536914, total=  19.5s\n",
      "[CV] clf__max_features=9, clf__min_samples_leaf=10, clf__n_estimators=10, pca__n_components=0.9 \n"
     ]
    },
    {
     "name": "stderr",
     "output_type": "stream",
     "text": [
      "/Users/sartajsingh/anaconda3/lib/python3.6/site-packages/sklearn/metrics/classification.py:1135: UndefinedMetricWarning: F-score is ill-defined and being set to 0.0 in labels with no predicted samples.\n",
      "  'precision', 'predicted', average, warn_for)\n",
      "/Users/sartajsingh/anaconda3/lib/python3.6/site-packages/sklearn/metrics/classification.py:1135: UndefinedMetricWarning: F-score is ill-defined and being set to 0.0 in labels with no predicted samples.\n",
      "  'precision', 'predicted', average, warn_for)\n"
     ]
    },
    {
     "name": "stdout",
     "output_type": "stream",
     "text": [
      "[CV]  clf__max_features=7, clf__min_samples_leaf=20, clf__n_estimators=10, pca__n_components=0.99, score=0.45938538582624705, total=  20.1s\n",
      "[CV] clf__max_features=9, clf__min_samples_leaf=10, clf__n_estimators=10, pca__n_components=0.9 \n",
      "[CV]  clf__max_features=7, clf__min_samples_leaf=20, clf__n_estimators=10, pca__n_components=0.99, score=0.45954700845888313, total=  20.2s\n",
      "[CV] clf__max_features=9, clf__min_samples_leaf=10, clf__n_estimators=10, pca__n_components=0.95 \n",
      "[CV]  clf__max_features=9, clf__min_samples_leaf=10, clf__n_estimators=10, pca__n_components=0.9, score=0.4606832891221464, total=  24.4s\n",
      "[CV] clf__max_features=9, clf__min_samples_leaf=10, clf__n_estimators=10, pca__n_components=0.95 \n",
      "[CV]  clf__max_features=9, clf__min_samples_leaf=10, clf__n_estimators=10, pca__n_components=0.9, score=0.46289476875427926, total=  25.2s\n",
      "[CV] clf__max_features=9, clf__min_samples_leaf=10, clf__n_estimators=10, pca__n_components=0.95 \n",
      "[CV]  clf__max_features=9, clf__min_samples_leaf=10, clf__n_estimators=10, pca__n_components=0.95, score=0.4603827040080879, total=  25.3s\n",
      "[CV]  clf__max_features=9, clf__min_samples_leaf=10, clf__n_estimators=10, pca__n_components=0.9, score=0.4638437726663262, total=  25.6s\n",
      "[CV] clf__max_features=9, clf__min_samples_leaf=10, clf__n_estimators=10, pca__n_components=0.99 \n",
      "[CV] clf__max_features=9, clf__min_samples_leaf=10, clf__n_estimators=10, pca__n_components=0.99 \n"
     ]
    },
    {
     "ename": "KeyboardInterrupt",
     "evalue": "",
     "output_type": "error",
     "traceback": [
      "\u001b[0;31m---------------------------------------------------------------------------\u001b[0m",
      "\u001b[0;31mKeyboardInterrupt\u001b[0m                         Traceback (most recent call last)",
      "\u001b[0;32m<ipython-input-586-516ba16c0654>\u001b[0m in \u001b[0;36m<module>\u001b[0;34m()\u001b[0m\n\u001b[1;32m      6\u001b[0m }\n\u001b[1;32m      7\u001b[0m \u001b[0mgrid\u001b[0m \u001b[0;34m=\u001b[0m \u001b[0mGridSearchCV\u001b[0m\u001b[0;34m(\u001b[0m\u001b[0mpipe\u001b[0m\u001b[0;34m,\u001b[0m \u001b[0mparam_grid\u001b[0m\u001b[0;34m=\u001b[0m\u001b[0mparams\u001b[0m\u001b[0;34m,\u001b[0m \u001b[0mscoring\u001b[0m\u001b[0;34m=\u001b[0m\u001b[0mgrid_scorer\u001b[0m\u001b[0;34m,\u001b[0m \u001b[0mverbose\u001b[0m\u001b[0;34m=\u001b[0m\u001b[0;36m3\u001b[0m\u001b[0;34m,\u001b[0m \u001b[0mn_jobs\u001b[0m\u001b[0;34m=\u001b[0m\u001b[0;34m-\u001b[0m\u001b[0;36m1\u001b[0m\u001b[0;34m)\u001b[0m\u001b[0;34m\u001b[0m\u001b[0m\n\u001b[0;32m----> 8\u001b[0;31m \u001b[0mgrid\u001b[0m\u001b[0;34m.\u001b[0m\u001b[0mfit\u001b[0m\u001b[0;34m(\u001b[0m\u001b[0mX\u001b[0m\u001b[0;34m,\u001b[0m \u001b[0my\u001b[0m\u001b[0;34m)\u001b[0m\u001b[0;34m\u001b[0m\u001b[0m\n\u001b[0m",
      "\u001b[0;32m~/anaconda3/lib/python3.6/site-packages/sklearn/model_selection/_search.py\u001b[0m in \u001b[0;36mfit\u001b[0;34m(self, X, y, groups, **fit_params)\u001b[0m\n\u001b[1;32m    636\u001b[0m                                   error_score=self.error_score)\n\u001b[1;32m    637\u001b[0m           for parameters, (train, test) in product(candidate_params,\n\u001b[0;32m--> 638\u001b[0;31m                                                    cv.split(X, y, groups)))\n\u001b[0m\u001b[1;32m    639\u001b[0m \u001b[0;34m\u001b[0m\u001b[0m\n\u001b[1;32m    640\u001b[0m         \u001b[0;31m# if one choose to see train score, \"out\" will contain train score info\u001b[0m\u001b[0;34m\u001b[0m\u001b[0;34m\u001b[0m\u001b[0m\n",
      "\u001b[0;32m~/anaconda3/lib/python3.6/site-packages/sklearn/externals/joblib/parallel.py\u001b[0m in \u001b[0;36m__call__\u001b[0;34m(self, iterable)\u001b[0m\n\u001b[1;32m    787\u001b[0m                 \u001b[0;31m# consumption.\u001b[0m\u001b[0;34m\u001b[0m\u001b[0;34m\u001b[0m\u001b[0m\n\u001b[1;32m    788\u001b[0m                 \u001b[0mself\u001b[0m\u001b[0;34m.\u001b[0m\u001b[0m_iterating\u001b[0m \u001b[0;34m=\u001b[0m \u001b[0;32mFalse\u001b[0m\u001b[0;34m\u001b[0m\u001b[0m\n\u001b[0;32m--> 789\u001b[0;31m             \u001b[0mself\u001b[0m\u001b[0;34m.\u001b[0m\u001b[0mretrieve\u001b[0m\u001b[0;34m(\u001b[0m\u001b[0;34m)\u001b[0m\u001b[0;34m\u001b[0m\u001b[0m\n\u001b[0m\u001b[1;32m    790\u001b[0m             \u001b[0;31m# Make sure that we get a last message telling us we are done\u001b[0m\u001b[0;34m\u001b[0m\u001b[0;34m\u001b[0m\u001b[0m\n\u001b[1;32m    791\u001b[0m             \u001b[0melapsed_time\u001b[0m \u001b[0;34m=\u001b[0m \u001b[0mtime\u001b[0m\u001b[0;34m.\u001b[0m\u001b[0mtime\u001b[0m\u001b[0;34m(\u001b[0m\u001b[0;34m)\u001b[0m \u001b[0;34m-\u001b[0m \u001b[0mself\u001b[0m\u001b[0;34m.\u001b[0m\u001b[0m_start_time\u001b[0m\u001b[0;34m\u001b[0m\u001b[0m\n",
      "\u001b[0;32m~/anaconda3/lib/python3.6/site-packages/sklearn/externals/joblib/parallel.py\u001b[0m in \u001b[0;36mretrieve\u001b[0;34m(self)\u001b[0m\n\u001b[1;32m    697\u001b[0m             \u001b[0;32mtry\u001b[0m\u001b[0;34m:\u001b[0m\u001b[0;34m\u001b[0m\u001b[0m\n\u001b[1;32m    698\u001b[0m                 \u001b[0;32mif\u001b[0m \u001b[0mgetattr\u001b[0m\u001b[0;34m(\u001b[0m\u001b[0mself\u001b[0m\u001b[0;34m.\u001b[0m\u001b[0m_backend\u001b[0m\u001b[0;34m,\u001b[0m \u001b[0;34m'supports_timeout'\u001b[0m\u001b[0;34m,\u001b[0m \u001b[0;32mFalse\u001b[0m\u001b[0;34m)\u001b[0m\u001b[0;34m:\u001b[0m\u001b[0;34m\u001b[0m\u001b[0m\n\u001b[0;32m--> 699\u001b[0;31m                     \u001b[0mself\u001b[0m\u001b[0;34m.\u001b[0m\u001b[0m_output\u001b[0m\u001b[0;34m.\u001b[0m\u001b[0mextend\u001b[0m\u001b[0;34m(\u001b[0m\u001b[0mjob\u001b[0m\u001b[0;34m.\u001b[0m\u001b[0mget\u001b[0m\u001b[0;34m(\u001b[0m\u001b[0mtimeout\u001b[0m\u001b[0;34m=\u001b[0m\u001b[0mself\u001b[0m\u001b[0;34m.\u001b[0m\u001b[0mtimeout\u001b[0m\u001b[0;34m)\u001b[0m\u001b[0;34m)\u001b[0m\u001b[0;34m\u001b[0m\u001b[0m\n\u001b[0m\u001b[1;32m    700\u001b[0m                 \u001b[0;32melse\u001b[0m\u001b[0;34m:\u001b[0m\u001b[0;34m\u001b[0m\u001b[0m\n\u001b[1;32m    701\u001b[0m                     \u001b[0mself\u001b[0m\u001b[0;34m.\u001b[0m\u001b[0m_output\u001b[0m\u001b[0;34m.\u001b[0m\u001b[0mextend\u001b[0m\u001b[0;34m(\u001b[0m\u001b[0mjob\u001b[0m\u001b[0;34m.\u001b[0m\u001b[0mget\u001b[0m\u001b[0;34m(\u001b[0m\u001b[0;34m)\u001b[0m\u001b[0;34m)\u001b[0m\u001b[0;34m\u001b[0m\u001b[0m\n",
      "\u001b[0;32m~/anaconda3/lib/python3.6/multiprocessing/pool.py\u001b[0m in \u001b[0;36mget\u001b[0;34m(self, timeout)\u001b[0m\n\u001b[1;32m    636\u001b[0m \u001b[0;34m\u001b[0m\u001b[0m\n\u001b[1;32m    637\u001b[0m     \u001b[0;32mdef\u001b[0m \u001b[0mget\u001b[0m\u001b[0;34m(\u001b[0m\u001b[0mself\u001b[0m\u001b[0;34m,\u001b[0m \u001b[0mtimeout\u001b[0m\u001b[0;34m=\u001b[0m\u001b[0;32mNone\u001b[0m\u001b[0;34m)\u001b[0m\u001b[0;34m:\u001b[0m\u001b[0;34m\u001b[0m\u001b[0m\n\u001b[0;32m--> 638\u001b[0;31m         \u001b[0mself\u001b[0m\u001b[0;34m.\u001b[0m\u001b[0mwait\u001b[0m\u001b[0;34m(\u001b[0m\u001b[0mtimeout\u001b[0m\u001b[0;34m)\u001b[0m\u001b[0;34m\u001b[0m\u001b[0m\n\u001b[0m\u001b[1;32m    639\u001b[0m         \u001b[0;32mif\u001b[0m \u001b[0;32mnot\u001b[0m \u001b[0mself\u001b[0m\u001b[0;34m.\u001b[0m\u001b[0mready\u001b[0m\u001b[0;34m(\u001b[0m\u001b[0;34m)\u001b[0m\u001b[0;34m:\u001b[0m\u001b[0;34m\u001b[0m\u001b[0m\n\u001b[1;32m    640\u001b[0m             \u001b[0;32mraise\u001b[0m \u001b[0mTimeoutError\u001b[0m\u001b[0;34m\u001b[0m\u001b[0m\n",
      "\u001b[0;32m~/anaconda3/lib/python3.6/multiprocessing/pool.py\u001b[0m in \u001b[0;36mwait\u001b[0;34m(self, timeout)\u001b[0m\n\u001b[1;32m    633\u001b[0m \u001b[0;34m\u001b[0m\u001b[0m\n\u001b[1;32m    634\u001b[0m     \u001b[0;32mdef\u001b[0m \u001b[0mwait\u001b[0m\u001b[0;34m(\u001b[0m\u001b[0mself\u001b[0m\u001b[0;34m,\u001b[0m \u001b[0mtimeout\u001b[0m\u001b[0;34m=\u001b[0m\u001b[0;32mNone\u001b[0m\u001b[0;34m)\u001b[0m\u001b[0;34m:\u001b[0m\u001b[0;34m\u001b[0m\u001b[0m\n\u001b[0;32m--> 635\u001b[0;31m         \u001b[0mself\u001b[0m\u001b[0;34m.\u001b[0m\u001b[0m_event\u001b[0m\u001b[0;34m.\u001b[0m\u001b[0mwait\u001b[0m\u001b[0;34m(\u001b[0m\u001b[0mtimeout\u001b[0m\u001b[0;34m)\u001b[0m\u001b[0;34m\u001b[0m\u001b[0m\n\u001b[0m\u001b[1;32m    636\u001b[0m \u001b[0;34m\u001b[0m\u001b[0m\n\u001b[1;32m    637\u001b[0m     \u001b[0;32mdef\u001b[0m \u001b[0mget\u001b[0m\u001b[0;34m(\u001b[0m\u001b[0mself\u001b[0m\u001b[0;34m,\u001b[0m \u001b[0mtimeout\u001b[0m\u001b[0;34m=\u001b[0m\u001b[0;32mNone\u001b[0m\u001b[0;34m)\u001b[0m\u001b[0;34m:\u001b[0m\u001b[0;34m\u001b[0m\u001b[0m\n",
      "\u001b[0;32m~/anaconda3/lib/python3.6/threading.py\u001b[0m in \u001b[0;36mwait\u001b[0;34m(self, timeout)\u001b[0m\n\u001b[1;32m    549\u001b[0m             \u001b[0msignaled\u001b[0m \u001b[0;34m=\u001b[0m \u001b[0mself\u001b[0m\u001b[0;34m.\u001b[0m\u001b[0m_flag\u001b[0m\u001b[0;34m\u001b[0m\u001b[0m\n\u001b[1;32m    550\u001b[0m             \u001b[0;32mif\u001b[0m \u001b[0;32mnot\u001b[0m \u001b[0msignaled\u001b[0m\u001b[0;34m:\u001b[0m\u001b[0;34m\u001b[0m\u001b[0m\n\u001b[0;32m--> 551\u001b[0;31m                 \u001b[0msignaled\u001b[0m \u001b[0;34m=\u001b[0m \u001b[0mself\u001b[0m\u001b[0;34m.\u001b[0m\u001b[0m_cond\u001b[0m\u001b[0;34m.\u001b[0m\u001b[0mwait\u001b[0m\u001b[0;34m(\u001b[0m\u001b[0mtimeout\u001b[0m\u001b[0;34m)\u001b[0m\u001b[0;34m\u001b[0m\u001b[0m\n\u001b[0m\u001b[1;32m    552\u001b[0m             \u001b[0;32mreturn\u001b[0m \u001b[0msignaled\u001b[0m\u001b[0;34m\u001b[0m\u001b[0m\n\u001b[1;32m    553\u001b[0m \u001b[0;34m\u001b[0m\u001b[0m\n",
      "\u001b[0;32m~/anaconda3/lib/python3.6/threading.py\u001b[0m in \u001b[0;36mwait\u001b[0;34m(self, timeout)\u001b[0m\n\u001b[1;32m    293\u001b[0m         \u001b[0;32mtry\u001b[0m\u001b[0;34m:\u001b[0m    \u001b[0;31m# restore state no matter what (e.g., KeyboardInterrupt)\u001b[0m\u001b[0;34m\u001b[0m\u001b[0m\n\u001b[1;32m    294\u001b[0m             \u001b[0;32mif\u001b[0m \u001b[0mtimeout\u001b[0m \u001b[0;32mis\u001b[0m \u001b[0;32mNone\u001b[0m\u001b[0;34m:\u001b[0m\u001b[0;34m\u001b[0m\u001b[0m\n\u001b[0;32m--> 295\u001b[0;31m                 \u001b[0mwaiter\u001b[0m\u001b[0;34m.\u001b[0m\u001b[0macquire\u001b[0m\u001b[0;34m(\u001b[0m\u001b[0;34m)\u001b[0m\u001b[0;34m\u001b[0m\u001b[0m\n\u001b[0m\u001b[1;32m    296\u001b[0m                 \u001b[0mgotit\u001b[0m \u001b[0;34m=\u001b[0m \u001b[0;32mTrue\u001b[0m\u001b[0;34m\u001b[0m\u001b[0m\n\u001b[1;32m    297\u001b[0m             \u001b[0;32melse\u001b[0m\u001b[0;34m:\u001b[0m\u001b[0;34m\u001b[0m\u001b[0m\n",
      "\u001b[0;31mKeyboardInterrupt\u001b[0m: "
     ]
    }
   ],
   "source": [
    "params = {\n",
    "    'pca__n_components': [.9, .95, .99],\n",
    "    'clf__n_estimators': [10],\n",
    "    'clf__min_samples_leaf': [10, 15, 20],\n",
    "    'clf__max_features': [7, 9, 11]\n",
    "}\n",
    "grid = GridSearchCV(pipe, param_grid=params, scoring=grid_scorer, verbose=3, n_jobs=-1)\n",
    "grid.fit(X, y)"
   ]
  },
  {
   "cell_type": "code",
   "execution_count": 580,
   "metadata": {},
   "outputs": [
    {
     "data": {
      "text/plain": [
       "{'clf__max_features': 9, 'clf__min_samples_leaf': 10, 'clf__n_estimators': 10}"
      ]
     },
     "execution_count": 580,
     "metadata": {},
     "output_type": "execute_result"
    }
   ],
   "source": [
    "grid.best_params_"
   ]
  },
  {
   "cell_type": "code",
   "execution_count": 581,
   "metadata": {},
   "outputs": [
    {
     "data": {
      "text/plain": [
       "0.46352845850349927"
      ]
     },
     "execution_count": 581,
     "metadata": {},
     "output_type": "execute_result"
    }
   ],
   "source": [
    "grid.best_score_"
   ]
  },
  {
   "cell_type": "code",
   "execution_count": 582,
   "metadata": {},
   "outputs": [
    {
     "name": "stderr",
     "output_type": "stream",
     "text": [
      "/Users/sartajsingh/anaconda3/lib/python3.6/site-packages/sklearn/model_selection/_search.py:747: DeprecationWarning: The grid_scores_ attribute was deprecated in version 0.18 in favor of the more elaborate cv_results_ attribute. The grid_scores_ attribute will not be available from 0.20\n",
      "  DeprecationWarning)\n"
     ]
    },
    {
     "data": {
      "text/plain": [
       "[mean: 0.46155, std: 0.00103, params: {'clf__max_features': 7, 'clf__min_samples_leaf': 10, 'clf__n_estimators': 10},\n",
       " mean: 0.46353, std: 0.00169, params: {'clf__max_features': 9, 'clf__min_samples_leaf': 10, 'clf__n_estimators': 10}]"
      ]
     },
     "execution_count": 582,
     "metadata": {},
     "output_type": "execute_result"
    }
   ],
   "source": [
    "grid.grid_scores_"
   ]
  },
  {
   "cell_type": "code",
   "execution_count": 584,
   "metadata": {},
   "outputs": [
    {
     "data": {
      "text/html": [
       "<div>\n",
       "<style>\n",
       "    .dataframe thead tr:only-child th {\n",
       "        text-align: right;\n",
       "    }\n",
       "\n",
       "    .dataframe thead th {\n",
       "        text-align: left;\n",
       "    }\n",
       "\n",
       "    .dataframe tbody tr th {\n",
       "        vertical-align: top;\n",
       "    }\n",
       "</style>\n",
       "<table border=\"1\" class=\"dataframe\">\n",
       "  <thead>\n",
       "    <tr style=\"text-align: right;\">\n",
       "      <th></th>\n",
       "      <th>ID</th>\n",
       "      <th>attempts_range</th>\n",
       "    </tr>\n",
       "  </thead>\n",
       "  <tbody>\n",
       "    <tr>\n",
       "      <th>0</th>\n",
       "      <td>user_856_prob_5822</td>\n",
       "      <td>1</td>\n",
       "    </tr>\n",
       "    <tr>\n",
       "      <th>1</th>\n",
       "      <td>user_2642_prob_2334</td>\n",
       "      <td>1</td>\n",
       "    </tr>\n",
       "    <tr>\n",
       "      <th>2</th>\n",
       "      <td>user_2557_prob_2920</td>\n",
       "      <td>1</td>\n",
       "    </tr>\n",
       "    <tr>\n",
       "      <th>3</th>\n",
       "      <td>user_1572_prob_4598</td>\n",
       "      <td>1</td>\n",
       "    </tr>\n",
       "    <tr>\n",
       "      <th>4</th>\n",
       "      <td>user_295_prob_6139</td>\n",
       "      <td>2</td>\n",
       "    </tr>\n",
       "  </tbody>\n",
       "</table>\n",
       "</div>"
      ],
      "text/plain": [
       "                    ID  attempts_range\n",
       "0   user_856_prob_5822               1\n",
       "1  user_2642_prob_2334               1\n",
       "2  user_2557_prob_2920               1\n",
       "3  user_1572_prob_4598               1\n",
       "4   user_295_prob_6139               2"
      ]
     },
     "execution_count": 584,
     "metadata": {},
     "output_type": "execute_result"
    }
   ],
   "source": [
    "make_submission(grid.best_estimator_, test_df, 'random6.csv').head()"
   ]
  },
  {
   "cell_type": "markdown",
   "metadata": {},
   "source": [
    "### Features"
   ]
  },
  {
   "cell_type": "code",
   "execution_count": 588,
   "metadata": {},
   "outputs": [
    {
     "data": {
      "text/plain": [
       "0    95577\n",
       "1    59718\n",
       "Name: level_A, dtype: int64"
      ]
     },
     "execution_count": 588,
     "metadata": {},
     "output_type": "execute_result"
    }
   ],
   "source": [
    "X['level_A'].value_counts()"
   ]
  },
  {
   "cell_type": "code",
   "execution_count": 589,
   "metadata": {},
   "outputs": [
    {
     "data": {
      "text/plain": [
       "0    114876\n",
       "1     40419\n",
       "Name: level_B, dtype: int64"
      ]
     },
     "execution_count": 589,
     "metadata": {},
     "output_type": "execute_result"
    }
   ],
   "source": [
    "X['level_B'].value_counts()"
   ]
  },
  {
   "cell_type": "code",
   "execution_count": 590,
   "metadata": {},
   "outputs": [
    {
     "data": {
      "text/plain": [
       "0    129419\n",
       "1     25876\n",
       "Name: level_C, dtype: int64"
      ]
     },
     "execution_count": 590,
     "metadata": {},
     "output_type": "execute_result"
    }
   ],
   "source": [
    "X['level_C'].value_counts()"
   ]
  },
  {
   "cell_type": "code",
   "execution_count": 591,
   "metadata": {},
   "outputs": [
    {
     "data": {
      "text/plain": [
       "0    141370\n",
       "1     13925\n",
       "Name: level_D, dtype: int64"
      ]
     },
     "execution_count": 591,
     "metadata": {},
     "output_type": "execute_result"
    }
   ],
   "source": [
    "X['level_D'].value_counts()"
   ]
  },
  {
   "cell_type": "code",
   "execution_count": 600,
   "metadata": {},
   "outputs": [
    {
     "data": {
      "text/plain": [
       "-0.16071473983852708"
      ]
     },
     "execution_count": 600,
     "metadata": {},
     "output_type": "execute_result"
    }
   ],
   "source": [
    "X[['level_A', 'level_B']].sum(axis=1).corr(y)"
   ]
  },
  {
   "cell_type": "code",
   "execution_count": 621,
   "metadata": {},
   "outputs": [
    {
     "data": {
      "text/plain": [
       "1    100137\n",
       "0     55158\n",
       "dtype: int64"
      ]
     },
     "execution_count": 621,
     "metadata": {},
     "output_type": "execute_result"
    }
   ],
   "source": [
    "X[['level_A', 'level_B']].sum(axis=1).value_counts()"
   ]
  },
  {
   "cell_type": "code",
   "execution_count": 604,
   "metadata": {},
   "outputs": [
    {
     "data": {
      "text/plain": [
       "0.084698007836841963"
      ]
     },
     "execution_count": 604,
     "metadata": {},
     "output_type": "execute_result"
    }
   ],
   "source": [
    "X[['level_C']].sum(axis=1).corr(y)"
   ]
  },
  {
   "cell_type": "code",
   "execution_count": 618,
   "metadata": {},
   "outputs": [
    {
     "data": {
      "text/plain": [
       "0.16014975797281214"
      ]
     },
     "execution_count": 618,
     "metadata": {},
     "output_type": "execute_result"
    }
   ],
   "source": [
    "X[['level_C', 'level_D', 'level_E', 'level_F']].sum(axis=1).corr(y)"
   ]
  },
  {
   "cell_type": "code",
   "execution_count": 622,
   "metadata": {},
   "outputs": [
    {
     "data": {
      "text/plain": [
       "0    106979\n",
       "1     48316\n",
       "dtype: int64"
      ]
     },
     "execution_count": 622,
     "metadata": {},
     "output_type": "execute_result"
    }
   ],
   "source": [
    "X[['level_C', 'level_D', 'level_E', 'level_F']].sum(axis=1).value_counts()"
   ]
  },
  {
   "cell_type": "code",
   "execution_count": 635,
   "metadata": {},
   "outputs": [
    {
     "data": {
      "text/plain": [
       "0.013502938910366458"
      ]
     },
     "execution_count": 635,
     "metadata": {},
     "output_type": "execute_result"
    }
   ],
   "source": [
    "X[['level_G', 'level_H', 'level_I', 'level_J', 'level_K', 'level_L', 'level_M', 'level_N', 'level_O']].sum(axis=1).corr(y)"
   ]
  },
  {
   "cell_type": "code",
   "execution_count": 634,
   "metadata": {},
   "outputs": [
    {
     "data": {
      "text/plain": [
       "0    148453\n",
       "1      6842\n",
       "dtype: int64"
      ]
     },
     "execution_count": 634,
     "metadata": {},
     "output_type": "execute_result"
    }
   ],
   "source": [
    "X[['level_G', 'level_H', 'level_I', 'level_J', 'level_K', 'level_L', 'level_M', 'level_N', 'level_O']].sum(axis=1).value_counts()"
   ]
  },
  {
   "cell_type": "markdown",
   "metadata": {},
   "source": [
    "### Back to model"
   ]
  },
  {
   "cell_type": "code",
   "execution_count": 647,
   "metadata": {},
   "outputs": [
    {
     "data": {
      "text/plain": [
       "Pipeline(memory=None,\n",
       "     steps=[('scaler', MinMaxScaler(copy=True, feature_range=(0, 1))), ('clf', RandomForestClassifier(bootstrap=True, class_weight=None, criterion='gini',\n",
       "            max_depth=None, max_features='auto', max_leaf_nodes=None,\n",
       "            min_impurity_decrease=0.0, min_impurity_split=None,\n",
       "            min_samples_leaf=1, min_samples_split=2,\n",
       "            min_weight_fraction_leaf=0.0, n_estimators=10, n_jobs=1,\n",
       "            oob_score=False, random_state=None, verbose=0,\n",
       "            warm_start=False))])"
      ]
     },
     "execution_count": 647,
     "metadata": {},
     "output_type": "execute_result"
    }
   ],
   "source": [
    "scaler = MinMaxScaler()\n",
    "clf = RandomForestClassifier()\n",
    "steps = [('scaler', scaler), ('clf', clf)]\n",
    "pipe = Pipeline(steps)\n",
    "pipe"
   ]
  },
  {
   "cell_type": "code",
   "execution_count": 648,
   "metadata": {},
   "outputs": [
    {
     "data": {
      "text/plain": [
       "Pipeline(memory=None,\n",
       "     steps=[('scaler', MinMaxScaler(copy=True, feature_range=(0, 1))), ('clf', RandomForestClassifier(bootstrap=True, class_weight=None, criterion='gini',\n",
       "            max_depth=None, max_features='auto', max_leaf_nodes=None,\n",
       "            min_impurity_decrease=0.0, min_impurity_split=None,\n",
       "            min_samples_leaf=1, min_samples_split=2,\n",
       "            min_weight_fraction_leaf=0.0, n_estimators=10, n_jobs=1,\n",
       "            oob_score=False, random_state=None, verbose=0,\n",
       "            warm_start=False))])"
      ]
     },
     "execution_count": 648,
     "metadata": {},
     "output_type": "execute_result"
    }
   ],
   "source": [
    "pipe.fit(X, y)"
   ]
  },
  {
   "cell_type": "code",
   "execution_count": 649,
   "metadata": {
    "collapsed": true
   },
   "outputs": [],
   "source": [
    "fea_imp = sorted(list(zip(X.columns, pipe.named_steps['clf'].feature_importances_)), key=lambda x: x[1], reverse=True)\n",
    "fea_imp = pd.DataFrame(fea_imp, columns='fea imp'.split())"
   ]
  },
  {
   "cell_type": "code",
   "execution_count": 651,
   "metadata": {},
   "outputs": [
    {
     "data": {
      "text/plain": [
       "Pipeline(memory=None,\n",
       "     steps=[('scaler', MinMaxScaler(copy=True, feature_range=(0, 1))), ('clf', RandomForestClassifier(bootstrap=True, class_weight=None, criterion='gini',\n",
       "            max_depth=None, max_features='auto', max_leaf_nodes=None,\n",
       "            min_impurity_decrease=0.0, min_impurity_split=None,\n",
       "            min_samples_leaf=1, min_samples_split=2,\n",
       "            min_weight_fraction_leaf=0.0, n_estimators=10, n_jobs=1,\n",
       "            oob_score=False, random_state=None, verbose=0,\n",
       "            warm_start=False))])"
      ]
     },
     "execution_count": 651,
     "metadata": {},
     "output_type": "execute_result"
    }
   ],
   "source": [
    "pipe.fit(X_train, y_train)"
   ]
  },
  {
   "cell_type": "code",
   "execution_count": 652,
   "metadata": {},
   "outputs": [
    {
     "data": {
      "text/plain": [
       "0.45352798688030849"
      ]
     },
     "execution_count": 652,
     "metadata": {},
     "output_type": "execute_result"
    }
   ],
   "source": [
    "scorer(y_test, pipe.predict(X_test))"
   ]
  },
  {
   "cell_type": "code",
   "execution_count": 654,
   "metadata": {},
   "outputs": [
    {
     "data": {
      "text/html": [
       "<div>\n",
       "<style>\n",
       "    .dataframe thead tr:only-child th {\n",
       "        text-align: right;\n",
       "    }\n",
       "\n",
       "    .dataframe thead th {\n",
       "        text-align: left;\n",
       "    }\n",
       "\n",
       "    .dataframe tbody tr th {\n",
       "        vertical-align: top;\n",
       "    }\n",
       "</style>\n",
       "<table border=\"1\" class=\"dataframe\">\n",
       "  <thead>\n",
       "    <tr style=\"text-align: right;\">\n",
       "      <th></th>\n",
       "      <th>points</th>\n",
       "      <th>contribution</th>\n",
       "      <th>follower_count</th>\n",
       "      <th>max_rating</th>\n",
       "      <th>rating</th>\n",
       "      <th>*special</th>\n",
       "      <th>2-sat</th>\n",
       "      <th>binary-search</th>\n",
       "      <th>bitmasks</th>\n",
       "      <th>brute-force</th>\n",
       "      <th>...</th>\n",
       "      <th>Poland</th>\n",
       "      <th>rank_advanced</th>\n",
       "      <th>rank_beginner</th>\n",
       "      <th>rank_expert</th>\n",
       "      <th>rank_intermediate</th>\n",
       "      <th>online</th>\n",
       "      <th>accuracy</th>\n",
       "      <th>level_1</th>\n",
       "      <th>level_2</th>\n",
       "      <th>level_3</th>\n",
       "    </tr>\n",
       "  </thead>\n",
       "  <tbody>\n",
       "    <tr>\n",
       "      <th>0</th>\n",
       "      <td>1000.0</td>\n",
       "      <td>0</td>\n",
       "      <td>1</td>\n",
       "      <td>307.913</td>\n",
       "      <td>206.709</td>\n",
       "      <td>0</td>\n",
       "      <td>0</td>\n",
       "      <td>0</td>\n",
       "      <td>0</td>\n",
       "      <td>0</td>\n",
       "      <td>...</td>\n",
       "      <td>0</td>\n",
       "      <td>0</td>\n",
       "      <td>1</td>\n",
       "      <td>0</td>\n",
       "      <td>0</td>\n",
       "      <td>71522843</td>\n",
       "      <td>-6</td>\n",
       "      <td>1</td>\n",
       "      <td>0</td>\n",
       "      <td>0</td>\n",
       "    </tr>\n",
       "    <tr>\n",
       "      <th>1</th>\n",
       "      <td>1500.0</td>\n",
       "      <td>0</td>\n",
       "      <td>0</td>\n",
       "      <td>324.255</td>\n",
       "      <td>235.378</td>\n",
       "      <td>0</td>\n",
       "      <td>0</td>\n",
       "      <td>0</td>\n",
       "      <td>0</td>\n",
       "      <td>1</td>\n",
       "      <td>...</td>\n",
       "      <td>0</td>\n",
       "      <td>0</td>\n",
       "      <td>1</td>\n",
       "      <td>0</td>\n",
       "      <td>0</td>\n",
       "      <td>47535708</td>\n",
       "      <td>-15</td>\n",
       "      <td>0</td>\n",
       "      <td>1</td>\n",
       "      <td>0</td>\n",
       "    </tr>\n",
       "    <tr>\n",
       "      <th>2</th>\n",
       "      <td>500.0</td>\n",
       "      <td>0</td>\n",
       "      <td>7</td>\n",
       "      <td>343.177</td>\n",
       "      <td>229.358</td>\n",
       "      <td>0</td>\n",
       "      <td>0</td>\n",
       "      <td>0</td>\n",
       "      <td>0</td>\n",
       "      <td>0</td>\n",
       "      <td>...</td>\n",
       "      <td>0</td>\n",
       "      <td>0</td>\n",
       "      <td>1</td>\n",
       "      <td>0</td>\n",
       "      <td>0</td>\n",
       "      <td>31228669</td>\n",
       "      <td>-6</td>\n",
       "      <td>1</td>\n",
       "      <td>0</td>\n",
       "      <td>0</td>\n",
       "    </tr>\n",
       "    <tr>\n",
       "      <th>3</th>\n",
       "      <td>500.0</td>\n",
       "      <td>23</td>\n",
       "      <td>40</td>\n",
       "      <td>436.927</td>\n",
       "      <td>399.083</td>\n",
       "      <td>0</td>\n",
       "      <td>0</td>\n",
       "      <td>0</td>\n",
       "      <td>0</td>\n",
       "      <td>1</td>\n",
       "      <td>...</td>\n",
       "      <td>0</td>\n",
       "      <td>0</td>\n",
       "      <td>0</td>\n",
       "      <td>0</td>\n",
       "      <td>1</td>\n",
       "      <td>57438471</td>\n",
       "      <td>-38</td>\n",
       "      <td>1</td>\n",
       "      <td>0</td>\n",
       "      <td>0</td>\n",
       "    </tr>\n",
       "    <tr>\n",
       "      <th>4</th>\n",
       "      <td>2000.0</td>\n",
       "      <td>0</td>\n",
       "      <td>80</td>\n",
       "      <td>492.546</td>\n",
       "      <td>472.190</td>\n",
       "      <td>0</td>\n",
       "      <td>0</td>\n",
       "      <td>0</td>\n",
       "      <td>0</td>\n",
       "      <td>0</td>\n",
       "      <td>...</td>\n",
       "      <td>0</td>\n",
       "      <td>1</td>\n",
       "      <td>0</td>\n",
       "      <td>0</td>\n",
       "      <td>0</td>\n",
       "      <td>67697192</td>\n",
       "      <td>-20</td>\n",
       "      <td>0</td>\n",
       "      <td>1</td>\n",
       "      <td>0</td>\n",
       "    </tr>\n",
       "  </tbody>\n",
       "</table>\n",
       "<p>5 rows × 66 columns</p>\n",
       "</div>"
      ],
      "text/plain": [
       "   points  contribution  follower_count  max_rating   rating  *special  2-sat  \\\n",
       "0  1000.0             0               1     307.913  206.709         0      0   \n",
       "1  1500.0             0               0     324.255  235.378         0      0   \n",
       "2   500.0             0               7     343.177  229.358         0      0   \n",
       "3   500.0            23              40     436.927  399.083         0      0   \n",
       "4  2000.0             0              80     492.546  472.190         0      0   \n",
       "\n",
       "   binary-search  bitmasks  brute-force   ...     Poland  rank_advanced  \\\n",
       "0              0         0            0   ...          0              0   \n",
       "1              0         0            1   ...          0              0   \n",
       "2              0         0            0   ...          0              0   \n",
       "3              0         0            1   ...          0              0   \n",
       "4              0         0            0   ...          0              1   \n",
       "\n",
       "   rank_beginner  rank_expert  rank_intermediate    online  accuracy  level_1  \\\n",
       "0              1            0                  0  71522843        -6        1   \n",
       "1              1            0                  0  47535708       -15        0   \n",
       "2              1            0                  0  31228669        -6        1   \n",
       "3              0            0                  1  57438471       -38        1   \n",
       "4              0            0                  0  67697192       -20        0   \n",
       "\n",
       "   level_2  level_3  \n",
       "0        0        0  \n",
       "1        1        0  \n",
       "2        0        0  \n",
       "3        0        0  \n",
       "4        1        0  \n",
       "\n",
       "[5 rows x 66 columns]"
      ]
     },
     "execution_count": 654,
     "metadata": {},
     "output_type": "execute_result"
    }
   ],
   "source": [
    "X.head()"
   ]
  },
  {
   "cell_type": "code",
   "execution_count": 655,
   "metadata": {},
   "outputs": [
    {
     "data": {
      "text/plain": [
       "0.028014606453849612"
      ]
     },
     "execution_count": 655,
     "metadata": {},
     "output_type": "execute_result"
    }
   ],
   "source": [
    "X.rank_beginner.corr(y)"
   ]
  },
  {
   "cell_type": "code",
   "execution_count": 656,
   "metadata": {},
   "outputs": [
    {
     "data": {
      "text/plain": [
       "-0.0044873693536622867"
      ]
     },
     "execution_count": 656,
     "metadata": {},
     "output_type": "execute_result"
    }
   ],
   "source": [
    "X.rank_intermediate.corr(y)"
   ]
  },
  {
   "cell_type": "code",
   "execution_count": 657,
   "metadata": {},
   "outputs": [
    {
     "data": {
      "text/plain": [
       "-0.031778894549057288"
      ]
     },
     "execution_count": 657,
     "metadata": {},
     "output_type": "execute_result"
    }
   ],
   "source": [
    "X.rank_expert.corr(y)"
   ]
  },
  {
   "cell_type": "code",
   "execution_count": 658,
   "metadata": {},
   "outputs": [
    {
     "data": {
      "text/plain": [
       "-0.013459131656542129"
      ]
     },
     "execution_count": 658,
     "metadata": {},
     "output_type": "execute_result"
    }
   ],
   "source": [
    "X.rank_advanced.corr(y)"
   ]
  },
  {
   "cell_type": "code",
   "execution_count": 671,
   "metadata": {},
   "outputs": [
    {
     "data": {
      "text/plain": [
       "0.028014606453849612"
      ]
     },
     "execution_count": 671,
     "metadata": {},
     "output_type": "execute_result"
    }
   ],
   "source": [
    "X[['rank_beginner']].sum(axis=1).corr(y)"
   ]
  },
  {
   "cell_type": "code",
   "execution_count": 672,
   "metadata": {},
   "outputs": [
    {
     "data": {
      "text/plain": [
       "0    102099\n",
       "1     53196\n",
       "dtype: int64"
      ]
     },
     "execution_count": 672,
     "metadata": {},
     "output_type": "execute_result"
    }
   ],
   "source": [
    "X[['rank_beginner']].sum(axis=1).value_counts()"
   ]
  },
  {
   "cell_type": "code",
   "execution_count": 667,
   "metadata": {},
   "outputs": [
    {
     "data": {
      "text/plain": [
       "-0.028014606453849608"
      ]
     },
     "execution_count": 667,
     "metadata": {},
     "output_type": "execute_result"
    }
   ],
   "source": [
    "X[['rank_expert', 'rank_advanced', 'rank_intermediate']].sum(axis=1).corr(y)"
   ]
  },
  {
   "cell_type": "code",
   "execution_count": 673,
   "metadata": {},
   "outputs": [
    {
     "data": {
      "text/plain": [
       "1    102099\n",
       "0     53196\n",
       "dtype: int64"
      ]
     },
     "execution_count": 673,
     "metadata": {},
     "output_type": "execute_result"
    }
   ],
   "source": [
    "X[['rank_expert', 'rank_advanced', 'rank_intermediate']].sum(axis=1).value_counts()"
   ]
  },
  {
   "cell_type": "markdown",
   "metadata": {},
   "source": [
    "### feature"
   ]
  },
  {
   "cell_type": "code",
   "execution_count": 684,
   "metadata": {},
   "outputs": [
    {
     "data": {
      "text/plain": [
       "Pipeline(memory=None,\n",
       "     steps=[('scaler', MinMaxScaler(copy=True, feature_range=(0, 1))), ('clf', RandomForestClassifier(bootstrap=True, class_weight=None, criterion='gini',\n",
       "            max_depth=None, max_features='auto', max_leaf_nodes=None,\n",
       "            min_impurity_decrease=0.0, min_impurity_split=None,\n",
       "            min_samples_leaf=1, min_samples_split=2,\n",
       "            min_weight_fraction_leaf=0.0, n_estimators=10, n_jobs=1,\n",
       "            oob_score=False, random_state=None, verbose=0,\n",
       "            warm_start=False))])"
      ]
     },
     "execution_count": 684,
     "metadata": {},
     "output_type": "execute_result"
    }
   ],
   "source": [
    "scaler = MinMaxScaler()\n",
    "clf = RandomForestClassifier()\n",
    "steps = [('scaler', scaler), ('clf', clf)]\n",
    "pipe = Pipeline(steps)\n",
    "pipe"
   ]
  },
  {
   "cell_type": "code",
   "execution_count": 685,
   "metadata": {},
   "outputs": [
    {
     "data": {
      "text/plain": [
       "Pipeline(memory=None,\n",
       "     steps=[('scaler', MinMaxScaler(copy=True, feature_range=(0, 1))), ('clf', RandomForestClassifier(bootstrap=True, class_weight=None, criterion='gini',\n",
       "            max_depth=None, max_features='auto', max_leaf_nodes=None,\n",
       "            min_impurity_decrease=0.0, min_impurity_split=None,\n",
       "            min_samples_leaf=1, min_samples_split=2,\n",
       "            min_weight_fraction_leaf=0.0, n_estimators=10, n_jobs=1,\n",
       "            oob_score=False, random_state=None, verbose=0,\n",
       "            warm_start=False))])"
      ]
     },
     "execution_count": 685,
     "metadata": {},
     "output_type": "execute_result"
    }
   ],
   "source": [
    "pipe.fit(X, y)"
   ]
  },
  {
   "cell_type": "code",
   "execution_count": 686,
   "metadata": {
    "collapsed": true
   },
   "outputs": [],
   "source": [
    "fea_imp = sorted(list(zip(X.columns, pipe.named_steps['clf'].feature_importances_)), key=lambda x: x[1], reverse=True)\n",
    "fea_imp = pd.DataFrame(fea_imp, columns='fea imp'.split())"
   ]
  },
  {
   "cell_type": "code",
   "execution_count": 690,
   "metadata": {},
   "outputs": [
    {
     "data": {
      "text/html": [
       "<div>\n",
       "<style>\n",
       "    .dataframe thead tr:only-child th {\n",
       "        text-align: right;\n",
       "    }\n",
       "\n",
       "    .dataframe thead th {\n",
       "        text-align: left;\n",
       "    }\n",
       "\n",
       "    .dataframe tbody tr th {\n",
       "        vertical-align: top;\n",
       "    }\n",
       "</style>\n",
       "<table border=\"1\" class=\"dataframe\">\n",
       "  <thead>\n",
       "    <tr style=\"text-align: right;\">\n",
       "      <th></th>\n",
       "      <th>fea</th>\n",
       "      <th>imp</th>\n",
       "    </tr>\n",
       "  </thead>\n",
       "  <tbody>\n",
       "    <tr>\n",
       "      <th>58</th>\n",
       "      <td>string-suffix-structures</td>\n",
       "      <td>0.000863</td>\n",
       "    </tr>\n",
       "    <tr>\n",
       "      <th>59</th>\n",
       "      <td>2-sat</td>\n",
       "      <td>0.000440</td>\n",
       "    </tr>\n",
       "    <tr>\n",
       "      <th>60</th>\n",
       "      <td>meet-in-the-middle</td>\n",
       "      <td>0.000435</td>\n",
       "    </tr>\n",
       "    <tr>\n",
       "      <th>61</th>\n",
       "      <td>fft</td>\n",
       "      <td>0.000355</td>\n",
       "    </tr>\n",
       "    <tr>\n",
       "      <th>62</th>\n",
       "      <td>schedules</td>\n",
       "      <td>0.000235</td>\n",
       "    </tr>\n",
       "    <tr>\n",
       "      <th>63</th>\n",
       "      <td>chinese-remainder-theorem</td>\n",
       "      <td>0.000149</td>\n",
       "    </tr>\n",
       "  </tbody>\n",
       "</table>\n",
       "</div>"
      ],
      "text/plain": [
       "                          fea       imp\n",
       "58   string-suffix-structures  0.000863\n",
       "59                      2-sat  0.000440\n",
       "60         meet-in-the-middle  0.000435\n",
       "61                        fft  0.000355\n",
       "62                  schedules  0.000235\n",
       "63  chinese-remainder-theorem  0.000149"
      ]
     },
     "execution_count": 690,
     "metadata": {},
     "output_type": "execute_result"
    }
   ],
   "source": [
    "fea_imp[fea_imp.imp < .001]"
   ]
  },
  {
   "cell_type": "code",
   "execution_count": 691,
   "metadata": {},
   "outputs": [
    {
     "data": {
      "text/plain": [
       "0    154903\n",
       "1       392\n",
       "Name: string-suffix-structures, dtype: int64"
      ]
     },
     "execution_count": 691,
     "metadata": {},
     "output_type": "execute_result"
    }
   ],
   "source": [
    "X['string-suffix-structures'].value_counts()"
   ]
  },
  {
   "cell_type": "code",
   "execution_count": 692,
   "metadata": {},
   "outputs": [
    {
     "data": {
      "text/plain": [
       "0    154898\n",
       "1       397\n",
       "Name: 2-sat, dtype: int64"
      ]
     },
     "execution_count": 692,
     "metadata": {},
     "output_type": "execute_result"
    }
   ],
   "source": [
    "X['2-sat'].value_counts()"
   ]
  },
  {
   "cell_type": "code",
   "execution_count": 693,
   "metadata": {},
   "outputs": [
    {
     "data": {
      "text/plain": [
       "0    155050\n",
       "1       245\n",
       "Name: meet-in-the-middle, dtype: int64"
      ]
     },
     "execution_count": 693,
     "metadata": {},
     "output_type": "execute_result"
    }
   ],
   "source": [
    "X['meet-in-the-middle'].value_counts()"
   ]
  },
  {
   "cell_type": "code",
   "execution_count": 695,
   "metadata": {},
   "outputs": [
    {
     "data": {
      "text/html": [
       "<div>\n",
       "<style>\n",
       "    .dataframe thead tr:only-child th {\n",
       "        text-align: right;\n",
       "    }\n",
       "\n",
       "    .dataframe thead th {\n",
       "        text-align: left;\n",
       "    }\n",
       "\n",
       "    .dataframe tbody tr th {\n",
       "        vertical-align: top;\n",
       "    }\n",
       "</style>\n",
       "<table border=\"1\" class=\"dataframe\">\n",
       "  <thead>\n",
       "    <tr style=\"text-align: right;\">\n",
       "      <th></th>\n",
       "      <th>string-suffix-structures</th>\n",
       "      <th>2-sat</th>\n",
       "      <th>meet-in-the-middle</th>\n",
       "      <th>fft</th>\n",
       "      <th>schedules</th>\n",
       "      <th>chinese-remainder-theorem</th>\n",
       "    </tr>\n",
       "  </thead>\n",
       "  <tbody>\n",
       "    <tr>\n",
       "      <th>count</th>\n",
       "      <td>155295.000000</td>\n",
       "      <td>155295.000000</td>\n",
       "      <td>155295.000000</td>\n",
       "      <td>155295.000000</td>\n",
       "      <td>155295.000000</td>\n",
       "      <td>155295.000000</td>\n",
       "    </tr>\n",
       "    <tr>\n",
       "      <th>mean</th>\n",
       "      <td>0.002524</td>\n",
       "      <td>0.002556</td>\n",
       "      <td>0.001578</td>\n",
       "      <td>0.000850</td>\n",
       "      <td>0.000515</td>\n",
       "      <td>0.000419</td>\n",
       "    </tr>\n",
       "    <tr>\n",
       "      <th>std</th>\n",
       "      <td>0.050178</td>\n",
       "      <td>0.050497</td>\n",
       "      <td>0.039688</td>\n",
       "      <td>0.029142</td>\n",
       "      <td>0.022691</td>\n",
       "      <td>0.020454</td>\n",
       "    </tr>\n",
       "    <tr>\n",
       "      <th>min</th>\n",
       "      <td>0.000000</td>\n",
       "      <td>0.000000</td>\n",
       "      <td>0.000000</td>\n",
       "      <td>0.000000</td>\n",
       "      <td>0.000000</td>\n",
       "      <td>0.000000</td>\n",
       "    </tr>\n",
       "    <tr>\n",
       "      <th>25%</th>\n",
       "      <td>0.000000</td>\n",
       "      <td>0.000000</td>\n",
       "      <td>0.000000</td>\n",
       "      <td>0.000000</td>\n",
       "      <td>0.000000</td>\n",
       "      <td>0.000000</td>\n",
       "    </tr>\n",
       "    <tr>\n",
       "      <th>50%</th>\n",
       "      <td>0.000000</td>\n",
       "      <td>0.000000</td>\n",
       "      <td>0.000000</td>\n",
       "      <td>0.000000</td>\n",
       "      <td>0.000000</td>\n",
       "      <td>0.000000</td>\n",
       "    </tr>\n",
       "    <tr>\n",
       "      <th>75%</th>\n",
       "      <td>0.000000</td>\n",
       "      <td>0.000000</td>\n",
       "      <td>0.000000</td>\n",
       "      <td>0.000000</td>\n",
       "      <td>0.000000</td>\n",
       "      <td>0.000000</td>\n",
       "    </tr>\n",
       "    <tr>\n",
       "      <th>max</th>\n",
       "      <td>1.000000</td>\n",
       "      <td>1.000000</td>\n",
       "      <td>1.000000</td>\n",
       "      <td>1.000000</td>\n",
       "      <td>1.000000</td>\n",
       "      <td>1.000000</td>\n",
       "    </tr>\n",
       "  </tbody>\n",
       "</table>\n",
       "</div>"
      ],
      "text/plain": [
       "       string-suffix-structures          2-sat  meet-in-the-middle  \\\n",
       "count             155295.000000  155295.000000       155295.000000   \n",
       "mean                   0.002524       0.002556            0.001578   \n",
       "std                    0.050178       0.050497            0.039688   \n",
       "min                    0.000000       0.000000            0.000000   \n",
       "25%                    0.000000       0.000000            0.000000   \n",
       "50%                    0.000000       0.000000            0.000000   \n",
       "75%                    0.000000       0.000000            0.000000   \n",
       "max                    1.000000       1.000000            1.000000   \n",
       "\n",
       "                 fft      schedules  chinese-remainder-theorem  \n",
       "count  155295.000000  155295.000000              155295.000000  \n",
       "mean        0.000850       0.000515                   0.000419  \n",
       "std         0.029142       0.022691                   0.020454  \n",
       "min         0.000000       0.000000                   0.000000  \n",
       "25%         0.000000       0.000000                   0.000000  \n",
       "50%         0.000000       0.000000                   0.000000  \n",
       "75%         0.000000       0.000000                   0.000000  \n",
       "max         1.000000       1.000000                   1.000000  "
      ]
     },
     "execution_count": 695,
     "metadata": {},
     "output_type": "execute_result"
    }
   ],
   "source": [
    "X[fea_imp[fea_imp.imp < .001].fea].describe()"
   ]
  },
  {
   "cell_type": "code",
   "execution_count": 711,
   "metadata": {},
   "outputs": [
    {
     "data": {
      "text/plain": [
       "0.038058264885308016"
      ]
     },
     "execution_count": 711,
     "metadata": {},
     "output_type": "execute_result"
    }
   ],
   "source": [
    "X[fea_imp[fea_imp.imp < .001].fea].sum(axis=1).corr(y)"
   ]
  },
  {
   "cell_type": "code",
   "execution_count": 719,
   "metadata": {},
   "outputs": [
    {
     "data": {
      "text/plain": [
       "0    153984\n",
       "1      1311\n",
       "dtype: int64"
      ]
     },
     "execution_count": 719,
     "metadata": {},
     "output_type": "execute_result"
    }
   ],
   "source": [
    "X[fea_imp[fea_imp.imp < .001].fea].sum(axis=1).value_counts()"
   ]
  },
  {
   "cell_type": "code",
   "execution_count": 722,
   "metadata": {},
   "outputs": [
    {
     "data": {
      "text/plain": [
       "['string-suffix-structures',\n",
       " '2-sat',\n",
       " 'meet-in-the-middle',\n",
       " 'fft',\n",
       " 'schedules',\n",
       " 'chinese-remainder-theorem']"
      ]
     },
     "execution_count": 722,
     "metadata": {},
     "output_type": "execute_result"
    }
   ],
   "source": [
    "list(fea_imp[fea_imp.imp < .001].fea)"
   ]
  },
  {
   "cell_type": "code",
   "execution_count": 734,
   "metadata": {},
   "outputs": [
    {
     "data": {
      "text/plain": [
       "Pipeline(memory=None,\n",
       "     steps=[('scaler', MinMaxScaler(copy=True, feature_range=(0, 1))), ('pca', PCA(copy=True, iterated_power='auto', n_components=0.9, random_state=None,\n",
       "  svd_solver='auto', tol=0.0, whiten=False)), ('clf', RandomForestClassifier(bootstrap=True, class_weight=None, criterion='gini',\n",
       "            max_depth..._jobs=-1,\n",
       "            oob_score=False, random_state=None, verbose=0,\n",
       "            warm_start=False))])"
      ]
     },
     "execution_count": 734,
     "metadata": {},
     "output_type": "execute_result"
    }
   ],
   "source": [
    "scaler = MinMaxScaler()\n",
    "pca = PCA(n_components=.9)\n",
    "clf = RandomForestClassifier(n_jobs=-1)\n",
    "steps = [('scaler', scaler), ('pca', pca), ('clf', clf)]\n",
    "pipe = Pipeline(steps)\n",
    "pipe"
   ]
  },
  {
   "cell_type": "code",
   "execution_count": 737,
   "metadata": {},
   "outputs": [
    {
     "name": "stdout",
     "output_type": "stream",
     "text": [
      "Fitting 3 folds for each of 4 candidates, totalling 12 fits\n",
      "[CV] clf__max_features=7, clf__min_samples_leaf=10, clf__n_estimators=10 \n",
      "[CV] clf__max_features=7, clf__min_samples_leaf=10, clf__n_estimators=10 \n",
      "[CV] clf__max_features=7, clf__min_samples_leaf=10, clf__n_estimators=10 \n",
      "[CV] clf__max_features=9, clf__min_samples_leaf=10, clf__n_estimators=10 \n",
      "[CV]  clf__max_features=7, clf__min_samples_leaf=10, clf__n_estimators=10, score=0.45816412330751366, total=  16.2s\n",
      "[CV] clf__max_features=9, clf__min_samples_leaf=10, clf__n_estimators=10 \n",
      "[CV]  clf__max_features=7, clf__min_samples_leaf=10, clf__n_estimators=10, score=0.4610663180504791, total=  16.6s\n",
      "[CV] clf__max_features=9, clf__min_samples_leaf=10, clf__n_estimators=10 \n",
      "[CV]  clf__max_features=7, clf__min_samples_leaf=10, clf__n_estimators=10, score=0.4632943892150305, total=  16.7s\n",
      "[CV] clf__max_features=11, clf__min_samples_leaf=10, clf__n_estimators=10 \n",
      "[CV]  clf__max_features=9, clf__min_samples_leaf=10, clf__n_estimators=10, score=0.4566566962208593, total=  18.6s\n",
      "[CV] clf__max_features=11, clf__min_samples_leaf=10, clf__n_estimators=10 \n",
      "[CV]  clf__max_features=9, clf__min_samples_leaf=10, clf__n_estimators=10, score=0.4605068106878466, total=  21.1s\n",
      "[CV]  clf__max_features=9, clf__min_samples_leaf=10, clf__n_estimators=10, score=0.46330671854044286, total=  21.7s\n",
      "[CV] clf__max_features=11, clf__min_samples_leaf=10, clf__n_estimators=10 \n",
      "[CV] clf__max_features=13, clf__min_samples_leaf=10, clf__n_estimators=10 \n",
      "[CV]  clf__max_features=11, clf__min_samples_leaf=10, clf__n_estimators=10, score=0.45847076297662026, total=  23.4s\n",
      "[CV] clf__max_features=13, clf__min_samples_leaf=10, clf__n_estimators=10 \n",
      "[CV]  clf__max_features=11, clf__min_samples_leaf=10, clf__n_estimators=10, score=0.46186707736815025, total=  24.4s\n",
      "[CV] clf__max_features=13, clf__min_samples_leaf=10, clf__n_estimators=10 \n",
      "[CV]  clf__max_features=11, clf__min_samples_leaf=10, clf__n_estimators=10, score=0.46443031059255446, total=  25.5s\n",
      "[CV]  clf__max_features=13, clf__min_samples_leaf=10, clf__n_estimators=10, score=0.45937651544876856, total=  29.2s\n"
     ]
    },
    {
     "name": "stderr",
     "output_type": "stream",
     "text": [
      "[Parallel(n_jobs=-1)]: Done  10 out of  12 | elapsed:  1.2min remaining:   13.9s\n"
     ]
    },
    {
     "name": "stdout",
     "output_type": "stream",
     "text": [
      "[CV]  clf__max_features=13, clf__min_samples_leaf=10, clf__n_estimators=10, score=0.4622941941637182, total=  27.6s\n",
      "[CV]  clf__max_features=13, clf__min_samples_leaf=10, clf__n_estimators=10, score=0.4634466934105568, total=  25.2s\n"
     ]
    },
    {
     "name": "stderr",
     "output_type": "stream",
     "text": [
      "[Parallel(n_jobs=-1)]: Done  12 out of  12 | elapsed:  1.2min finished\n"
     ]
    },
    {
     "data": {
      "text/plain": [
       "GridSearchCV(cv=None, error_score='raise',\n",
       "       estimator=Pipeline(memory=None,\n",
       "     steps=[('scaler', MinMaxScaler(copy=True, feature_range=(0, 1))), ('pca', PCA(copy=True, iterated_power='auto', n_components=0.9, random_state=None,\n",
       "  svd_solver='auto', tol=0.0, whiten=False)), ('clf', RandomForestClassifier(bootstrap=True, class_weight=None, criterion='gini',\n",
       "            max_depth..._jobs=-1,\n",
       "            oob_score=False, random_state=None, verbose=0,\n",
       "            warm_start=False))]),\n",
       "       fit_params=None, iid=True, n_jobs=-1,\n",
       "       param_grid={'clf__n_estimators': [10], 'clf__min_samples_leaf': [10], 'clf__max_features': [7, 9, 11, 13]},\n",
       "       pre_dispatch='2*n_jobs', refit=True, return_train_score=True,\n",
       "       scoring=make_scorer(f1_score, average=weighted), verbose=3)"
      ]
     },
     "execution_count": 737,
     "metadata": {},
     "output_type": "execute_result"
    }
   ],
   "source": [
    "params = {\n",
    "    #'pca__n_components': [.9, .95, .99],\n",
    "    'clf__n_estimators': [10],\n",
    "    'clf__min_samples_leaf': [10],\n",
    "    'clf__max_features': [7, 9, 11, 13]\n",
    "}\n",
    "grid = GridSearchCV(pipe, param_grid=params, scoring=grid_scorer, verbose=3, n_jobs=-1)\n",
    "grid.fit(X, y)"
   ]
  },
  {
   "cell_type": "code",
   "execution_count": 738,
   "metadata": {},
   "outputs": [
    {
     "data": {
      "text/plain": [
       "{'clf__max_features': 13, 'clf__min_samples_leaf': 10, 'clf__n_estimators': 10}"
      ]
     },
     "execution_count": 738,
     "metadata": {},
     "output_type": "execute_result"
    }
   ],
   "source": [
    "grid.best_params_"
   ]
  },
  {
   "cell_type": "code",
   "execution_count": 739,
   "metadata": {},
   "outputs": [
    {
     "data": {
      "text/plain": [
       "0.46170575601037495"
      ]
     },
     "execution_count": 739,
     "metadata": {},
     "output_type": "execute_result"
    }
   ],
   "source": [
    "grid.best_score_"
   ]
  },
  {
   "cell_type": "code",
   "execution_count": 740,
   "metadata": {},
   "outputs": [
    {
     "data": {
      "text/html": [
       "<div>\n",
       "<style>\n",
       "    .dataframe thead tr:only-child th {\n",
       "        text-align: right;\n",
       "    }\n",
       "\n",
       "    .dataframe thead th {\n",
       "        text-align: left;\n",
       "    }\n",
       "\n",
       "    .dataframe tbody tr th {\n",
       "        vertical-align: top;\n",
       "    }\n",
       "</style>\n",
       "<table border=\"1\" class=\"dataframe\">\n",
       "  <thead>\n",
       "    <tr style=\"text-align: right;\">\n",
       "      <th></th>\n",
       "      <th>ID</th>\n",
       "      <th>attempts_range</th>\n",
       "    </tr>\n",
       "  </thead>\n",
       "  <tbody>\n",
       "    <tr>\n",
       "      <th>0</th>\n",
       "      <td>user_856_prob_5822</td>\n",
       "      <td>2</td>\n",
       "    </tr>\n",
       "    <tr>\n",
       "      <th>1</th>\n",
       "      <td>user_2642_prob_2334</td>\n",
       "      <td>2</td>\n",
       "    </tr>\n",
       "    <tr>\n",
       "      <th>2</th>\n",
       "      <td>user_2557_prob_2920</td>\n",
       "      <td>1</td>\n",
       "    </tr>\n",
       "    <tr>\n",
       "      <th>3</th>\n",
       "      <td>user_1572_prob_4598</td>\n",
       "      <td>1</td>\n",
       "    </tr>\n",
       "    <tr>\n",
       "      <th>4</th>\n",
       "      <td>user_295_prob_6139</td>\n",
       "      <td>2</td>\n",
       "    </tr>\n",
       "  </tbody>\n",
       "</table>\n",
       "</div>"
      ],
      "text/plain": [
       "                    ID  attempts_range\n",
       "0   user_856_prob_5822               2\n",
       "1  user_2642_prob_2334               2\n",
       "2  user_2557_prob_2920               1\n",
       "3  user_1572_prob_4598               1\n",
       "4   user_295_prob_6139               2"
      ]
     },
     "execution_count": 740,
     "metadata": {},
     "output_type": "execute_result"
    }
   ],
   "source": [
    "make_submission(grid.best_estimator_, test_df, 'random7.csv').head()"
   ]
  },
  {
   "cell_type": "code",
   "execution_count": 741,
   "metadata": {},
   "outputs": [
    {
     "name": "stdout",
     "output_type": "stream",
     "text": [
      "Fitting 3 folds for each of 4 candidates, totalling 12 fits\n",
      "[CV] clf__max_features=7, clf__min_samples_leaf=10, clf__n_estimators=10, pca__n_components=0.95 \n",
      "[CV] clf__max_features=7, clf__min_samples_leaf=10, clf__n_estimators=10, pca__n_components=0.95 \n",
      "[CV] clf__max_features=7, clf__min_samples_leaf=10, clf__n_estimators=10, pca__n_components=0.95 \n",
      "[CV] clf__max_features=7, clf__min_samples_leaf=15, clf__n_estimators=10, pca__n_components=0.95 \n",
      "[CV]  clf__max_features=7, clf__min_samples_leaf=10, clf__n_estimators=10, pca__n_components=0.95, score=0.46263330527885893, total=  18.9s\n",
      "[CV] clf__max_features=7, clf__min_samples_leaf=15, clf__n_estimators=10, pca__n_components=0.95 \n",
      "[CV]  clf__max_features=7, clf__min_samples_leaf=10, clf__n_estimators=10, pca__n_components=0.95, score=0.45944737487073883, total=  19.5s\n",
      "[CV] clf__max_features=7, clf__min_samples_leaf=15, clf__n_estimators=10, pca__n_components=0.95 \n",
      "[CV]  clf__max_features=7, clf__min_samples_leaf=15, clf__n_estimators=10, pca__n_components=0.95, score=0.45774262491988466, total=  19.1s\n",
      "[CV]  clf__max_features=7, clf__min_samples_leaf=10, clf__n_estimators=10, pca__n_components=0.95, score=0.46356536862015896, total=  19.7s\n",
      "[CV] clf__max_features=9, clf__min_samples_leaf=10, clf__n_estimators=10, pca__n_components=0.95 \n",
      "[CV] clf__max_features=9, clf__min_samples_leaf=10, clf__n_estimators=10, pca__n_components=0.95 \n"
     ]
    },
    {
     "name": "stderr",
     "output_type": "stream",
     "text": [
      "/Users/sartajsingh/anaconda3/lib/python3.6/site-packages/sklearn/metrics/classification.py:1135: UndefinedMetricWarning: F-score is ill-defined and being set to 0.0 in labels with no predicted samples.\n",
      "  'precision', 'predicted', average, warn_for)\n"
     ]
    },
    {
     "name": "stdout",
     "output_type": "stream",
     "text": [
      "[CV]  clf__max_features=7, clf__min_samples_leaf=15, clf__n_estimators=10, pca__n_components=0.95, score=0.46257897089976163, total=  18.2s\n",
      "[CV] clf__max_features=9, clf__min_samples_leaf=10, clf__n_estimators=10, pca__n_components=0.95 \n"
     ]
    },
    {
     "name": "stderr",
     "output_type": "stream",
     "text": [
      "/Users/sartajsingh/anaconda3/lib/python3.6/site-packages/sklearn/metrics/classification.py:1135: UndefinedMetricWarning: F-score is ill-defined and being set to 0.0 in labels with no predicted samples.\n",
      "  'precision', 'predicted', average, warn_for)\n"
     ]
    },
    {
     "name": "stdout",
     "output_type": "stream",
     "text": [
      "[CV]  clf__max_features=7, clf__min_samples_leaf=15, clf__n_estimators=10, pca__n_components=0.95, score=0.45912236262634626, total=  19.5s\n",
      "[CV] clf__max_features=9, clf__min_samples_leaf=15, clf__n_estimators=10, pca__n_components=0.95 \n",
      "[CV]  clf__max_features=9, clf__min_samples_leaf=10, clf__n_estimators=10, pca__n_components=0.95, score=0.4610179623441318, total=  22.1s\n",
      "[CV] clf__max_features=9, clf__min_samples_leaf=15, clf__n_estimators=10, pca__n_components=0.95 \n",
      "[CV]  clf__max_features=9, clf__min_samples_leaf=10, clf__n_estimators=10, pca__n_components=0.95, score=0.459666977445328, total=  22.6s\n",
      "[CV] clf__max_features=9, clf__min_samples_leaf=15, clf__n_estimators=10, pca__n_components=0.95 \n"
     ]
    },
    {
     "name": "stderr",
     "output_type": "stream",
     "text": [
      "/Users/sartajsingh/anaconda3/lib/python3.6/site-packages/sklearn/metrics/classification.py:1135: UndefinedMetricWarning: F-score is ill-defined and being set to 0.0 in labels with no predicted samples.\n",
      "  'precision', 'predicted', average, warn_for)\n"
     ]
    },
    {
     "name": "stdout",
     "output_type": "stream",
     "text": [
      "[CV]  clf__max_features=9, clf__min_samples_leaf=10, clf__n_estimators=10, pca__n_components=0.95, score=0.46265006966549554, total=  24.2s\n",
      "[CV]  clf__max_features=9, clf__min_samples_leaf=15, clf__n_estimators=10, pca__n_components=0.95, score=0.45806011323773366, total=  23.8s\n"
     ]
    },
    {
     "name": "stderr",
     "output_type": "stream",
     "text": [
      "[Parallel(n_jobs=-1)]: Done  10 out of  12 | elapsed:  1.1min remaining:   13.1s\n",
      "/Users/sartajsingh/anaconda3/lib/python3.6/site-packages/sklearn/metrics/classification.py:1135: UndefinedMetricWarning: F-score is ill-defined and being set to 0.0 in labels with no predicted samples.\n",
      "  'precision', 'predicted', average, warn_for)\n"
     ]
    },
    {
     "name": "stdout",
     "output_type": "stream",
     "text": [
      "[CV]  clf__max_features=9, clf__min_samples_leaf=15, clf__n_estimators=10, pca__n_components=0.95, score=0.46288500484698425, total=  21.7s\n",
      "[CV]  clf__max_features=9, clf__min_samples_leaf=15, clf__n_estimators=10, pca__n_components=0.95, score=0.4611914446260652, total=  22.2s\n"
     ]
    },
    {
     "name": "stderr",
     "output_type": "stream",
     "text": [
      "[Parallel(n_jobs=-1)]: Done  12 out of  12 | elapsed:  1.1min finished\n"
     ]
    },
    {
     "data": {
      "text/plain": [
       "GridSearchCV(cv=None, error_score='raise',\n",
       "       estimator=Pipeline(memory=None,\n",
       "     steps=[('scaler', MinMaxScaler(copy=True, feature_range=(0, 1))), ('pca', PCA(copy=True, iterated_power='auto', n_components=0.9, random_state=None,\n",
       "  svd_solver='auto', tol=0.0, whiten=False)), ('clf', RandomForestClassifier(bootstrap=True, class_weight=None, criterion='gini',\n",
       "            max_depth..._jobs=-1,\n",
       "            oob_score=False, random_state=None, verbose=0,\n",
       "            warm_start=False))]),\n",
       "       fit_params=None, iid=True, n_jobs=-1,\n",
       "       param_grid={'pca__n_components': [0.95], 'clf__n_estimators': [10], 'clf__min_samples_leaf': [10, 15], 'clf__max_features': [7, 9]},\n",
       "       pre_dispatch='2*n_jobs', refit=True, return_train_score=True,\n",
       "       scoring=make_scorer(f1_score, average=weighted), verbose=3)"
      ]
     },
     "execution_count": 741,
     "metadata": {},
     "output_type": "execute_result"
    }
   ],
   "source": [
    "params = {\n",
    "    'pca__n_components': [.95],\n",
    "    'clf__n_estimators': [10],\n",
    "    'clf__min_samples_leaf': [10, 15],\n",
    "    'clf__max_features': [7, 9]\n",
    "}\n",
    "grid = GridSearchCV(pipe, param_grid=params, scoring=grid_scorer, verbose=3, n_jobs=-1)\n",
    "grid.fit(X, y)"
   ]
  },
  {
   "cell_type": "code",
   "execution_count": 742,
   "metadata": {},
   "outputs": [
    {
     "data": {
      "text/plain": [
       "0.46188196922400793"
      ]
     },
     "execution_count": 742,
     "metadata": {},
     "output_type": "execute_result"
    }
   ],
   "source": [
    "grid.best_score_"
   ]
  },
  {
   "cell_type": "code",
   "execution_count": 746,
   "metadata": {},
   "outputs": [
    {
     "name": "stdout",
     "output_type": "stream",
     "text": [
      "Fitting 3 folds for each of 4 candidates, totalling 12 fits\n",
      "[CV] clf__max_features=7, clf__min_samples_leaf=10, clf__n_estimators=10, pca__n_components=0.95 \n",
      "[CV] clf__max_features=7, clf__min_samples_leaf=10, clf__n_estimators=10, pca__n_components=0.95 \n",
      "[CV] clf__max_features=7, clf__min_samples_leaf=10, clf__n_estimators=10, pca__n_components=0.95 \n",
      "[CV] clf__max_features=7, clf__min_samples_leaf=10, clf__n_estimators=100, pca__n_components=0.95 \n",
      "[CV]  clf__max_features=7, clf__min_samples_leaf=10, clf__n_estimators=10, pca__n_components=0.95, score=0.458325001752677, total=  17.7s\n",
      "[CV] clf__max_features=7, clf__min_samples_leaf=10, clf__n_estimators=100, pca__n_components=0.95 \n",
      "[CV]  clf__max_features=7, clf__min_samples_leaf=10, clf__n_estimators=10, pca__n_components=0.95, score=0.46076452951768687, total=  18.3s\n",
      "[CV]  clf__max_features=7, clf__min_samples_leaf=10, clf__n_estimators=10, pca__n_components=0.95, score=0.4631934783684783, total=  18.2s\n",
      "[CV] clf__max_features=7, clf__min_samples_leaf=10, clf__n_estimators=100, pca__n_components=0.95 \n",
      "[CV] clf__max_features=9, clf__min_samples_leaf=10, clf__n_estimators=10, pca__n_components=0.95 \n",
      "[CV]  clf__max_features=9, clf__min_samples_leaf=10, clf__n_estimators=10, pca__n_components=0.95, score=0.45973052010994, total=  22.9s\n",
      "[CV] clf__max_features=9, clf__min_samples_leaf=10, clf__n_estimators=10, pca__n_components=0.95 \n",
      "[CV]  clf__max_features=9, clf__min_samples_leaf=10, clf__n_estimators=10, pca__n_components=0.95, score=0.4634913467798335, total=  24.9s\n",
      "[CV] clf__max_features=9, clf__min_samples_leaf=10, clf__n_estimators=10, pca__n_components=0.95 \n",
      "[CV]  clf__max_features=9, clf__min_samples_leaf=10, clf__n_estimators=10, pca__n_components=0.95, score=0.46123013747458774, total=  24.0s\n",
      "[CV] clf__max_features=9, clf__min_samples_leaf=10, clf__n_estimators=100, pca__n_components=0.95 \n",
      "[CV]  clf__max_features=7, clf__min_samples_leaf=10, clf__n_estimators=100, pca__n_components=0.95, score=0.4587909105808579, total= 2.4min\n",
      "[CV] clf__max_features=9, clf__min_samples_leaf=10, clf__n_estimators=100, pca__n_components=0.95 \n"
     ]
    },
    {
     "name": "stderr",
     "output_type": "stream",
     "text": [
      "/Users/sartajsingh/anaconda3/lib/python3.6/site-packages/sklearn/metrics/classification.py:1135: UndefinedMetricWarning: F-score is ill-defined and being set to 0.0 in labels with no predicted samples.\n",
      "  'precision', 'predicted', average, warn_for)\n"
     ]
    },
    {
     "name": "stdout",
     "output_type": "stream",
     "text": [
      "[CV]  clf__max_features=7, clf__min_samples_leaf=10, clf__n_estimators=100, pca__n_components=0.95, score=0.46199162251713144, total= 2.4min\n",
      "[CV] clf__max_features=9, clf__min_samples_leaf=10, clf__n_estimators=100, pca__n_components=0.95 \n",
      "[CV]  clf__max_features=7, clf__min_samples_leaf=10, clf__n_estimators=100, pca__n_components=0.95, score=0.46413185703886123, total= 2.4min\n",
      "[CV]  clf__max_features=9, clf__min_samples_leaf=10, clf__n_estimators=100, pca__n_components=0.95, score=0.45885133964891567, total= 2.9min\n"
     ]
    },
    {
     "name": "stderr",
     "output_type": "stream",
     "text": [
      "[Parallel(n_jobs=-1)]: Done  10 out of  12 | elapsed:  4.5min remaining:   54.2s\n"
     ]
    },
    {
     "name": "stdout",
     "output_type": "stream",
     "text": [
      "[CV]  clf__max_features=9, clf__min_samples_leaf=10, clf__n_estimators=100, pca__n_components=0.95, score=0.4602878254195877, total= 2.5min\n"
     ]
    },
    {
     "name": "stderr",
     "output_type": "stream",
     "text": [
      "/Users/sartajsingh/anaconda3/lib/python3.6/site-packages/sklearn/metrics/classification.py:1135: UndefinedMetricWarning: F-score is ill-defined and being set to 0.0 in labels with no predicted samples.\n",
      "  'precision', 'predicted', average, warn_for)\n"
     ]
    },
    {
     "name": "stdout",
     "output_type": "stream",
     "text": [
      "[CV]  clf__max_features=9, clf__min_samples_leaf=10, clf__n_estimators=100, pca__n_components=0.95, score=0.4636913816526531, total= 2.3min\n"
     ]
    },
    {
     "name": "stderr",
     "output_type": "stream",
     "text": [
      "[Parallel(n_jobs=-1)]: Done  12 out of  12 | elapsed:  5.1min finished\n"
     ]
    },
    {
     "data": {
      "text/plain": [
       "GridSearchCV(cv=None, error_score='raise',\n",
       "       estimator=Pipeline(memory=None,\n",
       "     steps=[('scaler', MinMaxScaler(copy=True, feature_range=(0, 1))), ('pca', PCA(copy=True, iterated_power='auto', n_components=0.9, random_state=None,\n",
       "  svd_solver='auto', tol=0.0, whiten=False)), ('clf', RandomForestClassifier(bootstrap=True, class_weight=None, criterion='gini',\n",
       "            max_depth..._jobs=-1,\n",
       "            oob_score=False, random_state=None, verbose=0,\n",
       "            warm_start=False))]),\n",
       "       fit_params=None, iid=True, n_jobs=-1,\n",
       "       param_grid={'pca__n_components': [0.95], 'clf__n_estimators': [10, 100], 'clf__min_samples_leaf': [10], 'clf__max_features': [7, 9]},\n",
       "       pre_dispatch='2*n_jobs', refit=True, return_train_score=True,\n",
       "       scoring=make_scorer(f1_score, average=weighted), verbose=3)"
      ]
     },
     "execution_count": 746,
     "metadata": {},
     "output_type": "execute_result"
    }
   ],
   "source": [
    "params = {\n",
    "    'pca__n_components': [.95],\n",
    "    'clf__n_estimators': [10, 100],\n",
    "    'clf__min_samples_leaf': [10],\n",
    "    'clf__max_features': [7, 9]\n",
    "}\n",
    "grid = GridSearchCV(pipe, param_grid=params, scoring=grid_scorer, verbose=3, n_jobs=-1)\n",
    "grid.fit(X, y)"
   ]
  },
  {
   "cell_type": "code",
   "execution_count": 747,
   "metadata": {},
   "outputs": [
    {
     "data": {
      "text/plain": [
       "0.46163807504282606"
      ]
     },
     "execution_count": 747,
     "metadata": {},
     "output_type": "execute_result"
    }
   ],
   "source": [
    "grid.best_score_"
   ]
  },
  {
   "cell_type": "code",
   "execution_count": 748,
   "metadata": {},
   "outputs": [
    {
     "data": {
      "text/plain": [
       "{'clf__max_features': 7,\n",
       " 'clf__min_samples_leaf': 10,\n",
       " 'clf__n_estimators': 100,\n",
       " 'pca__n_components': 0.95}"
      ]
     },
     "execution_count": 748,
     "metadata": {},
     "output_type": "execute_result"
    }
   ],
   "source": [
    "grid.best_params_"
   ]
  },
  {
   "cell_type": "code",
   "execution_count": 749,
   "metadata": {},
   "outputs": [
    {
     "data": {
      "text/html": [
       "<div>\n",
       "<style>\n",
       "    .dataframe thead tr:only-child th {\n",
       "        text-align: right;\n",
       "    }\n",
       "\n",
       "    .dataframe thead th {\n",
       "        text-align: left;\n",
       "    }\n",
       "\n",
       "    .dataframe tbody tr th {\n",
       "        vertical-align: top;\n",
       "    }\n",
       "</style>\n",
       "<table border=\"1\" class=\"dataframe\">\n",
       "  <thead>\n",
       "    <tr style=\"text-align: right;\">\n",
       "      <th></th>\n",
       "      <th>ID</th>\n",
       "      <th>attempts_range</th>\n",
       "    </tr>\n",
       "  </thead>\n",
       "  <tbody>\n",
       "    <tr>\n",
       "      <th>0</th>\n",
       "      <td>user_856_prob_5822</td>\n",
       "      <td>1</td>\n",
       "    </tr>\n",
       "    <tr>\n",
       "      <th>1</th>\n",
       "      <td>user_2642_prob_2334</td>\n",
       "      <td>2</td>\n",
       "    </tr>\n",
       "    <tr>\n",
       "      <th>2</th>\n",
       "      <td>user_2557_prob_2920</td>\n",
       "      <td>1</td>\n",
       "    </tr>\n",
       "    <tr>\n",
       "      <th>3</th>\n",
       "      <td>user_1572_prob_4598</td>\n",
       "      <td>1</td>\n",
       "    </tr>\n",
       "    <tr>\n",
       "      <th>4</th>\n",
       "      <td>user_295_prob_6139</td>\n",
       "      <td>1</td>\n",
       "    </tr>\n",
       "  </tbody>\n",
       "</table>\n",
       "</div>"
      ],
      "text/plain": [
       "                    ID  attempts_range\n",
       "0   user_856_prob_5822               1\n",
       "1  user_2642_prob_2334               2\n",
       "2  user_2557_prob_2920               1\n",
       "3  user_1572_prob_4598               1\n",
       "4   user_295_prob_6139               1"
      ]
     },
     "execution_count": 749,
     "metadata": {},
     "output_type": "execute_result"
    }
   ],
   "source": [
    "make_submission(grid.best_estimator_, test_df, 'random8.csv').head()"
   ]
  },
  {
   "cell_type": "code",
   "execution_count": null,
   "metadata": {
    "collapsed": true
   },
   "outputs": [],
   "source": []
  }
 ],
 "metadata": {
  "kernelspec": {
   "display_name": "Python 3",
   "language": "python",
   "name": "python3"
  },
  "language_info": {
   "codemirror_mode": {
    "name": "ipython",
    "version": 3
   },
   "file_extension": ".py",
   "mimetype": "text/x-python",
   "name": "python",
   "nbconvert_exporter": "python",
   "pygments_lexer": "ipython3",
   "version": "3.6.2"
  }
 },
 "nbformat": 4,
 "nbformat_minor": 2
}
